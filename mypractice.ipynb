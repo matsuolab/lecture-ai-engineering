{
  "nbformat": 4,
  "nbformat_minor": 0,
  "metadata": {
    "colab": {
      "provenance": [],
      "authorship_tag": "ABX9TyMFoMWEnwOPh82fkjPpXwD4",
      "include_colab_link": true
    },
    "kernelspec": {
      "name": "python3",
      "display_name": "Python 3"
    },
    "language_info": {
      "name": "python"
    }
  },
  "cells": [
    {
      "cell_type": "markdown",
      "metadata": {
        "id": "view-in-github",
        "colab_type": "text"
      },
      "source": [
        "<a href=\"https://colab.research.google.com/github/Re-Noel/lecture-ai-engineering/blob/develop/mypractice.ipynb\" target=\"_parent\"><img src=\"https://colab.research.google.com/assets/colab-badge.svg\" alt=\"Open In Colab\"/></a>"
      ]
    },
    {
      "cell_type": "code",
      "execution_count": 1,
      "metadata": {
        "colab": {
          "base_uri": "https://localhost:8080/"
        },
        "id": "Ou8jQ7P0D8pC",
        "outputId": "c69cc4ef-1508-40fe-a713-53200e642afc"
      },
      "outputs": [
        {
          "output_type": "stream",
          "name": "stdout",
          "text": [
            "Cloning into 'lecture-ai-engineering'...\n",
            "remote: Enumerating objects: 117, done.\u001b[K\n",
            "remote: Counting objects: 100% (20/20), done.\u001b[K\n",
            "remote: Compressing objects: 100% (14/14), done.\u001b[K\n",
            "remote: Total 117 (delta 5), reused 0 (delta 0), pack-reused 97 (from 1)\u001b[K\n",
            "Receiving objects: 100% (117/117), 1.35 MiB | 7.08 MiB/s, done.\n",
            "Resolving deltas: 100% (22/22), done.\n",
            "現在のディレクトリ: /content/lecture-ai-engineering\n"
          ]
        }
      ],
      "source": [
        "import os\n",
        "\n",
        "# GitHubリポジトリをクローン\n",
        "repository_url = \"https://github.com/Re-Noel/lecture-ai-engineering.git\"\n",
        "repository_name = \"lecture-ai-engineering\"  # リポジトリ名を正しく設定\n",
        "if not os.path.exists(repository_name):\n",
        "    !git clone $repository_url\n",
        "else:\n",
        "    print(f\"リポジトリ '{repository_name}' は既に存在します。\")\n",
        "\n",
        "# クローンしたリポジトリのディレクトリに移動\n",
        "os.chdir(repository_name)\n",
        "print(f\"現在のディレクトリ: {os.getcwd()}\")"
      ]
    },
    {
      "cell_type": "code",
      "source": [
        "!pip install -r /content/lecture-ai-engineering/day5/requirements.txt"
      ],
      "metadata": {
        "colab": {
          "base_uri": "https://localhost:8080/"
        },
        "id": "-8Q06JSnEB8D",
        "outputId": "a3e33816-96fb-4a4b-cab5-143029f398f9"
      },
      "execution_count": 1,
      "outputs": [
        {
          "output_type": "stream",
          "name": "stdout",
          "text": [
            "Requirement already satisfied: kedro in /usr/local/lib/python3.11/dist-packages (from -r /content/lecture-ai-engineering/day5/requirements.txt (line 1)) (0.19.12)\n",
            "Requirement already satisfied: scikit-learn in /usr/local/lib/python3.11/dist-packages (from -r /content/lecture-ai-engineering/day5/requirements.txt (line 2)) (1.6.1)\n",
            "Requirement already satisfied: mlflow in /usr/local/lib/python3.11/dist-packages (from -r /content/lecture-ai-engineering/day5/requirements.txt (line 3)) (2.22.0)\n",
            "Requirement already satisfied: pandas in /usr/local/lib/python3.11/dist-packages (from -r /content/lecture-ai-engineering/day5/requirements.txt (line 4)) (2.1.4)\n",
            "Requirement already satisfied: pytest in /usr/local/lib/python3.11/dist-packages (from -r /content/lecture-ai-engineering/day5/requirements.txt (line 5)) (8.3.5)\n",
            "Requirement already satisfied: great_expectations in /usr/local/lib/python3.11/dist-packages (from -r /content/lecture-ai-engineering/day5/requirements.txt (line 6)) (1.4.4)\n",
            "Requirement already satisfied: black in /usr/local/lib/python3.11/dist-packages (from -r /content/lecture-ai-engineering/day5/requirements.txt (line 7)) (25.1.0)\n",
            "Requirement already satisfied: attrs>=21.3 in /usr/local/lib/python3.11/dist-packages (from kedro->-r /content/lecture-ai-engineering/day5/requirements.txt (line 1)) (25.3.0)\n",
            "Requirement already satisfied: build>=0.7.0 in /usr/local/lib/python3.11/dist-packages (from kedro->-r /content/lecture-ai-engineering/day5/requirements.txt (line 1)) (1.2.2.post1)\n",
            "Requirement already satisfied: cachetools>=4.1 in /usr/local/lib/python3.11/dist-packages (from kedro->-r /content/lecture-ai-engineering/day5/requirements.txt (line 1)) (5.5.2)\n",
            "Requirement already satisfied: click>=4.0 in /usr/local/lib/python3.11/dist-packages (from kedro->-r /content/lecture-ai-engineering/day5/requirements.txt (line 1)) (8.2.0)\n",
            "Requirement already satisfied: cookiecutter<3.0,>=2.1.1 in /usr/local/lib/python3.11/dist-packages (from kedro->-r /content/lecture-ai-engineering/day5/requirements.txt (line 1)) (2.6.0)\n",
            "Requirement already satisfied: dynaconf<4.0,>=3.1.2 in /usr/local/lib/python3.11/dist-packages (from kedro->-r /content/lecture-ai-engineering/day5/requirements.txt (line 1)) (3.2.11)\n",
            "Requirement already satisfied: fsspec>=2021.4 in /usr/local/lib/python3.11/dist-packages (from kedro->-r /content/lecture-ai-engineering/day5/requirements.txt (line 1)) (2025.3.2)\n",
            "Requirement already satisfied: gitpython>=3.0 in /usr/local/lib/python3.11/dist-packages (from kedro->-r /content/lecture-ai-engineering/day5/requirements.txt (line 1)) (3.1.44)\n",
            "Requirement already satisfied: importlib-metadata<9.0,>=3.6 in /usr/local/lib/python3.11/dist-packages (from kedro->-r /content/lecture-ai-engineering/day5/requirements.txt (line 1)) (8.6.1)\n",
            "Requirement already satisfied: importlib_resources<7.0,>=1.3 in /usr/local/lib/python3.11/dist-packages (from kedro->-r /content/lecture-ai-engineering/day5/requirements.txt (line 1)) (6.5.2)\n",
            "Requirement already satisfied: kedro-telemetry>=0.5.0 in /usr/local/lib/python3.11/dist-packages (from kedro->-r /content/lecture-ai-engineering/day5/requirements.txt (line 1)) (0.6.2)\n",
            "Requirement already satisfied: more_itertools>=8.14.0 in /usr/local/lib/python3.11/dist-packages (from kedro->-r /content/lecture-ai-engineering/day5/requirements.txt (line 1)) (10.7.0)\n",
            "Requirement already satisfied: omegaconf>=2.1.1 in /usr/local/lib/python3.11/dist-packages (from kedro->-r /content/lecture-ai-engineering/day5/requirements.txt (line 1)) (2.3.0)\n",
            "Requirement already satisfied: parse>=1.19.0 in /usr/local/lib/python3.11/dist-packages (from kedro->-r /content/lecture-ai-engineering/day5/requirements.txt (line 1)) (1.20.2)\n",
            "Requirement already satisfied: pluggy>=1.0 in /usr/local/lib/python3.11/dist-packages (from kedro->-r /content/lecture-ai-engineering/day5/requirements.txt (line 1)) (1.5.0)\n",
            "Requirement already satisfied: pre-commit-hooks in /usr/local/lib/python3.11/dist-packages (from kedro->-r /content/lecture-ai-engineering/day5/requirements.txt (line 1)) (5.0.0)\n",
            "Requirement already satisfied: PyYAML<7.0,>=4.2 in /usr/local/lib/python3.11/dist-packages (from kedro->-r /content/lecture-ai-engineering/day5/requirements.txt (line 1)) (6.0.2)\n",
            "Requirement already satisfied: rich<14.0,>=12.0 in /usr/local/lib/python3.11/dist-packages (from kedro->-r /content/lecture-ai-engineering/day5/requirements.txt (line 1)) (13.9.4)\n",
            "Requirement already satisfied: rope<2.0,>=0.21 in /usr/local/lib/python3.11/dist-packages (from kedro->-r /content/lecture-ai-engineering/day5/requirements.txt (line 1)) (1.13.0)\n",
            "Requirement already satisfied: toml>=0.10.0 in /usr/local/lib/python3.11/dist-packages (from kedro->-r /content/lecture-ai-engineering/day5/requirements.txt (line 1)) (0.10.2)\n",
            "Requirement already satisfied: typing_extensions>=4.0 in /usr/local/lib/python3.11/dist-packages (from kedro->-r /content/lecture-ai-engineering/day5/requirements.txt (line 1)) (4.13.2)\n",
            "Requirement already satisfied: numpy>=1.19.5 in /usr/local/lib/python3.11/dist-packages (from scikit-learn->-r /content/lecture-ai-engineering/day5/requirements.txt (line 2)) (1.26.4)\n",
            "Requirement already satisfied: scipy>=1.6.0 in /usr/local/lib/python3.11/dist-packages (from scikit-learn->-r /content/lecture-ai-engineering/day5/requirements.txt (line 2)) (1.15.3)\n",
            "Requirement already satisfied: joblib>=1.2.0 in /usr/local/lib/python3.11/dist-packages (from scikit-learn->-r /content/lecture-ai-engineering/day5/requirements.txt (line 2)) (1.5.0)\n",
            "Requirement already satisfied: threadpoolctl>=3.1.0 in /usr/local/lib/python3.11/dist-packages (from scikit-learn->-r /content/lecture-ai-engineering/day5/requirements.txt (line 2)) (3.6.0)\n",
            "Requirement already satisfied: mlflow-skinny==2.22.0 in /usr/local/lib/python3.11/dist-packages (from mlflow->-r /content/lecture-ai-engineering/day5/requirements.txt (line 3)) (2.22.0)\n",
            "Requirement already satisfied: Flask<4 in /usr/local/lib/python3.11/dist-packages (from mlflow->-r /content/lecture-ai-engineering/day5/requirements.txt (line 3)) (3.1.1)\n",
            "Requirement already satisfied: Jinja2<4,>=2.11 in /usr/local/lib/python3.11/dist-packages (from mlflow->-r /content/lecture-ai-engineering/day5/requirements.txt (line 3)) (3.1.6)\n",
            "Requirement already satisfied: alembic!=1.10.0,<2 in /usr/local/lib/python3.11/dist-packages (from mlflow->-r /content/lecture-ai-engineering/day5/requirements.txt (line 3)) (1.15.2)\n",
            "Requirement already satisfied: docker<8,>=4.0.0 in /usr/local/lib/python3.11/dist-packages (from mlflow->-r /content/lecture-ai-engineering/day5/requirements.txt (line 3)) (7.1.0)\n",
            "Requirement already satisfied: graphene<4 in /usr/local/lib/python3.11/dist-packages (from mlflow->-r /content/lecture-ai-engineering/day5/requirements.txt (line 3)) (3.4.3)\n",
            "Requirement already satisfied: gunicorn<24 in /usr/local/lib/python3.11/dist-packages (from mlflow->-r /content/lecture-ai-engineering/day5/requirements.txt (line 3)) (23.0.0)\n",
            "Requirement already satisfied: markdown<4,>=3.3 in /usr/local/lib/python3.11/dist-packages (from mlflow->-r /content/lecture-ai-engineering/day5/requirements.txt (line 3)) (3.8)\n",
            "Requirement already satisfied: matplotlib<4 in /usr/local/lib/python3.11/dist-packages (from mlflow->-r /content/lecture-ai-engineering/day5/requirements.txt (line 3)) (3.10.0)\n",
            "Requirement already satisfied: pyarrow<20,>=4.0.0 in /usr/local/lib/python3.11/dist-packages (from mlflow->-r /content/lecture-ai-engineering/day5/requirements.txt (line 3)) (18.1.0)\n",
            "Requirement already satisfied: sqlalchemy<3,>=1.4.0 in /usr/local/lib/python3.11/dist-packages (from mlflow->-r /content/lecture-ai-engineering/day5/requirements.txt (line 3)) (2.0.40)\n",
            "Requirement already satisfied: cloudpickle<4 in /usr/local/lib/python3.11/dist-packages (from mlflow-skinny==2.22.0->mlflow->-r /content/lecture-ai-engineering/day5/requirements.txt (line 3)) (3.1.1)\n",
            "Requirement already satisfied: databricks-sdk<1,>=0.20.0 in /usr/local/lib/python3.11/dist-packages (from mlflow-skinny==2.22.0->mlflow->-r /content/lecture-ai-engineering/day5/requirements.txt (line 3)) (0.53.0)\n",
            "Requirement already satisfied: fastapi<1 in /usr/local/lib/python3.11/dist-packages (from mlflow-skinny==2.22.0->mlflow->-r /content/lecture-ai-engineering/day5/requirements.txt (line 3)) (0.115.12)\n",
            "Requirement already satisfied: opentelemetry-api<3,>=1.9.0 in /usr/local/lib/python3.11/dist-packages (from mlflow-skinny==2.22.0->mlflow->-r /content/lecture-ai-engineering/day5/requirements.txt (line 3)) (1.33.1)\n",
            "Requirement already satisfied: opentelemetry-sdk<3,>=1.9.0 in /usr/local/lib/python3.11/dist-packages (from mlflow-skinny==2.22.0->mlflow->-r /content/lecture-ai-engineering/day5/requirements.txt (line 3)) (1.33.1)\n",
            "Requirement already satisfied: packaging<25 in /usr/local/lib/python3.11/dist-packages (from mlflow-skinny==2.22.0->mlflow->-r /content/lecture-ai-engineering/day5/requirements.txt (line 3)) (24.2)\n",
            "Requirement already satisfied: protobuf<7,>=3.12.0 in /usr/local/lib/python3.11/dist-packages (from mlflow-skinny==2.22.0->mlflow->-r /content/lecture-ai-engineering/day5/requirements.txt (line 3)) (5.29.4)\n",
            "Requirement already satisfied: pydantic<3,>=1.10.8 in /usr/local/lib/python3.11/dist-packages (from mlflow-skinny==2.22.0->mlflow->-r /content/lecture-ai-engineering/day5/requirements.txt (line 3)) (2.11.4)\n",
            "Requirement already satisfied: requests<3,>=2.17.3 in /usr/local/lib/python3.11/dist-packages (from mlflow-skinny==2.22.0->mlflow->-r /content/lecture-ai-engineering/day5/requirements.txt (line 3)) (2.32.3)\n",
            "Requirement already satisfied: sqlparse<1,>=0.4.0 in /usr/local/lib/python3.11/dist-packages (from mlflow-skinny==2.22.0->mlflow->-r /content/lecture-ai-engineering/day5/requirements.txt (line 3)) (0.5.3)\n",
            "Requirement already satisfied: uvicorn<1 in /usr/local/lib/python3.11/dist-packages (from mlflow-skinny==2.22.0->mlflow->-r /content/lecture-ai-engineering/day5/requirements.txt (line 3)) (0.34.2)\n",
            "Requirement already satisfied: python-dateutil>=2.8.2 in /usr/local/lib/python3.11/dist-packages (from pandas->-r /content/lecture-ai-engineering/day5/requirements.txt (line 4)) (2.9.0.post0)\n",
            "Requirement already satisfied: pytz>=2020.1 in /usr/local/lib/python3.11/dist-packages (from pandas->-r /content/lecture-ai-engineering/day5/requirements.txt (line 4)) (2025.2)\n",
            "Requirement already satisfied: tzdata>=2022.1 in /usr/local/lib/python3.11/dist-packages (from pandas->-r /content/lecture-ai-engineering/day5/requirements.txt (line 4)) (2025.2)\n",
            "Requirement already satisfied: iniconfig in /usr/local/lib/python3.11/dist-packages (from pytest->-r /content/lecture-ai-engineering/day5/requirements.txt (line 5)) (2.1.0)\n",
            "Requirement already satisfied: altair<5.0.0,>=4.2.1 in /usr/local/lib/python3.11/dist-packages (from great_expectations->-r /content/lecture-ai-engineering/day5/requirements.txt (line 6)) (4.2.2)\n",
            "Requirement already satisfied: cryptography>=3.2 in /usr/local/lib/python3.11/dist-packages (from great_expectations->-r /content/lecture-ai-engineering/day5/requirements.txt (line 6)) (43.0.3)\n",
            "Requirement already satisfied: jsonschema>=2.5.1 in /usr/local/lib/python3.11/dist-packages (from great_expectations->-r /content/lecture-ai-engineering/day5/requirements.txt (line 6)) (4.23.0)\n",
            "Requirement already satisfied: marshmallow<4.0.0,>=3.7.1 in /usr/local/lib/python3.11/dist-packages (from great_expectations->-r /content/lecture-ai-engineering/day5/requirements.txt (line 6)) (3.26.1)\n",
            "Requirement already satisfied: mistune>=0.8.4 in /usr/local/lib/python3.11/dist-packages (from great_expectations->-r /content/lecture-ai-engineering/day5/requirements.txt (line 6)) (3.1.3)\n",
            "Requirement already satisfied: posthog<4,>3 in /usr/local/lib/python3.11/dist-packages (from great_expectations->-r /content/lecture-ai-engineering/day5/requirements.txt (line 6)) (3.25.0)\n",
            "Requirement already satisfied: pyparsing>=2.4 in /usr/local/lib/python3.11/dist-packages (from great_expectations->-r /content/lecture-ai-engineering/day5/requirements.txt (line 6)) (3.2.3)\n",
            "Requirement already satisfied: ruamel.yaml>=0.16 in /usr/local/lib/python3.11/dist-packages (from great_expectations->-r /content/lecture-ai-engineering/day5/requirements.txt (line 6)) (0.18.10)\n",
            "Requirement already satisfied: tqdm>=4.59.0 in /usr/local/lib/python3.11/dist-packages (from great_expectations->-r /content/lecture-ai-engineering/day5/requirements.txt (line 6)) (4.67.1)\n",
            "Requirement already satisfied: tzlocal>=1.2 in /usr/local/lib/python3.11/dist-packages (from great_expectations->-r /content/lecture-ai-engineering/day5/requirements.txt (line 6)) (5.3.1)\n",
            "Requirement already satisfied: mypy-extensions>=0.4.3 in /usr/local/lib/python3.11/dist-packages (from black->-r /content/lecture-ai-engineering/day5/requirements.txt (line 7)) (1.1.0)\n",
            "Requirement already satisfied: pathspec>=0.9.0 in /usr/local/lib/python3.11/dist-packages (from black->-r /content/lecture-ai-engineering/day5/requirements.txt (line 7)) (0.12.1)\n",
            "Requirement already satisfied: platformdirs>=2 in /usr/local/lib/python3.11/dist-packages (from black->-r /content/lecture-ai-engineering/day5/requirements.txt (line 7)) (4.3.8)\n",
            "Requirement already satisfied: Mako in /usr/lib/python3/dist-packages (from alembic!=1.10.0,<2->mlflow->-r /content/lecture-ai-engineering/day5/requirements.txt (line 3)) (1.1.3)\n",
            "Requirement already satisfied: entrypoints in /usr/local/lib/python3.11/dist-packages (from altair<5.0.0,>=4.2.1->great_expectations->-r /content/lecture-ai-engineering/day5/requirements.txt (line 6)) (0.4)\n",
            "Requirement already satisfied: toolz in /usr/local/lib/python3.11/dist-packages (from altair<5.0.0,>=4.2.1->great_expectations->-r /content/lecture-ai-engineering/day5/requirements.txt (line 6)) (0.12.1)\n",
            "Requirement already satisfied: pyproject_hooks in /usr/local/lib/python3.11/dist-packages (from build>=0.7.0->kedro->-r /content/lecture-ai-engineering/day5/requirements.txt (line 1)) (1.2.0)\n",
            "Requirement already satisfied: binaryornot>=0.4.4 in /usr/local/lib/python3.11/dist-packages (from cookiecutter<3.0,>=2.1.1->kedro->-r /content/lecture-ai-engineering/day5/requirements.txt (line 1)) (0.4.4)\n",
            "Requirement already satisfied: python-slugify>=4.0.0 in /usr/local/lib/python3.11/dist-packages (from cookiecutter<3.0,>=2.1.1->kedro->-r /content/lecture-ai-engineering/day5/requirements.txt (line 1)) (8.0.4)\n",
            "Requirement already satisfied: arrow in /usr/local/lib/python3.11/dist-packages (from cookiecutter<3.0,>=2.1.1->kedro->-r /content/lecture-ai-engineering/day5/requirements.txt (line 1)) (1.3.0)\n",
            "Requirement already satisfied: cffi>=1.12 in /usr/local/lib/python3.11/dist-packages (from cryptography>=3.2->great_expectations->-r /content/lecture-ai-engineering/day5/requirements.txt (line 6)) (1.17.1)\n",
            "Requirement already satisfied: urllib3>=1.26.0 in /usr/local/lib/python3.11/dist-packages (from docker<8,>=4.0.0->mlflow->-r /content/lecture-ai-engineering/day5/requirements.txt (line 3)) (2.4.0)\n",
            "Requirement already satisfied: blinker>=1.9.0 in /usr/local/lib/python3.11/dist-packages (from Flask<4->mlflow->-r /content/lecture-ai-engineering/day5/requirements.txt (line 3)) (1.9.0)\n",
            "Requirement already satisfied: itsdangerous>=2.2.0 in /usr/local/lib/python3.11/dist-packages (from Flask<4->mlflow->-r /content/lecture-ai-engineering/day5/requirements.txt (line 3)) (2.2.0)\n",
            "Requirement already satisfied: markupsafe>=2.1.1 in /usr/local/lib/python3.11/dist-packages (from Flask<4->mlflow->-r /content/lecture-ai-engineering/day5/requirements.txt (line 3)) (3.0.2)\n",
            "Requirement already satisfied: werkzeug>=3.1.0 in /usr/local/lib/python3.11/dist-packages (from Flask<4->mlflow->-r /content/lecture-ai-engineering/day5/requirements.txt (line 3)) (3.1.3)\n",
            "Requirement already satisfied: gitdb<5,>=4.0.1 in /usr/local/lib/python3.11/dist-packages (from gitpython>=3.0->kedro->-r /content/lecture-ai-engineering/day5/requirements.txt (line 1)) (4.0.12)\n",
            "Requirement already satisfied: graphql-core<3.3,>=3.1 in /usr/local/lib/python3.11/dist-packages (from graphene<4->mlflow->-r /content/lecture-ai-engineering/day5/requirements.txt (line 3)) (3.2.6)\n",
            "Requirement already satisfied: graphql-relay<3.3,>=3.1 in /usr/local/lib/python3.11/dist-packages (from graphene<4->mlflow->-r /content/lecture-ai-engineering/day5/requirements.txt (line 3)) (3.2.0)\n",
            "Requirement already satisfied: zipp>=3.20 in /usr/local/lib/python3.11/dist-packages (from importlib-metadata<9.0,>=3.6->kedro->-r /content/lecture-ai-engineering/day5/requirements.txt (line 1)) (3.21.0)\n",
            "Requirement already satisfied: jsonschema-specifications>=2023.03.6 in /usr/local/lib/python3.11/dist-packages (from jsonschema>=2.5.1->great_expectations->-r /content/lecture-ai-engineering/day5/requirements.txt (line 6)) (2025.4.1)\n",
            "Requirement already satisfied: referencing>=0.28.4 in /usr/local/lib/python3.11/dist-packages (from jsonschema>=2.5.1->great_expectations->-r /content/lecture-ai-engineering/day5/requirements.txt (line 6)) (0.36.2)\n",
            "Requirement already satisfied: rpds-py>=0.7.1 in /usr/local/lib/python3.11/dist-packages (from jsonschema>=2.5.1->great_expectations->-r /content/lecture-ai-engineering/day5/requirements.txt (line 6)) (0.24.0)\n",
            "Requirement already satisfied: appdirs>=1.4.4 in /usr/local/lib/python3.11/dist-packages (from kedro-telemetry>=0.5.0->kedro->-r /content/lecture-ai-engineering/day5/requirements.txt (line 1)) (1.4.4)\n",
            "Requirement already satisfied: contourpy>=1.0.1 in /usr/local/lib/python3.11/dist-packages (from matplotlib<4->mlflow->-r /content/lecture-ai-engineering/day5/requirements.txt (line 3)) (1.3.2)\n",
            "Requirement already satisfied: cycler>=0.10 in /usr/local/lib/python3.11/dist-packages (from matplotlib<4->mlflow->-r /content/lecture-ai-engineering/day5/requirements.txt (line 3)) (0.12.1)\n",
            "Requirement already satisfied: fonttools>=4.22.0 in /usr/local/lib/python3.11/dist-packages (from matplotlib<4->mlflow->-r /content/lecture-ai-engineering/day5/requirements.txt (line 3)) (4.58.0)\n",
            "Requirement already satisfied: kiwisolver>=1.3.1 in /usr/local/lib/python3.11/dist-packages (from matplotlib<4->mlflow->-r /content/lecture-ai-engineering/day5/requirements.txt (line 3)) (1.4.8)\n",
            "Requirement already satisfied: pillow>=8 in /usr/local/lib/python3.11/dist-packages (from matplotlib<4->mlflow->-r /content/lecture-ai-engineering/day5/requirements.txt (line 3)) (11.2.1)\n",
            "Requirement already satisfied: antlr4-python3-runtime==4.9.* in /usr/local/lib/python3.11/dist-packages (from omegaconf>=2.1.1->kedro->-r /content/lecture-ai-engineering/day5/requirements.txt (line 1)) (4.9.3)\n",
            "Requirement already satisfied: six>=1.5 in /usr/local/lib/python3.11/dist-packages (from posthog<4,>3->great_expectations->-r /content/lecture-ai-engineering/day5/requirements.txt (line 6)) (1.17.0)\n",
            "Requirement already satisfied: monotonic>=1.5 in /usr/local/lib/python3.11/dist-packages (from posthog<4,>3->great_expectations->-r /content/lecture-ai-engineering/day5/requirements.txt (line 6)) (1.6)\n",
            "Requirement already satisfied: backoff>=1.10.0 in /usr/local/lib/python3.11/dist-packages (from posthog<4,>3->great_expectations->-r /content/lecture-ai-engineering/day5/requirements.txt (line 6)) (2.2.1)\n",
            "Requirement already satisfied: distro>=1.5.0 in /usr/local/lib/python3.11/dist-packages (from posthog<4,>3->great_expectations->-r /content/lecture-ai-engineering/day5/requirements.txt (line 6)) (1.9.0)\n",
            "Requirement already satisfied: annotated-types>=0.6.0 in /usr/local/lib/python3.11/dist-packages (from pydantic<3,>=1.10.8->mlflow-skinny==2.22.0->mlflow->-r /content/lecture-ai-engineering/day5/requirements.txt (line 3)) (0.7.0)\n",
            "Requirement already satisfied: pydantic-core==2.33.2 in /usr/local/lib/python3.11/dist-packages (from pydantic<3,>=1.10.8->mlflow-skinny==2.22.0->mlflow->-r /content/lecture-ai-engineering/day5/requirements.txt (line 3)) (2.33.2)\n",
            "Requirement already satisfied: typing-inspection>=0.4.0 in /usr/local/lib/python3.11/dist-packages (from pydantic<3,>=1.10.8->mlflow-skinny==2.22.0->mlflow->-r /content/lecture-ai-engineering/day5/requirements.txt (line 3)) (0.4.0)\n",
            "Requirement already satisfied: charset-normalizer<4,>=2 in /usr/local/lib/python3.11/dist-packages (from requests<3,>=2.17.3->mlflow-skinny==2.22.0->mlflow->-r /content/lecture-ai-engineering/day5/requirements.txt (line 3)) (3.4.2)\n",
            "Requirement already satisfied: idna<4,>=2.5 in /usr/local/lib/python3.11/dist-packages (from requests<3,>=2.17.3->mlflow-skinny==2.22.0->mlflow->-r /content/lecture-ai-engineering/day5/requirements.txt (line 3)) (3.10)\n",
            "Requirement already satisfied: certifi>=2017.4.17 in /usr/local/lib/python3.11/dist-packages (from requests<3,>=2.17.3->mlflow-skinny==2.22.0->mlflow->-r /content/lecture-ai-engineering/day5/requirements.txt (line 3)) (2025.4.26)\n",
            "Requirement already satisfied: markdown-it-py>=2.2.0 in /usr/local/lib/python3.11/dist-packages (from rich<14.0,>=12.0->kedro->-r /content/lecture-ai-engineering/day5/requirements.txt (line 1)) (3.0.0)\n",
            "Requirement already satisfied: pygments<3.0.0,>=2.13.0 in /usr/local/lib/python3.11/dist-packages (from rich<14.0,>=12.0->kedro->-r /content/lecture-ai-engineering/day5/requirements.txt (line 1)) (2.19.1)\n",
            "Requirement already satisfied: pytoolconfig>=1.2.2 in /usr/local/lib/python3.11/dist-packages (from pytoolconfig[global]>=1.2.2->rope<2.0,>=0.21->kedro->-r /content/lecture-ai-engineering/day5/requirements.txt (line 1)) (1.3.1)\n",
            "Requirement already satisfied: ruamel.yaml.clib>=0.2.7 in /usr/local/lib/python3.11/dist-packages (from ruamel.yaml>=0.16->great_expectations->-r /content/lecture-ai-engineering/day5/requirements.txt (line 6)) (0.2.12)\n",
            "Requirement already satisfied: greenlet>=1 in /usr/local/lib/python3.11/dist-packages (from sqlalchemy<3,>=1.4.0->mlflow->-r /content/lecture-ai-engineering/day5/requirements.txt (line 3)) (3.2.2)\n",
            "Requirement already satisfied: chardet>=3.0.2 in /usr/local/lib/python3.11/dist-packages (from binaryornot>=0.4.4->cookiecutter<3.0,>=2.1.1->kedro->-r /content/lecture-ai-engineering/day5/requirements.txt (line 1)) (5.2.0)\n",
            "Requirement already satisfied: pycparser in /usr/local/lib/python3.11/dist-packages (from cffi>=1.12->cryptography>=3.2->great_expectations->-r /content/lecture-ai-engineering/day5/requirements.txt (line 6)) (2.22)\n",
            "Requirement already satisfied: google-auth~=2.0 in /usr/local/lib/python3.11/dist-packages (from databricks-sdk<1,>=0.20.0->mlflow-skinny==2.22.0->mlflow->-r /content/lecture-ai-engineering/day5/requirements.txt (line 3)) (2.38.0)\n",
            "Requirement already satisfied: starlette<0.47.0,>=0.40.0 in /usr/local/lib/python3.11/dist-packages (from fastapi<1->mlflow-skinny==2.22.0->mlflow->-r /content/lecture-ai-engineering/day5/requirements.txt (line 3)) (0.46.2)\n",
            "Requirement already satisfied: smmap<6,>=3.0.1 in /usr/local/lib/python3.11/dist-packages (from gitdb<5,>=4.0.1->gitpython>=3.0->kedro->-r /content/lecture-ai-engineering/day5/requirements.txt (line 1)) (5.0.2)\n",
            "Requirement already satisfied: mdurl~=0.1 in /usr/local/lib/python3.11/dist-packages (from markdown-it-py>=2.2.0->rich<14.0,>=12.0->kedro->-r /content/lecture-ai-engineering/day5/requirements.txt (line 1)) (0.1.2)\n",
            "Requirement already satisfied: deprecated>=1.2.6 in /usr/local/lib/python3.11/dist-packages (from opentelemetry-api<3,>=1.9.0->mlflow-skinny==2.22.0->mlflow->-r /content/lecture-ai-engineering/day5/requirements.txt (line 3)) (1.2.18)\n",
            "Requirement already satisfied: opentelemetry-semantic-conventions==0.54b1 in /usr/local/lib/python3.11/dist-packages (from opentelemetry-sdk<3,>=1.9.0->mlflow-skinny==2.22.0->mlflow->-r /content/lecture-ai-engineering/day5/requirements.txt (line 3)) (0.54b1)\n",
            "Requirement already satisfied: text-unidecode>=1.3 in /usr/local/lib/python3.11/dist-packages (from python-slugify>=4.0.0->cookiecutter<3.0,>=2.1.1->kedro->-r /content/lecture-ai-engineering/day5/requirements.txt (line 1)) (1.3)\n",
            "Requirement already satisfied: h11>=0.8 in /usr/local/lib/python3.11/dist-packages (from uvicorn<1->mlflow-skinny==2.22.0->mlflow->-r /content/lecture-ai-engineering/day5/requirements.txt (line 3)) (0.16.0)\n",
            "Requirement already satisfied: types-python-dateutil>=2.8.10 in /usr/local/lib/python3.11/dist-packages (from arrow->cookiecutter<3.0,>=2.1.1->kedro->-r /content/lecture-ai-engineering/day5/requirements.txt (line 1)) (2.9.0.20250516)\n",
            "Requirement already satisfied: wrapt<2,>=1.10 in /usr/local/lib/python3.11/dist-packages (from deprecated>=1.2.6->opentelemetry-api<3,>=1.9.0->mlflow-skinny==2.22.0->mlflow->-r /content/lecture-ai-engineering/day5/requirements.txt (line 3)) (1.17.2)\n",
            "Requirement already satisfied: pyasn1-modules>=0.2.1 in /usr/local/lib/python3.11/dist-packages (from google-auth~=2.0->databricks-sdk<1,>=0.20.0->mlflow-skinny==2.22.0->mlflow->-r /content/lecture-ai-engineering/day5/requirements.txt (line 3)) (0.4.2)\n",
            "Requirement already satisfied: rsa<5,>=3.1.4 in /usr/local/lib/python3.11/dist-packages (from google-auth~=2.0->databricks-sdk<1,>=0.20.0->mlflow-skinny==2.22.0->mlflow->-r /content/lecture-ai-engineering/day5/requirements.txt (line 3)) (4.9.1)\n",
            "Requirement already satisfied: anyio<5,>=3.6.2 in /usr/local/lib/python3.11/dist-packages (from starlette<0.47.0,>=0.40.0->fastapi<1->mlflow-skinny==2.22.0->mlflow->-r /content/lecture-ai-engineering/day5/requirements.txt (line 3)) (4.9.0)\n",
            "Requirement already satisfied: sniffio>=1.1 in /usr/local/lib/python3.11/dist-packages (from anyio<5,>=3.6.2->starlette<0.47.0,>=0.40.0->fastapi<1->mlflow-skinny==2.22.0->mlflow->-r /content/lecture-ai-engineering/day5/requirements.txt (line 3)) (1.3.1)\n",
            "Requirement already satisfied: pyasn1<0.7.0,>=0.6.1 in /usr/local/lib/python3.11/dist-packages (from pyasn1-modules>=0.2.1->google-auth~=2.0->databricks-sdk<1,>=0.20.0->mlflow-skinny==2.22.0->mlflow->-r /content/lecture-ai-engineering/day5/requirements.txt (line 3)) (0.6.1)\n"
          ]
        }
      ]
    },
    {
      "cell_type": "code",
      "source": [
        "!git add .\n",
        "!git commit -m \"Add model test workflow\"\n",
        "!git push origin main  # または main の代わりに your-branch-name\n"
      ],
      "metadata": {
        "colab": {
          "base_uri": "https://localhost:8080/"
        },
        "id": "z636-QLsQ2Nn",
        "outputId": "8bc804dd-dd58-4819-9f7b-3c9bfd425e83"
      },
      "execution_count": 3,
      "outputs": [
        {
          "output_type": "stream",
          "name": "stdout",
          "text": [
            "fatal: not a git repository (or any of the parent directories): .git\n",
            "fatal: not a git repository (or any of the parent directories): .git\n",
            "fatal: not a git repository (or any of the parent directories): .git\n"
          ]
        }
      ]
    }
  ]
}