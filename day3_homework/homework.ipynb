{
  "cells": [
    {
      "cell_type": "code",
      "execution_count": 1,
      "id": "3a252691",
      "metadata": {
        "vscode": {
          "languageId": "plaintext"
        },
        "colab": {
          "base_uri": "https://localhost:8080/"
        },
        "id": "3a252691",
        "outputId": "e092bd76-8b2a-4a94-e060-f41679fc6c6a",
        "collapsed": true
      },
      "outputs": [
        {
          "output_type": "stream",
          "name": "stdout",
          "text": [
            "\u001b[33mWARNING: Ignoring invalid distribution ~vidia-cudnn-cu12 (/usr/local/lib/python3.11/dist-packages)\u001b[0m\u001b[33m\n",
            "\u001b[0m\u001b[33mWARNING: Ignoring invalid distribution ~vidia-cudnn-cu12 (/usr/local/lib/python3.11/dist-packages)\u001b[0m\u001b[33m\n",
            "\u001b[0mRequirement already satisfied: transformers in /usr/local/lib/python3.11/dist-packages (4.51.3)\n",
            "Requirement already satisfied: filelock in /usr/local/lib/python3.11/dist-packages (from transformers) (3.18.0)\n",
            "Requirement already satisfied: huggingface-hub<1.0,>=0.30.0 in /usr/local/lib/python3.11/dist-packages (from transformers) (0.30.2)\n",
            "Requirement already satisfied: numpy>=1.17 in /usr/local/lib/python3.11/dist-packages (from transformers) (2.0.2)\n",
            "Requirement already satisfied: packaging>=20.0 in /usr/local/lib/python3.11/dist-packages (from transformers) (24.2)\n",
            "Requirement already satisfied: pyyaml>=5.1 in /usr/local/lib/python3.11/dist-packages (from transformers) (6.0.2)\n",
            "Requirement already satisfied: regex!=2019.12.17 in /usr/local/lib/python3.11/dist-packages (from transformers) (2024.11.6)\n",
            "Requirement already satisfied: requests in /usr/local/lib/python3.11/dist-packages (from transformers) (2.32.3)\n",
            "Requirement already satisfied: tokenizers<0.22,>=0.21 in /usr/local/lib/python3.11/dist-packages (from transformers) (0.21.1)\n",
            "Requirement already satisfied: safetensors>=0.4.3 in /usr/local/lib/python3.11/dist-packages (from transformers) (0.5.3)\n",
            "Requirement already satisfied: tqdm>=4.27 in /usr/local/lib/python3.11/dist-packages (from transformers) (4.67.1)\n",
            "Requirement already satisfied: fsspec>=2023.5.0 in /usr/local/lib/python3.11/dist-packages (from huggingface-hub<1.0,>=0.30.0->transformers) (2025.3.2)\n",
            "Requirement already satisfied: typing-extensions>=3.7.4.3 in /usr/local/lib/python3.11/dist-packages (from huggingface-hub<1.0,>=0.30.0->transformers) (4.13.2)\n",
            "Requirement already satisfied: charset-normalizer<4,>=2 in /usr/local/lib/python3.11/dist-packages (from requests->transformers) (3.4.1)\n",
            "Requirement already satisfied: idna<4,>=2.5 in /usr/local/lib/python3.11/dist-packages (from requests->transformers) (3.10)\n",
            "Requirement already satisfied: urllib3<3,>=1.21.1 in /usr/local/lib/python3.11/dist-packages (from requests->transformers) (2.4.0)\n",
            "Requirement already satisfied: certifi>=2017.4.17 in /usr/local/lib/python3.11/dist-packages (from requests->transformers) (2025.4.26)\n",
            "\u001b[33mWARNING: Ignoring invalid distribution ~vidia-cudnn-cu12 (/usr/local/lib/python3.11/dist-packages)\u001b[0m\u001b[33m\n",
            "\u001b[0m\u001b[33mWARNING: Ignoring invalid distribution ~vidia-cudnn-cu12 (/usr/local/lib/python3.11/dist-packages)\u001b[0m\u001b[33m\n",
            "\u001b[0m\u001b[33mWARNING: Ignoring invalid distribution ~vidia-cudnn-cu12 (/usr/local/lib/python3.11/dist-packages)\u001b[0m\u001b[33m\n",
            "\u001b[0mRequirement already satisfied: google-colab-selenium in /usr/local/lib/python3.11/dist-packages (1.0.14)\n",
            "Requirement already satisfied: selenium in /usr/local/lib/python3.11/dist-packages (from google-colab-selenium) (4.31.0)\n",
            "Requirement already satisfied: urllib3<3,>=1.26 in /usr/local/lib/python3.11/dist-packages (from urllib3[socks]<3,>=1.26->selenium->google-colab-selenium) (2.4.0)\n",
            "Requirement already satisfied: trio~=0.17 in /usr/local/lib/python3.11/dist-packages (from selenium->google-colab-selenium) (0.30.0)\n",
            "Requirement already satisfied: trio-websocket~=0.9 in /usr/local/lib/python3.11/dist-packages (from selenium->google-colab-selenium) (0.12.2)\n",
            "Requirement already satisfied: certifi>=2021.10.8 in /usr/local/lib/python3.11/dist-packages (from selenium->google-colab-selenium) (2025.4.26)\n",
            "Requirement already satisfied: typing_extensions~=4.9 in /usr/local/lib/python3.11/dist-packages (from selenium->google-colab-selenium) (4.13.2)\n",
            "Requirement already satisfied: websocket-client~=1.8 in /usr/local/lib/python3.11/dist-packages (from selenium->google-colab-selenium) (1.8.0)\n",
            "Requirement already satisfied: attrs>=23.2.0 in /usr/local/lib/python3.11/dist-packages (from trio~=0.17->selenium->google-colab-selenium) (25.3.0)\n",
            "Requirement already satisfied: sortedcontainers in /usr/local/lib/python3.11/dist-packages (from trio~=0.17->selenium->google-colab-selenium) (2.4.0)\n",
            "Requirement already satisfied: idna in /usr/local/lib/python3.11/dist-packages (from trio~=0.17->selenium->google-colab-selenium) (3.10)\n",
            "Requirement already satisfied: outcome in /usr/local/lib/python3.11/dist-packages (from trio~=0.17->selenium->google-colab-selenium) (1.3.0.post0)\n",
            "Requirement already satisfied: sniffio>=1.3.0 in /usr/local/lib/python3.11/dist-packages (from trio~=0.17->selenium->google-colab-selenium) (1.3.1)\n",
            "Requirement already satisfied: wsproto>=0.14 in /usr/local/lib/python3.11/dist-packages (from trio-websocket~=0.9->selenium->google-colab-selenium) (1.2.0)\n",
            "Requirement already satisfied: pysocks!=1.5.7,<2.0,>=1.5.6 in /usr/local/lib/python3.11/dist-packages (from urllib3[socks]<3,>=1.26->selenium->google-colab-selenium) (1.7.1)\n",
            "Requirement already satisfied: h11<1,>=0.9.0 in /usr/local/lib/python3.11/dist-packages (from wsproto>=0.14->trio-websocket~=0.9->selenium->google-colab-selenium) (0.16.0)\n",
            "\u001b[33mWARNING: Ignoring invalid distribution ~vidia-cudnn-cu12 (/usr/local/lib/python3.11/dist-packages)\u001b[0m\u001b[33m\n",
            "\u001b[0m\u001b[33mWARNING: Ignoring invalid distribution ~vidia-cudnn-cu12 (/usr/local/lib/python3.11/dist-packages)\u001b[0m\u001b[33m\n",
            "\u001b[0m\u001b[33mWARNING: Ignoring invalid distribution ~vidia-cudnn-cu12 (/usr/local/lib/python3.11/dist-packages)\u001b[0m\u001b[33m\n",
            "\u001b[0mCollecting bitsandbytes\n",
            "  Using cached bitsandbytes-0.45.5-py3-none-manylinux_2_24_x86_64.whl.metadata (5.0 kB)\n",
            "Requirement already satisfied: torch<3,>=2.0 in /usr/local/lib/python3.11/dist-packages (from bitsandbytes) (2.6.0+cu124)\n",
            "Requirement already satisfied: numpy>=1.17 in /usr/local/lib/python3.11/dist-packages (from bitsandbytes) (2.0.2)\n",
            "Requirement already satisfied: filelock in /usr/local/lib/python3.11/dist-packages (from torch<3,>=2.0->bitsandbytes) (3.18.0)\n",
            "Requirement already satisfied: typing-extensions>=4.10.0 in /usr/local/lib/python3.11/dist-packages (from torch<3,>=2.0->bitsandbytes) (4.13.2)\n",
            "Requirement already satisfied: networkx in /usr/local/lib/python3.11/dist-packages (from torch<3,>=2.0->bitsandbytes) (3.4.2)\n",
            "Requirement already satisfied: jinja2 in /usr/local/lib/python3.11/dist-packages (from torch<3,>=2.0->bitsandbytes) (3.1.6)\n",
            "Requirement already satisfied: fsspec in /usr/local/lib/python3.11/dist-packages (from torch<3,>=2.0->bitsandbytes) (2025.3.2)\n",
            "Requirement already satisfied: nvidia-cuda-nvrtc-cu12==12.4.127 in /usr/local/lib/python3.11/dist-packages (from torch<3,>=2.0->bitsandbytes) (12.4.127)\n",
            "Requirement already satisfied: nvidia-cuda-runtime-cu12==12.4.127 in /usr/local/lib/python3.11/dist-packages (from torch<3,>=2.0->bitsandbytes) (12.4.127)\n",
            "Requirement already satisfied: nvidia-cuda-cupti-cu12==12.4.127 in /usr/local/lib/python3.11/dist-packages (from torch<3,>=2.0->bitsandbytes) (12.4.127)\n",
            "Collecting nvidia-cudnn-cu12==9.1.0.70 (from torch<3,>=2.0->bitsandbytes)\n",
            "  Using cached nvidia_cudnn_cu12-9.1.0.70-py3-none-manylinux2014_x86_64.whl.metadata (1.6 kB)\n",
            "Requirement already satisfied: nvidia-cublas-cu12==12.4.5.8 in /usr/local/lib/python3.11/dist-packages (from torch<3,>=2.0->bitsandbytes) (12.4.5.8)\n",
            "Requirement already satisfied: nvidia-cufft-cu12==11.2.1.3 in /usr/local/lib/python3.11/dist-packages (from torch<3,>=2.0->bitsandbytes) (11.2.1.3)\n",
            "Requirement already satisfied: nvidia-curand-cu12==10.3.5.147 in /usr/local/lib/python3.11/dist-packages (from torch<3,>=2.0->bitsandbytes) (10.3.5.147)\n",
            "Collecting nvidia-cusolver-cu12==11.6.1.9 (from torch<3,>=2.0->bitsandbytes)\n",
            "  Using cached nvidia_cusolver_cu12-11.6.1.9-py3-none-manylinux2014_x86_64.whl.metadata (1.6 kB)\n",
            "Requirement already satisfied: nvidia-cusparse-cu12==12.3.1.170 in /usr/local/lib/python3.11/dist-packages (from torch<3,>=2.0->bitsandbytes) (12.3.1.170)\n",
            "Requirement already satisfied: nvidia-cusparselt-cu12==0.6.2 in /usr/local/lib/python3.11/dist-packages (from torch<3,>=2.0->bitsandbytes) (0.6.2)\n",
            "Requirement already satisfied: nvidia-nccl-cu12==2.21.5 in /usr/local/lib/python3.11/dist-packages (from torch<3,>=2.0->bitsandbytes) (2.21.5)\n",
            "Requirement already satisfied: nvidia-nvtx-cu12==12.4.127 in /usr/local/lib/python3.11/dist-packages (from torch<3,>=2.0->bitsandbytes) (12.4.127)\n",
            "Requirement already satisfied: nvidia-nvjitlink-cu12==12.4.127 in /usr/local/lib/python3.11/dist-packages (from torch<3,>=2.0->bitsandbytes) (12.4.127)\n",
            "Requirement already satisfied: triton==3.2.0 in /usr/local/lib/python3.11/dist-packages (from torch<3,>=2.0->bitsandbytes) (3.2.0)\n",
            "Requirement already satisfied: sympy==1.13.1 in /usr/local/lib/python3.11/dist-packages (from torch<3,>=2.0->bitsandbytes) (1.13.1)\n",
            "Requirement already satisfied: mpmath<1.4,>=1.1.0 in /usr/local/lib/python3.11/dist-packages (from sympy==1.13.1->torch<3,>=2.0->bitsandbytes) (1.3.0)\n",
            "Requirement already satisfied: MarkupSafe>=2.0 in /usr/local/lib/python3.11/dist-packages (from jinja2->torch<3,>=2.0->bitsandbytes) (3.0.2)\n",
            "Using cached bitsandbytes-0.45.5-py3-none-manylinux_2_24_x86_64.whl (76.1 MB)\n",
            "Using cached nvidia_cudnn_cu12-9.1.0.70-py3-none-manylinux2014_x86_64.whl (664.8 MB)\n",
            "Using cached nvidia_cusolver_cu12-11.6.1.9-py3-none-manylinux2014_x86_64.whl (127.9 MB)\n",
            "\u001b[33mWARNING: Ignoring invalid distribution ~vidia-cudnn-cu12 (/usr/local/lib/python3.11/dist-packages)\u001b[0m\u001b[33m\n",
            "\u001b[0mInstalling collected packages: nvidia-cudnn-cu12, nvidia-cusolver-cu12, bitsandbytes\n",
            "  Attempting uninstall: nvidia-cusolver-cu12\n",
            "\u001b[33m    WARNING: Ignoring invalid distribution ~vidia-cudnn-cu12 (/usr/local/lib/python3.11/dist-packages)\u001b[0m\u001b[33m\n",
            "\u001b[0m    Found existing installation: nvidia-cusolver-cu12 11.6.3.83\n",
            "    Uninstalling nvidia-cusolver-cu12-11.6.3.83:\n",
            "      Successfully uninstalled nvidia-cusolver-cu12-11.6.3.83\n",
            "\u001b[33mWARNING: Ignoring invalid distribution ~vidia-cudnn-cu12 (/usr/local/lib/python3.11/dist-packages)\u001b[0m\u001b[33m\n",
            "\u001b[0m\u001b[33mWARNING: Ignoring invalid distribution ~vidia-cudnn-cu12 (/usr/local/lib/python3.11/dist-packages)\u001b[0m\u001b[33m\n",
            "\u001b[0m\u001b[33mWARNING: Ignoring invalid distribution ~vidia-cudnn-cu12 (/usr/local/lib/python3.11/dist-packages)\u001b[0m\u001b[33m\n",
            "\u001b[0mSuccessfully installed bitsandbytes-0.45.5 nvidia-cudnn-cu12 nvidia-cusolver-cu12-11.6.1.9\n",
            "\u001b[33mWARNING: Ignoring invalid distribution ~vidia-cudnn-cu12 (/usr/local/lib/python3.11/dist-packages)\u001b[0m\u001b[33m\n",
            "\u001b[0m\u001b[33mWARNING: Ignoring invalid distribution ~vidia-cudnn-cu12 (/usr/local/lib/python3.11/dist-packages)\u001b[0m\u001b[33m\n",
            "\u001b[0mRequirement already satisfied: openai in /usr/local/lib/python3.11/dist-packages (1.76.0)\n",
            "Collecting openai\n",
            "  Downloading openai-1.76.2-py3-none-any.whl.metadata (25 kB)\n",
            "Requirement already satisfied: anyio<5,>=3.5.0 in /usr/local/lib/python3.11/dist-packages (from openai) (4.9.0)\n",
            "Requirement already satisfied: distro<2,>=1.7.0 in /usr/local/lib/python3.11/dist-packages (from openai) (1.9.0)\n",
            "Requirement already satisfied: httpx<1,>=0.23.0 in /usr/local/lib/python3.11/dist-packages (from openai) (0.28.1)\n",
            "Requirement already satisfied: jiter<1,>=0.4.0 in /usr/local/lib/python3.11/dist-packages (from openai) (0.9.0)\n",
            "Requirement already satisfied: pydantic<3,>=1.9.0 in /usr/local/lib/python3.11/dist-packages (from openai) (2.11.3)\n",
            "Requirement already satisfied: sniffio in /usr/local/lib/python3.11/dist-packages (from openai) (1.3.1)\n",
            "Requirement already satisfied: tqdm>4 in /usr/local/lib/python3.11/dist-packages (from openai) (4.67.1)\n",
            "Requirement already satisfied: typing-extensions<5,>=4.11 in /usr/local/lib/python3.11/dist-packages (from openai) (4.13.2)\n",
            "Requirement already satisfied: idna>=2.8 in /usr/local/lib/python3.11/dist-packages (from anyio<5,>=3.5.0->openai) (3.10)\n",
            "Requirement already satisfied: certifi in /usr/local/lib/python3.11/dist-packages (from httpx<1,>=0.23.0->openai) (2025.4.26)\n",
            "Requirement already satisfied: httpcore==1.* in /usr/local/lib/python3.11/dist-packages (from httpx<1,>=0.23.0->openai) (1.0.9)\n",
            "Requirement already satisfied: h11>=0.16 in /usr/local/lib/python3.11/dist-packages (from httpcore==1.*->httpx<1,>=0.23.0->openai) (0.16.0)\n",
            "Requirement already satisfied: annotated-types>=0.6.0 in /usr/local/lib/python3.11/dist-packages (from pydantic<3,>=1.9.0->openai) (0.7.0)\n",
            "Requirement already satisfied: pydantic-core==2.33.1 in /usr/local/lib/python3.11/dist-packages (from pydantic<3,>=1.9.0->openai) (2.33.1)\n",
            "Requirement already satisfied: typing-inspection>=0.4.0 in /usr/local/lib/python3.11/dist-packages (from pydantic<3,>=1.9.0->openai) (0.4.0)\n",
            "Downloading openai-1.76.2-py3-none-any.whl (661 kB)\n",
            "\u001b[2K   \u001b[90m━━━━━━━━━━━━━━━━━━━━━━━━━━━━━━━━━━━━━━━━\u001b[0m \u001b[32m661.3/661.3 kB\u001b[0m \u001b[31m10.5 MB/s\u001b[0m eta \u001b[36m0:00:00\u001b[0m\n",
            "\u001b[?25h\u001b[33mWARNING: Ignoring invalid distribution ~vidia-cudnn-cu12 (/usr/local/lib/python3.11/dist-packages)\u001b[0m\u001b[33m\n",
            "\u001b[0mInstalling collected packages: openai\n",
            "  Attempting uninstall: openai\n",
            "\u001b[33m    WARNING: Ignoring invalid distribution ~vidia-cudnn-cu12 (/usr/local/lib/python3.11/dist-packages)\u001b[0m\u001b[33m\n",
            "\u001b[0m    Found existing installation: openai 1.76.0\n",
            "    Uninstalling openai-1.76.0:\n",
            "      Successfully uninstalled openai-1.76.0\n",
            "\u001b[33mWARNING: Ignoring invalid distribution ~vidia-cudnn-cu12 (/usr/local/lib/python3.11/dist-packages)\u001b[0m\u001b[33m\n",
            "\u001b[0mSuccessfully installed openai-1.76.2\n",
            "\u001b[33mWARNING: Ignoring invalid distribution ~vidia-cudnn-cu12 (/usr/local/lib/python3.11/dist-packages)\u001b[0m\u001b[33m\n",
            "\u001b[0m\u001b[33mWARNING: Ignoring invalid distribution ~vidia-cudnn-cu12 (/usr/local/lib/python3.11/dist-packages)\u001b[0m\u001b[33m\n",
            "\u001b[0mCollecting htmlrag\n",
            "  Downloading htmlrag-0.1.1-py3-none-any.whl.metadata (9.0 kB)\n",
            "Requirement already satisfied: lxml in /usr/local/lib/python3.11/dist-packages (from htmlrag) (5.4.0)\n",
            "Collecting httpx-sse (from htmlrag)\n",
            "  Downloading httpx_sse-0.4.0-py3-none-any.whl.metadata (9.0 kB)\n",
            "Requirement already satisfied: torch in /usr/local/lib/python3.11/dist-packages (from htmlrag) (2.6.0+cu124)\n",
            "Collecting pydantic-settings (from htmlrag)\n",
            "  Downloading pydantic_settings-2.9.1-py3-none-any.whl.metadata (3.8 kB)\n",
            "Collecting bs4 (from htmlrag)\n",
            "  Downloading bs4-0.0.2-py2.py3-none-any.whl.metadata (411 bytes)\n",
            "Requirement already satisfied: transformers in /usr/local/lib/python3.11/dist-packages (from htmlrag) (4.51.3)\n",
            "Requirement already satisfied: sentence-transformers in /usr/local/lib/python3.11/dist-packages (from htmlrag) (3.4.1)\n",
            "Requirement already satisfied: numpy in /usr/local/lib/python3.11/dist-packages (from htmlrag) (2.0.2)\n",
            "Requirement already satisfied: langchain in /usr/local/lib/python3.11/dist-packages (from htmlrag) (0.3.24)\n",
            "Requirement already satisfied: langchain-core>=0.3.0 in /usr/local/lib/python3.11/dist-packages (from htmlrag) (0.3.56)\n",
            "Collecting langchain-huggingface (from htmlrag)\n",
            "  Downloading langchain_huggingface-0.1.2-py3-none-any.whl.metadata (1.3 kB)\n",
            "Collecting anytree (from htmlrag)\n",
            "  Downloading anytree-2.13.0-py3-none-any.whl.metadata (8.0 kB)\n",
            "Collecting langchain-community>=0.3.0 (from htmlrag)\n",
            "  Downloading langchain_community-0.3.23-py3-none-any.whl.metadata (2.5 kB)\n",
            "Collecting faiss-cpu (from htmlrag)\n",
            "  Downloading faiss_cpu-1.11.0-cp311-cp311-manylinux_2_28_x86_64.whl.metadata (4.8 kB)\n",
            "Requirement already satisfied: SQLAlchemy<3,>=1.4 in /usr/local/lib/python3.11/dist-packages (from langchain-community>=0.3.0->htmlrag) (2.0.40)\n",
            "Requirement already satisfied: requests<3,>=2 in /usr/local/lib/python3.11/dist-packages (from langchain-community>=0.3.0->htmlrag) (2.32.3)\n",
            "Requirement already satisfied: PyYAML>=5.3 in /usr/local/lib/python3.11/dist-packages (from langchain-community>=0.3.0->htmlrag) (6.0.2)\n",
            "Requirement already satisfied: aiohttp<4.0.0,>=3.8.3 in /usr/local/lib/python3.11/dist-packages (from langchain-community>=0.3.0->htmlrag) (3.11.15)\n",
            "Requirement already satisfied: tenacity!=8.4.0,<10,>=8.1.0 in /usr/local/lib/python3.11/dist-packages (from langchain-community>=0.3.0->htmlrag) (9.1.2)\n",
            "Collecting dataclasses-json<0.7,>=0.5.7 (from langchain-community>=0.3.0->htmlrag)\n",
            "  Downloading dataclasses_json-0.6.7-py3-none-any.whl.metadata (25 kB)\n",
            "Requirement already satisfied: langsmith<0.4,>=0.1.125 in /usr/local/lib/python3.11/dist-packages (from langchain-community>=0.3.0->htmlrag) (0.3.38)\n",
            "Requirement already satisfied: langchain-text-splitters<1.0.0,>=0.3.8 in /usr/local/lib/python3.11/dist-packages (from langchain->htmlrag) (0.3.8)\n",
            "Requirement already satisfied: pydantic<3.0.0,>=2.7.4 in /usr/local/lib/python3.11/dist-packages (from langchain->htmlrag) (2.11.3)\n",
            "Requirement already satisfied: jsonpatch<2.0,>=1.33 in /usr/local/lib/python3.11/dist-packages (from langchain-core>=0.3.0->htmlrag) (1.33)\n",
            "Requirement already satisfied: packaging<25,>=23.2 in /usr/local/lib/python3.11/dist-packages (from langchain-core>=0.3.0->htmlrag) (24.2)\n",
            "Requirement already satisfied: typing-extensions>=4.7 in /usr/local/lib/python3.11/dist-packages (from langchain-core>=0.3.0->htmlrag) (4.13.2)\n",
            "Collecting python-dotenv>=0.21.0 (from pydantic-settings->htmlrag)\n",
            "  Downloading python_dotenv-1.1.0-py3-none-any.whl.metadata (24 kB)\n",
            "Requirement already satisfied: typing-inspection>=0.4.0 in /usr/local/lib/python3.11/dist-packages (from pydantic-settings->htmlrag) (0.4.0)\n",
            "Requirement already satisfied: beautifulsoup4 in /usr/local/lib/python3.11/dist-packages (from bs4->htmlrag) (4.13.4)\n",
            "Requirement already satisfied: huggingface-hub>=0.23.0 in /usr/local/lib/python3.11/dist-packages (from langchain-huggingface->htmlrag) (0.30.2)\n",
            "Requirement already satisfied: tokenizers>=0.19.1 in /usr/local/lib/python3.11/dist-packages (from langchain-huggingface->htmlrag) (0.21.1)\n",
            "Requirement already satisfied: tqdm in /usr/local/lib/python3.11/dist-packages (from sentence-transformers->htmlrag) (4.67.1)\n",
            "Requirement already satisfied: scikit-learn in /usr/local/lib/python3.11/dist-packages (from sentence-transformers->htmlrag) (1.6.1)\n",
            "Requirement already satisfied: scipy in /usr/local/lib/python3.11/dist-packages (from sentence-transformers->htmlrag) (1.15.2)\n",
            "Requirement already satisfied: Pillow in /usr/local/lib/python3.11/dist-packages (from sentence-transformers->htmlrag) (11.2.1)\n",
            "Requirement already satisfied: filelock in /usr/local/lib/python3.11/dist-packages (from torch->htmlrag) (3.18.0)\n",
            "Requirement already satisfied: networkx in /usr/local/lib/python3.11/dist-packages (from torch->htmlrag) (3.4.2)\n",
            "Requirement already satisfied: jinja2 in /usr/local/lib/python3.11/dist-packages (from torch->htmlrag) (3.1.6)\n",
            "Requirement already satisfied: fsspec in /usr/local/lib/python3.11/dist-packages (from torch->htmlrag) (2025.3.2)\n",
            "Requirement already satisfied: nvidia-cuda-nvrtc-cu12==12.4.127 in /usr/local/lib/python3.11/dist-packages (from torch->htmlrag) (12.4.127)\n",
            "Requirement already satisfied: nvidia-cuda-runtime-cu12==12.4.127 in /usr/local/lib/python3.11/dist-packages (from torch->htmlrag) (12.4.127)\n",
            "Requirement already satisfied: nvidia-cuda-cupti-cu12==12.4.127 in /usr/local/lib/python3.11/dist-packages (from torch->htmlrag) (12.4.127)\n",
            "Collecting nvidia-cudnn-cu12==9.1.0.70 (from torch->htmlrag)\n",
            "  Using cached nvidia_cudnn_cu12-9.1.0.70-py3-none-manylinux2014_x86_64.whl.metadata (1.6 kB)\n",
            "Requirement already satisfied: nvidia-cublas-cu12==12.4.5.8 in /usr/local/lib/python3.11/dist-packages (from torch->htmlrag) (12.4.5.8)\n",
            "Requirement already satisfied: nvidia-cufft-cu12==11.2.1.3 in /usr/local/lib/python3.11/dist-packages (from torch->htmlrag) (11.2.1.3)\n",
            "Requirement already satisfied: nvidia-curand-cu12==10.3.5.147 in /usr/local/lib/python3.11/dist-packages (from torch->htmlrag) (10.3.5.147)\n",
            "Requirement already satisfied: nvidia-cusolver-cu12==11.6.1.9 in /usr/local/lib/python3.11/dist-packages (from torch->htmlrag) (11.6.1.9)\n",
            "Requirement already satisfied: nvidia-cusparse-cu12==12.3.1.170 in /usr/local/lib/python3.11/dist-packages (from torch->htmlrag) (12.3.1.170)\n",
            "Requirement already satisfied: nvidia-cusparselt-cu12==0.6.2 in /usr/local/lib/python3.11/dist-packages (from torch->htmlrag) (0.6.2)\n",
            "Requirement already satisfied: nvidia-nccl-cu12==2.21.5 in /usr/local/lib/python3.11/dist-packages (from torch->htmlrag) (2.21.5)\n",
            "Requirement already satisfied: nvidia-nvtx-cu12==12.4.127 in /usr/local/lib/python3.11/dist-packages (from torch->htmlrag) (12.4.127)\n",
            "Requirement already satisfied: nvidia-nvjitlink-cu12==12.4.127 in /usr/local/lib/python3.11/dist-packages (from torch->htmlrag) (12.4.127)\n",
            "Requirement already satisfied: triton==3.2.0 in /usr/local/lib/python3.11/dist-packages (from torch->htmlrag) (3.2.0)\n",
            "Requirement already satisfied: sympy==1.13.1 in /usr/local/lib/python3.11/dist-packages (from torch->htmlrag) (1.13.1)\n",
            "Requirement already satisfied: mpmath<1.4,>=1.1.0 in /usr/local/lib/python3.11/dist-packages (from sympy==1.13.1->torch->htmlrag) (1.3.0)\n",
            "Requirement already satisfied: regex!=2019.12.17 in /usr/local/lib/python3.11/dist-packages (from transformers->htmlrag) (2024.11.6)\n",
            "Requirement already satisfied: safetensors>=0.4.3 in /usr/local/lib/python3.11/dist-packages (from transformers->htmlrag) (0.5.3)\n",
            "Requirement already satisfied: aiohappyeyeballs>=2.3.0 in /usr/local/lib/python3.11/dist-packages (from aiohttp<4.0.0,>=3.8.3->langchain-community>=0.3.0->htmlrag) (2.6.1)\n",
            "Requirement already satisfied: aiosignal>=1.1.2 in /usr/local/lib/python3.11/dist-packages (from aiohttp<4.0.0,>=3.8.3->langchain-community>=0.3.0->htmlrag) (1.3.2)\n",
            "Requirement already satisfied: attrs>=17.3.0 in /usr/local/lib/python3.11/dist-packages (from aiohttp<4.0.0,>=3.8.3->langchain-community>=0.3.0->htmlrag) (25.3.0)\n",
            "Requirement already satisfied: frozenlist>=1.1.1 in /usr/local/lib/python3.11/dist-packages (from aiohttp<4.0.0,>=3.8.3->langchain-community>=0.3.0->htmlrag) (1.6.0)\n",
            "Requirement already satisfied: multidict<7.0,>=4.5 in /usr/local/lib/python3.11/dist-packages (from aiohttp<4.0.0,>=3.8.3->langchain-community>=0.3.0->htmlrag) (6.4.3)\n",
            "Requirement already satisfied: propcache>=0.2.0 in /usr/local/lib/python3.11/dist-packages (from aiohttp<4.0.0,>=3.8.3->langchain-community>=0.3.0->htmlrag) (0.3.1)\n",
            "Requirement already satisfied: yarl<2.0,>=1.17.0 in /usr/local/lib/python3.11/dist-packages (from aiohttp<4.0.0,>=3.8.3->langchain-community>=0.3.0->htmlrag) (1.20.0)\n",
            "Collecting marshmallow<4.0.0,>=3.18.0 (from dataclasses-json<0.7,>=0.5.7->langchain-community>=0.3.0->htmlrag)\n",
            "  Downloading marshmallow-3.26.1-py3-none-any.whl.metadata (7.3 kB)\n",
            "Collecting typing-inspect<1,>=0.4.0 (from dataclasses-json<0.7,>=0.5.7->langchain-community>=0.3.0->htmlrag)\n",
            "  Downloading typing_inspect-0.9.0-py3-none-any.whl.metadata (1.5 kB)\n",
            "Requirement already satisfied: jsonpointer>=1.9 in /usr/local/lib/python3.11/dist-packages (from jsonpatch<2.0,>=1.33->langchain-core>=0.3.0->htmlrag) (3.0.0)\n",
            "Requirement already satisfied: httpx<1,>=0.23.0 in /usr/local/lib/python3.11/dist-packages (from langsmith<0.4,>=0.1.125->langchain-community>=0.3.0->htmlrag) (0.28.1)\n",
            "Requirement already satisfied: orjson<4.0.0,>=3.9.14 in /usr/local/lib/python3.11/dist-packages (from langsmith<0.4,>=0.1.125->langchain-community>=0.3.0->htmlrag) (3.10.17)\n",
            "Requirement already satisfied: requests-toolbelt<2.0.0,>=1.0.0 in /usr/local/lib/python3.11/dist-packages (from langsmith<0.4,>=0.1.125->langchain-community>=0.3.0->htmlrag) (1.0.0)\n",
            "Requirement already satisfied: zstandard<0.24.0,>=0.23.0 in /usr/local/lib/python3.11/dist-packages (from langsmith<0.4,>=0.1.125->langchain-community>=0.3.0->htmlrag) (0.23.0)\n",
            "Requirement already satisfied: annotated-types>=0.6.0 in /usr/local/lib/python3.11/dist-packages (from pydantic<3.0.0,>=2.7.4->langchain->htmlrag) (0.7.0)\n",
            "Requirement already satisfied: pydantic-core==2.33.1 in /usr/local/lib/python3.11/dist-packages (from pydantic<3.0.0,>=2.7.4->langchain->htmlrag) (2.33.1)\n",
            "Requirement already satisfied: charset-normalizer<4,>=2 in /usr/local/lib/python3.11/dist-packages (from requests<3,>=2->langchain-community>=0.3.0->htmlrag) (3.4.1)\n",
            "Requirement already satisfied: idna<4,>=2.5 in /usr/local/lib/python3.11/dist-packages (from requests<3,>=2->langchain-community>=0.3.0->htmlrag) (3.10)\n",
            "Requirement already satisfied: urllib3<3,>=1.21.1 in /usr/local/lib/python3.11/dist-packages (from requests<3,>=2->langchain-community>=0.3.0->htmlrag) (2.4.0)\n",
            "Requirement already satisfied: certifi>=2017.4.17 in /usr/local/lib/python3.11/dist-packages (from requests<3,>=2->langchain-community>=0.3.0->htmlrag) (2025.4.26)\n",
            "Requirement already satisfied: greenlet>=1 in /usr/local/lib/python3.11/dist-packages (from SQLAlchemy<3,>=1.4->langchain-community>=0.3.0->htmlrag) (3.2.1)\n",
            "Requirement already satisfied: soupsieve>1.2 in /usr/local/lib/python3.11/dist-packages (from beautifulsoup4->bs4->htmlrag) (2.7)\n",
            "Requirement already satisfied: MarkupSafe>=2.0 in /usr/local/lib/python3.11/dist-packages (from jinja2->torch->htmlrag) (3.0.2)\n",
            "Requirement already satisfied: joblib>=1.2.0 in /usr/local/lib/python3.11/dist-packages (from scikit-learn->sentence-transformers->htmlrag) (1.4.2)\n",
            "Requirement already satisfied: threadpoolctl>=3.1.0 in /usr/local/lib/python3.11/dist-packages (from scikit-learn->sentence-transformers->htmlrag) (3.6.0)\n",
            "Requirement already satisfied: anyio in /usr/local/lib/python3.11/dist-packages (from httpx<1,>=0.23.0->langsmith<0.4,>=0.1.125->langchain-community>=0.3.0->htmlrag) (4.9.0)\n",
            "Requirement already satisfied: httpcore==1.* in /usr/local/lib/python3.11/dist-packages (from httpx<1,>=0.23.0->langsmith<0.4,>=0.1.125->langchain-community>=0.3.0->htmlrag) (1.0.9)\n",
            "Requirement already satisfied: h11>=0.16 in /usr/local/lib/python3.11/dist-packages (from httpcore==1.*->httpx<1,>=0.23.0->langsmith<0.4,>=0.1.125->langchain-community>=0.3.0->htmlrag) (0.16.0)\n",
            "Collecting mypy-extensions>=0.3.0 (from typing-inspect<1,>=0.4.0->dataclasses-json<0.7,>=0.5.7->langchain-community>=0.3.0->htmlrag)\n",
            "  Downloading mypy_extensions-1.1.0-py3-none-any.whl.metadata (1.1 kB)\n",
            "Requirement already satisfied: sniffio>=1.1 in /usr/local/lib/python3.11/dist-packages (from anyio->httpx<1,>=0.23.0->langsmith<0.4,>=0.1.125->langchain-community>=0.3.0->htmlrag) (1.3.1)\n",
            "Downloading htmlrag-0.1.1-py3-none-any.whl (12 kB)\n",
            "Downloading langchain_community-0.3.23-py3-none-any.whl (2.5 MB)\n",
            "\u001b[2K   \u001b[90m━━━━━━━━━━━━━━━━━━━━━━━━━━━━━━━━━━━━━━━━\u001b[0m \u001b[32m2.5/2.5 MB\u001b[0m \u001b[31m34.9 MB/s\u001b[0m eta \u001b[36m0:00:00\u001b[0m\n",
            "\u001b[?25hDownloading httpx_sse-0.4.0-py3-none-any.whl (7.8 kB)\n",
            "Downloading pydantic_settings-2.9.1-py3-none-any.whl (44 kB)\n",
            "\u001b[2K   \u001b[90m━━━━━━━━━━━━━━━━━━━━━━━━━━━━━━━━━━━━━━━━\u001b[0m \u001b[32m44.4/44.4 kB\u001b[0m \u001b[31m4.0 MB/s\u001b[0m eta \u001b[36m0:00:00\u001b[0m\n",
            "\u001b[?25hDownloading anytree-2.13.0-py3-none-any.whl (45 kB)\n",
            "\u001b[2K   \u001b[90m━━━━━━━━━━━━━━━━━━━━━━━━━━━━━━━━━━━━━━━━\u001b[0m \u001b[32m45.1/45.1 kB\u001b[0m \u001b[31m4.1 MB/s\u001b[0m eta \u001b[36m0:00:00\u001b[0m\n",
            "\u001b[?25hDownloading bs4-0.0.2-py2.py3-none-any.whl (1.2 kB)\n",
            "Downloading faiss_cpu-1.11.0-cp311-cp311-manylinux_2_28_x86_64.whl (31.3 MB)\n",
            "\u001b[2K   \u001b[90m━━━━━━━━━━━━━━━━━━━━━━━━━━━━━━━━━━━━━━━━\u001b[0m \u001b[32m31.3/31.3 MB\u001b[0m \u001b[31m77.9 MB/s\u001b[0m eta \u001b[36m0:00:00\u001b[0m\n",
            "\u001b[?25hDownloading langchain_huggingface-0.1.2-py3-none-any.whl (21 kB)\n",
            "Using cached nvidia_cudnn_cu12-9.1.0.70-py3-none-manylinux2014_x86_64.whl (664.8 MB)\n",
            "Downloading dataclasses_json-0.6.7-py3-none-any.whl (28 kB)\n",
            "Downloading python_dotenv-1.1.0-py3-none-any.whl (20 kB)\n",
            "Downloading marshmallow-3.26.1-py3-none-any.whl (50 kB)\n",
            "\u001b[2K   \u001b[90m━━━━━━━━━━━━━━━━━━━━━━━━━━━━━━━━━━━━━━━━\u001b[0m \u001b[32m50.9/50.9 kB\u001b[0m \u001b[31m4.9 MB/s\u001b[0m eta \u001b[36m0:00:00\u001b[0m\n",
            "\u001b[?25hDownloading typing_inspect-0.9.0-py3-none-any.whl (8.8 kB)\n",
            "Downloading mypy_extensions-1.1.0-py3-none-any.whl (5.0 kB)\n",
            "\u001b[33mWARNING: Ignoring invalid distribution ~vidia-cudnn-cu12 (/usr/local/lib/python3.11/dist-packages)\u001b[0m\u001b[33m\n",
            "\u001b[0mInstalling collected packages: python-dotenv, nvidia-cudnn-cu12, mypy-extensions, marshmallow, httpx-sse, faiss-cpu, anytree, typing-inspect, bs4, pydantic-settings, dataclasses-json, langchain-huggingface, langchain-community, htmlrag\n",
            "\u001b[33mWARNING: Ignoring invalid distribution ~vidia-cudnn-cu12 (/usr/local/lib/python3.11/dist-packages)\u001b[0m\u001b[33m\n",
            "\u001b[0m\u001b[33mWARNING: Ignoring invalid distribution ~vidia-cudnn-cu12 (/usr/local/lib/python3.11/dist-packages)\u001b[0m\u001b[33m\n",
            "\u001b[0m\u001b[33mWARNING: Ignoring invalid distribution ~vidia-cudnn-cu12 (/usr/local/lib/python3.11/dist-packages)\u001b[0m\u001b[33m\n",
            "\u001b[0m\u001b[33mWARNING: Ignoring invalid distribution ~vidia-cudnn-cu12 (/usr/local/lib/python3.11/dist-packages)\u001b[0m\u001b[33m\n",
            "\u001b[0m\u001b[33mWARNING: Ignoring invalid distribution ~vidia-cudnn-cu12 (/usr/local/lib/python3.11/dist-packages)\u001b[0m\u001b[33m\n",
            "\u001b[0m\u001b[33mWARNING: Ignoring invalid distribution ~vidia-cudnn-cu12 (/usr/local/lib/python3.11/dist-packages)\u001b[0m\u001b[33m\n",
            "\u001b[0m\u001b[33mWARNING: Ignoring invalid distribution ~vidia-cudnn-cu12 (/usr/local/lib/python3.11/dist-packages)\u001b[0m\u001b[33m\n",
            "\u001b[0m\u001b[33mWARNING: Ignoring invalid distribution ~vidia-cudnn-cu12 (/usr/local/lib/python3.11/dist-packages)\u001b[0m\u001b[33m\n",
            "\u001b[0m\u001b[33mWARNING: Ignoring invalid distribution ~vidia-cudnn-cu12 (/usr/local/lib/python3.11/dist-packages)\u001b[0m\u001b[33m\n",
            "\u001b[0m\u001b[33mWARNING: Ignoring invalid distribution ~vidia-cudnn-cu12 (/usr/local/lib/python3.11/dist-packages)\u001b[0m\u001b[33m\n",
            "\u001b[0m\u001b[33mWARNING: Ignoring invalid distribution ~vidia-cudnn-cu12 (/usr/local/lib/python3.11/dist-packages)\u001b[0m\u001b[33m\n",
            "\u001b[0m\u001b[33mWARNING: Ignoring invalid distribution ~vidia-cudnn-cu12 (/usr/local/lib/python3.11/dist-packages)\u001b[0m\u001b[33m\n",
            "\u001b[0m\u001b[33mWARNING: Ignoring invalid distribution ~vidia-cudnn-cu12 (/usr/local/lib/python3.11/dist-packages)\u001b[0m\u001b[33m\n",
            "\u001b[0m\u001b[33mWARNING: Ignoring invalid distribution ~vidia-cudnn-cu12 (/usr/local/lib/python3.11/dist-packages)\u001b[0m\u001b[33m\n",
            "\u001b[0mSuccessfully installed anytree-2.13.0 bs4-0.0.2 dataclasses-json-0.6.7 faiss-cpu-1.11.0 htmlrag-0.1.1 httpx-sse-0.4.0 langchain-community-0.3.23 langchain-huggingface-0.1.2 marshmallow-3.26.1 mypy-extensions-1.1.0 nvidia-cudnn-cu12 pydantic-settings-2.9.1 python-dotenv-1.1.0 typing-inspect-0.9.0\n"
          ]
        }
      ],
      "source": [
        "!pip install --upgrade transformers\n",
        "!pip install google-colab-selenium\n",
        "!pip install bitsandbytes\n",
        "!pip install -U openai\n",
        "!pip install htmlrag"
      ]
    },
    {
      "cell_type": "code",
      "source": [
        "!git clone https://github.com/Uminchu618/lecture-ai-engineering.git"
      ],
      "metadata": {
        "colab": {
          "base_uri": "https://localhost:8080/"
        },
        "id": "MsyYC1n29MC2",
        "outputId": "3815e11a-a27d-43b3-f286-d59bef7b1cd6"
      },
      "id": "MsyYC1n29MC2",
      "execution_count": 2,
      "outputs": [
        {
          "output_type": "stream",
          "name": "stdout",
          "text": [
            "Cloning into 'lecture-ai-engineering'...\n",
            "remote: Enumerating objects: 114, done.\u001b[K\n",
            "remote: Counting objects: 100% (52/52), done.\u001b[K\n",
            "remote: Compressing objects: 100% (39/39), done.\u001b[K\n",
            "remote: Total 114 (delta 31), reused 26 (delta 13), pack-reused 62 (from 1)\u001b[K\n",
            "Receiving objects: 100% (114/114), 570.45 KiB | 4.53 MiB/s, done.\n",
            "Resolving deltas: 100% (46/46), done.\n"
          ]
        }
      ]
    },
    {
      "cell_type": "code",
      "source": [
        "import warnings\n",
        "warnings.filterwarnings('ignore')"
      ],
      "metadata": {
        "id": "qWZIgGeIxZL4"
      },
      "id": "qWZIgGeIxZL4",
      "execution_count": 3,
      "outputs": []
    },
    {
      "cell_type": "code",
      "source": [
        "# HuggingFace Login\n",
        "from google.colab import userdata\n",
        "from huggingface_hub import login\n",
        "\n",
        "login(token=userdata.get('HUGGINGFACE_HUB_TOKEN'))"
      ],
      "metadata": {
        "id": "FaJ3_-cu-o2S"
      },
      "id": "FaJ3_-cu-o2S",
      "execution_count": 4,
      "outputs": []
    },
    {
      "cell_type": "code",
      "source": [
        "# CUDAが利用可能ならGPUを、それ以外ならCPUをデバイスとして設定\n",
        "import torch\n",
        "device = torch.device(\"cuda\" if torch.cuda.is_available() else \"cpu\")"
      ],
      "metadata": {
        "id": "R-APOVBR-up_"
      },
      "id": "R-APOVBR-up_",
      "execution_count": 5,
      "outputs": []
    },
    {
      "cell_type": "code",
      "source": [
        "import random\n",
        "random.seed(0)"
      ],
      "metadata": {
        "id": "CvKSgnrF-xal"
      },
      "id": "CvKSgnrF-xal",
      "execution_count": 6,
      "outputs": []
    },
    {
      "cell_type": "code",
      "source": [
        "# モデル(Llama3)の読み込み\n",
        "\n",
        "from transformers import AutoModelForCausalLM, AutoTokenizer, BitsAndBytesConfig\n",
        "\n",
        "model_name = \"meta-llama/Meta-Llama-3-8B-Instruct\"\n",
        "tokenizer = AutoTokenizer.from_pretrained(model_name)\n",
        "\n",
        "bnb_config = BitsAndBytesConfig(\n",
        "    load_in_4bit=True,\n",
        "    bnb_4bit_compute_dtype=torch.float16,\n",
        "    bnb_4bit_quant_type=\"nf4\",\n",
        "    bnb_4bit_use_double_quant=False,\n",
        ")\n",
        "\n",
        "model = AutoModelForCausalLM.from_pretrained(\n",
        "            model_name,\n",
        "            device_map=\"auto\",\n",
        "            quantization_config=bnb_config,\n",
        "            torch_dtype=torch.bfloat16,\n",
        "        )"
      ],
      "metadata": {
        "colab": {
          "base_uri": "https://localhost:8080/",
          "height": 513,
          "referenced_widgets": [
            "cc88c7e318ac4d619760c4f5cabc9009",
            "e27b2aa116624872ad3eabc035c8e2ca",
            "dfcfbc90a6f749aea3f02e1343b474c7",
            "a2c8a9b5da964c03bc6e4660eeb75f3a",
            "6192a280745049749610d906fe64a783",
            "43e5dfd7f2974c459a999a523897a31e",
            "9f75b417b1d94c2ea496e2400ad36565",
            "b7ab28bb0cfe4777baa87614eae245e4",
            "edb7dc0812314c91a43e5df4995329e5",
            "5b6ffefc9ce7447e88e6ffa01566f1ba",
            "ab5e810fd8284968a7c40f70f056cfc2",
            "a93172ed994f4cc7aff274d00dd91ef1",
            "f6cbd6ae9265406e8a3643ad28c26cb7",
            "ba7b7b7de4334f48ad1bb0d0599a0e2b",
            "75b38c338c6344e8972c5afe9c1b41d7",
            "1c2b9ed81bca468a8e35c2a94e1ace09",
            "71be7fc9de4e487daa2179d322f40d3d",
            "c8283d5aaf644847b990a2ef50c1119f",
            "bfdfbce27c044f539e6518bb3e19eaf7",
            "ac63eeab9e794c98abe0c007285fd69a",
            "4281ad7bf8bd4918a924114f32879fb4",
            "95793e73dca645e3a441bbe49c6a3f8c",
            "41ceedc83f3843a89e51fdfc6ddf4c7c",
            "20defc2d4ef84349853a8dad685ecb39",
            "4dc9808799af494fa9e44be36034e978",
            "5f89bdd1895a4f2ebe06a5128d1ffa0d",
            "6705b929ff3c401186aebb98ff3863d8",
            "0f92ccbe85c34cfcba6b083b2dfe9fa7",
            "42b273031fdc4156b0916b69d3dd2c35",
            "fe3068b0e7cc4b859f19711ee55b055e",
            "bef1799b1b38480eb16838e58c0ae2ab",
            "8492982850054298a9fb0a7228f81960",
            "a3bbf9481eac4b57b6ce3e9fa76bede4",
            "9fdc7cd5a32749c28c4f45194bce32a2",
            "6bfbcef065504b8db3c99fce0b9b077a",
            "cb6aebfe0af44552b01e2f2dd539d378",
            "de9d621135cf4b3c8c1d7b06ae0f302d",
            "3d25d7dde3694ab2a62d80abdd89a2e2",
            "ebaaa7ac2b0c41aeaebe47d15035887d",
            "0145c657dacf4e3ba89212c317c921de",
            "feffd28be7ec4faa865e00d053e4fc5b",
            "aba639caf65e437c9262c95689b5885f",
            "6287cadacca24289bfd979449e5699b9",
            "2010b28a7993419b8dca4fac5c4cfdd2",
            "697da36d63284cadbe4eb6221d081701",
            "2a9a834c887b45bda4b3419176f19799",
            "237db70217cb479491e9059307651928",
            "2f26bc04268a4b5398ac600b75e05792",
            "9060966a410141ef93da5c70d86f8444",
            "a41503b52825429286aeacea4f97ce89",
            "661326379e3c4ed68d970cff12894879",
            "8eaf488dad8a47b380a89136813e4b51",
            "086ad19767414cabbbbc0c1802c2b9fa",
            "7d1c13aa831047d3ad1d0bd1ac5b98cc",
            "b858800ba12f4d8a83d36c286004da83",
            "1da3516ba16f4948bb0418fa3795e2a1",
            "abf6ab401fc04df3a0ac7b5c3c0ee2ec",
            "1746a0187dd047519ce972521afd3186",
            "7e6c486d6cff4270997d3708fb7c6372",
            "a87fc13680a1497f9a4369ede4c4380d",
            "a93fbfe9f3cf4788a3ad6d64b6f90eae",
            "eeb754b9b96d463099c4329dd74518df",
            "74a058512b1740589a6c4045237b7e93",
            "3d01bc110cf34da39d1dec9145833f32",
            "4cb405a70884498a8972cdaff0f8b461",
            "f743d8a8b96146a0aef65b02b7ab3a68",
            "eaa6abc72ef443c1b369215e1aab29c6",
            "904b31275a5b472287cc249663be3f41",
            "40bc94289449475f9c3ce5d1b2c1e336",
            "b4bef1ea1a514331b4f92fa7d9e75c3b",
            "4a479a8c5a5c4b4cade0d82d73994df9",
            "937892cc9dae4d97b0419edf77b12dea",
            "29af48cf093e4c4883c760593c13e8ff",
            "ca2a1917e0794e5da4c6688029863709",
            "771481c628a34d5b998bcbe23a7eba1e",
            "854eada2efbd46a5bc2ca62efdbd4502",
            "3c5ff89403eb46539fd964db45d708e8",
            "acf8e3df48aa466da49b94f266aa155a",
            "027f5ba798e741378ec893e830a547cf",
            "ad02581a1fc8411e896d196f275733bf",
            "9c4790c33da845d28f7d03875552808e",
            "410c5f7802ae4090aaf24a0d540bdb0c",
            "bb3550c2b1594af1af2630ce21c69d4b",
            "d18474a0507f4662b5dbbce0788e9d01",
            "b236ffc889924f99bbe2a68d2ae46b53",
            "127ec642ca264b3496b53d5efb5951d9",
            "71f7ca1ebe1e4d55a1446f559e506adb",
            "cdb93fd8f10347159d1c912413f4994e",
            "126203a20dbc4cc8bd43923f20ba7660",
            "8a8226facd154f86b6c5a9bd8895272f",
            "28087da180964aeea21d07343a5b8987",
            "56c6c6e81cc24dffaed12d7298e9cef9",
            "56fb168ee54f4ae4b5458bf1e6f70849",
            "42205b040746498e834b27daca36157b",
            "46887ad462c643258d979a8daa235f02",
            "686c75c63a3140249d14c952984eb197",
            "aff88e534ab54b05b5cfcde68813fae3",
            "c103ef3a1786458e95e54b3c8d00fb02",
            "f7f471e4d7e34ca186ea44e2e2f1db8c",
            "a328d280572a4e578ca0900f6e5cf29c",
            "b4f52b859c474277acae8f1bd507a558",
            "eede0ff95f2447bba53cc658a985ae43",
            "5e56318a66e34f09872feec2b862ae61",
            "8465adeed22b4b14addc0e4feb8d3c34",
            "8b63e7a2e74b41c29aecf4c28d7d6e9f",
            "8ad5c293cf29400b800e52d4a75233c8",
            "d2d694d255f844b9b1c1695bb0a1efd4",
            "a329af2808874b2c80ccbe071ee85758",
            "9b61ae83bb544e75b8f97d805664f128",
            "a6c3796fe0fa406dbe4dcd74a16a7b78",
            "60ca3949842f47338e8a233ceb1729a0",
            "96d97fb5406245e592d64107a8468c54",
            "bfef79b4412f4de1b7ebf5296619f990",
            "4c5c1033e29f4b3382140f84e18b208d",
            "1812bf1137d24902a7b3a327fbdf07c4",
            "95852c4e2b864a668edb8d89c8111027",
            "1d454581df7342f6b27c443a45a33b3b",
            "15f423086d0a44c8b5da37b2d820a5c3",
            "b24563a9f7fa4c96b41d3326fc6493ae",
            "e3fc953061fc4f2f8ab5eb03b29ef959",
            "e03f8f761f3a4bcba4cd6a82c01ce61a",
            "3ddd87fda3d54d4781969c53f309b718",
            "922ef6bfbb644dfeb5e9a62d3d757ddb",
            "5d0906fb1f1c40c7badaa0b085d1ede1",
            "d425b63a349444809a4475e7e9994c03",
            "15c9bbf1833f46a7b31058dd3d6f6965",
            "139390dbbe504716bbe845e971456834",
            "00a0b7e2f07140889d8c58469f9e4970",
            "5b16cf9f6e2243c5999f924d1093b5e6",
            "8dee3f8315934467874097d950aaa025",
            "8b1e6499021c4594963d6d3a0821c00b",
            "3d670e19d46640478ce846cc0806bc2b"
          ]
        },
        "id": "yKIlmIvP-1GY",
        "outputId": "2d2c56de-679b-45f7-9a0c-595285436521"
      },
      "id": "yKIlmIvP-1GY",
      "execution_count": 7,
      "outputs": [
        {
          "output_type": "display_data",
          "data": {
            "text/plain": [
              "tokenizer_config.json:   0%|          | 0.00/51.0k [00:00<?, ?B/s]"
            ],
            "application/vnd.jupyter.widget-view+json": {
              "version_major": 2,
              "version_minor": 0,
              "model_id": "cc88c7e318ac4d619760c4f5cabc9009"
            }
          },
          "metadata": {}
        },
        {
          "output_type": "display_data",
          "data": {
            "text/plain": [
              "tokenizer.json:   0%|          | 0.00/9.09M [00:00<?, ?B/s]"
            ],
            "application/vnd.jupyter.widget-view+json": {
              "version_major": 2,
              "version_minor": 0,
              "model_id": "a93172ed994f4cc7aff274d00dd91ef1"
            }
          },
          "metadata": {}
        },
        {
          "output_type": "display_data",
          "data": {
            "text/plain": [
              "special_tokens_map.json:   0%|          | 0.00/73.0 [00:00<?, ?B/s]"
            ],
            "application/vnd.jupyter.widget-view+json": {
              "version_major": 2,
              "version_minor": 0,
              "model_id": "41ceedc83f3843a89e51fdfc6ddf4c7c"
            }
          },
          "metadata": {}
        },
        {
          "output_type": "display_data",
          "data": {
            "text/plain": [
              "config.json:   0%|          | 0.00/654 [00:00<?, ?B/s]"
            ],
            "application/vnd.jupyter.widget-view+json": {
              "version_major": 2,
              "version_minor": 0,
              "model_id": "9fdc7cd5a32749c28c4f45194bce32a2"
            }
          },
          "metadata": {}
        },
        {
          "output_type": "display_data",
          "data": {
            "text/plain": [
              "model.safetensors.index.json:   0%|          | 0.00/23.9k [00:00<?, ?B/s]"
            ],
            "application/vnd.jupyter.widget-view+json": {
              "version_major": 2,
              "version_minor": 0,
              "model_id": "697da36d63284cadbe4eb6221d081701"
            }
          },
          "metadata": {}
        },
        {
          "output_type": "display_data",
          "data": {
            "text/plain": [
              "Fetching 4 files:   0%|          | 0/4 [00:00<?, ?it/s]"
            ],
            "application/vnd.jupyter.widget-view+json": {
              "version_major": 2,
              "version_minor": 0,
              "model_id": "1da3516ba16f4948bb0418fa3795e2a1"
            }
          },
          "metadata": {}
        },
        {
          "output_type": "display_data",
          "data": {
            "text/plain": [
              "model-00002-of-00004.safetensors:   0%|          | 0.00/5.00G [00:00<?, ?B/s]"
            ],
            "application/vnd.jupyter.widget-view+json": {
              "version_major": 2,
              "version_minor": 0,
              "model_id": "eaa6abc72ef443c1b369215e1aab29c6"
            }
          },
          "metadata": {}
        },
        {
          "output_type": "display_data",
          "data": {
            "text/plain": [
              "model-00004-of-00004.safetensors:   0%|          | 0.00/1.17G [00:00<?, ?B/s]"
            ],
            "application/vnd.jupyter.widget-view+json": {
              "version_major": 2,
              "version_minor": 0,
              "model_id": "acf8e3df48aa466da49b94f266aa155a"
            }
          },
          "metadata": {}
        },
        {
          "output_type": "display_data",
          "data": {
            "text/plain": [
              "model-00003-of-00004.safetensors:   0%|          | 0.00/4.92G [00:00<?, ?B/s]"
            ],
            "application/vnd.jupyter.widget-view+json": {
              "version_major": 2,
              "version_minor": 0,
              "model_id": "126203a20dbc4cc8bd43923f20ba7660"
            }
          },
          "metadata": {}
        },
        {
          "output_type": "display_data",
          "data": {
            "text/plain": [
              "model-00001-of-00004.safetensors:   0%|          | 0.00/4.98G [00:00<?, ?B/s]"
            ],
            "application/vnd.jupyter.widget-view+json": {
              "version_major": 2,
              "version_minor": 0,
              "model_id": "a328d280572a4e578ca0900f6e5cf29c"
            }
          },
          "metadata": {}
        },
        {
          "output_type": "display_data",
          "data": {
            "text/plain": [
              "Loading checkpoint shards:   0%|          | 0/4 [00:00<?, ?it/s]"
            ],
            "application/vnd.jupyter.widget-view+json": {
              "version_major": 2,
              "version_minor": 0,
              "model_id": "60ca3949842f47338e8a233ceb1729a0"
            }
          },
          "metadata": {}
        },
        {
          "output_type": "display_data",
          "data": {
            "text/plain": [
              "generation_config.json:   0%|          | 0.00/187 [00:00<?, ?B/s]"
            ],
            "application/vnd.jupyter.widget-view+json": {
              "version_major": 2,
              "version_minor": 0,
              "model_id": "3ddd87fda3d54d4781969c53f309b718"
            }
          },
          "metadata": {}
        }
      ]
    },
    {
      "cell_type": "code",
      "source": [
        "# 質問のリスト\n",
        "questions = [\n",
        "    \"すでに構築したクラウド環境を IaC に変換する機能はありますか？\",\n",
        "    \"大量の機械学習トレーニングデータはどこに保管すべきですか？その理由も含めて説明してください。\",\n",
        "    \"SageMakerのトレーニングジョブが S3 にアクセスするには IAM ユーザーが必要ですか？\",\n",
        "    \"SageMakerのトレーニング費用を抑える方法はありますか？\",\n",
        "    \"Notebook Instance と SageMaker Studio はどう使い分けるべきですか？\",\n",
        "    \"BedrockでDeepSeek-R1を使った場合、どのくらいの推論コストがかかりますか？\"\n",
        "]\n",
        "\n",
        "# 回答のリスト\n",
        "answers = [\n",
        "    \"はい。AWS CloudFormation の IaC ジェネレーター機能では、既存リソースからテンプレートを生成することができます。Terraform でも `terraform import` コマンドを使い、状態ファイルに既存リソースを登録できます。\",\n",
        "    \"Amazon S3 が推奨です。オブジェクトを自動で冗長化し、11 ナイン (99.999999999 %) の耐久性を提供します。データレイクや SageMaker とネイティブ統合され、ペタバイト級でもスケールを意識せずに利用できます。S3 イベントで Lambda を呼び出せば、取込直後の前処理やメタデータ登録も自動化できます。\",\n",
        "    \"IAM ユーザーは不要です。SageMaker には **IAM 実行ロール** を付与し、そのロールに `s3:*` など必要なポリシーをアタッチします。ジョブ実行時、SageMaker はこのロールを引き受けて S3 や CloudWatch などのサービス API を呼び出します。\",\n",
        "    \"Amazon SageMaker **Managed Spot Training** を有効にすると、オンデマンド比で最大 90 % のコスト削減が可能です。Spot 中断に備えてチェックポイントを S3 に保存する仕組みがあり、再開時に自動で引き継げます。学習時間よりコスト優先のワークロードで効果が高いベストプラクティスです。\",\n",
        "    \"Studio Classic ノートブックは起動が Notebook Instance より 5–10 倍速く、インスタンス種別もブラウザから即変更できます。Notebook Instance はシングルユーザーで完全に分離した環境が欲しい場合や、従来の CLI/SDK 手順を重視するケースに向きます。いずれも従量課金ですが、Studio はアイドル状態の EFS ストレージ料金、Instance は EC2 実行料金の最小化がポイントです。\",\n",
        "    \"1,000 入力トークンあたりの料金は 0.00135 USD、1,000 出力トークンあたりの料金は 0.0054 USDです。これは、他のオープンモデル（Llama 3.3 など）に対して比較的高い料金となっています。\"\n",
        "]\n"
      ],
      "metadata": {
        "id": "GxyEIz8T_XUJ"
      },
      "id": "GxyEIz8T_XUJ",
      "execution_count": 8,
      "outputs": []
    },
    {
      "cell_type": "code",
      "source": [
        "def generate_output(query, system_prompt=None):\n",
        "  if system_prompt is None:\n",
        "    messages = [\n",
        "        {\"role\": \"user\", \"content\": query},\n",
        "    ]\n",
        "  else:\n",
        "    messages = [\n",
        "        {\"role\": \"system\", \"content\": system_prompt},\n",
        "        {\"role\": \"user\", \"content\": query},\n",
        "    ]\n",
        "  input_ids = tokenizer.apply_chat_template(\n",
        "      messages,\n",
        "      add_generation_prompt=True,\n",
        "      return_tensors=\"pt\"\n",
        "  ).to(model.device)\n",
        "\n",
        "  terminators = [\n",
        "      tokenizer.eos_token_id,\n",
        "      tokenizer.convert_tokens_to_ids(\"<|eot_id|>\")\n",
        "  ]\n",
        "\n",
        "  outputs = model.generate(\n",
        "      input_ids,\n",
        "      max_new_tokens=256,\n",
        "      eos_token_id=terminators,\n",
        "      do_sample=False,\n",
        "      # temperature=0.6, # If do_sample=True\n",
        "      # top_p=0.9,  # If do_sample=True\n",
        "  )\n",
        "\n",
        "  response = outputs[0][input_ids.shape[-1]:]\n",
        "  return tokenizer.decode(response, skip_special_tokens=True)"
      ],
      "metadata": {
        "id": "rYeHsv2P_8-H"
      },
      "id": "rYeHsv2P_8-H",
      "execution_count": 9,
      "outputs": []
    },
    {
      "cell_type": "code",
      "source": [
        "# システムプロンプト\n",
        "system_prompt = \"質問に回答してください。必ず「日本語で回答」すること。１００文字以内で回答すること。\"\n",
        "responses = []\n",
        "# 各質問に回答を生成\n",
        "for i, q in enumerate(questions, start=1):\n",
        "    print(f\"### {i}. {q}\")\n",
        "    response = generate_output(q, system_prompt)\n",
        "    print(\"**回答**\")\n",
        "    print(response)\n",
        "    print(\"\\n\" + \"---\" + \"\\n\")\n",
        "    responses.append(response)"
      ],
      "metadata": {
        "colab": {
          "base_uri": "https://localhost:8080/"
        },
        "id": "4FBibPPd_0fa",
        "outputId": "d62ed571-9802-406d-b4ce-10506c5af91e"
      },
      "id": "4FBibPPd_0fa",
      "execution_count": 10,
      "outputs": [
        {
          "output_type": "stream",
          "name": "stderr",
          "text": [
            "The attention mask and the pad token id were not set. As a consequence, you may observe unexpected behavior. Please pass your input's `attention_mask` to obtain reliable results.\n",
            "Setting `pad_token_id` to `eos_token_id`:128009 for open-end generation.\n",
            "The attention mask is not set and cannot be inferred from input because pad token is same as eos token. As a consequence, you may observe unexpected behavior. Please pass your input's `attention_mask` to obtain reliable results.\n"
          ]
        },
        {
          "output_type": "stream",
          "name": "stdout",
          "text": [
            "### 1. すでに構築したクラウド環境を IaC に変換する機能はありますか？\n"
          ]
        },
        {
          "output_type": "stream",
          "name": "stderr",
          "text": [
            "The attention mask and the pad token id were not set. As a consequence, you may observe unexpected behavior. Please pass your input's `attention_mask` to obtain reliable results.\n",
            "Setting `pad_token_id` to `eos_token_id`:128009 for open-end generation.\n"
          ]
        },
        {
          "output_type": "stream",
          "name": "stdout",
          "text": [
            "**回答**\n",
            "はい、すでに構築したクラウド環境を Infrastructure as Code (IaC) に変換する機能はあります。例えば、AWS CloudFormation、Azure Resource Manager (ARM)、Google Cloud Deployment Manager などのクラウドプロバイダーが提供するツールや、third-party のソフトウェアとして、Cloudify、Terraform、Ansible などがあります。これらのツールを使用することで、既に構築されたクラウド環境を IaC に変換し、自動化されたインフラストラクチャーの管理を実現することができます。\n",
            "\n",
            "---\n",
            "\n",
            "### 2. 大量の機械学習トレーニングデータはどこに保管すべきですか？その理由も含めて説明してください。\n"
          ]
        },
        {
          "output_type": "stream",
          "name": "stderr",
          "text": [
            "The attention mask and the pad token id were not set. As a consequence, you may observe unexpected behavior. Please pass your input's `attention_mask` to obtain reliable results.\n",
            "Setting `pad_token_id` to `eos_token_id`:128009 for open-end generation.\n"
          ]
        },
        {
          "output_type": "stream",
          "name": "stdout",
          "text": [
            "**回答**\n",
            "大量の機械学習トレーニングデータは、セキュアでアクセス制限のあるストレージに保管すべきです。理由は、以下の通りです。\n",
            "\n",
            "1. データのセキュリティー：機械学習トレーニングデータには、個人情報や商業機密情報などが含まれることがあります。セキュアなストレージでデータを保管することで、不正アクセスやデータ漏洩を防ぐことができます。\n",
            "2. データの整合性：大量のトレーニングデータを保管するには、ストレージの容量や性能が必要です。セキュアなストレージでは、データの整合性を保つことができます。\n",
            "3. データのアクセス制限：機械学習トレーニングデータは、特定のチームや個人にのみアクセスする必要があります。セキュアなストレージでは、アクセス制限を設定することができます。\n",
            "\n",
            "日本の企業では、以下のようなストレージを使用することが多いです。\n",
            "\n",
            "* Amazon S3：クラウドベースのストレージサービスで\n",
            "\n",
            "---\n",
            "\n",
            "### 3. SageMakerのトレーニングジョブが S3 にアクセスするには IAM ユーザーが必要ですか？\n"
          ]
        },
        {
          "output_type": "stream",
          "name": "stderr",
          "text": [
            "The attention mask and the pad token id were not set. As a consequence, you may observe unexpected behavior. Please pass your input's `attention_mask` to obtain reliable results.\n",
            "Setting `pad_token_id` to `eos_token_id`:128009 for open-end generation.\n"
          ]
        },
        {
          "output_type": "stream",
          "name": "stdout",
          "text": [
            "**回答**\n",
            "はい、SageMakerのトレーニングジョブがS3にアクセスするには、IAMユーザーが必要です。SageMakerは、IAMを使用してS3にアクセスするための認証を行います。SageMakerのIAMロールには、S3にアクセスするための権限が必要です。特に、S3バケットに書き込みや読み取りを行う権限が必要です。SageMakerの設定で、IAMロールを指定することで、SageMakerがS3にアクセスするための認証を行うことができます。\n",
            "\n",
            "---\n",
            "\n",
            "### 4. SageMakerのトレーニング費用を抑える方法はありますか？\n"
          ]
        },
        {
          "output_type": "stream",
          "name": "stderr",
          "text": [
            "The attention mask and the pad token id were not set. As a consequence, you may observe unexpected behavior. Please pass your input's `attention_mask` to obtain reliable results.\n",
            "Setting `pad_token_id` to `eos_token_id`:128009 for open-end generation.\n"
          ]
        },
        {
          "output_type": "stream",
          "name": "stdout",
          "text": [
            "**回答**\n",
            "はい、SageMakerのトレーニング費用を抑える方法はいくつかあります。以下はその一例です。\n",
            "\n",
            "1. ハイパーパラメーターのチューニング：適切なハイパーパラメーターを選択することで、モデルがより効率的に学習することができます。\n",
            "2. モデルの圧縮：モデルを圧縮することで、ストレージやネットワークの使用量を減らすことができます。\n",
            "3. 並列化：複数のGPUやインスタンスに分散して計算を実行することで、トレーニング時間を短縮することができます。\n",
            "4. 低コストのインスタンスの使用：低コストのインスタンスを使用することで、トレーニング費用を抑えることができます。\n",
            "5.  Early Stopping：モデルが過学習するのを防ぐために、早期に停止することができます。\n",
            "\n",
            "これらの方法を組み合わせることで、SageMakerのトレーニング費用を抑えることができます。\n",
            "\n",
            "---\n",
            "\n",
            "### 5. Notebook Instance と SageMaker Studio はどう使い分けるべきですか？\n"
          ]
        },
        {
          "output_type": "stream",
          "name": "stderr",
          "text": [
            "The attention mask and the pad token id were not set. As a consequence, you may observe unexpected behavior. Please pass your input's `attention_mask` to obtain reliable results.\n",
            "Setting `pad_token_id` to `eos_token_id`:128009 for open-end generation.\n"
          ]
        },
        {
          "output_type": "stream",
          "name": "stdout",
          "text": [
            "**回答**\n",
            "Notebook InstanceとSageMaker Studioは、AWS SageMakerの2つのサービスです。Notebook Instanceは、Jupyter NotebookやApache Zeppelinなどのnotebook環境を提供し、データサイエンティストや機械学習エンジニアがコードを実行するための環境を提供します。SageMaker Studioは、統合された開発環境で、データサイエンティストや機械学習エンジニアが、データの探索、特徴量の作成、モデル開発、デプロイメントなど、機械学習の全プロセスを一元化して実行することができます。\n",
            "\n",
            "Notebook Instanceは、個々のnotebook環境を提供し、各々のプロジェクトに特化した環境を提供します。SageMaker Studioは、複数のnotebook環境を統合し、プロジェクト全体のビューを提供します。したがって、Notebook Instanceは、個々のnotebook環境を提供し、SageMaker Studioは、プロジェクト全体のビューを提供するという使い分けが適切です。\n",
            "\n",
            "---\n",
            "\n",
            "### 6. BedrockでDeepSeek-R1を使った場合、どのくらいの推論コストがかかりますか？\n",
            "**回答**\n",
            "BedrockのDeepSeek-R1は、推論コストを最小化するために設計された。具体的には、推論コストは、DeepSeek-R1のモデルサイズ、推論の精度、ハードウェアの性能などに依存します。\n",
            "\n",
            "しかし、Bedrockの公式ドキュメントによると、DeepSeek-R1の推論コストは、通常の推論コストの1/10から1/100程度に抑えられます。例えば、1秒あたり100万回の推論を実行する場合、DeepSeek-R1では1秒あたり1万回から10万回の推論を実行することができます。\n",
            "\n",
            "ただし、実際の推論コストは、ハードウェアの性能、モデルサイズ、推論の精度などに依存するため、実際の推論コストは異なる可能性があります。\n",
            "\n",
            "---\n",
            "\n"
          ]
        }
      ]
    },
    {
      "cell_type": "code",
      "source": [
        "from openai import OpenAI\n",
        "\n",
        "client = OpenAI(api_key=userdata.get(\"OPENAI_API_KEY\"), max_retries=5, timeout=60)\n",
        "\n",
        "def openai_generator(query):\n",
        "\n",
        "        messages = [\n",
        "                    {\n",
        "                        \"role\": \"user\",\n",
        "                        \"content\": query\n",
        "                    }\n",
        "                ]\n",
        "\n",
        "        response = client.chat.completions.create(\n",
        "            model=\"gpt-4o-mini\",\n",
        "            messages=messages\n",
        "        )\n",
        "        return response.choices[0].message.content\n",
        "\n",
        "def evaluate_answer_accuracy(query, response, reference):\n",
        "\n",
        "    template_accuracy1 = (\n",
        "          \"Instruction: You are a world class state of the art assistant for rating \"\n",
        "          \"a User Answer given a Question. The Question is completely answered by the Reference Answer.\\n\"\n",
        "          \"Say 4, if User Answer is full contained and equivalent to Reference Answer\"\n",
        "          \"in all terms, topics, numbers, metrics, dates and units.\\n\"\n",
        "          \"Say 2, if User Answer is partially contained and almost equivalent to Reference Answer\"\n",
        "          \"in all terms, topics, numbers, metrics, dates and units.\\n\"\n",
        "          \"Say 0, if User Answer is not contained in Reference Answer or not accurate in all terms, topics,\"\n",
        "          \"numbers, metrics, dates and units or the User Answer do not answer the question.\\n\"\n",
        "          \"Do not explain or justify your rating. Your rating must be only 4, 2 or 0 according to the instructions above.\\n\"\n",
        "          \"Even small discrepancies in meaning, terminology, directionality, or implication must result in a lower score. Only rate 4 if the User Answer is a complete and precise match to the Reference Answer in every aspect.\\n\"\n",
        "          \"### Question: {query}\\n\"\n",
        "          \"### {answer0}: {sentence_inference}\\n\"\n",
        "          \"### {answer1}: {sentence_true}\\n\"\n",
        "          \"The rating is:\\n\"\n",
        "      )\n",
        "    template_accuracy2 = (\n",
        "          \"I will rate the User Answer in comparison to the Reference Answer for a given Question.\\n\"\n",
        "          \"A rating of 4 indicates that the User Answer is entirely consistent with the Reference Answer, covering all aspects, topics, numbers, metrics, dates, and units.\\n\"\n",
        "          \"A rating of 2 signifies that the User Answer is mostly aligned with the Reference Answer, with minor discrepancies in some areas.\\n\"\n",
        "          \"A rating of 0 means that the User Answer is either inaccurate, incomplete, or unrelated to the Reference Answer, or it fails to address the Question.\\n\"\n",
        "          \"I will provide the rating without any explanation or justification, adhering to the following scale: 0 (no match), 2 (partial match), 4 (exact match).\\n\"\n",
        "          \"Even minor inconsistencies in meaning, terminology, emphasis, or factual detail should prevent a rating of 4. Only assign a 4 if the User Answer exactly and unambiguously matches the Reference Answer in every respect.\"\n",
        "          \"Do not explain or justify my rating. My rating must be only 4, 2 or 0 only.\\n\\n\"\n",
        "          \"Question: {query}\\n\\n\"\n",
        "          \"{answer0}: {sentence_inference}\\n\\n\"\n",
        "          \"{answer1}: {sentence_true}\\n\\n\"\n",
        "          \"Rating: \"\n",
        "      )\n",
        "\n",
        "    score1 = openai_generator(\n",
        "                template_accuracy1.format(\n",
        "                      query=query,\n",
        "                      answer0=\"User Answer\",\n",
        "                      answer1=\"Reference Answer\",\n",
        "                      sentence_inference=response,\n",
        "                      sentence_true=reference,\n",
        "                    )\n",
        "                )\n",
        "    try:\n",
        "      score1 = int(score1)\n",
        "    except:\n",
        "      print(\"Failed\")\n",
        "      score1 = 0\n",
        "\n",
        "    score2 = openai_generator(\n",
        "                template_accuracy2.format(\n",
        "                        query=query,\n",
        "                        answer0=\"Reference Answer\",\n",
        "                        answer1=\"User Answer\",\n",
        "                        sentence_inference=reference,\n",
        "                        sentence_true=response,\n",
        "                    )\n",
        "                  )\n",
        "\n",
        "    try:\n",
        "      score2 = int(score2)\n",
        "    except:\n",
        "      print(\"Failed\")\n",
        "      score2 = 0\n",
        "\n",
        "\n",
        "    return (score1 + score2) / 2"
      ],
      "metadata": {
        "id": "7UMwuibIEp6K"
      },
      "id": "7UMwuibIEp6K",
      "execution_count": 11,
      "outputs": []
    },
    {
      "cell_type": "code",
      "source": [
        "print(\"| 評価番号 | スコア |\")\n",
        "print(\"|:--------:|:------:|\")\n",
        "\n",
        "# Iterate and print each row with only index and score\n",
        "for i, (question, gold_answer, response) in enumerate(zip(questions, answers, responses), start=1):\n",
        "    score = evaluate_answer_accuracy(question, response, gold_answer)\n",
        "    print(f\"| {i} | {score:.2f} |\")\n"
      ],
      "metadata": {
        "id": "RWmQSpSWFJsd",
        "outputId": "dbf15333-38d1-4217-f775-9f879edd6306",
        "colab": {
          "base_uri": "https://localhost:8080/"
        }
      },
      "id": "RWmQSpSWFJsd",
      "execution_count": 12,
      "outputs": [
        {
          "output_type": "stream",
          "name": "stdout",
          "text": [
            "| 評価番号 | スコア |\n",
            "|:--------:|:------:|\n",
            "| 1 | 2.00 |\n",
            "| 2 | 1.00 |\n",
            "| 3 | 0.00 |\n",
            "| 4 | 0.00 |\n",
            "| 5 | 0.00 |\n",
            "| 6 | 0.00 |\n"
          ]
        }
      ]
    },
    {
      "cell_type": "code",
      "source": [
        "import htmlrag\n",
        "import re\n",
        "import glob\n",
        "\n",
        "file_paths = glob.glob('/content/lecture-ai-engineering/day3/homework_data/*.html')\n",
        "documents = []\n",
        "for path in file_paths:\n",
        "  html=open(path).read()\n",
        "  simplified_html=htmlrag.clean_html(html)\n",
        "  block_tree, simplified_html= htmlrag.build_block_tree(simplified_html, max_node_words=512)\n",
        "  blocks = [\n",
        "      re.sub(r'<[^>]+>', '', str(node[0])).split(\"\\n\")\n",
        "      for node in block_tree\n",
        "  ]\n",
        "  documents.extend( [x for x in sum(blocks,[]) if len(x) > 20] )# 短い断片はゴミなので削除した\n"
      ],
      "metadata": {
        "id": "P8y-2uhqPbQw"
      },
      "id": "P8y-2uhqPbQw",
      "execution_count": 13,
      "outputs": []
    },
    {
      "cell_type": "code",
      "source": [
        "print(\"ドキュメントサイズ: \", len(documents))\n",
        "print(\"ドキュメントの例: \\n\", documents[100])"
      ],
      "metadata": {
        "id": "_fRCB3JVXvU4",
        "colab": {
          "base_uri": "https://localhost:8080/"
        },
        "outputId": "f6e9bb1b-018f-469f-ec7a-dfaf52743384"
      },
      "id": "_fRCB3JVXvU4",
      "execution_count": 14,
      "outputs": [
        {
          "output_type": "stream",
          "name": "stdout",
          "text": [
            "ドキュメントサイズ:  1441\n",
            "ドキュメントの例: \n",
            " SageMaker AI コンソール、「https://https://console.aws.amazon.com/sagemaker/://www.\n"
          ]
        }
      ]
    },
    {
      "cell_type": "code",
      "source": [
        "from sentence_transformers import SentenceTransformer\n",
        "\n",
        "emb_model = SentenceTransformer(\"infly/inf-retriever-v1-1.5b\", trust_remote_code=True)\n",
        "# In case you want to reduce the maximum length:\n",
        "emb_model.max_seq_length = 8192"
      ],
      "metadata": {
        "colab": {
          "base_uri": "https://localhost:8080/",
          "height": 629,
          "referenced_widgets": [
            "e23c62d0153b4e0f91ba49430e51c0bb",
            "47aadb7d2dc2411bbf4d39dc15889943",
            "88140e0e74b1458db43250a037ef6b93",
            "9fe2073c0af64a8b8b39b6b818d50a71",
            "aacb6782f86b42d68f0c338d4bee9a03",
            "a7acd664e72e46b99ad217a2efcf2bad",
            "a4b000ed5a3a4b8691e5c8c6441a9aff",
            "c437b6b823714b248f7129197e3aef54",
            "dfd5a34a29b947a99a8031b558205b5e",
            "6ae76341228a4d76abbc9aa8bf0e3fa0",
            "7c9a73f38c284bfaa1a2da0dee91ccd1",
            "73f93dd92d04458888b3ea1d9d99155c",
            "f667e976e21b4cd790dc1a865422436c",
            "9b48b3759a994fef88e2a287c57d3e6d",
            "687cdfb4214b4c4195ce67fdf92e0387",
            "8ad4fefc66d84b08b1ffca21f0c3f5c3",
            "fffa237838b44aea865b1f793475a459",
            "3748c70414994eca9434f1a0633ab179",
            "e1527b2cf3ff4d35aaef5f7e40bb17fa",
            "3b088fe296c64682a1176c8ae06bffef",
            "5f2306927f444b518ae8b75c3c3b7d4e",
            "c6a5c21d5ff649a785b17014523ca479",
            "f81adaed9cec41c1941aebdba262bb40",
            "1b4742bb9c134345909c3911d33d6b82",
            "72e5f00ecd804358834ef77e2b01558d",
            "72473d0611fc4e1fae84db3ad5672dc3",
            "d743543545d74a968c4897b0535b5412",
            "f59f3f1ab1c44a37b991c505f0042fd4",
            "c4fa48130bff47d99e78f0762ec54be4",
            "84b9c72fdf5e428ea2e317664c557d8f",
            "0f50900f10e748c796880bacd6f813a8",
            "85d1f50dc09d43c4a3c30c3cba388432",
            "694ebe56d9c042148170f6c83a5fa1fa",
            "8faf569964de48738655c2a8b7ca965c",
            "90f101082eaa40a4b8c61b17097c4b40",
            "573a50b55ee646bca70171c5aec91aa5",
            "23420a4d35d1410487feff9aa5280f7f",
            "5e163ab216bc4a2ca01dd114da2782f6",
            "574d2bb564604064b4a35036c802064e",
            "c7aacb62f5c94294afccc9cb5bee2c18",
            "4d1b843965464a52bd39d1949b129d4e",
            "dee50ae336bd4fb38a6b5fbe71dc4cef",
            "6aea8cb9e8164f9aa6f9b795e1473ba3",
            "82177f47bf9e4aabbb7eb3cf14a50746",
            "55392fbac8e1433fb2d46a660e81970e",
            "ce60e60328294dbf93663de952b281e0",
            "a35fe054fb534c1dafcb24c86362df4d",
            "aa8c55ef4e1540409e87b95ce555a676",
            "d9d22adf3dda435e81639c39b736acc6",
            "43c31c4496b14755b4b080006c4f3b3c",
            "41a27649b0fe44359b83c5be9e0af2a5",
            "0081bb696e1743e1a2cc55148922d6c6",
            "275a10adc1504d6d9547d7e4467e5b5b",
            "7eecedf8550645a89a75313fb60a7a55",
            "6822d15ec7834dee8da1c4f8cf51c2ce",
            "fd099b2d5ce448dd80a2417cbadbbceb",
            "20915f7809904b50acf87488446429e0",
            "83fd459978d44bd4bcc5f01ccb4b6ae3",
            "89fd215328fc4b979760b5d5b6b6ba5e",
            "12b8708fdf0846b1b76588a15381f9ca",
            "5ef2a6245ac04ef088fbd6eb05137f49",
            "becef073e32142b4ab593002c5fc4a3f",
            "7aee48974ad147139c690cdd7eee47e2",
            "9657bb604ae048a38684f81c605650c4",
            "3b7a48cbcfda460db647c7f2e79a4f8f",
            "c6829da17c9a441888fa8b5b4ce670a0",
            "2f2c3dea981547fbb9ae083f7f32069c",
            "0aea6b065c2d44f2982b399eb8bf8554",
            "8de94947059242c98340b976225b4f9c",
            "e2d1238d86984655a37687ad85ee5c59",
            "6fa157c234ef4e6a8442f99dd132ad74",
            "4b7611b431e640e8bea600ef9e2cf703",
            "96f654616f5843cea466a5adde8de3a8",
            "9cc9e74e34e5499dba5b0160bbd4f392",
            "5087aa6f77684e6eb0dd8bf17683c081",
            "b9c9612e9164451aa6236ed005fd47b1",
            "5d7223137a0046ceb49c3fd77aebbb38",
            "d840503130854412826248a3d95c4fab",
            "ad2a34bf4df3483285b5f92d84b0725b",
            "70e61bac10574937b78c2c8572a64518",
            "066fdba620494a328111aecdce773c53",
            "219b76c6c5b84f2e87dbe0c1f0105a6f",
            "67e9c491e6d644fcb14556dc721d3258",
            "ddabdb14db6746e89a390a20c95dff1e",
            "2281719ac06942e280df20deb53cd89f",
            "b85c3945c50048dcbf4704b7fd45add2",
            "1f713d4e420c44f6bedb18823c46bc99",
            "f58ee4285944483ea05ab81f375797e2",
            "c4ba5e1bd43147f286e53515e647b9a4",
            "4956c3a820e74ca19c5fa6414b5c01f2",
            "420087936b0643ee8080a0942ce7706c",
            "d9b4ca2963c34f7d955c9e65d5075b66",
            "a05b72234307416bb4458228f6e0dd24",
            "66cd450aaa6d402cbac020620edad59e",
            "2fc708f88ba547caae0236f0cc0593ec",
            "b30ece652e0e40e5952342cf848d1ffd",
            "448713691f284c2cba8557043a44e6e6",
            "b7021159df0b46899bb579d401ac0dbf",
            "7a926c3c26b345b7a91f275bf7e19a4e",
            "c54b0d3184e34d12b2221491597cca0a",
            "5ac7af12b7e6459f83cdcb81bff80df2",
            "aca3f0b4b9aa462ba8913a4ea127caa2",
            "be2f2f4060a34545a6b29b4951ad5841",
            "29d29747b3b84c52888ae4490e121cf5",
            "7965092d379a4a0a97f189f1544294b2",
            "546bd074aa6c4b388039941b81b10554",
            "a379741a85bd4ecea9c12b6f2ca81258",
            "5633a13507f748be8bf0277aa2dcba2d",
            "e8f343a76e494e0ab25572e8248a0b07",
            "be1687f4ab7a412e95248c8d0f361dee",
            "f7a5ada99caa423185e76cdf64145da2",
            "382d03095bb64f02b759592eca0162cf",
            "1fcba61e7a8248b1a30fc26ddf6e7729",
            "bbf344649a634bfb88583a0ef5fd7e2f",
            "5cfa5b01806146c19606ea866aefea24",
            "c5ab343e6857496a84bea469874738cc",
            "55feff94e0ce4f1ba43072e020c98def",
            "6c6eb7423bfc40c48538b4b9d331b705",
            "f4a4da7b45b74f67a8af60a00eb66d58",
            "ae582c6d6f654ec48391691915bb9633",
            "e1495eaadfdc457a8903bee382a38624",
            "879e0f0a0e994ff48359ff8236ea9fb2",
            "cf1cd1e28df7488dab5c909570bbb355",
            "13d2ba72e1e04779a5690da3ab2e0da8",
            "2bf0ea1871db497db9d5720529c4ca26",
            "08d66b14a383412690c24bd680b9f5b2",
            "64256ebc1f154a8cab558e3e190a76e6",
            "f4b276e2ec1a4398be324b700a6d907e",
            "96339797924f4e7daf7407148d4233a3",
            "f335fcaea99d4d1db97f00d0542cd44a",
            "ad4f25a8a6f444dfb420d175a6bdf23e",
            "39dba01127154aa4b037126f93b5204f",
            "abdaf714a67449ee885a373dd7720067",
            "cbbee1f790e24155b1abb7ec3ff05005",
            "5dd4f63ac67f48149f291b2016021ad8",
            "58516a2fe9824e7396cc014dd25c5b83",
            "59ad85fc2f8a4085b3aa32dcfbf6ffb0",
            "b6dc51f8d8d1413da63da45e707855b0",
            "56f19987da7a4a5c90904a6df6393568",
            "08c35c8bcfe14a8786a08caa1d535f69",
            "878d5b3ba6914194a319c596b8b02e0b",
            "c7d30397986942879a54fbc576470f5b",
            "90026544217e4f8fb29903e9ef9ec94e",
            "559ba317f6d043edb614857f7c1f1e0d",
            "2a5fb749ab59446da01ba023a8ea7e1c",
            "562e0decc8854a89ba9829ff33b397f0",
            "cdc9ddec475742dab462ae26603bbcc7",
            "8c180fd0c1864f639d2a78f425c79b2f",
            "7815774412af429fa7603885b1f0bdf9",
            "edbe1e44ec9d4daeb37edaea97f6e6b3",
            "9315b28e30874a9cbaad300a21b3f544",
            "d305f413d09840dfa0b7144e2b02a6dc",
            "877168fe25ab427089e1800c4130d217",
            "9373d1ff91e24704b6364dedacd0a808",
            "53753cffb09b48b2aa8346c58be64089",
            "80f39f21cdb544a3b0ec3373e9ccf3f3",
            "7ca8a1f0d10f44ba93913b6f3b9b5690",
            "f6076b5d4a6c43d19270844e38921791",
            "76101af2820f44829b9f86afab22b61a",
            "1774a448b24c43de826a752d3b96984c",
            "0cc736e71be347ffa62f35ea80732135",
            "82204da00efe48eeb2fbf25de06a05b0",
            "dc23302dc686484e836c371dac27a931",
            "ca5d4931e304451dbb13a967fe02236e",
            "feac4e7dc14445f3b92bdf3ca94e505f"
          ]
        },
        "id": "56Wv4w1ZkATZ",
        "outputId": "73ca5f23-2078-4ccb-fa5e-26a5e302d58c"
      },
      "id": "56Wv4w1ZkATZ",
      "execution_count": 15,
      "outputs": [
        {
          "output_type": "display_data",
          "data": {
            "text/plain": [
              "modules.json:   0%|          | 0.00/349 [00:00<?, ?B/s]"
            ],
            "application/vnd.jupyter.widget-view+json": {
              "version_major": 2,
              "version_minor": 0,
              "model_id": "e23c62d0153b4e0f91ba49430e51c0bb"
            }
          },
          "metadata": {}
        },
        {
          "output_type": "display_data",
          "data": {
            "text/plain": [
              "config_sentence_transformers.json:   0%|          | 0.00/284 [00:00<?, ?B/s]"
            ],
            "application/vnd.jupyter.widget-view+json": {
              "version_major": 2,
              "version_minor": 0,
              "model_id": "73f93dd92d04458888b3ea1d9d99155c"
            }
          },
          "metadata": {}
        },
        {
          "output_type": "display_data",
          "data": {
            "text/plain": [
              "README.md:   0%|          | 0.00/19.8k [00:00<?, ?B/s]"
            ],
            "application/vnd.jupyter.widget-view+json": {
              "version_major": 2,
              "version_minor": 0,
              "model_id": "f81adaed9cec41c1941aebdba262bb40"
            }
          },
          "metadata": {}
        },
        {
          "output_type": "display_data",
          "data": {
            "text/plain": [
              "sentence_bert_config.json:   0%|          | 0.00/55.0 [00:00<?, ?B/s]"
            ],
            "application/vnd.jupyter.widget-view+json": {
              "version_major": 2,
              "version_minor": 0,
              "model_id": "8faf569964de48738655c2a8b7ca965c"
            }
          },
          "metadata": {}
        },
        {
          "output_type": "display_data",
          "data": {
            "text/plain": [
              "config.json:   0%|          | 0.00/918 [00:00<?, ?B/s]"
            ],
            "application/vnd.jupyter.widget-view+json": {
              "version_major": 2,
              "version_minor": 0,
              "model_id": "55392fbac8e1433fb2d46a660e81970e"
            }
          },
          "metadata": {}
        },
        {
          "output_type": "display_data",
          "data": {
            "text/plain": [
              "modeling_qwen.py:   0%|          | 0.00/65.2k [00:00<?, ?B/s]"
            ],
            "application/vnd.jupyter.widget-view+json": {
              "version_major": 2,
              "version_minor": 0,
              "model_id": "fd099b2d5ce448dd80a2417cbadbbceb"
            }
          },
          "metadata": {}
        },
        {
          "output_type": "stream",
          "name": "stderr",
          "text": [
            "A new version of the following files was downloaded from https://huggingface.co/infly/inf-retriever-v1-1.5b:\n",
            "- modeling_qwen.py\n",
            ". Make sure to double-check they do not contain any added malicious code. To avoid downloading new versions of the code file, you can pin a revision.\n"
          ]
        },
        {
          "output_type": "display_data",
          "data": {
            "text/plain": [
              "model.safetensors:   0%|          | 0.00/3.09G [00:00<?, ?B/s]"
            ],
            "application/vnd.jupyter.widget-view+json": {
              "version_major": 2,
              "version_minor": 0,
              "model_id": "2f2c3dea981547fbb9ae083f7f32069c"
            }
          },
          "metadata": {}
        },
        {
          "output_type": "display_data",
          "data": {
            "text/plain": [
              "tokenizer_config.json:   0%|          | 0.00/1.33k [00:00<?, ?B/s]"
            ],
            "application/vnd.jupyter.widget-view+json": {
              "version_major": 2,
              "version_minor": 0,
              "model_id": "d840503130854412826248a3d95c4fab"
            }
          },
          "metadata": {}
        },
        {
          "output_type": "display_data",
          "data": {
            "text/plain": [
              "tokenization_qwen.py:   0%|          | 0.00/10.8k [00:00<?, ?B/s]"
            ],
            "application/vnd.jupyter.widget-view+json": {
              "version_major": 2,
              "version_minor": 0,
              "model_id": "c4ba5e1bd43147f286e53515e647b9a4"
            }
          },
          "metadata": {}
        },
        {
          "output_type": "stream",
          "name": "stderr",
          "text": [
            "A new version of the following files was downloaded from https://huggingface.co/infly/inf-retriever-v1-1.5b:\n",
            "- tokenization_qwen.py\n",
            ". Make sure to double-check they do not contain any added malicious code. To avoid downloading new versions of the code file, you can pin a revision.\n"
          ]
        },
        {
          "output_type": "display_data",
          "data": {
            "text/plain": [
              "vocab.json:   0%|          | 0.00/2.78M [00:00<?, ?B/s]"
            ],
            "application/vnd.jupyter.widget-view+json": {
              "version_major": 2,
              "version_minor": 0,
              "model_id": "c54b0d3184e34d12b2221491597cca0a"
            }
          },
          "metadata": {}
        },
        {
          "output_type": "display_data",
          "data": {
            "text/plain": [
              "merges.txt:   0%|          | 0.00/1.67M [00:00<?, ?B/s]"
            ],
            "application/vnd.jupyter.widget-view+json": {
              "version_major": 2,
              "version_minor": 0,
              "model_id": "f7a5ada99caa423185e76cdf64145da2"
            }
          },
          "metadata": {}
        },
        {
          "output_type": "display_data",
          "data": {
            "text/plain": [
              "tokenizer.json:   0%|          | 0.00/7.03M [00:00<?, ?B/s]"
            ],
            "application/vnd.jupyter.widget-view+json": {
              "version_major": 2,
              "version_minor": 0,
              "model_id": "879e0f0a0e994ff48359ff8236ea9fb2"
            }
          },
          "metadata": {}
        },
        {
          "output_type": "display_data",
          "data": {
            "text/plain": [
              "added_tokens.json:   0%|          | 0.00/80.0 [00:00<?, ?B/s]"
            ],
            "application/vnd.jupyter.widget-view+json": {
              "version_major": 2,
              "version_minor": 0,
              "model_id": "abdaf714a67449ee885a373dd7720067"
            }
          },
          "metadata": {}
        },
        {
          "output_type": "display_data",
          "data": {
            "text/plain": [
              "special_tokens_map.json:   0%|          | 0.00/370 [00:00<?, ?B/s]"
            ],
            "application/vnd.jupyter.widget-view+json": {
              "version_major": 2,
              "version_minor": 0,
              "model_id": "559ba317f6d043edb614857f7c1f1e0d"
            }
          },
          "metadata": {}
        },
        {
          "output_type": "display_data",
          "data": {
            "text/plain": [
              "config.json:   0%|          | 0.00/297 [00:00<?, ?B/s]"
            ],
            "application/vnd.jupyter.widget-view+json": {
              "version_major": 2,
              "version_minor": 0,
              "model_id": "53753cffb09b48b2aa8346c58be64089"
            }
          },
          "metadata": {}
        }
      ]
    },
    {
      "cell_type": "code",
      "source": [
        "responses = []\n",
        "for i, question in enumerate(questions):\n",
        "  print(f\"### {i+1}. {question}\")\n",
        "  query_embeddings = emb_model.encode([question], prompt_name=\"query\")\n",
        "  document_embeddings = emb_model.encode(documents)\n",
        "\n",
        "  # 各ドキュメントの類似度スコア\n",
        "  scores = (query_embeddings @ document_embeddings.T) * 100\n",
        "  topk = 5\n",
        "  for i, index in enumerate(scores.argsort()[0][::-1][:topk]):\n",
        "    references = []\n",
        "    for ref in [\"\\n\".join(documents[max(0, i-1): min(i+1, len(documents))]).strip() for i in scores.argsort()[0][::-1][:topk]]:\n",
        "\n",
        "      system_prompt = \"与えられた参考資料が質問に直接関連しているか？'yes''no'で答えること。ただし、余計なテキストを生成しないこと。\"\n",
        "      user_prompt =  f\"[参考資料]\\n{ref}\\n\\n[質問] {question}\"\n",
        "      response = generate_output(user_prompt, system_prompt)\n",
        "\n",
        "      if \"yes\" in response.lower():\n",
        "        print(\"\\n\\n対象となるドキュメント:\\n\", ref.replace(\"。\", \"。\\n\"))\n",
        "        references.append(ref)\n",
        "\n",
        "      print(\"\\n\\n\")\n",
        "\n",
        "  system_prompt = \"質問に回答してください。必ず「日本語で回答」すること。また、与えられる資料を参考にして回答すること。\"\n",
        "  user_prompt =  f\"[参考資料]\\n{references}\\n\\n[質問] {question}\"\n",
        "  response = generate_output(user_prompt, system_prompt)\n",
        "  print(\"**回答**\")\n",
        "  print(response)\n",
        "  print(\"\\n\" + \"---\" + \"\\n\")\n",
        "  responses.append(response)\n"
      ],
      "metadata": {
        "id": "fiZCd5nMuNvF",
        "outputId": "5d2a6330-fd14-4b11-dcf4-808a441f694f",
        "colab": {
          "base_uri": "https://localhost:8080/"
        }
      },
      "id": "fiZCd5nMuNvF",
      "execution_count": 16,
      "outputs": [
        {
          "output_type": "stream",
          "name": "stdout",
          "text": [
            "### 1. すでに構築したクラウド環境を IaC に変換する機能はありますか？\n"
          ]
        },
        {
          "output_type": "stream",
          "name": "stderr",
          "text": [
            "The attention mask and the pad token id were not set. As a consequence, you may observe unexpected behavior. Please pass your input's `attention_mask` to obtain reliable results.\n",
            "Setting `pad_token_id` to `eos_token_id`:128009 for open-end generation.\n",
            "The attention mask and the pad token id were not set. As a consequence, you may observe unexpected behavior. Please pass your input's `attention_mask` to obtain reliable results.\n",
            "Setting `pad_token_id` to `eos_token_id`:128009 for open-end generation.\n",
            "The attention mask and the pad token id were not set. As a consequence, you may observe unexpected behavior. Please pass your input's `attention_mask` to obtain reliable results.\n",
            "Setting `pad_token_id` to `eos_token_id`:128009 for open-end generation.\n"
          ]
        },
        {
          "output_type": "stream",
          "name": "stdout",
          "text": [
            "\n",
            "\n",
            "\n",
            "\n",
            "\n",
            "\n"
          ]
        },
        {
          "output_type": "stream",
          "name": "stderr",
          "text": [
            "The attention mask and the pad token id were not set. As a consequence, you may observe unexpected behavior. Please pass your input's `attention_mask` to obtain reliable results.\n",
            "Setting `pad_token_id` to `eos_token_id`:128009 for open-end generation.\n",
            "The attention mask and the pad token id were not set. As a consequence, you may observe unexpected behavior. Please pass your input's `attention_mask` to obtain reliable results.\n",
            "Setting `pad_token_id` to `eos_token_id`:128009 for open-end generation.\n"
          ]
        },
        {
          "output_type": "stream",
          "name": "stdout",
          "text": [
            "\n",
            "\n",
            "対象となるドキュメント:\n",
            " IaC ジェネレーターの機能は、すべての商用リージョンで利用可能で、多くの一般的な AWS リソースタイプをサポートしています。\n",
            "サポートされているリソースの一覧については、「リソースタイプのサポート」を参照してください。\n",
            "トピック考慮事項リソースのスキャンに必要な IAM アクセス許可テンプレートの生成、管理、削除によく使用されるコマンドテンプレートを AWS CDK に移行するCloudFormation IaC ジェネレーターを使用してリソーススキャンを開始するCloudFormation コンソールでスキャンの概要を表示するIaC ジェネレーターを使用してスキャンされたリソースから CloudFormation テンプレートを作成するスキャンしたリソースから CloudFormation スタックを作成する書き込み専用プロパティを解決する\n",
            "読み取り権限のある AWS リソースであれば、JSON テンプレートまたは YAML テンプレートを生成できます。\n",
            "IaC ジェネレーターの機能のテンプレートは、リソースプロパティをプロパティごとに記述することなく、クラウドリソースを確実かつ迅速にモデル化します。\n",
            "\n",
            "\n",
            "\n",
            "\n",
            "\n",
            "\n",
            "対象となるドキュメント:\n",
            " 読み取り権限のある AWS リソースであれば、JSON テンプレートまたは YAML テンプレートを生成できます。\n",
            "IaC ジェネレーターの機能のテンプレートは、リソースプロパティをプロパティごとに記述することなく、クラウドリソースを確実かつ迅速にモデル化します。\n",
            "\n",
            "次の表は、IaC の生成機能に使用できるクォータの一覧です。\n",
            "\n",
            "\n",
            "\n",
            "\n"
          ]
        },
        {
          "output_type": "stream",
          "name": "stderr",
          "text": [
            "The attention mask and the pad token id were not set. As a consequence, you may observe unexpected behavior. Please pass your input's `attention_mask` to obtain reliable results.\n",
            "Setting `pad_token_id` to `eos_token_id`:128009 for open-end generation.\n",
            "The attention mask and the pad token id were not set. As a consequence, you may observe unexpected behavior. Please pass your input's `attention_mask` to obtain reliable results.\n",
            "Setting `pad_token_id` to `eos_token_id`:128009 for open-end generation.\n"
          ]
        },
        {
          "output_type": "stream",
          "name": "stdout",
          "text": [
            "\n",
            "\n",
            "\n",
            "\n",
            "\n",
            "\n"
          ]
        },
        {
          "output_type": "stream",
          "name": "stderr",
          "text": [
            "The attention mask and the pad token id were not set. As a consequence, you may observe unexpected behavior. Please pass your input's `attention_mask` to obtain reliable results.\n",
            "Setting `pad_token_id` to `eos_token_id`:128009 for open-end generation.\n",
            "The attention mask and the pad token id were not set. As a consequence, you may observe unexpected behavior. Please pass your input's `attention_mask` to obtain reliable results.\n",
            "Setting `pad_token_id` to `eos_token_id`:128009 for open-end generation.\n"
          ]
        },
        {
          "output_type": "stream",
          "name": "stdout",
          "text": [
            "\n",
            "\n",
            "\n",
            "\n",
            "\n",
            "対象となるドキュメント:\n",
            " IaC ジェネレーターの機能は、すべての商用リージョンで利用可能で、多くの一般的な AWS リソースタイプをサポートしています。\n",
            "サポートされているリソースの一覧については、「リソースタイプのサポート」を参照してください。\n",
            "トピック考慮事項リソースのスキャンに必要な IAM アクセス許可テンプレートの生成、管理、削除によく使用されるコマンドテンプレートを AWS CDK に移行するCloudFormation IaC ジェネレーターを使用してリソーススキャンを開始するCloudFormation コンソールでスキャンの概要を表示するIaC ジェネレーターを使用してスキャンされたリソースから CloudFormation テンプレートを作成するスキャンしたリソースから CloudFormation スタックを作成する書き込み専用プロパティを解決する\n",
            "読み取り権限のある AWS リソースであれば、JSON テンプレートまたは YAML テンプレートを生成できます。\n",
            "IaC ジェネレーターの機能のテンプレートは、リソースプロパティをプロパティごとに記述することなく、クラウドリソースを確実かつ迅速にモデル化します。\n",
            "\n",
            "\n",
            "\n",
            "\n"
          ]
        },
        {
          "output_type": "stream",
          "name": "stderr",
          "text": [
            "The attention mask and the pad token id were not set. As a consequence, you may observe unexpected behavior. Please pass your input's `attention_mask` to obtain reliable results.\n",
            "Setting `pad_token_id` to `eos_token_id`:128009 for open-end generation.\n",
            "The attention mask and the pad token id were not set. As a consequence, you may observe unexpected behavior. Please pass your input's `attention_mask` to obtain reliable results.\n",
            "Setting `pad_token_id` to `eos_token_id`:128009 for open-end generation.\n"
          ]
        },
        {
          "output_type": "stream",
          "name": "stdout",
          "text": [
            "\n",
            "\n",
            "対象となるドキュメント:\n",
            " 読み取り権限のある AWS リソースであれば、JSON テンプレートまたは YAML テンプレートを生成できます。\n",
            "IaC ジェネレーターの機能のテンプレートは、リソースプロパティをプロパティごとに記述することなく、クラウドリソースを確実かつ迅速にモデル化します。\n",
            "\n",
            "次の表は、IaC の生成機能に使用できるクォータの一覧です。\n",
            "\n",
            "\n",
            "\n",
            "\n",
            "\n",
            "\n",
            "\n"
          ]
        },
        {
          "output_type": "stream",
          "name": "stderr",
          "text": [
            "The attention mask and the pad token id were not set. As a consequence, you may observe unexpected behavior. Please pass your input's `attention_mask` to obtain reliable results.\n",
            "Setting `pad_token_id` to `eos_token_id`:128009 for open-end generation.\n",
            "The attention mask and the pad token id were not set. As a consequence, you may observe unexpected behavior. Please pass your input's `attention_mask` to obtain reliable results.\n",
            "Setting `pad_token_id` to `eos_token_id`:128009 for open-end generation.\n"
          ]
        },
        {
          "output_type": "stream",
          "name": "stdout",
          "text": [
            "\n",
            "\n",
            "\n",
            "\n",
            "\n",
            "\n"
          ]
        },
        {
          "output_type": "stream",
          "name": "stderr",
          "text": [
            "The attention mask and the pad token id were not set. As a consequence, you may observe unexpected behavior. Please pass your input's `attention_mask` to obtain reliable results.\n",
            "Setting `pad_token_id` to `eos_token_id`:128009 for open-end generation.\n",
            "The attention mask and the pad token id were not set. As a consequence, you may observe unexpected behavior. Please pass your input's `attention_mask` to obtain reliable results.\n",
            "Setting `pad_token_id` to `eos_token_id`:128009 for open-end generation.\n"
          ]
        },
        {
          "output_type": "stream",
          "name": "stdout",
          "text": [
            "\n",
            "\n",
            "対象となるドキュメント:\n",
            " IaC ジェネレーターの機能は、すべての商用リージョンで利用可能で、多くの一般的な AWS リソースタイプをサポートしています。\n",
            "サポートされているリソースの一覧については、「リソースタイプのサポート」を参照してください。\n",
            "トピック考慮事項リソースのスキャンに必要な IAM アクセス許可テンプレートの生成、管理、削除によく使用されるコマンドテンプレートを AWS CDK に移行するCloudFormation IaC ジェネレーターを使用してリソーススキャンを開始するCloudFormation コンソールでスキャンの概要を表示するIaC ジェネレーターを使用してスキャンされたリソースから CloudFormation テンプレートを作成するスキャンしたリソースから CloudFormation スタックを作成する書き込み専用プロパティを解決する\n",
            "読み取り権限のある AWS リソースであれば、JSON テンプレートまたは YAML テンプレートを生成できます。\n",
            "IaC ジェネレーターの機能のテンプレートは、リソースプロパティをプロパティごとに記述することなく、クラウドリソースを確実かつ迅速にモデル化します。\n",
            "\n",
            "\n",
            "\n",
            "\n",
            "\n",
            "\n",
            "対象となるドキュメント:\n",
            " 読み取り権限のある AWS リソースであれば、JSON テンプレートまたは YAML テンプレートを生成できます。\n",
            "IaC ジェネレーターの機能のテンプレートは、リソースプロパティをプロパティごとに記述することなく、クラウドリソースを確実かつ迅速にモデル化します。\n",
            "\n",
            "次の表は、IaC の生成機能に使用できるクォータの一覧です。\n",
            "\n",
            "\n",
            "\n",
            "\n"
          ]
        },
        {
          "output_type": "stream",
          "name": "stderr",
          "text": [
            "The attention mask and the pad token id were not set. As a consequence, you may observe unexpected behavior. Please pass your input's `attention_mask` to obtain reliable results.\n",
            "Setting `pad_token_id` to `eos_token_id`:128009 for open-end generation.\n",
            "The attention mask and the pad token id were not set. As a consequence, you may observe unexpected behavior. Please pass your input's `attention_mask` to obtain reliable results.\n",
            "Setting `pad_token_id` to `eos_token_id`:128009 for open-end generation.\n"
          ]
        },
        {
          "output_type": "stream",
          "name": "stdout",
          "text": [
            "\n",
            "\n",
            "\n",
            "\n",
            "\n",
            "\n"
          ]
        },
        {
          "output_type": "stream",
          "name": "stderr",
          "text": [
            "The attention mask and the pad token id were not set. As a consequence, you may observe unexpected behavior. Please pass your input's `attention_mask` to obtain reliable results.\n",
            "Setting `pad_token_id` to `eos_token_id`:128009 for open-end generation.\n",
            "The attention mask and the pad token id were not set. As a consequence, you may observe unexpected behavior. Please pass your input's `attention_mask` to obtain reliable results.\n",
            "Setting `pad_token_id` to `eos_token_id`:128009 for open-end generation.\n"
          ]
        },
        {
          "output_type": "stream",
          "name": "stdout",
          "text": [
            "\n",
            "\n",
            "\n",
            "\n",
            "\n",
            "対象となるドキュメント:\n",
            " IaC ジェネレーターの機能は、すべての商用リージョンで利用可能で、多くの一般的な AWS リソースタイプをサポートしています。\n",
            "サポートされているリソースの一覧については、「リソースタイプのサポート」を参照してください。\n",
            "トピック考慮事項リソースのスキャンに必要な IAM アクセス許可テンプレートの生成、管理、削除によく使用されるコマンドテンプレートを AWS CDK に移行するCloudFormation IaC ジェネレーターを使用してリソーススキャンを開始するCloudFormation コンソールでスキャンの概要を表示するIaC ジェネレーターを使用してスキャンされたリソースから CloudFormation テンプレートを作成するスキャンしたリソースから CloudFormation スタックを作成する書き込み専用プロパティを解決する\n",
            "読み取り権限のある AWS リソースであれば、JSON テンプレートまたは YAML テンプレートを生成できます。\n",
            "IaC ジェネレーターの機能のテンプレートは、リソースプロパティをプロパティごとに記述することなく、クラウドリソースを確実かつ迅速にモデル化します。\n",
            "\n",
            "\n",
            "\n",
            "\n"
          ]
        },
        {
          "output_type": "stream",
          "name": "stderr",
          "text": [
            "The attention mask and the pad token id were not set. As a consequence, you may observe unexpected behavior. Please pass your input's `attention_mask` to obtain reliable results.\n",
            "Setting `pad_token_id` to `eos_token_id`:128009 for open-end generation.\n",
            "The attention mask and the pad token id were not set. As a consequence, you may observe unexpected behavior. Please pass your input's `attention_mask` to obtain reliable results.\n",
            "Setting `pad_token_id` to `eos_token_id`:128009 for open-end generation.\n"
          ]
        },
        {
          "output_type": "stream",
          "name": "stdout",
          "text": [
            "\n",
            "\n",
            "対象となるドキュメント:\n",
            " 読み取り権限のある AWS リソースであれば、JSON テンプレートまたは YAML テンプレートを生成できます。\n",
            "IaC ジェネレーターの機能のテンプレートは、リソースプロパティをプロパティごとに記述することなく、クラウドリソースを確実かつ迅速にモデル化します。\n",
            "\n",
            "次の表は、IaC の生成機能に使用できるクォータの一覧です。\n",
            "\n",
            "\n",
            "\n",
            "\n",
            "\n",
            "\n",
            "\n"
          ]
        },
        {
          "output_type": "stream",
          "name": "stderr",
          "text": [
            "The attention mask and the pad token id were not set. As a consequence, you may observe unexpected behavior. Please pass your input's `attention_mask` to obtain reliable results.\n",
            "Setting `pad_token_id` to `eos_token_id`:128009 for open-end generation.\n",
            "The attention mask and the pad token id were not set. As a consequence, you may observe unexpected behavior. Please pass your input's `attention_mask` to obtain reliable results.\n",
            "Setting `pad_token_id` to `eos_token_id`:128009 for open-end generation.\n"
          ]
        },
        {
          "output_type": "stream",
          "name": "stdout",
          "text": [
            "\n",
            "\n",
            "\n",
            "\n",
            "\n",
            "\n"
          ]
        },
        {
          "output_type": "stream",
          "name": "stderr",
          "text": [
            "The attention mask and the pad token id were not set. As a consequence, you may observe unexpected behavior. Please pass your input's `attention_mask` to obtain reliable results.\n",
            "Setting `pad_token_id` to `eos_token_id`:128009 for open-end generation.\n",
            "The attention mask and the pad token id were not set. As a consequence, you may observe unexpected behavior. Please pass your input's `attention_mask` to obtain reliable results.\n",
            "Setting `pad_token_id` to `eos_token_id`:128009 for open-end generation.\n"
          ]
        },
        {
          "output_type": "stream",
          "name": "stdout",
          "text": [
            "\n",
            "\n",
            "対象となるドキュメント:\n",
            " IaC ジェネレーターの機能は、すべての商用リージョンで利用可能で、多くの一般的な AWS リソースタイプをサポートしています。\n",
            "サポートされているリソースの一覧については、「リソースタイプのサポート」を参照してください。\n",
            "トピック考慮事項リソースのスキャンに必要な IAM アクセス許可テンプレートの生成、管理、削除によく使用されるコマンドテンプレートを AWS CDK に移行するCloudFormation IaC ジェネレーターを使用してリソーススキャンを開始するCloudFormation コンソールでスキャンの概要を表示するIaC ジェネレーターを使用してスキャンされたリソースから CloudFormation テンプレートを作成するスキャンしたリソースから CloudFormation スタックを作成する書き込み専用プロパティを解決する\n",
            "読み取り権限のある AWS リソースであれば、JSON テンプレートまたは YAML テンプレートを生成できます。\n",
            "IaC ジェネレーターの機能のテンプレートは、リソースプロパティをプロパティごとに記述することなく、クラウドリソースを確実かつ迅速にモデル化します。\n",
            "\n",
            "\n",
            "\n",
            "\n",
            "\n",
            "\n",
            "対象となるドキュメント:\n",
            " 読み取り権限のある AWS リソースであれば、JSON テンプレートまたは YAML テンプレートを生成できます。\n",
            "IaC ジェネレーターの機能のテンプレートは、リソースプロパティをプロパティごとに記述することなく、クラウドリソースを確実かつ迅速にモデル化します。\n",
            "\n",
            "次の表は、IaC の生成機能に使用できるクォータの一覧です。\n",
            "\n",
            "\n",
            "\n",
            "\n"
          ]
        },
        {
          "output_type": "stream",
          "name": "stderr",
          "text": [
            "The attention mask and the pad token id were not set. As a consequence, you may observe unexpected behavior. Please pass your input's `attention_mask` to obtain reliable results.\n",
            "Setting `pad_token_id` to `eos_token_id`:128009 for open-end generation.\n"
          ]
        },
        {
          "output_type": "stream",
          "name": "stdout",
          "text": [
            "\n",
            "\n",
            "\n",
            "**回答**\n",
            "日本語で回答します。\n",
            "\n",
            "IaC ジェネレーターには、すでに構築したクラウド環境を IaC に変換する機能があります。具体的には、リソーススキャン機能を使用して、既に存在する AWS リソースを IaC テンプレートに変換することができます。リソーススキャン機能では、読み取り権限のある AWS リソースをスキャンし、JSON テンプレートや YAML テンプレートに変換することができます。これにより、すでに構築したクラウド環境を IaC に変換することができます。\n",
            "\n",
            "---\n",
            "\n",
            "### 2. 大量の機械学習トレーニングデータはどこに保管すべきですか？その理由も含めて説明してください。\n"
          ]
        },
        {
          "output_type": "stream",
          "name": "stderr",
          "text": [
            "The attention mask and the pad token id were not set. As a consequence, you may observe unexpected behavior. Please pass your input's `attention_mask` to obtain reliable results.\n",
            "Setting `pad_token_id` to `eos_token_id`:128009 for open-end generation.\n",
            "The attention mask and the pad token id were not set. As a consequence, you may observe unexpected behavior. Please pass your input's `attention_mask` to obtain reliable results.\n",
            "Setting `pad_token_id` to `eos_token_id`:128009 for open-end generation.\n",
            "The attention mask and the pad token id were not set. As a consequence, you may observe unexpected behavior. Please pass your input's `attention_mask` to obtain reliable results.\n",
            "Setting `pad_token_id` to `eos_token_id`:128009 for open-end generation.\n"
          ]
        },
        {
          "output_type": "stream",
          "name": "stdout",
          "text": [
            "\n",
            "\n",
            "\n",
            "\n",
            "\n",
            "\n"
          ]
        },
        {
          "output_type": "stream",
          "name": "stderr",
          "text": [
            "The attention mask and the pad token id were not set. As a consequence, you may observe unexpected behavior. Please pass your input's `attention_mask` to obtain reliable results.\n",
            "Setting `pad_token_id` to `eos_token_id`:128009 for open-end generation.\n",
            "The attention mask and the pad token id were not set. As a consequence, you may observe unexpected behavior. Please pass your input's `attention_mask` to obtain reliable results.\n",
            "Setting `pad_token_id` to `eos_token_id`:128009 for open-end generation.\n"
          ]
        },
        {
          "output_type": "stream",
          "name": "stdout",
          "text": [
            "\n",
            "\n",
            "\n",
            "\n",
            "\n",
            "\n"
          ]
        },
        {
          "output_type": "stream",
          "name": "stderr",
          "text": [
            "The attention mask and the pad token id were not set. As a consequence, you may observe unexpected behavior. Please pass your input's `attention_mask` to obtain reliable results.\n",
            "Setting `pad_token_id` to `eos_token_id`:128009 for open-end generation.\n",
            "The attention mask and the pad token id were not set. As a consequence, you may observe unexpected behavior. Please pass your input's `attention_mask` to obtain reliable results.\n",
            "Setting `pad_token_id` to `eos_token_id`:128009 for open-end generation.\n"
          ]
        },
        {
          "output_type": "stream",
          "name": "stdout",
          "text": [
            "\n",
            "\n",
            "\n",
            "\n",
            "\n",
            "\n"
          ]
        },
        {
          "output_type": "stream",
          "name": "stderr",
          "text": [
            "The attention mask and the pad token id were not set. As a consequence, you may observe unexpected behavior. Please pass your input's `attention_mask` to obtain reliable results.\n",
            "Setting `pad_token_id` to `eos_token_id`:128009 for open-end generation.\n",
            "The attention mask and the pad token id were not set. As a consequence, you may observe unexpected behavior. Please pass your input's `attention_mask` to obtain reliable results.\n",
            "Setting `pad_token_id` to `eos_token_id`:128009 for open-end generation.\n"
          ]
        },
        {
          "output_type": "stream",
          "name": "stdout",
          "text": [
            "\n",
            "\n",
            "\n",
            "\n",
            "\n",
            "\n"
          ]
        },
        {
          "output_type": "stream",
          "name": "stderr",
          "text": [
            "The attention mask and the pad token id were not set. As a consequence, you may observe unexpected behavior. Please pass your input's `attention_mask` to obtain reliable results.\n",
            "Setting `pad_token_id` to `eos_token_id`:128009 for open-end generation.\n",
            "The attention mask and the pad token id were not set. As a consequence, you may observe unexpected behavior. Please pass your input's `attention_mask` to obtain reliable results.\n",
            "Setting `pad_token_id` to `eos_token_id`:128009 for open-end generation.\n"
          ]
        },
        {
          "output_type": "stream",
          "name": "stdout",
          "text": [
            "\n",
            "\n",
            "\n",
            "\n",
            "\n",
            "\n"
          ]
        },
        {
          "output_type": "stream",
          "name": "stderr",
          "text": [
            "The attention mask and the pad token id were not set. As a consequence, you may observe unexpected behavior. Please pass your input's `attention_mask` to obtain reliable results.\n",
            "Setting `pad_token_id` to `eos_token_id`:128009 for open-end generation.\n",
            "The attention mask and the pad token id were not set. As a consequence, you may observe unexpected behavior. Please pass your input's `attention_mask` to obtain reliable results.\n",
            "Setting `pad_token_id` to `eos_token_id`:128009 for open-end generation.\n"
          ]
        },
        {
          "output_type": "stream",
          "name": "stdout",
          "text": [
            "\n",
            "\n",
            "\n",
            "\n",
            "\n",
            "\n"
          ]
        },
        {
          "output_type": "stream",
          "name": "stderr",
          "text": [
            "The attention mask and the pad token id were not set. As a consequence, you may observe unexpected behavior. Please pass your input's `attention_mask` to obtain reliable results.\n",
            "Setting `pad_token_id` to `eos_token_id`:128009 for open-end generation.\n",
            "The attention mask and the pad token id were not set. As a consequence, you may observe unexpected behavior. Please pass your input's `attention_mask` to obtain reliable results.\n",
            "Setting `pad_token_id` to `eos_token_id`:128009 for open-end generation.\n"
          ]
        },
        {
          "output_type": "stream",
          "name": "stdout",
          "text": [
            "\n",
            "\n",
            "\n",
            "\n",
            "\n",
            "\n"
          ]
        },
        {
          "output_type": "stream",
          "name": "stderr",
          "text": [
            "The attention mask and the pad token id were not set. As a consequence, you may observe unexpected behavior. Please pass your input's `attention_mask` to obtain reliable results.\n",
            "Setting `pad_token_id` to `eos_token_id`:128009 for open-end generation.\n",
            "The attention mask and the pad token id were not set. As a consequence, you may observe unexpected behavior. Please pass your input's `attention_mask` to obtain reliable results.\n",
            "Setting `pad_token_id` to `eos_token_id`:128009 for open-end generation.\n"
          ]
        },
        {
          "output_type": "stream",
          "name": "stdout",
          "text": [
            "\n",
            "\n",
            "\n",
            "\n",
            "\n",
            "\n"
          ]
        },
        {
          "output_type": "stream",
          "name": "stderr",
          "text": [
            "The attention mask and the pad token id were not set. As a consequence, you may observe unexpected behavior. Please pass your input's `attention_mask` to obtain reliable results.\n",
            "Setting `pad_token_id` to `eos_token_id`:128009 for open-end generation.\n",
            "The attention mask and the pad token id were not set. As a consequence, you may observe unexpected behavior. Please pass your input's `attention_mask` to obtain reliable results.\n",
            "Setting `pad_token_id` to `eos_token_id`:128009 for open-end generation.\n"
          ]
        },
        {
          "output_type": "stream",
          "name": "stdout",
          "text": [
            "\n",
            "\n",
            "\n",
            "\n",
            "\n",
            "\n"
          ]
        },
        {
          "output_type": "stream",
          "name": "stderr",
          "text": [
            "The attention mask and the pad token id were not set. As a consequence, you may observe unexpected behavior. Please pass your input's `attention_mask` to obtain reliable results.\n",
            "Setting `pad_token_id` to `eos_token_id`:128009 for open-end generation.\n",
            "The attention mask and the pad token id were not set. As a consequence, you may observe unexpected behavior. Please pass your input's `attention_mask` to obtain reliable results.\n",
            "Setting `pad_token_id` to `eos_token_id`:128009 for open-end generation.\n"
          ]
        },
        {
          "output_type": "stream",
          "name": "stdout",
          "text": [
            "\n",
            "\n",
            "\n",
            "\n",
            "\n",
            "\n"
          ]
        },
        {
          "output_type": "stream",
          "name": "stderr",
          "text": [
            "The attention mask and the pad token id were not set. As a consequence, you may observe unexpected behavior. Please pass your input's `attention_mask` to obtain reliable results.\n",
            "Setting `pad_token_id` to `eos_token_id`:128009 for open-end generation.\n",
            "The attention mask and the pad token id were not set. As a consequence, you may observe unexpected behavior. Please pass your input's `attention_mask` to obtain reliable results.\n",
            "Setting `pad_token_id` to `eos_token_id`:128009 for open-end generation.\n"
          ]
        },
        {
          "output_type": "stream",
          "name": "stdout",
          "text": [
            "\n",
            "\n",
            "\n",
            "\n",
            "\n",
            "\n"
          ]
        },
        {
          "output_type": "stream",
          "name": "stderr",
          "text": [
            "The attention mask and the pad token id were not set. As a consequence, you may observe unexpected behavior. Please pass your input's `attention_mask` to obtain reliable results.\n",
            "Setting `pad_token_id` to `eos_token_id`:128009 for open-end generation.\n",
            "The attention mask and the pad token id were not set. As a consequence, you may observe unexpected behavior. Please pass your input's `attention_mask` to obtain reliable results.\n",
            "Setting `pad_token_id` to `eos_token_id`:128009 for open-end generation.\n"
          ]
        },
        {
          "output_type": "stream",
          "name": "stdout",
          "text": [
            "\n",
            "\n",
            "\n",
            "\n",
            "\n",
            "\n"
          ]
        },
        {
          "output_type": "stream",
          "name": "stderr",
          "text": [
            "The attention mask and the pad token id were not set. As a consequence, you may observe unexpected behavior. Please pass your input's `attention_mask` to obtain reliable results.\n",
            "Setting `pad_token_id` to `eos_token_id`:128009 for open-end generation.\n"
          ]
        },
        {
          "output_type": "stream",
          "name": "stdout",
          "text": [
            "\n",
            "\n",
            "\n",
            "**回答**\n",
            "大量の機械学習トレーニングデータの保管について、以下のような考慮点を踏まえて回答します。\n",
            "\n",
            "1. **セキュリティ**: トレーニングデータには、機密情報や個人情報が含まれる可能性があります。したがって、安全な環境で保管することが重要です。\n",
            "2. **スケーラビリティ**: トレーニングデータの量が増えるにつれて、ストレージの容量や処理能力が必要です。したがって、スケーラビリティの高いストレージやクラウドサービスを選択することが重要です。\n",
            "3. **アクセス制御**: トレーニングデータにアクセスする権限を持つユーザーの数が増えるにつれて、権限の管理やアクセス制御が必要です。\n",
            "4. **バックアップ**: トレーニングデータのバックアップを regularly することが重要です。これにより、データの失敗や破損に対処することができます。\n",
            "\n",
            "以上の考慮点を踏まえて、以下のような保管方法を提案します。\n",
            "\n",
            "* **Cloud Storage**: Amazon S3, Google\n",
            "\n",
            "---\n",
            "\n",
            "### 3. SageMakerのトレーニングジョブが S3 にアクセスするには IAM ユーザーが必要ですか？\n"
          ]
        },
        {
          "output_type": "stream",
          "name": "stderr",
          "text": [
            "The attention mask and the pad token id were not set. As a consequence, you may observe unexpected behavior. Please pass your input's `attention_mask` to obtain reliable results.\n",
            "Setting `pad_token_id` to `eos_token_id`:128009 for open-end generation.\n",
            "The attention mask and the pad token id were not set. As a consequence, you may observe unexpected behavior. Please pass your input's `attention_mask` to obtain reliable results.\n",
            "Setting `pad_token_id` to `eos_token_id`:128009 for open-end generation.\n",
            "The attention mask and the pad token id were not set. As a consequence, you may observe unexpected behavior. Please pass your input's `attention_mask` to obtain reliable results.\n",
            "Setting `pad_token_id` to `eos_token_id`:128009 for open-end generation.\n"
          ]
        },
        {
          "output_type": "stream",
          "name": "stdout",
          "text": [
            "\n",
            "\n",
            "\n",
            "\n",
            "\n",
            "\n"
          ]
        },
        {
          "output_type": "stream",
          "name": "stderr",
          "text": [
            "The attention mask and the pad token id were not set. As a consequence, you may observe unexpected behavior. Please pass your input's `attention_mask` to obtain reliable results.\n",
            "Setting `pad_token_id` to `eos_token_id`:128009 for open-end generation.\n",
            "The attention mask and the pad token id were not set. As a consequence, you may observe unexpected behavior. Please pass your input's `attention_mask` to obtain reliable results.\n",
            "Setting `pad_token_id` to `eos_token_id`:128009 for open-end generation.\n"
          ]
        },
        {
          "output_type": "stream",
          "name": "stdout",
          "text": [
            "\n",
            "\n",
            "\n",
            "\n",
            "\n",
            "\n"
          ]
        },
        {
          "output_type": "stream",
          "name": "stderr",
          "text": [
            "The attention mask and the pad token id were not set. As a consequence, you may observe unexpected behavior. Please pass your input's `attention_mask` to obtain reliable results.\n",
            "Setting `pad_token_id` to `eos_token_id`:128009 for open-end generation.\n",
            "The attention mask and the pad token id were not set. As a consequence, you may observe unexpected behavior. Please pass your input's `attention_mask` to obtain reliable results.\n",
            "Setting `pad_token_id` to `eos_token_id`:128009 for open-end generation.\n"
          ]
        },
        {
          "output_type": "stream",
          "name": "stdout",
          "text": [
            "\n",
            "\n",
            "\n",
            "\n",
            "\n",
            "\n"
          ]
        },
        {
          "output_type": "stream",
          "name": "stderr",
          "text": [
            "The attention mask and the pad token id were not set. As a consequence, you may observe unexpected behavior. Please pass your input's `attention_mask` to obtain reliable results.\n",
            "Setting `pad_token_id` to `eos_token_id`:128009 for open-end generation.\n",
            "The attention mask and the pad token id were not set. As a consequence, you may observe unexpected behavior. Please pass your input's `attention_mask` to obtain reliable results.\n",
            "Setting `pad_token_id` to `eos_token_id`:128009 for open-end generation.\n"
          ]
        },
        {
          "output_type": "stream",
          "name": "stdout",
          "text": [
            "\n",
            "\n",
            "\n",
            "\n",
            "\n",
            "\n"
          ]
        },
        {
          "output_type": "stream",
          "name": "stderr",
          "text": [
            "The attention mask and the pad token id were not set. As a consequence, you may observe unexpected behavior. Please pass your input's `attention_mask` to obtain reliable results.\n",
            "Setting `pad_token_id` to `eos_token_id`:128009 for open-end generation.\n",
            "The attention mask and the pad token id were not set. As a consequence, you may observe unexpected behavior. Please pass your input's `attention_mask` to obtain reliable results.\n",
            "Setting `pad_token_id` to `eos_token_id`:128009 for open-end generation.\n"
          ]
        },
        {
          "output_type": "stream",
          "name": "stdout",
          "text": [
            "\n",
            "\n",
            "\n",
            "\n",
            "\n",
            "\n"
          ]
        },
        {
          "output_type": "stream",
          "name": "stderr",
          "text": [
            "The attention mask and the pad token id were not set. As a consequence, you may observe unexpected behavior. Please pass your input's `attention_mask` to obtain reliable results.\n",
            "Setting `pad_token_id` to `eos_token_id`:128009 for open-end generation.\n",
            "The attention mask and the pad token id were not set. As a consequence, you may observe unexpected behavior. Please pass your input's `attention_mask` to obtain reliable results.\n",
            "Setting `pad_token_id` to `eos_token_id`:128009 for open-end generation.\n"
          ]
        },
        {
          "output_type": "stream",
          "name": "stdout",
          "text": [
            "\n",
            "\n",
            "\n",
            "\n",
            "\n",
            "\n"
          ]
        },
        {
          "output_type": "stream",
          "name": "stderr",
          "text": [
            "The attention mask and the pad token id were not set. As a consequence, you may observe unexpected behavior. Please pass your input's `attention_mask` to obtain reliable results.\n",
            "Setting `pad_token_id` to `eos_token_id`:128009 for open-end generation.\n",
            "The attention mask and the pad token id were not set. As a consequence, you may observe unexpected behavior. Please pass your input's `attention_mask` to obtain reliable results.\n",
            "Setting `pad_token_id` to `eos_token_id`:128009 for open-end generation.\n"
          ]
        },
        {
          "output_type": "stream",
          "name": "stdout",
          "text": [
            "\n",
            "\n",
            "\n",
            "\n",
            "\n",
            "\n"
          ]
        },
        {
          "output_type": "stream",
          "name": "stderr",
          "text": [
            "The attention mask and the pad token id were not set. As a consequence, you may observe unexpected behavior. Please pass your input's `attention_mask` to obtain reliable results.\n",
            "Setting `pad_token_id` to `eos_token_id`:128009 for open-end generation.\n",
            "The attention mask and the pad token id were not set. As a consequence, you may observe unexpected behavior. Please pass your input's `attention_mask` to obtain reliable results.\n",
            "Setting `pad_token_id` to `eos_token_id`:128009 for open-end generation.\n"
          ]
        },
        {
          "output_type": "stream",
          "name": "stdout",
          "text": [
            "\n",
            "\n",
            "\n",
            "\n",
            "\n",
            "\n"
          ]
        },
        {
          "output_type": "stream",
          "name": "stderr",
          "text": [
            "The attention mask and the pad token id were not set. As a consequence, you may observe unexpected behavior. Please pass your input's `attention_mask` to obtain reliable results.\n",
            "Setting `pad_token_id` to `eos_token_id`:128009 for open-end generation.\n",
            "The attention mask and the pad token id were not set. As a consequence, you may observe unexpected behavior. Please pass your input's `attention_mask` to obtain reliable results.\n",
            "Setting `pad_token_id` to `eos_token_id`:128009 for open-end generation.\n"
          ]
        },
        {
          "output_type": "stream",
          "name": "stdout",
          "text": [
            "\n",
            "\n",
            "\n",
            "\n",
            "\n",
            "\n"
          ]
        },
        {
          "output_type": "stream",
          "name": "stderr",
          "text": [
            "The attention mask and the pad token id were not set. As a consequence, you may observe unexpected behavior. Please pass your input's `attention_mask` to obtain reliable results.\n",
            "Setting `pad_token_id` to `eos_token_id`:128009 for open-end generation.\n",
            "The attention mask and the pad token id were not set. As a consequence, you may observe unexpected behavior. Please pass your input's `attention_mask` to obtain reliable results.\n",
            "Setting `pad_token_id` to `eos_token_id`:128009 for open-end generation.\n"
          ]
        },
        {
          "output_type": "stream",
          "name": "stdout",
          "text": [
            "\n",
            "\n",
            "\n",
            "\n",
            "\n",
            "\n"
          ]
        },
        {
          "output_type": "stream",
          "name": "stderr",
          "text": [
            "The attention mask and the pad token id were not set. As a consequence, you may observe unexpected behavior. Please pass your input's `attention_mask` to obtain reliable results.\n",
            "Setting `pad_token_id` to `eos_token_id`:128009 for open-end generation.\n",
            "The attention mask and the pad token id were not set. As a consequence, you may observe unexpected behavior. Please pass your input's `attention_mask` to obtain reliable results.\n",
            "Setting `pad_token_id` to `eos_token_id`:128009 for open-end generation.\n"
          ]
        },
        {
          "output_type": "stream",
          "name": "stdout",
          "text": [
            "\n",
            "\n",
            "\n",
            "\n",
            "\n",
            "\n"
          ]
        },
        {
          "output_type": "stream",
          "name": "stderr",
          "text": [
            "The attention mask and the pad token id were not set. As a consequence, you may observe unexpected behavior. Please pass your input's `attention_mask` to obtain reliable results.\n",
            "Setting `pad_token_id` to `eos_token_id`:128009 for open-end generation.\n",
            "The attention mask and the pad token id were not set. As a consequence, you may observe unexpected behavior. Please pass your input's `attention_mask` to obtain reliable results.\n",
            "Setting `pad_token_id` to `eos_token_id`:128009 for open-end generation.\n"
          ]
        },
        {
          "output_type": "stream",
          "name": "stdout",
          "text": [
            "\n",
            "\n",
            "\n",
            "\n",
            "\n",
            "\n"
          ]
        },
        {
          "output_type": "stream",
          "name": "stderr",
          "text": [
            "The attention mask and the pad token id were not set. As a consequence, you may observe unexpected behavior. Please pass your input's `attention_mask` to obtain reliable results.\n",
            "Setting `pad_token_id` to `eos_token_id`:128009 for open-end generation.\n"
          ]
        },
        {
          "output_type": "stream",
          "name": "stdout",
          "text": [
            "\n",
            "\n",
            "\n",
            "**回答**\n",
            "はい、SageMakerのトレーニングジョブがS3にアクセスするには、IAMユーザーが必要です。\n",
            "\n",
            "SageMakerは、AWSのサービスであり、S3にアクセスするためにIAMユーザーが必要です。SageMakerは、IAMロールを使用して、S3にアクセスする権限を設定することができます。\n",
            "\n",
            "特に、SageMakerのトレーニングジョブでは、S3に保存されたデータを読み込み、モデルをトレーニングするために、IAMユーザーが必要です。IAMユーザーは、S3にアクセスする権限を設定することで、SageMakerがS3にアクセスできるようにします。\n",
            "\n",
            "また、SageMakerのトレーニングジョブでは、IAMロールを使用して、S3にアクセスする権限を設定することができます。例えば、SageMakerのトレーニングジョブに使用するIAMロールには、S3にアクセスする権限を設定することができます。\n",
            "\n",
            "したがって、SageMakerのトレーニングジョブがS3にアクセ\n",
            "\n",
            "---\n",
            "\n",
            "### 4. SageMakerのトレーニング費用を抑える方法はありますか？\n"
          ]
        },
        {
          "output_type": "stream",
          "name": "stderr",
          "text": [
            "The attention mask and the pad token id were not set. As a consequence, you may observe unexpected behavior. Please pass your input's `attention_mask` to obtain reliable results.\n",
            "Setting `pad_token_id` to `eos_token_id`:128009 for open-end generation.\n",
            "The attention mask and the pad token id were not set. As a consequence, you may observe unexpected behavior. Please pass your input's `attention_mask` to obtain reliable results.\n",
            "Setting `pad_token_id` to `eos_token_id`:128009 for open-end generation.\n",
            "The attention mask and the pad token id were not set. As a consequence, you may observe unexpected behavior. Please pass your input's `attention_mask` to obtain reliable results.\n",
            "Setting `pad_token_id` to `eos_token_id`:128009 for open-end generation.\n"
          ]
        },
        {
          "output_type": "stream",
          "name": "stdout",
          "text": [
            "\n",
            "\n",
            "対象となるドキュメント:\n",
            " SageMaker Unified Studio での Amazon Bedrock のスムーズなオンボーディングエクスペリエンスを促進するために、「ユーザーガイド」で詳細なドキュメントをご覧いただけます。\n",
            "追加の質問がある場合やさらにサポートが必要な場合は、担当の AWS アカウントチームに遠慮なくお問い合わせください。\n",
            "\n",
            "Amazon SageMaker AI でのマネージドスポットトレーニング - Amazon SageMaker AIAmazon SageMaker AI でのマネージドスポットトレーニング - Amazon SageMaker AIドキュメントAmazon SageMakerデベロッパーガイド翻訳は機械翻訳により提供されています。\n",
            "提供された翻訳内容と英語版の間で齟齬、不一致または矛盾がある場合、英語版が優先します。\n",
            "Amazon SageMaker AI でのマネージドスポットトレーニングAmazon SageMaker AI を使用すると、マネージド Amazon EC2 スポットインスタンスを使用して機械学習モデルを簡単にトレーニングできます。\n",
            "マネージド型のスポットトレーニングでは、オンデマンドインスタンスと比較して、トレーニングモデルのコストを最大 90% 抑えることができます。\n",
            "SageMaker AI は、ユーザーに代わってスポットの中断を管理します。\n",
            "マネージドスポットトレーニングでは、オンデマンドインスタンスではなく Amazon EC2 スポットインスタンスを使用してトレーニングジョブを実行します。\n",
            "スポットインスタンスを使用するトレーニングジョブと、SageMaker AI が Amazon EC2 スポットインスタンスを使用してジョブの実行を待機する時間を指定する停止条件を指定できます。\n",
            "トレーニングの実行中に生成されたメトリクスとログは、CloudWatch にあります。\n",
            "Amazon SageMaker AI 自動モデル調整は、ハイパーパラメータ調整とも呼ばれ、マネージドスポットトレーニングを使用できます。\n",
            "自動モデルチューニングの詳細については、「SageMaker AI による自動モデル調整」を参照してください。\n",
            "スポットインスタンスは中断されることがあります。\n",
            "その場合、ジョブの開始または終了に時間がかかる場合があります。\n",
            "チェックポイントを使用するように、マネージドスポットトレーニングジョブを設定できます。\n",
            "SageMaker AI はチェックポイントデータをローカルパスから Amazon S3 にコピーします。\n",
            "ジョブが再起動されると、SageMaker AI は Amazon S3 からローカルパスにデータをコピーします。\n",
            "その結果、トレーニングジョブは最初からではなく、最後のチェックポイントから再開できます。\n",
            "チェックポイントの詳細については、Amazon SageMaker AI のチェックポイントを参照してください。\n",
            "注記トレーニングジョブがすぐに完了しない限り、マネージド型のスポットトレーニングでチェックポイントを使用することをお勧めします。\n",
            "チェックポイントを使用しない SageMaker AI 組み込みアルゴリズムとマーケットプレイスアルゴリズムは現在、3600 秒 (60 分) MaxWaitTimeInSecondsの に制限されています。\n",
            "マネージド型スポットトレーニングを使用するには、トレーニングジョブを作成します。\n",
            "EnableManagedSpotTraining を True に設定し、MaxWaitTimeInSeconds を指定します。\n",
            "MaxWaitTimeInSeconds は、MaxRuntimeInSeconds より大きい値にする必要があります。\n",
            "トレーニングジョブの作成の詳細については、「DescribeTrainingJob」を参照してください。\n",
            "削減率を計算するには、式 (1 -\n",
            "\n",
            "\n",
            "\n",
            "\n",
            "\n",
            "対象となるドキュメント:\n",
            " Amazon SageMaker AI でのマネージドスポットトレーニング - Amazon SageMaker AIAmazon SageMaker AI でのマネージドスポットトレーニング - Amazon SageMaker AIドキュメントAmazon SageMakerデベロッパーガイド翻訳は機械翻訳により提供されています。\n",
            "提供された翻訳内容と英語版の間で齟齬、不一致または矛盾がある場合、英語版が優先します。\n",
            "Amazon SageMaker AI でのマネージドスポットトレーニングAmazon SageMaker AI を使用すると、マネージド Amazon EC2 スポットインスタンスを使用して機械学習モデルを簡単にトレーニングできます。\n",
            "マネージド型のスポットトレーニングでは、オンデマンドインスタンスと比較して、トレーニングモデルのコストを最大 90% 抑えることができます。\n",
            "SageMaker AI は、ユーザーに代わってスポットの中断を管理します。\n",
            "マネージドスポットトレーニングでは、オンデマンドインスタンスではなく Amazon EC2 スポットインスタンスを使用してトレーニングジョブを実行します。\n",
            "スポットインスタンスを使用するトレーニングジョブと、SageMaker AI が Amazon EC2 スポットインスタンスを使用してジョブの実行を待機する時間を指定する停止条件を指定できます。\n",
            "トレーニングの実行中に生成されたメトリクスとログは、CloudWatch にあります。\n",
            "Amazon SageMaker AI 自動モデル調整は、ハイパーパラメータ調整とも呼ばれ、マネージドスポットトレーニングを使用できます。\n",
            "自動モデルチューニングの詳細については、「SageMaker AI による自動モデル調整」を参照してください。\n",
            "スポットインスタンスは中断されることがあります。\n",
            "その場合、ジョブの開始または終了に時間がかかる場合があります。\n",
            "チェックポイントを使用するように、マネージドスポットトレーニングジョブを設定できます。\n",
            "SageMaker AI はチェックポイントデータをローカルパスから Amazon S3 にコピーします。\n",
            "ジョブが再起動されると、SageMaker AI は Amazon S3 からローカルパスにデータをコピーします。\n",
            "その結果、トレーニングジョブは最初からではなく、最後のチェックポイントから再開できます。\n",
            "チェックポイントの詳細については、Amazon SageMaker AI のチェックポイントを参照してください。\n",
            "注記トレーニングジョブがすぐに完了しない限り、マネージド型のスポットトレーニングでチェックポイントを使用することをお勧めします。\n",
            "チェックポイントを使用しない SageMaker AI 組み込みアルゴリズムとマーケットプレイスアルゴリズムは現在、3600 秒 (60 分) MaxWaitTimeInSecondsの に制限されています。\n",
            "マネージド型スポットトレーニングを使用するには、トレーニングジョブを作成します。\n",
            "EnableManagedSpotTraining を True に設定し、MaxWaitTimeInSeconds を指定します。\n",
            "MaxWaitTimeInSeconds は、MaxRuntimeInSeconds より大きい値にする必要があります。\n",
            "トレーニングジョブの作成の詳細については、「DescribeTrainingJob」を参照してください。\n",
            "削減率を計算するには、式 (1 -\n",
            "    (BillableTimeInSeconds / TrainingTimeInSeconds)) * 100 を使用して、マネージド型スポットトレーニングを使用します。\n",
            "例えば、BillableTimeInSeconds が 100 で TrainingTimeInSeconds が 500 の場合、トレーニングジョブは 500 秒間実行されたが、請求されたのは 100 秒だけであることを意味します。\n",
            "節約できたのは、(1 - (100/500)) * 100 = 80% です。\n",
            "Amazon SageMaker AI スポットインスタンスでトレーニングジョブを実行する方法と、マネージドスポットトレーニングの仕組みと請求対象時間を短縮する方法については、次のサンプルノートブックを参照してください。\n",
            "\n",
            "\n",
            "\n",
            "\n"
          ]
        },
        {
          "output_type": "stream",
          "name": "stderr",
          "text": [
            "The attention mask and the pad token id were not set. As a consequence, you may observe unexpected behavior. Please pass your input's `attention_mask` to obtain reliable results.\n",
            "Setting `pad_token_id` to `eos_token_id`:128009 for open-end generation.\n",
            "The attention mask and the pad token id were not set. As a consequence, you may observe unexpected behavior. Please pass your input's `attention_mask` to obtain reliable results.\n",
            "Setting `pad_token_id` to `eos_token_id`:128009 for open-end generation.\n"
          ]
        },
        {
          "output_type": "stream",
          "name": "stdout",
          "text": [
            "\n",
            "\n",
            "\n",
            "\n",
            "\n",
            "\n"
          ]
        },
        {
          "output_type": "stream",
          "name": "stderr",
          "text": [
            "The attention mask and the pad token id were not set. As a consequence, you may observe unexpected behavior. Please pass your input's `attention_mask` to obtain reliable results.\n",
            "Setting `pad_token_id` to `eos_token_id`:128009 for open-end generation.\n",
            "The attention mask and the pad token id were not set. As a consequence, you may observe unexpected behavior. Please pass your input's `attention_mask` to obtain reliable results.\n",
            "Setting `pad_token_id` to `eos_token_id`:128009 for open-end generation.\n"
          ]
        },
        {
          "output_type": "stream",
          "name": "stdout",
          "text": [
            "\n",
            "\n",
            "\n",
            "\n",
            "\n",
            "対象となるドキュメント:\n",
            " SageMaker Unified Studio での Amazon Bedrock のスムーズなオンボーディングエクスペリエンスを促進するために、「ユーザーガイド」で詳細なドキュメントをご覧いただけます。\n",
            "追加の質問がある場合やさらにサポートが必要な場合は、担当の AWS アカウントチームに遠慮なくお問い合わせください。\n",
            "\n",
            "Amazon SageMaker AI でのマネージドスポットトレーニング - Amazon SageMaker AIAmazon SageMaker AI でのマネージドスポットトレーニング - Amazon SageMaker AIドキュメントAmazon SageMakerデベロッパーガイド翻訳は機械翻訳により提供されています。\n",
            "提供された翻訳内容と英語版の間で齟齬、不一致または矛盾がある場合、英語版が優先します。\n",
            "Amazon SageMaker AI でのマネージドスポットトレーニングAmazon SageMaker AI を使用すると、マネージド Amazon EC2 スポットインスタンスを使用して機械学習モデルを簡単にトレーニングできます。\n",
            "マネージド型のスポットトレーニングでは、オンデマンドインスタンスと比較して、トレーニングモデルのコストを最大 90% 抑えることができます。\n",
            "SageMaker AI は、ユーザーに代わってスポットの中断を管理します。\n",
            "マネージドスポットトレーニングでは、オンデマンドインスタンスではなく Amazon EC2 スポットインスタンスを使用してトレーニングジョブを実行します。\n",
            "スポットインスタンスを使用するトレーニングジョブと、SageMaker AI が Amazon EC2 スポットインスタンスを使用してジョブの実行を待機する時間を指定する停止条件を指定できます。\n",
            "トレーニングの実行中に生成されたメトリクスとログは、CloudWatch にあります。\n",
            "Amazon SageMaker AI 自動モデル調整は、ハイパーパラメータ調整とも呼ばれ、マネージドスポットトレーニングを使用できます。\n",
            "自動モデルチューニングの詳細については、「SageMaker AI による自動モデル調整」を参照してください。\n",
            "スポットインスタンスは中断されることがあります。\n",
            "その場合、ジョブの開始または終了に時間がかかる場合があります。\n",
            "チェックポイントを使用するように、マネージドスポットトレーニングジョブを設定できます。\n",
            "SageMaker AI はチェックポイントデータをローカルパスから Amazon S3 にコピーします。\n",
            "ジョブが再起動されると、SageMaker AI は Amazon S3 からローカルパスにデータをコピーします。\n",
            "その結果、トレーニングジョブは最初からではなく、最後のチェックポイントから再開できます。\n",
            "チェックポイントの詳細については、Amazon SageMaker AI のチェックポイントを参照してください。\n",
            "注記トレーニングジョブがすぐに完了しない限り、マネージド型のスポットトレーニングでチェックポイントを使用することをお勧めします。\n",
            "チェックポイントを使用しない SageMaker AI 組み込みアルゴリズムとマーケットプレイスアルゴリズムは現在、3600 秒 (60 分) MaxWaitTimeInSecondsの に制限されています。\n",
            "マネージド型スポットトレーニングを使用するには、トレーニングジョブを作成します。\n",
            "EnableManagedSpotTraining を True に設定し、MaxWaitTimeInSeconds を指定します。\n",
            "MaxWaitTimeInSeconds は、MaxRuntimeInSeconds より大きい値にする必要があります。\n",
            "トレーニングジョブの作成の詳細については、「DescribeTrainingJob」を参照してください。\n",
            "削減率を計算するには、式 (1 -\n",
            "\n",
            "\n",
            "\n"
          ]
        },
        {
          "output_type": "stream",
          "name": "stderr",
          "text": [
            "The attention mask and the pad token id were not set. As a consequence, you may observe unexpected behavior. Please pass your input's `attention_mask` to obtain reliable results.\n",
            "Setting `pad_token_id` to `eos_token_id`:128009 for open-end generation.\n",
            "The attention mask and the pad token id were not set. As a consequence, you may observe unexpected behavior. Please pass your input's `attention_mask` to obtain reliable results.\n",
            "Setting `pad_token_id` to `eos_token_id`:128009 for open-end generation.\n"
          ]
        },
        {
          "output_type": "stream",
          "name": "stdout",
          "text": [
            "\n",
            "\n",
            "対象となるドキュメント:\n",
            " Amazon SageMaker AI でのマネージドスポットトレーニング - Amazon SageMaker AIAmazon SageMaker AI でのマネージドスポットトレーニング - Amazon SageMaker AIドキュメントAmazon SageMakerデベロッパーガイド翻訳は機械翻訳により提供されています。\n",
            "提供された翻訳内容と英語版の間で齟齬、不一致または矛盾がある場合、英語版が優先します。\n",
            "Amazon SageMaker AI でのマネージドスポットトレーニングAmazon SageMaker AI を使用すると、マネージド Amazon EC2 スポットインスタンスを使用して機械学習モデルを簡単にトレーニングできます。\n",
            "マネージド型のスポットトレーニングでは、オンデマンドインスタンスと比較して、トレーニングモデルのコストを最大 90% 抑えることができます。\n",
            "SageMaker AI は、ユーザーに代わってスポットの中断を管理します。\n",
            "マネージドスポットトレーニングでは、オンデマンドインスタンスではなく Amazon EC2 スポットインスタンスを使用してトレーニングジョブを実行します。\n",
            "スポットインスタンスを使用するトレーニングジョブと、SageMaker AI が Amazon EC2 スポットインスタンスを使用してジョブの実行を待機する時間を指定する停止条件を指定できます。\n",
            "トレーニングの実行中に生成されたメトリクスとログは、CloudWatch にあります。\n",
            "Amazon SageMaker AI 自動モデル調整は、ハイパーパラメータ調整とも呼ばれ、マネージドスポットトレーニングを使用できます。\n",
            "自動モデルチューニングの詳細については、「SageMaker AI による自動モデル調整」を参照してください。\n",
            "スポットインスタンスは中断されることがあります。\n",
            "その場合、ジョブの開始または終了に時間がかかる場合があります。\n",
            "チェックポイントを使用するように、マネージドスポットトレーニングジョブを設定できます。\n",
            "SageMaker AI はチェックポイントデータをローカルパスから Amazon S3 にコピーします。\n",
            "ジョブが再起動されると、SageMaker AI は Amazon S3 からローカルパスにデータをコピーします。\n",
            "その結果、トレーニングジョブは最初からではなく、最後のチェックポイントから再開できます。\n",
            "チェックポイントの詳細については、Amazon SageMaker AI のチェックポイントを参照してください。\n",
            "注記トレーニングジョブがすぐに完了しない限り、マネージド型のスポットトレーニングでチェックポイントを使用することをお勧めします。\n",
            "チェックポイントを使用しない SageMaker AI 組み込みアルゴリズムとマーケットプレイスアルゴリズムは現在、3600 秒 (60 分) MaxWaitTimeInSecondsの に制限されています。\n",
            "マネージド型スポットトレーニングを使用するには、トレーニングジョブを作成します。\n",
            "EnableManagedSpotTraining を True に設定し、MaxWaitTimeInSeconds を指定します。\n",
            "MaxWaitTimeInSeconds は、MaxRuntimeInSeconds より大きい値にする必要があります。\n",
            "トレーニングジョブの作成の詳細については、「DescribeTrainingJob」を参照してください。\n",
            "削減率を計算するには、式 (1 -\n",
            "    (BillableTimeInSeconds / TrainingTimeInSeconds)) * 100 を使用して、マネージド型スポットトレーニングを使用します。\n",
            "例えば、BillableTimeInSeconds が 100 で TrainingTimeInSeconds が 500 の場合、トレーニングジョブは 500 秒間実行されたが、請求されたのは 100 秒だけであることを意味します。\n",
            "節約できたのは、(1 - (100/500)) * 100 = 80% です。\n",
            "Amazon SageMaker AI スポットインスタンスでトレーニングジョブを実行する方法と、マネージドスポットトレーニングの仕組みと請求対象時間を短縮する方法については、次のサンプルノートブックを参照してください。\n",
            "\n",
            "\n",
            "\n",
            "\n",
            "\n",
            "\n",
            "\n"
          ]
        },
        {
          "output_type": "stream",
          "name": "stderr",
          "text": [
            "The attention mask and the pad token id were not set. As a consequence, you may observe unexpected behavior. Please pass your input's `attention_mask` to obtain reliable results.\n",
            "Setting `pad_token_id` to `eos_token_id`:128009 for open-end generation.\n",
            "The attention mask and the pad token id were not set. As a consequence, you may observe unexpected behavior. Please pass your input's `attention_mask` to obtain reliable results.\n",
            "Setting `pad_token_id` to `eos_token_id`:128009 for open-end generation.\n"
          ]
        },
        {
          "output_type": "stream",
          "name": "stdout",
          "text": [
            "\n",
            "\n",
            "\n",
            "\n",
            "\n",
            "\n"
          ]
        },
        {
          "output_type": "stream",
          "name": "stderr",
          "text": [
            "The attention mask and the pad token id were not set. As a consequence, you may observe unexpected behavior. Please pass your input's `attention_mask` to obtain reliable results.\n",
            "Setting `pad_token_id` to `eos_token_id`:128009 for open-end generation.\n",
            "The attention mask and the pad token id were not set. As a consequence, you may observe unexpected behavior. Please pass your input's `attention_mask` to obtain reliable results.\n",
            "Setting `pad_token_id` to `eos_token_id`:128009 for open-end generation.\n"
          ]
        },
        {
          "output_type": "stream",
          "name": "stdout",
          "text": [
            "\n",
            "\n",
            "対象となるドキュメント:\n",
            " SageMaker Unified Studio での Amazon Bedrock のスムーズなオンボーディングエクスペリエンスを促進するために、「ユーザーガイド」で詳細なドキュメントをご覧いただけます。\n",
            "追加の質問がある場合やさらにサポートが必要な場合は、担当の AWS アカウントチームに遠慮なくお問い合わせください。\n",
            "\n",
            "Amazon SageMaker AI でのマネージドスポットトレーニング - Amazon SageMaker AIAmazon SageMaker AI でのマネージドスポットトレーニング - Amazon SageMaker AIドキュメントAmazon SageMakerデベロッパーガイド翻訳は機械翻訳により提供されています。\n",
            "提供された翻訳内容と英語版の間で齟齬、不一致または矛盾がある場合、英語版が優先します。\n",
            "Amazon SageMaker AI でのマネージドスポットトレーニングAmazon SageMaker AI を使用すると、マネージド Amazon EC2 スポットインスタンスを使用して機械学習モデルを簡単にトレーニングできます。\n",
            "マネージド型のスポットトレーニングでは、オンデマンドインスタンスと比較して、トレーニングモデルのコストを最大 90% 抑えることができます。\n",
            "SageMaker AI は、ユーザーに代わってスポットの中断を管理します。\n",
            "マネージドスポットトレーニングでは、オンデマンドインスタンスではなく Amazon EC2 スポットインスタンスを使用してトレーニングジョブを実行します。\n",
            "スポットインスタンスを使用するトレーニングジョブと、SageMaker AI が Amazon EC2 スポットインスタンスを使用してジョブの実行を待機する時間を指定する停止条件を指定できます。\n",
            "トレーニングの実行中に生成されたメトリクスとログは、CloudWatch にあります。\n",
            "Amazon SageMaker AI 自動モデル調整は、ハイパーパラメータ調整とも呼ばれ、マネージドスポットトレーニングを使用できます。\n",
            "自動モデルチューニングの詳細については、「SageMaker AI による自動モデル調整」を参照してください。\n",
            "スポットインスタンスは中断されることがあります。\n",
            "その場合、ジョブの開始または終了に時間がかかる場合があります。\n",
            "チェックポイントを使用するように、マネージドスポットトレーニングジョブを設定できます。\n",
            "SageMaker AI はチェックポイントデータをローカルパスから Amazon S3 にコピーします。\n",
            "ジョブが再起動されると、SageMaker AI は Amazon S3 からローカルパスにデータをコピーします。\n",
            "その結果、トレーニングジョブは最初からではなく、最後のチェックポイントから再開できます。\n",
            "チェックポイントの詳細については、Amazon SageMaker AI のチェックポイントを参照してください。\n",
            "注記トレーニングジョブがすぐに完了しない限り、マネージド型のスポットトレーニングでチェックポイントを使用することをお勧めします。\n",
            "チェックポイントを使用しない SageMaker AI 組み込みアルゴリズムとマーケットプレイスアルゴリズムは現在、3600 秒 (60 分) MaxWaitTimeInSecondsの に制限されています。\n",
            "マネージド型スポットトレーニングを使用するには、トレーニングジョブを作成します。\n",
            "EnableManagedSpotTraining を True に設定し、MaxWaitTimeInSeconds を指定します。\n",
            "MaxWaitTimeInSeconds は、MaxRuntimeInSeconds より大きい値にする必要があります。\n",
            "トレーニングジョブの作成の詳細については、「DescribeTrainingJob」を参照してください。\n",
            "削減率を計算するには、式 (1 -\n",
            "\n",
            "\n",
            "\n",
            "\n",
            "\n",
            "対象となるドキュメント:\n",
            " Amazon SageMaker AI でのマネージドスポットトレーニング - Amazon SageMaker AIAmazon SageMaker AI でのマネージドスポットトレーニング - Amazon SageMaker AIドキュメントAmazon SageMakerデベロッパーガイド翻訳は機械翻訳により提供されています。\n",
            "提供された翻訳内容と英語版の間で齟齬、不一致または矛盾がある場合、英語版が優先します。\n",
            "Amazon SageMaker AI でのマネージドスポットトレーニングAmazon SageMaker AI を使用すると、マネージド Amazon EC2 スポットインスタンスを使用して機械学習モデルを簡単にトレーニングできます。\n",
            "マネージド型のスポットトレーニングでは、オンデマンドインスタンスと比較して、トレーニングモデルのコストを最大 90% 抑えることができます。\n",
            "SageMaker AI は、ユーザーに代わってスポットの中断を管理します。\n",
            "マネージドスポットトレーニングでは、オンデマンドインスタンスではなく Amazon EC2 スポットインスタンスを使用してトレーニングジョブを実行します。\n",
            "スポットインスタンスを使用するトレーニングジョブと、SageMaker AI が Amazon EC2 スポットインスタンスを使用してジョブの実行を待機する時間を指定する停止条件を指定できます。\n",
            "トレーニングの実行中に生成されたメトリクスとログは、CloudWatch にあります。\n",
            "Amazon SageMaker AI 自動モデル調整は、ハイパーパラメータ調整とも呼ばれ、マネージドスポットトレーニングを使用できます。\n",
            "自動モデルチューニングの詳細については、「SageMaker AI による自動モデル調整」を参照してください。\n",
            "スポットインスタンスは中断されることがあります。\n",
            "その場合、ジョブの開始または終了に時間がかかる場合があります。\n",
            "チェックポイントを使用するように、マネージドスポットトレーニングジョブを設定できます。\n",
            "SageMaker AI はチェックポイントデータをローカルパスから Amazon S3 にコピーします。\n",
            "ジョブが再起動されると、SageMaker AI は Amazon S3 からローカルパスにデータをコピーします。\n",
            "その結果、トレーニングジョブは最初からではなく、最後のチェックポイントから再開できます。\n",
            "チェックポイントの詳細については、Amazon SageMaker AI のチェックポイントを参照してください。\n",
            "注記トレーニングジョブがすぐに完了しない限り、マネージド型のスポットトレーニングでチェックポイントを使用することをお勧めします。\n",
            "チェックポイントを使用しない SageMaker AI 組み込みアルゴリズムとマーケットプレイスアルゴリズムは現在、3600 秒 (60 分) MaxWaitTimeInSecondsの に制限されています。\n",
            "マネージド型スポットトレーニングを使用するには、トレーニングジョブを作成します。\n",
            "EnableManagedSpotTraining を True に設定し、MaxWaitTimeInSeconds を指定します。\n",
            "MaxWaitTimeInSeconds は、MaxRuntimeInSeconds より大きい値にする必要があります。\n",
            "トレーニングジョブの作成の詳細については、「DescribeTrainingJob」を参照してください。\n",
            "削減率を計算するには、式 (1 -\n",
            "    (BillableTimeInSeconds / TrainingTimeInSeconds)) * 100 を使用して、マネージド型スポットトレーニングを使用します。\n",
            "例えば、BillableTimeInSeconds が 100 で TrainingTimeInSeconds が 500 の場合、トレーニングジョブは 500 秒間実行されたが、請求されたのは 100 秒だけであることを意味します。\n",
            "節約できたのは、(1 - (100/500)) * 100 = 80% です。\n",
            "Amazon SageMaker AI スポットインスタンスでトレーニングジョブを実行する方法と、マネージドスポットトレーニングの仕組みと請求対象時間を短縮する方法については、次のサンプルノートブックを参照してください。\n",
            "\n",
            "\n",
            "\n",
            "\n"
          ]
        },
        {
          "output_type": "stream",
          "name": "stderr",
          "text": [
            "The attention mask and the pad token id were not set. As a consequence, you may observe unexpected behavior. Please pass your input's `attention_mask` to obtain reliable results.\n",
            "Setting `pad_token_id` to `eos_token_id`:128009 for open-end generation.\n",
            "The attention mask and the pad token id were not set. As a consequence, you may observe unexpected behavior. Please pass your input's `attention_mask` to obtain reliable results.\n",
            "Setting `pad_token_id` to `eos_token_id`:128009 for open-end generation.\n"
          ]
        },
        {
          "output_type": "stream",
          "name": "stdout",
          "text": [
            "\n",
            "\n",
            "\n",
            "\n",
            "\n",
            "\n"
          ]
        },
        {
          "output_type": "stream",
          "name": "stderr",
          "text": [
            "The attention mask and the pad token id were not set. As a consequence, you may observe unexpected behavior. Please pass your input's `attention_mask` to obtain reliable results.\n",
            "Setting `pad_token_id` to `eos_token_id`:128009 for open-end generation.\n",
            "The attention mask and the pad token id were not set. As a consequence, you may observe unexpected behavior. Please pass your input's `attention_mask` to obtain reliable results.\n",
            "Setting `pad_token_id` to `eos_token_id`:128009 for open-end generation.\n"
          ]
        },
        {
          "output_type": "stream",
          "name": "stdout",
          "text": [
            "\n",
            "\n",
            "\n",
            "\n",
            "\n",
            "対象となるドキュメント:\n",
            " SageMaker Unified Studio での Amazon Bedrock のスムーズなオンボーディングエクスペリエンスを促進するために、「ユーザーガイド」で詳細なドキュメントをご覧いただけます。\n",
            "追加の質問がある場合やさらにサポートが必要な場合は、担当の AWS アカウントチームに遠慮なくお問い合わせください。\n",
            "\n",
            "Amazon SageMaker AI でのマネージドスポットトレーニング - Amazon SageMaker AIAmazon SageMaker AI でのマネージドスポットトレーニング - Amazon SageMaker AIドキュメントAmazon SageMakerデベロッパーガイド翻訳は機械翻訳により提供されています。\n",
            "提供された翻訳内容と英語版の間で齟齬、不一致または矛盾がある場合、英語版が優先します。\n",
            "Amazon SageMaker AI でのマネージドスポットトレーニングAmazon SageMaker AI を使用すると、マネージド Amazon EC2 スポットインスタンスを使用して機械学習モデルを簡単にトレーニングできます。\n",
            "マネージド型のスポットトレーニングでは、オンデマンドインスタンスと比較して、トレーニングモデルのコストを最大 90% 抑えることができます。\n",
            "SageMaker AI は、ユーザーに代わってスポットの中断を管理します。\n",
            "マネージドスポットトレーニングでは、オンデマンドインスタンスではなく Amazon EC2 スポットインスタンスを使用してトレーニングジョブを実行します。\n",
            "スポットインスタンスを使用するトレーニングジョブと、SageMaker AI が Amazon EC2 スポットインスタンスを使用してジョブの実行を待機する時間を指定する停止条件を指定できます。\n",
            "トレーニングの実行中に生成されたメトリクスとログは、CloudWatch にあります。\n",
            "Amazon SageMaker AI 自動モデル調整は、ハイパーパラメータ調整とも呼ばれ、マネージドスポットトレーニングを使用できます。\n",
            "自動モデルチューニングの詳細については、「SageMaker AI による自動モデル調整」を参照してください。\n",
            "スポットインスタンスは中断されることがあります。\n",
            "その場合、ジョブの開始または終了に時間がかかる場合があります。\n",
            "チェックポイントを使用するように、マネージドスポットトレーニングジョブを設定できます。\n",
            "SageMaker AI はチェックポイントデータをローカルパスから Amazon S3 にコピーします。\n",
            "ジョブが再起動されると、SageMaker AI は Amazon S3 からローカルパスにデータをコピーします。\n",
            "その結果、トレーニングジョブは最初からではなく、最後のチェックポイントから再開できます。\n",
            "チェックポイントの詳細については、Amazon SageMaker AI のチェックポイントを参照してください。\n",
            "注記トレーニングジョブがすぐに完了しない限り、マネージド型のスポットトレーニングでチェックポイントを使用することをお勧めします。\n",
            "チェックポイントを使用しない SageMaker AI 組み込みアルゴリズムとマーケットプレイスアルゴリズムは現在、3600 秒 (60 分) MaxWaitTimeInSecondsの に制限されています。\n",
            "マネージド型スポットトレーニングを使用するには、トレーニングジョブを作成します。\n",
            "EnableManagedSpotTraining を True に設定し、MaxWaitTimeInSeconds を指定します。\n",
            "MaxWaitTimeInSeconds は、MaxRuntimeInSeconds より大きい値にする必要があります。\n",
            "トレーニングジョブの作成の詳細については、「DescribeTrainingJob」を参照してください。\n",
            "削減率を計算するには、式 (1 -\n",
            "\n",
            "\n",
            "\n"
          ]
        },
        {
          "output_type": "stream",
          "name": "stderr",
          "text": [
            "The attention mask and the pad token id were not set. As a consequence, you may observe unexpected behavior. Please pass your input's `attention_mask` to obtain reliable results.\n",
            "Setting `pad_token_id` to `eos_token_id`:128009 for open-end generation.\n",
            "The attention mask and the pad token id were not set. As a consequence, you may observe unexpected behavior. Please pass your input's `attention_mask` to obtain reliable results.\n",
            "Setting `pad_token_id` to `eos_token_id`:128009 for open-end generation.\n"
          ]
        },
        {
          "output_type": "stream",
          "name": "stdout",
          "text": [
            "\n",
            "\n",
            "対象となるドキュメント:\n",
            " Amazon SageMaker AI でのマネージドスポットトレーニング - Amazon SageMaker AIAmazon SageMaker AI でのマネージドスポットトレーニング - Amazon SageMaker AIドキュメントAmazon SageMakerデベロッパーガイド翻訳は機械翻訳により提供されています。\n",
            "提供された翻訳内容と英語版の間で齟齬、不一致または矛盾がある場合、英語版が優先します。\n",
            "Amazon SageMaker AI でのマネージドスポットトレーニングAmazon SageMaker AI を使用すると、マネージド Amazon EC2 スポットインスタンスを使用して機械学習モデルを簡単にトレーニングできます。\n",
            "マネージド型のスポットトレーニングでは、オンデマンドインスタンスと比較して、トレーニングモデルのコストを最大 90% 抑えることができます。\n",
            "SageMaker AI は、ユーザーに代わってスポットの中断を管理します。\n",
            "マネージドスポットトレーニングでは、オンデマンドインスタンスではなく Amazon EC2 スポットインスタンスを使用してトレーニングジョブを実行します。\n",
            "スポットインスタンスを使用するトレーニングジョブと、SageMaker AI が Amazon EC2 スポットインスタンスを使用してジョブの実行を待機する時間を指定する停止条件を指定できます。\n",
            "トレーニングの実行中に生成されたメトリクスとログは、CloudWatch にあります。\n",
            "Amazon SageMaker AI 自動モデル調整は、ハイパーパラメータ調整とも呼ばれ、マネージドスポットトレーニングを使用できます。\n",
            "自動モデルチューニングの詳細については、「SageMaker AI による自動モデル調整」を参照してください。\n",
            "スポットインスタンスは中断されることがあります。\n",
            "その場合、ジョブの開始または終了に時間がかかる場合があります。\n",
            "チェックポイントを使用するように、マネージドスポットトレーニングジョブを設定できます。\n",
            "SageMaker AI はチェックポイントデータをローカルパスから Amazon S3 にコピーします。\n",
            "ジョブが再起動されると、SageMaker AI は Amazon S3 からローカルパスにデータをコピーします。\n",
            "その結果、トレーニングジョブは最初からではなく、最後のチェックポイントから再開できます。\n",
            "チェックポイントの詳細については、Amazon SageMaker AI のチェックポイントを参照してください。\n",
            "注記トレーニングジョブがすぐに完了しない限り、マネージド型のスポットトレーニングでチェックポイントを使用することをお勧めします。\n",
            "チェックポイントを使用しない SageMaker AI 組み込みアルゴリズムとマーケットプレイスアルゴリズムは現在、3600 秒 (60 分) MaxWaitTimeInSecondsの に制限されています。\n",
            "マネージド型スポットトレーニングを使用するには、トレーニングジョブを作成します。\n",
            "EnableManagedSpotTraining を True に設定し、MaxWaitTimeInSeconds を指定します。\n",
            "MaxWaitTimeInSeconds は、MaxRuntimeInSeconds より大きい値にする必要があります。\n",
            "トレーニングジョブの作成の詳細については、「DescribeTrainingJob」を参照してください。\n",
            "削減率を計算するには、式 (1 -\n",
            "    (BillableTimeInSeconds / TrainingTimeInSeconds)) * 100 を使用して、マネージド型スポットトレーニングを使用します。\n",
            "例えば、BillableTimeInSeconds が 100 で TrainingTimeInSeconds が 500 の場合、トレーニングジョブは 500 秒間実行されたが、請求されたのは 100 秒だけであることを意味します。\n",
            "節約できたのは、(1 - (100/500)) * 100 = 80% です。\n",
            "Amazon SageMaker AI スポットインスタンスでトレーニングジョブを実行する方法と、マネージドスポットトレーニングの仕組みと請求対象時間を短縮する方法については、次のサンプルノートブックを参照してください。\n",
            "\n",
            "\n",
            "\n",
            "\n",
            "\n",
            "\n",
            "\n"
          ]
        },
        {
          "output_type": "stream",
          "name": "stderr",
          "text": [
            "The attention mask and the pad token id were not set. As a consequence, you may observe unexpected behavior. Please pass your input's `attention_mask` to obtain reliable results.\n",
            "Setting `pad_token_id` to `eos_token_id`:128009 for open-end generation.\n",
            "The attention mask and the pad token id were not set. As a consequence, you may observe unexpected behavior. Please pass your input's `attention_mask` to obtain reliable results.\n",
            "Setting `pad_token_id` to `eos_token_id`:128009 for open-end generation.\n"
          ]
        },
        {
          "output_type": "stream",
          "name": "stdout",
          "text": [
            "\n",
            "\n",
            "\n",
            "\n",
            "\n",
            "\n"
          ]
        },
        {
          "output_type": "stream",
          "name": "stderr",
          "text": [
            "The attention mask and the pad token id were not set. As a consequence, you may observe unexpected behavior. Please pass your input's `attention_mask` to obtain reliable results.\n",
            "Setting `pad_token_id` to `eos_token_id`:128009 for open-end generation.\n",
            "The attention mask and the pad token id were not set. As a consequence, you may observe unexpected behavior. Please pass your input's `attention_mask` to obtain reliable results.\n",
            "Setting `pad_token_id` to `eos_token_id`:128009 for open-end generation.\n"
          ]
        },
        {
          "output_type": "stream",
          "name": "stdout",
          "text": [
            "\n",
            "\n",
            "対象となるドキュメント:\n",
            " SageMaker Unified Studio での Amazon Bedrock のスムーズなオンボーディングエクスペリエンスを促進するために、「ユーザーガイド」で詳細なドキュメントをご覧いただけます。\n",
            "追加の質問がある場合やさらにサポートが必要な場合は、担当の AWS アカウントチームに遠慮なくお問い合わせください。\n",
            "\n",
            "Amazon SageMaker AI でのマネージドスポットトレーニング - Amazon SageMaker AIAmazon SageMaker AI でのマネージドスポットトレーニング - Amazon SageMaker AIドキュメントAmazon SageMakerデベロッパーガイド翻訳は機械翻訳により提供されています。\n",
            "提供された翻訳内容と英語版の間で齟齬、不一致または矛盾がある場合、英語版が優先します。\n",
            "Amazon SageMaker AI でのマネージドスポットトレーニングAmazon SageMaker AI を使用すると、マネージド Amazon EC2 スポットインスタンスを使用して機械学習モデルを簡単にトレーニングできます。\n",
            "マネージド型のスポットトレーニングでは、オンデマンドインスタンスと比較して、トレーニングモデルのコストを最大 90% 抑えることができます。\n",
            "SageMaker AI は、ユーザーに代わってスポットの中断を管理します。\n",
            "マネージドスポットトレーニングでは、オンデマンドインスタンスではなく Amazon EC2 スポットインスタンスを使用してトレーニングジョブを実行します。\n",
            "スポットインスタンスを使用するトレーニングジョブと、SageMaker AI が Amazon EC2 スポットインスタンスを使用してジョブの実行を待機する時間を指定する停止条件を指定できます。\n",
            "トレーニングの実行中に生成されたメトリクスとログは、CloudWatch にあります。\n",
            "Amazon SageMaker AI 自動モデル調整は、ハイパーパラメータ調整とも呼ばれ、マネージドスポットトレーニングを使用できます。\n",
            "自動モデルチューニングの詳細については、「SageMaker AI による自動モデル調整」を参照してください。\n",
            "スポットインスタンスは中断されることがあります。\n",
            "その場合、ジョブの開始または終了に時間がかかる場合があります。\n",
            "チェックポイントを使用するように、マネージドスポットトレーニングジョブを設定できます。\n",
            "SageMaker AI はチェックポイントデータをローカルパスから Amazon S3 にコピーします。\n",
            "ジョブが再起動されると、SageMaker AI は Amazon S3 からローカルパスにデータをコピーします。\n",
            "その結果、トレーニングジョブは最初からではなく、最後のチェックポイントから再開できます。\n",
            "チェックポイントの詳細については、Amazon SageMaker AI のチェックポイントを参照してください。\n",
            "注記トレーニングジョブがすぐに完了しない限り、マネージド型のスポットトレーニングでチェックポイントを使用することをお勧めします。\n",
            "チェックポイントを使用しない SageMaker AI 組み込みアルゴリズムとマーケットプレイスアルゴリズムは現在、3600 秒 (60 分) MaxWaitTimeInSecondsの に制限されています。\n",
            "マネージド型スポットトレーニングを使用するには、トレーニングジョブを作成します。\n",
            "EnableManagedSpotTraining を True に設定し、MaxWaitTimeInSeconds を指定します。\n",
            "MaxWaitTimeInSeconds は、MaxRuntimeInSeconds より大きい値にする必要があります。\n",
            "トレーニングジョブの作成の詳細については、「DescribeTrainingJob」を参照してください。\n",
            "削減率を計算するには、式 (1 -\n",
            "\n",
            "\n",
            "\n",
            "\n",
            "\n",
            "対象となるドキュメント:\n",
            " Amazon SageMaker AI でのマネージドスポットトレーニング - Amazon SageMaker AIAmazon SageMaker AI でのマネージドスポットトレーニング - Amazon SageMaker AIドキュメントAmazon SageMakerデベロッパーガイド翻訳は機械翻訳により提供されています。\n",
            "提供された翻訳内容と英語版の間で齟齬、不一致または矛盾がある場合、英語版が優先します。\n",
            "Amazon SageMaker AI でのマネージドスポットトレーニングAmazon SageMaker AI を使用すると、マネージド Amazon EC2 スポットインスタンスを使用して機械学習モデルを簡単にトレーニングできます。\n",
            "マネージド型のスポットトレーニングでは、オンデマンドインスタンスと比較して、トレーニングモデルのコストを最大 90% 抑えることができます。\n",
            "SageMaker AI は、ユーザーに代わってスポットの中断を管理します。\n",
            "マネージドスポットトレーニングでは、オンデマンドインスタンスではなく Amazon EC2 スポットインスタンスを使用してトレーニングジョブを実行します。\n",
            "スポットインスタンスを使用するトレーニングジョブと、SageMaker AI が Amazon EC2 スポットインスタンスを使用してジョブの実行を待機する時間を指定する停止条件を指定できます。\n",
            "トレーニングの実行中に生成されたメトリクスとログは、CloudWatch にあります。\n",
            "Amazon SageMaker AI 自動モデル調整は、ハイパーパラメータ調整とも呼ばれ、マネージドスポットトレーニングを使用できます。\n",
            "自動モデルチューニングの詳細については、「SageMaker AI による自動モデル調整」を参照してください。\n",
            "スポットインスタンスは中断されることがあります。\n",
            "その場合、ジョブの開始または終了に時間がかかる場合があります。\n",
            "チェックポイントを使用するように、マネージドスポットトレーニングジョブを設定できます。\n",
            "SageMaker AI はチェックポイントデータをローカルパスから Amazon S3 にコピーします。\n",
            "ジョブが再起動されると、SageMaker AI は Amazon S3 からローカルパスにデータをコピーします。\n",
            "その結果、トレーニングジョブは最初からではなく、最後のチェックポイントから再開できます。\n",
            "チェックポイントの詳細については、Amazon SageMaker AI のチェックポイントを参照してください。\n",
            "注記トレーニングジョブがすぐに完了しない限り、マネージド型のスポットトレーニングでチェックポイントを使用することをお勧めします。\n",
            "チェックポイントを使用しない SageMaker AI 組み込みアルゴリズムとマーケットプレイスアルゴリズムは現在、3600 秒 (60 分) MaxWaitTimeInSecondsの に制限されています。\n",
            "マネージド型スポットトレーニングを使用するには、トレーニングジョブを作成します。\n",
            "EnableManagedSpotTraining を True に設定し、MaxWaitTimeInSeconds を指定します。\n",
            "MaxWaitTimeInSeconds は、MaxRuntimeInSeconds より大きい値にする必要があります。\n",
            "トレーニングジョブの作成の詳細については、「DescribeTrainingJob」を参照してください。\n",
            "削減率を計算するには、式 (1 -\n",
            "    (BillableTimeInSeconds / TrainingTimeInSeconds)) * 100 を使用して、マネージド型スポットトレーニングを使用します。\n",
            "例えば、BillableTimeInSeconds が 100 で TrainingTimeInSeconds が 500 の場合、トレーニングジョブは 500 秒間実行されたが、請求されたのは 100 秒だけであることを意味します。\n",
            "節約できたのは、(1 - (100/500)) * 100 = 80% です。\n",
            "Amazon SageMaker AI スポットインスタンスでトレーニングジョブを実行する方法と、マネージドスポットトレーニングの仕組みと請求対象時間を短縮する方法については、次のサンプルノートブックを参照してください。\n",
            "\n",
            "\n",
            "\n",
            "\n"
          ]
        },
        {
          "output_type": "stream",
          "name": "stderr",
          "text": [
            "The attention mask and the pad token id were not set. As a consequence, you may observe unexpected behavior. Please pass your input's `attention_mask` to obtain reliable results.\n",
            "Setting `pad_token_id` to `eos_token_id`:128009 for open-end generation.\n",
            "The attention mask and the pad token id were not set. As a consequence, you may observe unexpected behavior. Please pass your input's `attention_mask` to obtain reliable results.\n",
            "Setting `pad_token_id` to `eos_token_id`:128009 for open-end generation.\n"
          ]
        },
        {
          "output_type": "stream",
          "name": "stdout",
          "text": [
            "\n",
            "\n",
            "\n",
            "\n",
            "\n",
            "\n"
          ]
        },
        {
          "output_type": "stream",
          "name": "stderr",
          "text": [
            "The attention mask and the pad token id were not set. As a consequence, you may observe unexpected behavior. Please pass your input's `attention_mask` to obtain reliable results.\n",
            "Setting `pad_token_id` to `eos_token_id`:128009 for open-end generation.\n"
          ]
        },
        {
          "output_type": "stream",
          "name": "stdout",
          "text": [
            "\n",
            "\n",
            "\n",
            "**回答**\n",
            "SageMakerのトレーニング費用を抑える方法として、以下のような方法があります。\n",
            "\n",
            "1. マネージドスポットトレーニング：マネージドスポットトレーニングを使用することで、オンデマンドインスタンスと比較して、トレーニングモデルのコストを最大 90% 抑えることができます。\n",
            "2. チェックポイントの使用：チェックポイントを使用することで、トレーニングジョブが中断された場合、最後のチェックポイントから再開することができます。\n",
            "3. 自動モデル調整：自動モデル調整を使用することで、ハイパーパラメータ調整を自動化し、トレーニングの効率を向上させることができます。\n",
            "4. トレーニングジョブの最適化：トレーニングジョブの最適化を行うことで、トレーニングの時間を短縮し、コストを抑えることができます。\n",
            "5. Spot Instance の使用：Spot Instance を使用することで、トレーニングジョブを実行するインスタンスのコストを抑えることができます。\n",
            "\n",
            "また、SageMaker AI のド\n",
            "\n",
            "---\n",
            "\n",
            "### 5. Notebook Instance と SageMaker Studio はどう使い分けるべきですか？\n"
          ]
        },
        {
          "output_type": "stream",
          "name": "stderr",
          "text": [
            "The attention mask and the pad token id were not set. As a consequence, you may observe unexpected behavior. Please pass your input's `attention_mask` to obtain reliable results.\n",
            "Setting `pad_token_id` to `eos_token_id`:128009 for open-end generation.\n",
            "The attention mask and the pad token id were not set. As a consequence, you may observe unexpected behavior. Please pass your input's `attention_mask` to obtain reliable results.\n",
            "Setting `pad_token_id` to `eos_token_id`:128009 for open-end generation.\n",
            "The attention mask and the pad token id were not set. As a consequence, you may observe unexpected behavior. Please pass your input's `attention_mask` to obtain reliable results.\n",
            "Setting `pad_token_id` to `eos_token_id`:128009 for open-end generation.\n"
          ]
        },
        {
          "output_type": "stream",
          "name": "stdout",
          "text": [
            "\n",
            "\n",
            "対象となるドキュメント:\n",
            " ブラウザで JavaScript が無効になっているか、使用できません。\n",
            "AWS ドキュメントを使用するには、JavaScript を有効にする必要があります。\n",
            "手順については、使用するブラウザのヘルプページを参照してください。\n",
            "ドキュメントの表記規則グループの削除ドメイン内の SageMaker AI リソースを表示するこのページは役に立ちましたか? - はいページが役に立ったことをお知らせいただき、ありがとうございます。\n",
            "お時間がある場合は、何が良かったかお知らせください。\n",
            "今後の参考にさせていただきます。\n",
            "このページは役に立ちましたか? - いいえこのページは修正が必要なことをお知らせいただき、ありがとうございます。\n",
            "ご期待に沿うことができず申し訳ありません。\n",
            "お時間がある場合は、ドキュメントを改善する方法についてお知らせください。\n",
            "\n",
            "Amazon SageMaker Studio Classic ノートブックとノートブックインスタンスはどのように違いますか? - Amazon SageMaker AIAmazon SageMaker Studio Classic ノートブックとノートブックインスタンスはどのように違いますか? - Amazon SageMaker AIドキュメントAmazon SageMakerデベロッパーガイド翻訳は機械翻訳により提供されています。\n",
            "提供された翻訳内容と英語版の間で齟齬、不一致または矛盾がある場合、英語版が優先します。\n",
            "Amazon SageMaker Studio Classic ノートブックとノートブックインスタンスはどのように違いますか?重要2023 年 11 月 30 日以降、従来の Amazon SageMaker Studio のエクスペリエンスは Amazon SageMaker Studio Classic と名前が変更されました。\n",
            "以下のセクションは、Studio Classic アプリケーションの使用を前提とした内容です。\n",
            "更新後の Studio エクスペリエンスを使用する場合は、「Amazon SageMaker Studio」を参照してください。\n",
            "新しいノートブックを起動する場合は、Amazon SageMaker AI コンソールからノートブックインスタンスを起動する代わりに、Amazon SageMaker Studio Classic でノートブックを作成することをお勧めします。\n",
            "Studio Classic ノートブックには、次のような多くの利点があります。\n",
            "\n",
            "\n",
            "\n",
            "\n",
            "\n",
            "\n",
            "\n"
          ]
        },
        {
          "output_type": "stream",
          "name": "stderr",
          "text": [
            "The attention mask and the pad token id were not set. As a consequence, you may observe unexpected behavior. Please pass your input's `attention_mask` to obtain reliable results.\n",
            "Setting `pad_token_id` to `eos_token_id`:128009 for open-end generation.\n",
            "The attention mask and the pad token id were not set. As a consequence, you may observe unexpected behavior. Please pass your input's `attention_mask` to obtain reliable results.\n",
            "Setting `pad_token_id` to `eos_token_id`:128009 for open-end generation.\n"
          ]
        },
        {
          "output_type": "stream",
          "name": "stdout",
          "text": [
            "\n",
            "\n",
            "\n",
            "\n",
            "\n",
            "\n"
          ]
        },
        {
          "output_type": "stream",
          "name": "stderr",
          "text": [
            "The attention mask and the pad token id were not set. As a consequence, you may observe unexpected behavior. Please pass your input's `attention_mask` to obtain reliable results.\n",
            "Setting `pad_token_id` to `eos_token_id`:128009 for open-end generation.\n",
            "The attention mask and the pad token id were not set. As a consequence, you may observe unexpected behavior. Please pass your input's `attention_mask` to obtain reliable results.\n",
            "Setting `pad_token_id` to `eos_token_id`:128009 for open-end generation.\n"
          ]
        },
        {
          "output_type": "stream",
          "name": "stdout",
          "text": [
            "\n",
            "\n",
            "対象となるドキュメント:\n",
            " 直接アクセス: IAM アイデンティティセンターを使用する場合、固有の URL を通じて IAM アイデンティティセンターの認証情報を使用して Studio Classic に直接アクセスできます。\n",
            "ノートブック AWS Management Console を実行するために を操作する必要はありません。\n",
            "\n",
            "最適化されたイメージ: Studio Classic ノートブックには、あらかじめ定義された一連の SageMaker イメージ設定が用意されており、すぐに使用を開始することができます。\n",
            "\n",
            "\n",
            "\n",
            "\n",
            "\n",
            "\n",
            "対象となるドキュメント:\n",
            " ブラウザで JavaScript が無効になっているか、使用できません。\n",
            "AWS ドキュメントを使用するには、JavaScript を有効にする必要があります。\n",
            "手順については、使用するブラウザのヘルプページを参照してください。\n",
            "ドキュメントの表記規則グループの削除ドメイン内の SageMaker AI リソースを表示するこのページは役に立ちましたか? - はいページが役に立ったことをお知らせいただき、ありがとうございます。\n",
            "お時間がある場合は、何が良かったかお知らせください。\n",
            "今後の参考にさせていただきます。\n",
            "このページは役に立ちましたか? - いいえこのページは修正が必要なことをお知らせいただき、ありがとうございます。\n",
            "ご期待に沿うことができず申し訳ありません。\n",
            "お時間がある場合は、ドキュメントを改善する方法についてお知らせください。\n",
            "\n",
            "Amazon SageMaker Studio Classic ノートブックとノートブックインスタンスはどのように違いますか? - Amazon SageMaker AIAmazon SageMaker Studio Classic ノートブックとノートブックインスタンスはどのように違いますか? - Amazon SageMaker AIドキュメントAmazon SageMakerデベロッパーガイド翻訳は機械翻訳により提供されています。\n",
            "提供された翻訳内容と英語版の間で齟齬、不一致または矛盾がある場合、英語版が優先します。\n",
            "Amazon SageMaker Studio Classic ノートブックとノートブックインスタンスはどのように違いますか?重要2023 年 11 月 30 日以降、従来の Amazon SageMaker Studio のエクスペリエンスは Amazon SageMaker Studio Classic と名前が変更されました。\n",
            "以下のセクションは、Studio Classic アプリケーションの使用を前提とした内容です。\n",
            "更新後の Studio エクスペリエンスを使用する場合は、「Amazon SageMaker Studio」を参照してください。\n",
            "新しいノートブックを起動する場合は、Amazon SageMaker AI コンソールからノートブックインスタンスを起動する代わりに、Amazon SageMaker Studio Classic でノートブックを作成することをお勧めします。\n",
            "Studio Classic ノートブックには、次のような多くの利点があります。\n",
            "\n",
            "\n",
            "\n",
            "\n"
          ]
        },
        {
          "output_type": "stream",
          "name": "stderr",
          "text": [
            "The attention mask and the pad token id were not set. As a consequence, you may observe unexpected behavior. Please pass your input's `attention_mask` to obtain reliable results.\n",
            "Setting `pad_token_id` to `eos_token_id`:128009 for open-end generation.\n",
            "The attention mask and the pad token id were not set. As a consequence, you may observe unexpected behavior. Please pass your input's `attention_mask` to obtain reliable results.\n",
            "Setting `pad_token_id` to `eos_token_id`:128009 for open-end generation.\n"
          ]
        },
        {
          "output_type": "stream",
          "name": "stdout",
          "text": [
            "\n",
            "\n",
            "\n",
            "\n",
            "\n",
            "\n"
          ]
        },
        {
          "output_type": "stream",
          "name": "stderr",
          "text": [
            "The attention mask and the pad token id were not set. As a consequence, you may observe unexpected behavior. Please pass your input's `attention_mask` to obtain reliable results.\n",
            "Setting `pad_token_id` to `eos_token_id`:128009 for open-end generation.\n",
            "The attention mask and the pad token id were not set. As a consequence, you may observe unexpected behavior. Please pass your input's `attention_mask` to obtain reliable results.\n",
            "Setting `pad_token_id` to `eos_token_id`:128009 for open-end generation.\n"
          ]
        },
        {
          "output_type": "stream",
          "name": "stdout",
          "text": [
            "\n",
            "\n",
            "\n",
            "\n",
            "\n",
            "対象となるドキュメント:\n",
            " 直接アクセス: IAM アイデンティティセンターを使用する場合、固有の URL を通じて IAM アイデンティティセンターの認証情報を使用して Studio Classic に直接アクセスできます。\n",
            "ノートブック AWS Management Console を実行するために を操作する必要はありません。\n",
            "\n",
            "最適化されたイメージ: Studio Classic ノートブックには、あらかじめ定義された一連の SageMaker イメージ設定が用意されており、すぐに使用を開始することができます。\n",
            "\n",
            "\n",
            "\n",
            "\n"
          ]
        },
        {
          "output_type": "stream",
          "name": "stderr",
          "text": [
            "The attention mask and the pad token id were not set. As a consequence, you may observe unexpected behavior. Please pass your input's `attention_mask` to obtain reliable results.\n",
            "Setting `pad_token_id` to `eos_token_id`:128009 for open-end generation.\n",
            "The attention mask and the pad token id were not set. As a consequence, you may observe unexpected behavior. Please pass your input's `attention_mask` to obtain reliable results.\n",
            "Setting `pad_token_id` to `eos_token_id`:128009 for open-end generation.\n"
          ]
        },
        {
          "output_type": "stream",
          "name": "stdout",
          "text": [
            "\n",
            "\n",
            "対象となるドキュメント:\n",
            " ブラウザで JavaScript が無効になっているか、使用できません。\n",
            "AWS ドキュメントを使用するには、JavaScript を有効にする必要があります。\n",
            "手順については、使用するブラウザのヘルプページを参照してください。\n",
            "ドキュメントの表記規則グループの削除ドメイン内の SageMaker AI リソースを表示するこのページは役に立ちましたか? - はいページが役に立ったことをお知らせいただき、ありがとうございます。\n",
            "お時間がある場合は、何が良かったかお知らせください。\n",
            "今後の参考にさせていただきます。\n",
            "このページは役に立ちましたか? - いいえこのページは修正が必要なことをお知らせいただき、ありがとうございます。\n",
            "ご期待に沿うことができず申し訳ありません。\n",
            "お時間がある場合は、ドキュメントを改善する方法についてお知らせください。\n",
            "\n",
            "Amazon SageMaker Studio Classic ノートブックとノートブックインスタンスはどのように違いますか? - Amazon SageMaker AIAmazon SageMaker Studio Classic ノートブックとノートブックインスタンスはどのように違いますか? - Amazon SageMaker AIドキュメントAmazon SageMakerデベロッパーガイド翻訳は機械翻訳により提供されています。\n",
            "提供された翻訳内容と英語版の間で齟齬、不一致または矛盾がある場合、英語版が優先します。\n",
            "Amazon SageMaker Studio Classic ノートブックとノートブックインスタンスはどのように違いますか?重要2023 年 11 月 30 日以降、従来の Amazon SageMaker Studio のエクスペリエンスは Amazon SageMaker Studio Classic と名前が変更されました。\n",
            "以下のセクションは、Studio Classic アプリケーションの使用を前提とした内容です。\n",
            "更新後の Studio エクスペリエンスを使用する場合は、「Amazon SageMaker Studio」を参照してください。\n",
            "新しいノートブックを起動する場合は、Amazon SageMaker AI コンソールからノートブックインスタンスを起動する代わりに、Amazon SageMaker Studio Classic でノートブックを作成することをお勧めします。\n",
            "Studio Classic ノートブックには、次のような多くの利点があります。\n",
            "\n",
            "\n",
            "\n",
            "\n",
            "\n",
            "\n",
            "\n"
          ]
        },
        {
          "output_type": "stream",
          "name": "stderr",
          "text": [
            "The attention mask and the pad token id were not set. As a consequence, you may observe unexpected behavior. Please pass your input's `attention_mask` to obtain reliable results.\n",
            "Setting `pad_token_id` to `eos_token_id`:128009 for open-end generation.\n",
            "The attention mask and the pad token id were not set. As a consequence, you may observe unexpected behavior. Please pass your input's `attention_mask` to obtain reliable results.\n",
            "Setting `pad_token_id` to `eos_token_id`:128009 for open-end generation.\n"
          ]
        },
        {
          "output_type": "stream",
          "name": "stdout",
          "text": [
            "\n",
            "\n",
            "\n",
            "\n",
            "\n",
            "\n"
          ]
        },
        {
          "output_type": "stream",
          "name": "stderr",
          "text": [
            "The attention mask and the pad token id were not set. As a consequence, you may observe unexpected behavior. Please pass your input's `attention_mask` to obtain reliable results.\n",
            "Setting `pad_token_id` to `eos_token_id`:128009 for open-end generation.\n",
            "The attention mask and the pad token id were not set. As a consequence, you may observe unexpected behavior. Please pass your input's `attention_mask` to obtain reliable results.\n",
            "Setting `pad_token_id` to `eos_token_id`:128009 for open-end generation.\n"
          ]
        },
        {
          "output_type": "stream",
          "name": "stdout",
          "text": [
            "\n",
            "\n",
            "対象となるドキュメント:\n",
            " 直接アクセス: IAM アイデンティティセンターを使用する場合、固有の URL を通じて IAM アイデンティティセンターの認証情報を使用して Studio Classic に直接アクセスできます。\n",
            "ノートブック AWS Management Console を実行するために を操作する必要はありません。\n",
            "\n",
            "最適化されたイメージ: Studio Classic ノートブックには、あらかじめ定義された一連の SageMaker イメージ設定が用意されており、すぐに使用を開始することができます。\n",
            "\n",
            "\n",
            "\n",
            "\n",
            "\n",
            "\n",
            "対象となるドキュメント:\n",
            " ブラウザで JavaScript が無効になっているか、使用できません。\n",
            "AWS ドキュメントを使用するには、JavaScript を有効にする必要があります。\n",
            "手順については、使用するブラウザのヘルプページを参照してください。\n",
            "ドキュメントの表記規則グループの削除ドメイン内の SageMaker AI リソースを表示するこのページは役に立ちましたか? - はいページが役に立ったことをお知らせいただき、ありがとうございます。\n",
            "お時間がある場合は、何が良かったかお知らせください。\n",
            "今後の参考にさせていただきます。\n",
            "このページは役に立ちましたか? - いいえこのページは修正が必要なことをお知らせいただき、ありがとうございます。\n",
            "ご期待に沿うことができず申し訳ありません。\n",
            "お時間がある場合は、ドキュメントを改善する方法についてお知らせください。\n",
            "\n",
            "Amazon SageMaker Studio Classic ノートブックとノートブックインスタンスはどのように違いますか? - Amazon SageMaker AIAmazon SageMaker Studio Classic ノートブックとノートブックインスタンスはどのように違いますか? - Amazon SageMaker AIドキュメントAmazon SageMakerデベロッパーガイド翻訳は機械翻訳により提供されています。\n",
            "提供された翻訳内容と英語版の間で齟齬、不一致または矛盾がある場合、英語版が優先します。\n",
            "Amazon SageMaker Studio Classic ノートブックとノートブックインスタンスはどのように違いますか?重要2023 年 11 月 30 日以降、従来の Amazon SageMaker Studio のエクスペリエンスは Amazon SageMaker Studio Classic と名前が変更されました。\n",
            "以下のセクションは、Studio Classic アプリケーションの使用を前提とした内容です。\n",
            "更新後の Studio エクスペリエンスを使用する場合は、「Amazon SageMaker Studio」を参照してください。\n",
            "新しいノートブックを起動する場合は、Amazon SageMaker AI コンソールからノートブックインスタンスを起動する代わりに、Amazon SageMaker Studio Classic でノートブックを作成することをお勧めします。\n",
            "Studio Classic ノートブックには、次のような多くの利点があります。\n",
            "\n",
            "\n",
            "\n",
            "\n"
          ]
        },
        {
          "output_type": "stream",
          "name": "stderr",
          "text": [
            "The attention mask and the pad token id were not set. As a consequence, you may observe unexpected behavior. Please pass your input's `attention_mask` to obtain reliable results.\n",
            "Setting `pad_token_id` to `eos_token_id`:128009 for open-end generation.\n",
            "The attention mask and the pad token id were not set. As a consequence, you may observe unexpected behavior. Please pass your input's `attention_mask` to obtain reliable results.\n",
            "Setting `pad_token_id` to `eos_token_id`:128009 for open-end generation.\n"
          ]
        },
        {
          "output_type": "stream",
          "name": "stdout",
          "text": [
            "\n",
            "\n",
            "\n",
            "\n",
            "\n",
            "\n"
          ]
        },
        {
          "output_type": "stream",
          "name": "stderr",
          "text": [
            "The attention mask and the pad token id were not set. As a consequence, you may observe unexpected behavior. Please pass your input's `attention_mask` to obtain reliable results.\n",
            "Setting `pad_token_id` to `eos_token_id`:128009 for open-end generation.\n",
            "The attention mask and the pad token id were not set. As a consequence, you may observe unexpected behavior. Please pass your input's `attention_mask` to obtain reliable results.\n",
            "Setting `pad_token_id` to `eos_token_id`:128009 for open-end generation.\n"
          ]
        },
        {
          "output_type": "stream",
          "name": "stdout",
          "text": [
            "\n",
            "\n",
            "\n",
            "\n",
            "\n",
            "対象となるドキュメント:\n",
            " 直接アクセス: IAM アイデンティティセンターを使用する場合、固有の URL を通じて IAM アイデンティティセンターの認証情報を使用して Studio Classic に直接アクセスできます。\n",
            "ノートブック AWS Management Console を実行するために を操作する必要はありません。\n",
            "\n",
            "最適化されたイメージ: Studio Classic ノートブックには、あらかじめ定義された一連の SageMaker イメージ設定が用意されており、すぐに使用を開始することができます。\n",
            "\n",
            "\n",
            "\n",
            "\n"
          ]
        },
        {
          "output_type": "stream",
          "name": "stderr",
          "text": [
            "The attention mask and the pad token id were not set. As a consequence, you may observe unexpected behavior. Please pass your input's `attention_mask` to obtain reliable results.\n",
            "Setting `pad_token_id` to `eos_token_id`:128009 for open-end generation.\n",
            "The attention mask and the pad token id were not set. As a consequence, you may observe unexpected behavior. Please pass your input's `attention_mask` to obtain reliable results.\n",
            "Setting `pad_token_id` to `eos_token_id`:128009 for open-end generation.\n"
          ]
        },
        {
          "output_type": "stream",
          "name": "stdout",
          "text": [
            "\n",
            "\n",
            "対象となるドキュメント:\n",
            " ブラウザで JavaScript が無効になっているか、使用できません。\n",
            "AWS ドキュメントを使用するには、JavaScript を有効にする必要があります。\n",
            "手順については、使用するブラウザのヘルプページを参照してください。\n",
            "ドキュメントの表記規則グループの削除ドメイン内の SageMaker AI リソースを表示するこのページは役に立ちましたか? - はいページが役に立ったことをお知らせいただき、ありがとうございます。\n",
            "お時間がある場合は、何が良かったかお知らせください。\n",
            "今後の参考にさせていただきます。\n",
            "このページは役に立ちましたか? - いいえこのページは修正が必要なことをお知らせいただき、ありがとうございます。\n",
            "ご期待に沿うことができず申し訳ありません。\n",
            "お時間がある場合は、ドキュメントを改善する方法についてお知らせください。\n",
            "\n",
            "Amazon SageMaker Studio Classic ノートブックとノートブックインスタンスはどのように違いますか? - Amazon SageMaker AIAmazon SageMaker Studio Classic ノートブックとノートブックインスタンスはどのように違いますか? - Amazon SageMaker AIドキュメントAmazon SageMakerデベロッパーガイド翻訳は機械翻訳により提供されています。\n",
            "提供された翻訳内容と英語版の間で齟齬、不一致または矛盾がある場合、英語版が優先します。\n",
            "Amazon SageMaker Studio Classic ノートブックとノートブックインスタンスはどのように違いますか?重要2023 年 11 月 30 日以降、従来の Amazon SageMaker Studio のエクスペリエンスは Amazon SageMaker Studio Classic と名前が変更されました。\n",
            "以下のセクションは、Studio Classic アプリケーションの使用を前提とした内容です。\n",
            "更新後の Studio エクスペリエンスを使用する場合は、「Amazon SageMaker Studio」を参照してください。\n",
            "新しいノートブックを起動する場合は、Amazon SageMaker AI コンソールからノートブックインスタンスを起動する代わりに、Amazon SageMaker Studio Classic でノートブックを作成することをお勧めします。\n",
            "Studio Classic ノートブックには、次のような多くの利点があります。\n",
            "\n",
            "\n",
            "\n",
            "\n",
            "\n",
            "\n",
            "\n"
          ]
        },
        {
          "output_type": "stream",
          "name": "stderr",
          "text": [
            "The attention mask and the pad token id were not set. As a consequence, you may observe unexpected behavior. Please pass your input's `attention_mask` to obtain reliable results.\n",
            "Setting `pad_token_id` to `eos_token_id`:128009 for open-end generation.\n",
            "The attention mask and the pad token id were not set. As a consequence, you may observe unexpected behavior. Please pass your input's `attention_mask` to obtain reliable results.\n",
            "Setting `pad_token_id` to `eos_token_id`:128009 for open-end generation.\n"
          ]
        },
        {
          "output_type": "stream",
          "name": "stdout",
          "text": [
            "\n",
            "\n",
            "\n",
            "\n",
            "\n",
            "\n"
          ]
        },
        {
          "output_type": "stream",
          "name": "stderr",
          "text": [
            "The attention mask and the pad token id were not set. As a consequence, you may observe unexpected behavior. Please pass your input's `attention_mask` to obtain reliable results.\n",
            "Setting `pad_token_id` to `eos_token_id`:128009 for open-end generation.\n"
          ]
        },
        {
          "output_type": "stream",
          "name": "stdout",
          "text": [
            "\n",
            "\n",
            "対象となるドキュメント:\n",
            " 直接アクセス: IAM アイデンティティセンターを使用する場合、固有の URL を通じて IAM アイデンティティセンターの認証情報を使用して Studio Classic に直接アクセスできます。\n",
            "ノートブック AWS Management Console を実行するために を操作する必要はありません。\n",
            "\n",
            "最適化されたイメージ: Studio Classic ノートブックには、あらかじめ定義された一連の SageMaker イメージ設定が用意されており、すぐに使用を開始することができます。\n",
            "\n",
            "\n",
            "\n",
            "\n",
            "**回答**\n",
            "Amazon SageMaker Studio Classic ノートブックとノートブックインスタンスは、異なる概念です。以下は、両者を使用する際の注意点です。\n",
            "\n",
            "* ノートブックインスタンス：Amazon SageMaker AI コンソールから直接アクセスすることができます。新しいノートブックを起動する場合は、ノートブックインスタンスを起動する代わりに、Amazon SageMaker Studio Classic でノートブックを作成することをお勧めします。\n",
            "* SageMaker Studio：2023 年 11 月 30 日以降、従来の Amazon SageMaker Studio のエクスペリエンスは Amazon SageMaker Studio Classic と名前が変更されました。新しいノートブックを起動する場合は、「Amazon SageMaker Studio」を参照してください。\n",
            "\n",
            "したがって、ノートブックインスタンスは、Amazon SageMaker AI コンソールから直接アクセスすることができるノートブックのインスタンスです。一方、SageMaker Studioは、Amazon SageMaker Studio Classic の名前変更後の新しいノートブックのエクスペリエンスです。\n",
            "\n",
            "両者を使用する際には、注意\n",
            "\n",
            "---\n",
            "\n",
            "### 6. BedrockでDeepSeek-R1を使った場合、どのくらいの推論コストがかかりますか？\n"
          ]
        },
        {
          "output_type": "stream",
          "name": "stderr",
          "text": [
            "The attention mask and the pad token id were not set. As a consequence, you may observe unexpected behavior. Please pass your input's `attention_mask` to obtain reliable results.\n",
            "Setting `pad_token_id` to `eos_token_id`:128009 for open-end generation.\n",
            "The attention mask and the pad token id were not set. As a consequence, you may observe unexpected behavior. Please pass your input's `attention_mask` to obtain reliable results.\n",
            "Setting `pad_token_id` to `eos_token_id`:128009 for open-end generation.\n",
            "The attention mask and the pad token id were not set. As a consequence, you may observe unexpected behavior. Please pass your input's `attention_mask` to obtain reliable results.\n",
            "Setting `pad_token_id` to `eos_token_id`:128009 for open-end generation.\n"
          ]
        },
        {
          "output_type": "stream",
          "name": "stdout",
          "text": [
            "\n",
            "\n",
            "対象となるドキュメント:\n",
            " 料金の例 6: Bedrock データオートメーション標準出力を使用して、組織内の 15,000 分間の会議の音声録音を処理するとします。\n",
            "15,000 分すべての音声処理にかかる合計コストは 90 USD です。\n",
            "  合計処理時間 = 15,000 分 合計料金 = 15,000 分 × 0.006 USD = 90 USD\n",
            "アプリケーションデベロッパーは、時間単位で、Amazon Bedrock に対して次の API コールを実行します: 入力テキストの 2K トークンの入力を 1K トークン (推論トークンを含む) の出力に要約する、DeepSeek-R1 モデルに対するリクエスト:\n",
            "\n",
            "\n",
            "\n",
            "\n",
            "\n",
            "\n"
          ]
        },
        {
          "output_type": "stream",
          "name": "stderr",
          "text": [
            "The attention mask and the pad token id were not set. As a consequence, you may observe unexpected behavior. Please pass your input's `attention_mask` to obtain reliable results.\n",
            "Setting `pad_token_id` to `eos_token_id`:128009 for open-end generation.\n",
            "The attention mask and the pad token id were not set. As a consequence, you may observe unexpected behavior. Please pass your input's `attention_mask` to obtain reliable results.\n",
            "Setting `pad_token_id` to `eos_token_id`:128009 for open-end generation.\n"
          ]
        },
        {
          "output_type": "stream",
          "name": "stdout",
          "text": [
            "\n",
            "\n",
            "\n",
            "\n",
            "\n",
            "\n"
          ]
        },
        {
          "output_type": "stream",
          "name": "stderr",
          "text": [
            "The attention mask and the pad token id were not set. As a consequence, you may observe unexpected behavior. Please pass your input's `attention_mask` to obtain reliable results.\n",
            "Setting `pad_token_id` to `eos_token_id`:128009 for open-end generation.\n",
            "The attention mask and the pad token id were not set. As a consequence, you may observe unexpected behavior. Please pass your input's `attention_mask` to obtain reliable results.\n",
            "Setting `pad_token_id` to `eos_token_id`:128009 for open-end generation.\n"
          ]
        },
        {
          "output_type": "stream",
          "name": "stdout",
          "text": [
            "\n",
            "\n",
            "\n",
            "\n",
            "\n",
            "対象となるドキュメント:\n",
            " 料金の例 6: Bedrock データオートメーション標準出力を使用して、組織内の 15,000 分間の会議の音声録音を処理するとします。\n",
            "15,000 分すべての音声処理にかかる合計コストは 90 USD です。\n",
            "  合計処理時間 = 15,000 分 合計料金 = 15,000 分 × 0.006 USD = 90 USD\n",
            "アプリケーションデベロッパーは、時間単位で、Amazon Bedrock に対して次の API コールを実行します: 入力テキストの 2K トークンの入力を 1K トークン (推論トークンを含む) の出力に要約する、DeepSeek-R1 モデルに対するリクエスト:\n",
            "\n",
            "\n",
            "\n"
          ]
        },
        {
          "output_type": "stream",
          "name": "stderr",
          "text": [
            "The attention mask and the pad token id were not set. As a consequence, you may observe unexpected behavior. Please pass your input's `attention_mask` to obtain reliable results.\n",
            "Setting `pad_token_id` to `eos_token_id`:128009 for open-end generation.\n",
            "The attention mask and the pad token id were not set. As a consequence, you may observe unexpected behavior. Please pass your input's `attention_mask` to obtain reliable results.\n",
            "Setting `pad_token_id` to `eos_token_id`:128009 for open-end generation.\n"
          ]
        },
        {
          "output_type": "stream",
          "name": "stdout",
          "text": [
            "\n",
            "\n",
            "\n",
            "\n",
            "\n",
            "\n"
          ]
        },
        {
          "output_type": "stream",
          "name": "stderr",
          "text": [
            "The attention mask and the pad token id were not set. As a consequence, you may observe unexpected behavior. Please pass your input's `attention_mask` to obtain reliable results.\n",
            "Setting `pad_token_id` to `eos_token_id`:128009 for open-end generation.\n",
            "The attention mask and the pad token id were not set. As a consequence, you may observe unexpected behavior. Please pass your input's `attention_mask` to obtain reliable results.\n",
            "Setting `pad_token_id` to `eos_token_id`:128009 for open-end generation.\n"
          ]
        },
        {
          "output_type": "stream",
          "name": "stdout",
          "text": [
            "\n",
            "\n",
            "\n",
            "\n",
            "\n",
            "\n"
          ]
        },
        {
          "output_type": "stream",
          "name": "stderr",
          "text": [
            "The attention mask and the pad token id were not set. As a consequence, you may observe unexpected behavior. Please pass your input's `attention_mask` to obtain reliable results.\n",
            "Setting `pad_token_id` to `eos_token_id`:128009 for open-end generation.\n",
            "The attention mask and the pad token id were not set. As a consequence, you may observe unexpected behavior. Please pass your input's `attention_mask` to obtain reliable results.\n",
            "Setting `pad_token_id` to `eos_token_id`:128009 for open-end generation.\n"
          ]
        },
        {
          "output_type": "stream",
          "name": "stdout",
          "text": [
            "\n",
            "\n",
            "対象となるドキュメント:\n",
            " 料金の例 6: Bedrock データオートメーション標準出力を使用して、組織内の 15,000 分間の会議の音声録音を処理するとします。\n",
            "15,000 分すべての音声処理にかかる合計コストは 90 USD です。\n",
            "  合計処理時間 = 15,000 分 合計料金 = 15,000 分 × 0.006 USD = 90 USD\n",
            "アプリケーションデベロッパーは、時間単位で、Amazon Bedrock に対して次の API コールを実行します: 入力テキストの 2K トークンの入力を 1K トークン (推論トークンを含む) の出力に要約する、DeepSeek-R1 モデルに対するリクエスト:\n",
            "\n",
            "\n",
            "\n",
            "\n",
            "\n",
            "\n"
          ]
        },
        {
          "output_type": "stream",
          "name": "stderr",
          "text": [
            "The attention mask and the pad token id were not set. As a consequence, you may observe unexpected behavior. Please pass your input's `attention_mask` to obtain reliable results.\n",
            "Setting `pad_token_id` to `eos_token_id`:128009 for open-end generation.\n",
            "The attention mask and the pad token id were not set. As a consequence, you may observe unexpected behavior. Please pass your input's `attention_mask` to obtain reliable results.\n",
            "Setting `pad_token_id` to `eos_token_id`:128009 for open-end generation.\n"
          ]
        },
        {
          "output_type": "stream",
          "name": "stdout",
          "text": [
            "\n",
            "\n",
            "\n",
            "\n",
            "\n",
            "\n"
          ]
        },
        {
          "output_type": "stream",
          "name": "stderr",
          "text": [
            "The attention mask and the pad token id were not set. As a consequence, you may observe unexpected behavior. Please pass your input's `attention_mask` to obtain reliable results.\n",
            "Setting `pad_token_id` to `eos_token_id`:128009 for open-end generation.\n",
            "The attention mask and the pad token id were not set. As a consequence, you may observe unexpected behavior. Please pass your input's `attention_mask` to obtain reliable results.\n",
            "Setting `pad_token_id` to `eos_token_id`:128009 for open-end generation.\n"
          ]
        },
        {
          "output_type": "stream",
          "name": "stdout",
          "text": [
            "\n",
            "\n",
            "\n",
            "\n",
            "\n",
            "対象となるドキュメント:\n",
            " 料金の例 6: Bedrock データオートメーション標準出力を使用して、組織内の 15,000 分間の会議の音声録音を処理するとします。\n",
            "15,000 分すべての音声処理にかかる合計コストは 90 USD です。\n",
            "  合計処理時間 = 15,000 分 合計料金 = 15,000 分 × 0.006 USD = 90 USD\n",
            "アプリケーションデベロッパーは、時間単位で、Amazon Bedrock に対して次の API コールを実行します: 入力テキストの 2K トークンの入力を 1K トークン (推論トークンを含む) の出力に要約する、DeepSeek-R1 モデルに対するリクエスト:\n",
            "\n",
            "\n",
            "\n"
          ]
        },
        {
          "output_type": "stream",
          "name": "stderr",
          "text": [
            "The attention mask and the pad token id were not set. As a consequence, you may observe unexpected behavior. Please pass your input's `attention_mask` to obtain reliable results.\n",
            "Setting `pad_token_id` to `eos_token_id`:128009 for open-end generation.\n",
            "The attention mask and the pad token id were not set. As a consequence, you may observe unexpected behavior. Please pass your input's `attention_mask` to obtain reliable results.\n",
            "Setting `pad_token_id` to `eos_token_id`:128009 for open-end generation.\n"
          ]
        },
        {
          "output_type": "stream",
          "name": "stdout",
          "text": [
            "\n",
            "\n",
            "\n",
            "\n",
            "\n",
            "\n"
          ]
        },
        {
          "output_type": "stream",
          "name": "stderr",
          "text": [
            "The attention mask and the pad token id were not set. As a consequence, you may observe unexpected behavior. Please pass your input's `attention_mask` to obtain reliable results.\n",
            "Setting `pad_token_id` to `eos_token_id`:128009 for open-end generation.\n",
            "The attention mask and the pad token id were not set. As a consequence, you may observe unexpected behavior. Please pass your input's `attention_mask` to obtain reliable results.\n",
            "Setting `pad_token_id` to `eos_token_id`:128009 for open-end generation.\n"
          ]
        },
        {
          "output_type": "stream",
          "name": "stdout",
          "text": [
            "\n",
            "\n",
            "\n",
            "\n",
            "\n",
            "\n"
          ]
        },
        {
          "output_type": "stream",
          "name": "stderr",
          "text": [
            "The attention mask and the pad token id were not set. As a consequence, you may observe unexpected behavior. Please pass your input's `attention_mask` to obtain reliable results.\n",
            "Setting `pad_token_id` to `eos_token_id`:128009 for open-end generation.\n",
            "The attention mask and the pad token id were not set. As a consequence, you may observe unexpected behavior. Please pass your input's `attention_mask` to obtain reliable results.\n",
            "Setting `pad_token_id` to `eos_token_id`:128009 for open-end generation.\n"
          ]
        },
        {
          "output_type": "stream",
          "name": "stdout",
          "text": [
            "\n",
            "\n",
            "対象となるドキュメント:\n",
            " 料金の例 6: Bedrock データオートメーション標準出力を使用して、組織内の 15,000 分間の会議の音声録音を処理するとします。\n",
            "15,000 分すべての音声処理にかかる合計コストは 90 USD です。\n",
            "  合計処理時間 = 15,000 分 合計料金 = 15,000 分 × 0.006 USD = 90 USD\n",
            "アプリケーションデベロッパーは、時間単位で、Amazon Bedrock に対して次の API コールを実行します: 入力テキストの 2K トークンの入力を 1K トークン (推論トークンを含む) の出力に要約する、DeepSeek-R1 モデルに対するリクエスト:\n",
            "\n",
            "\n",
            "\n",
            "\n",
            "\n",
            "\n"
          ]
        },
        {
          "output_type": "stream",
          "name": "stderr",
          "text": [
            "The attention mask and the pad token id were not set. As a consequence, you may observe unexpected behavior. Please pass your input's `attention_mask` to obtain reliable results.\n",
            "Setting `pad_token_id` to `eos_token_id`:128009 for open-end generation.\n",
            "The attention mask and the pad token id were not set. As a consequence, you may observe unexpected behavior. Please pass your input's `attention_mask` to obtain reliable results.\n",
            "Setting `pad_token_id` to `eos_token_id`:128009 for open-end generation.\n"
          ]
        },
        {
          "output_type": "stream",
          "name": "stdout",
          "text": [
            "\n",
            "\n",
            "\n",
            "\n",
            "\n",
            "\n"
          ]
        },
        {
          "output_type": "stream",
          "name": "stderr",
          "text": [
            "The attention mask and the pad token id were not set. As a consequence, you may observe unexpected behavior. Please pass your input's `attention_mask` to obtain reliable results.\n",
            "Setting `pad_token_id` to `eos_token_id`:128009 for open-end generation.\n"
          ]
        },
        {
          "output_type": "stream",
          "name": "stdout",
          "text": [
            "\n",
            "\n",
            "\n",
            "**回答**\n",
            "参考資料に基づいて、BedrockでDeepSeek-R1を使用した場合、1Kトークンの出力に要約するために必要な推論コストは、0.006 USD per 2K input tokensです。\n",
            "\n",
            "したがって、15,000分間の会議の音声録音を処理するために必要な推論コストは、15,000分 × 0.006 USD = 90 USDとなります。\n",
            "\n",
            "---\n",
            "\n"
          ]
        }
      ]
    },
    {
      "cell_type": "code",
      "source": [
        "print(\"| 評価番号 | スコア |\")\n",
        "print(\"|:--------:|:------:|\")\n",
        "\n",
        "# Iterate and print each row with only index and score\n",
        "for i, (question, gold_answer, response) in enumerate(zip(questions, answers, responses), start=1):\n",
        "    score = evaluate_answer_accuracy(question, response, gold_answer)\n",
        "    print(f\"| {i} | {score:.2f} |\")"
      ],
      "metadata": {
        "id": "Vu1IgB2W08wl",
        "outputId": "b5a39adc-081e-4513-ce54-a75402c3591f",
        "colab": {
          "base_uri": "https://localhost:8080/"
        }
      },
      "id": "Vu1IgB2W08wl",
      "execution_count": 17,
      "outputs": [
        {
          "output_type": "stream",
          "name": "stdout",
          "text": [
            "| 評価番号 | スコア |\n",
            "|:--------:|:------:|\n",
            "| 1 | 2.00 |\n",
            "| 2 | 1.00 |\n",
            "| 3 | 0.00 |\n",
            "| 4 | 2.00 |\n",
            "| 5 | 1.00 |\n",
            "| 6 | 0.00 |\n"
          ]
        }
      ]
    },
    {
      "cell_type": "code",
      "source": [
        "import csv\n",
        "\n",
        "with open('documents.csv', 'w', newline='', encoding='utf-8') as csvfile:\n",
        "    writer = csv.writer(csvfile)\n",
        "    writer.writerow(['index', 'document'])\n",
        "    for index, document in enumerate(documents):\n",
        "        writer.writerow([index, document])"
      ],
      "metadata": {
        "id": "gSwklMz0Psd1"
      },
      "id": "gSwklMz0Psd1",
      "execution_count": 19,
      "outputs": []
    }
  ],
  "metadata": {
    "language_info": {
      "name": "python"
    },
    "colab": {
      "provenance": [],
      "machine_shape": "hm",
      "gpuType": "A100"
    },
    "kernelspec": {
      "name": "python3",
      "display_name": "Python 3"
    },
    "accelerator": "GPU"
  },
  "nbformat": 4,
  "nbformat_minor": 5
}