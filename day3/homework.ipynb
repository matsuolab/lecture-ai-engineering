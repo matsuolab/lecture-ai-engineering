{
 "cells": [
  {
   "cell_type": "markdown",
   "id": "97d5e4ba",
   "metadata": {},
   "source": [
    "## 宿題"
   ]
  },
  {
   "cell_type": "markdown",
   "id": "a967fa5f",
   "metadata": {},
   "source": [
    "### 環境"
   ]
  },
  {
   "cell_type": "code",
   "execution_count": null,
   "id": "6b7bb89e",
   "metadata": {},
   "outputs": [],
   "source": [
    "!pip install --upgrade transformers\n",
    "!pip install google-colab-selenium\n",
    "!pip install bitsandbytes"
   ]
  },
  {
   "cell_type": "code",
   "execution_count": null,
   "id": "2b3cf494",
   "metadata": {},
   "outputs": [],
   "source": [
    "# 演習用のコンテンツを取得\n",
    "!git clone https://github.com/baohuy11/lecture-ai-engineering.git"
   ]
  },
  {
   "cell_type": "code",
   "execution_count": null,
   "id": "29133838",
   "metadata": {},
   "outputs": [],
   "source": [
    "# HuggingFace Login\n",
    "from huggingface_hub import notebook_login\n",
    "\n",
    "notebook_login()"
   ]
  },
  {
   "cell_type": "code",
   "execution_count": null,
   "id": "2e5e786a",
   "metadata": {},
   "outputs": [],
   "source": [
    "# CUDAが利用可能ならGPUを、それ以外ならCPUをデバイスとして設定\n",
    "import torch\n",
    "device = torch.device(\"cuda\" if torch.cuda.is_available() else \"cpu\")"
   ]
  },
  {
   "cell_type": "code",
   "execution_count": null,
   "id": "855ef83e",
   "metadata": {},
   "outputs": [],
   "source": [
    "import random\n",
    "random.seed(0)"
   ]
  },
  {
   "cell_type": "code",
   "execution_count": null,
   "id": "c12bffb1",
   "metadata": {},
   "outputs": [],
   "source": [
    "# モデル(Gemma2)の読み込み\n",
    "\n",
    "from transformers import AutoModelForCausalLM, AutoTokenizer, BitsAndBytesConfig\n",
    "\n",
    "model_name = \"google/gemma-2-2b-jpn-it\"\n",
    "tokenizer = AutoTokenizer.from_pretrained(model_name)\n",
    "\n",
    "bnb_config = BitsAndBytesConfig(\n",
    "    load_in_4bit=True,\n",
    "    bnb_4bit_compute_dtype=torch.float16,\n",
    "    bnb_4bit_quant_type=\"nf4\",\n",
    "    bnb_4bit_use_double_quant=False,\n",
    ")\n",
    "\n",
    "model = AutoModelForCausalLM.from_pretrained(\n",
    "            model_name,\n",
    "            device_map=\"auto\",\n",
    "            quantization_config=bnb_config,\n",
    "            torch_dtype=torch.bfloat16,\n",
    "        )"
   ]
  },
  {
   "cell_type": "code",
   "execution_count": null,
   "id": "7106d0e0",
   "metadata": {},
   "outputs": [],
   "source": []
  }
 ],
 "metadata": {
  "kernelspec": {
   "display_name": "myenv",
   "language": "python",
   "name": "python3"
  },
  "language_info": {
   "name": "python",
   "version": "3.10.16"
  }
 },
 "nbformat": 4,
 "nbformat_minor": 5
}
