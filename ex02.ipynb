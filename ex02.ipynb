{
  "cells": [
    {
      "cell_type": "markdown",
      "id": "6bbafd94",
      "metadata": {
        "id": "6bbafd94"
      },
      "source": [
        "# Assignment for #05, 06, and 07"
      ]
    },
    {
      "cell_type": "markdown",
      "id": "29f20b34",
      "metadata": {
        "id": "29f20b34"
      },
      "source": [
        "Downloading auxiliary classes:"
      ]
    },
    {
      "cell_type": "code",
      "execution_count": 22,
      "id": "6aa7e382",
      "metadata": {
        "vscode": {
          "languageId": "shellscript"
        },
        "id": "6aa7e382"
      },
      "outputs": [],
      "source": [
        "%%bash\n",
        "#wget --no-check-certificate -O \"chap3lib.7z\" \"https://docs.google.com/uc?export=download&id=1SuDvAXGqR17finK7rO9xsqQh2Hey1VVQ\"\n",
        "#7z x chap3lib.7z"
      ]
    },
    {
      "cell_type": "markdown",
      "id": "a2a86572",
      "metadata": {
        "id": "a2a86572"
      },
      "source": [
        "Importing auxiliary classes:"
      ]
    },
    {
      "cell_type": "code",
      "execution_count": 28,
      "id": "0f57ff11",
      "metadata": {
        "id": "0f57ff11"
      },
      "outputs": [],
      "source": [
        "from chap3lib import *"
      ]
    },
    {
      "cell_type": "markdown",
      "id": "1a4d1ffc",
      "metadata": {
        "id": "1a4d1ffc"
      },
      "source": [
        "## A1."
      ]
    },
    {
      "cell_type": "markdown",
      "id": "e8905d1f",
      "metadata": {
        "id": "e8905d1f"
      },
      "source": [
        "**Objective:**\n",
        "\n",
        "The goal of this assignment is to define the `Exp2Alg` interface, which defines the operations for constructing expressions in the `Exp2` language. You will need to fill in the methods that currently raise `NotImplementedError()`.\n",
        "\n",
        "**Background:**\n",
        "\n",
        "The `Exp2` language is a small functional kernel whose syntax includes constants (integers and booleans), variables, unary and binary operations, conditional expressions, local bindings, function definitions (including recursive ones), and function applications. Each of these syntactic constructs corresponds to a method in the `Exp2Alg` interface.\n",
        "\n",
        "Object Algebras provide a way to define language syntax and semantics separately. The `Exp2Alg` acts as an interface (algebra) that defines operations for each language construct of `Exp2`."
      ]
    },
    {
      "cell_type": "code",
      "execution_count": 24,
      "id": "4b946c97",
      "metadata": {
        "id": "4b946c97"
      },
      "outputs": [],
      "source": [
        "class Exp2Alg:\n",
        "    def vint(self, v):\n",
        "      raise NotImplementedError()\n",
        "    def vbool(self, v):\n",
        "      raise NotImplementedError()\n",
        "    def var(self, x):\n",
        "      raise NotImplementedError()\n",
        "    def _not(self, e):\n",
        "      raise NotImplementedError()\n",
        "    def plus(self, e1, e2):\n",
        "      raise NotImplementedError()\n",
        "    def minus(self, e1, e2):\n",
        "      raise NotImplementedError()\n",
        "    def div(self, e1, e2):\n",
        "      raise NotImplementedError()\n",
        "    def mult(self, e1, e2):\n",
        "      raise NotImplementedError()\n",
        "    def _and(self, e1, e2):\n",
        "      raise NotImplementedError()\n",
        "    def _or(self, e1, e2):\n",
        "      raise NotImplementedError()\n",
        "    def eq(self, e1, e2):\n",
        "      raise NotImplementedError()\n",
        "    def le(self, e1, e2):\n",
        "      raise NotImplementedError()\n",
        "    def cond(self, e1, e2, e3):\n",
        "      raise NotImplementedError()\n",
        "    def let(self, x, e1, e2):\n",
        "      raise NotImplementedError()\n",
        "    def fun(self, x, e):\n",
        "      raise NotImplementedError()\n",
        "    #再帰処理\n",
        "    def rec(self, f, x, e):\n",
        "      raise NotImplementedError()\n",
        "    #関数の適用を定義\n",
        "    def app(self, e1, e2):\n",
        "      raise NotImplementedError()"
      ]
    },
    {
      "cell_type": "markdown",
      "id": "e252e873",
      "metadata": {
        "id": "e252e873"
      },
      "source": [
        "## A2."
      ]
    },
    {
      "cell_type": "markdown",
      "id": "34fc9b31",
      "metadata": {
        "id": "34fc9b31"
      },
      "source": [
        "**Objective:**\n",
        "\n",
        "The goal of this assignment is to practice representing `Exp2` language constructs using the Object Algebra pattern. You will define a Python function that takes an instance of an `Exp2Alg` implementation and uses its methods to construct the `Exp2` expression `let x = 10 in (x + 5)`.\n",
        "\n",
        "**Background:**\n",
        "\n",
        "As discussed in the lecture, `Exp2` expressions can be programmatically constructed in Python by calling methods on an object that implements the `Exp2Alg` interface. Each method on this `alg` object corresponds to a specific syntactic construct in the `Exp2` language.\n",
        "\n",
        "For example:\n",
        "* A constant integer like `10` would be created using `alg.cint(10)`.\n",
        "* A variable like `x` would be created using `alg.var(\"x\")`.\n",
        "* An addition expression like `e1 + e2` would be created using `alg.plus(e1, e2)`.\n",
        "* A let-binding expression `let x = e1 in e2` would be created using `alg.let(\"x\", e1, e2)`.\n",
        "\n",
        "**Task:**\n",
        "\n",
        "Define a Python function, let's call it `let_example`, that takes a single argument:\n",
        "* `alg`: An instance of a class that implements the `Exp2Alg` interface.\n",
        "\n",
        "This function should use the methods of the `alg` object to construct and return the representation of the following `Exp2` expression:\n",
        "\n",
        "`let x = 10 in (x + 5)`"
      ]
    },
    {
      "cell_type": "code",
      "execution_count": 25,
      "id": "00a21dbc",
      "metadata": {
        "id": "00a21dbc"
      },
      "outputs": [],
      "source": [
        "def let_example(alg):\n",
        "  return alg.let('x',alg.cint(10),alg.plus(alg.var('x'),alg.cint(5)))"
      ]
    },
    {
      "cell_type": "markdown",
      "id": "ce2afcb4",
      "metadata": {
        "id": "ce2afcb4"
      },
      "source": [
        "## A3."
      ]
    },
    {
      "cell_type": "markdown",
      "id": "bd1acff9",
      "metadata": {
        "id": "bd1acff9"
      },
      "source": [
        "**Objective:**\n",
        "\n",
        "The primary goal of this assignment is to implement a call-by-value evaluation function for the `Exp2` language. You will achieve this by creating a Python class named `Exp2Eval` that implements the `Exp2Alg` interface. The methods in your `Exp2Eval` class will not directly return values, but rather \"computations\" – functions that, when given an environment, will produce the evaluated result (a value or an error).\n",
        "\n",
        "**Background:**\n",
        "\n",
        "The call-by-value evaluation rules for `Exp2` expressions are specified formally as $[[e]]_{Env}$ on the lecture slides. A strategy for implementing such an evaluator using object algebras, where algebra methods return computations (functions), is also discussed on the slides. This is the strategy you must follow.\n",
        "\n",
        "You will use parts of the provided `chap3lib.py` for this assignment, including:\n",
        "* Value classes: `Value`, `VInt2`, `VBool2`, `Clos2`, and `ClosRec2`.\n",
        "* Error classes: `Err2`, `E_Typ2` (type error), `E_Exec2` (execution error, e.g., division by zero), `E_Undef2` (unbound variable).\n",
        "* Environment lookup function: `lookup_env(env, name)`."
      ]
    },
    {
      "cell_type": "code",
      "execution_count": 26,
      "id": "555f7b2a",
      "metadata": {
        "id": "555f7b2a"
      },
      "outputs": [],
      "source": [
        "class Exp2Eval(Exp2Alg):\n",
        "  def cint(self,v):\n",
        "    def _eval(env):\n",
        "      return VInt2(v)\n",
        "    return _eval\n",
        "  def cbool(self,v):\n",
        "    def _eval(env):\n",
        "      return VBool2(v)\n",
        "    return _eval\n",
        "  def var(self, x):\n",
        "    def _eval(env):\n",
        "      val= lookup_env(env,x)\n",
        "      if val is None: raise ErrU()\n",
        "      return val\n",
        "    return _eval\n",
        "#---UnaryOperators--\n",
        "  def _not(self,e):\n",
        "    def _eval(env):\n",
        "      v= e(env) #Evaluatesubexpression\n",
        "      if not isinstance(v,CBool2):\n",
        "        raise ErrT()\n",
        "      return CBool2(not v.v)\n",
        "    return _eval\n",
        "  def plus(self,e1, e2):\n",
        "    def _eval(env):\n",
        "      v1= e1(env)\n",
        "      v2= e2(env)\n",
        "      if not isinstance(v1,CInt2) or not isinstance(v2,CInt2):\n",
        "        raise ErrT()\n",
        "      return CInt2(v1.v + v2.v)\n",
        "    return _eval\n",
        "  def minus(self,e1,e2):\n",
        "    def _eval(env):\n",
        "      v1= e1(env)\n",
        "      v2= e2(env)\n",
        "      if not isinstance(v1,CInt2) or not isinstance(v2,CInt2):\n",
        "        raise ErrT()\n",
        "      return CInt2(v1.v-v2.v)\n",
        "    return _eval\n",
        "  def let(self,x,e1,e2):\n",
        "    def _eval(env):\n",
        "      v1= e1(env)\n",
        "      new_env= [(x,v1)] +env\n",
        "      return e2(new_env)\n",
        "    return _eval\n",
        "  def fun(self,x,e):\n",
        "    def _eval(env):\n",
        "      return Clos2(x,e,env)#Capturecurrentenv\n",
        "    return _eval\n",
        "  def rec(self,f,x, e):\n",
        "    def _eval(env):\n",
        "      return ClosRec2(f,x,e,env)#Capturecurrentenv\n",
        "    return _eval\n",
        "  def app(self,e1,e2):\n",
        "    def _eval(env):\n",
        "      v_fun= e1(env)\n",
        "      v_arg= e2(env)\n",
        "\n",
        "      if isinstance(v_fun,Clos2):\n",
        "        app_env= [(v_fun.x,v_arg)] +v_fun.env\n",
        "        return v_fun.e(app_env)\n",
        "      elif isinstance(v_fun,ClosRec2):\n",
        "        app_env= [(v_fun.f,v_fun),(v_fun.x,v_arg)] +v_fun.env\n",
        "        return v_fun.e(app_env)\n",
        "      else:\n",
        "        raise ErrT()\n",
        "    return _eval"
      ]
    },
    {
      "cell_type": "markdown",
      "id": "1e8f1e5c",
      "metadata": {
        "id": "1e8f1e5c"
      },
      "source": [
        "## A4."
      ]
    },
    {
      "cell_type": "markdown",
      "id": "b4e5a4a2",
      "metadata": {
        "id": "b4e5a4a2"
      },
      "source": [
        "**Objective:**\n",
        "\n",
        "The goal of this assignment is to implement a derivation tree generator for the `Exp2` language under Call-by-Value operational semantics. You will create a Python class `Exp2EvalTreeGenerator` that implements the `Exp2Alg` interface. Instead of directly evaluating to a final value, each method in this algebra will contribute to constructing a representation of the expression's Abstract Syntax Tree (AST) and a \"computation\" that, when executed with an environment, produces an `EvalStepNode`. This `EvalStepNode` (or one of its specific subclasses `F1` through `F20` from `chap3lib.py`) represents the root of the derivation (sub)tree for that part of the expression.\n",
        "\n",
        "**Background:**\n",
        "\n",
        "* The `Exp2` language syntax and its `Exp2Alg` interface are defined in the lecture slides.\n",
        "* The Call-by-Value operational semantics rules (F1-F20) are described in the lecture slides.\n",
        "* The provided `chap3lib.py` file contains:\n",
        "    * AST node classes (`ANode`, `AConst`, `AVar`, `AUnOpExp`, `ABinOpExp`, `ACond`, `ALet`, `AFun`, `ARec`, `AApp`, and specific operator classes like `APlus`, `ANotOp`).\n",
        "    * Value classes (`Val2`, `VInt2`, `VBool2`) and Error classes (`Err2`, `E_Typ2`, `E_Exec2`, `E_Undef2`).\n",
        "    * Environment utilities (`lookup_env`).\n",
        "    * Closure classes `Clos2` and `ClosRec2` which store an `ANode` for the body and a callable to get an `EvalStepNode`. These are suitable for this assignment.\n",
        "    * `EvalStepNode` class and its subclasses `F1` through `F20`, which you **must use** to represent each step in the derivation tree. Each `Fk` class constructor typically requires the current environment, the AST node of the expression being evaluated (`expr_ast`), the resulting value/error, and any premise `EvalStepNode`s."
      ]
    },
    {
      "cell_type": "code",
      "execution_count": 27,
      "id": "81ba6424",
      "metadata": {
        "id": "81ba6424"
      },
      "outputs": [],
      "source": [
        "class Exp2EvalTreeGenerator(Exp2Alg):\n",
        "  def vint(self,v):\n",
        "    return"
      ]
    },
    {
      "cell_type": "markdown",
      "id": "3b054022",
      "metadata": {
        "id": "3b054022"
      },
      "source": [
        "You can check your `Exp2EvalTreeGenerator` is correct or not by:\n",
        "```python\n",
        "tree = let_example(Exp2EvalTreeGenerator())\n",
        "print(tree.pretty_print())\n",
        "```\n",
        "The above code will generate LaTeX code to render the derivation tree."
      ]
    },
    {
      "cell_type": "markdown",
      "id": "13b89797",
      "metadata": {
        "id": "13b89797"
      },
      "source": [
        "## A5."
      ]
    },
    {
      "cell_type": "markdown",
      "id": "a5eda33a",
      "metadata": {
        "id": "a5eda33a"
      },
      "source": [
        "**Objective:**\n",
        "\n",
        "The goal of this assignment is to define and implement a Call-by-Name (CbN) evaluation function for the `Exp2` language. This evaluation function must be consistent with the Call-by-Name operational semantics discussed in the lecture slides (rules F'11-F'17). You will implement this evaluator as a Python class, say `CbNEval2Alg`, that is a subclass of `Exp2Alg`.\n",
        "\n",
        "**Background:**\n",
        "\n",
        "Call-by-Name evaluation differs significantly from Call-by-Value. Key principles include:\n",
        "* **Delayed Evaluation:** Arguments to functions and expressions bound in `let` are not evaluated until their value is actually needed.\n",
        "* **Thunks:** Instead of passing values, CbN passes \"thunks\" (or \"frozen expressions\"). A thunk encapsulates an unevaluated expression and the environment in which it was defined. You should define `Thunk` class to represent them as a subclass of `Value`.\n",
        "* **Environment:** The evaluation environment will bind variables not only to direct values (like integers or booleans if they've been forced) but also to these thunks.\n",
        "\n",
        "You should refer to the lecture slides:\n",
        "* Call-by-Name operational semantics (focusing on rules F'11, F'13, F'14, F'15, F'16).\n",
        "* The general strategy of algebra methods returning computations (functions from environment to result) is still applicable, but the nature of these computations and the values they handle will change for CbN.\n",
        "\n",
        "You will use parts of the provided `chap3lib.py`:\n",
        "* Value classes: `Val2` (as a base), `VInt2`, `VBool2`.\n",
        "* Error classes: `Err2`, `E_Typ2`, `E_Exec2`, `E_Undef2`."
      ]
    },
    {
      "cell_type": "code",
      "source": [],
      "metadata": {
        "id": "pyzxCvxSgi9P"
      },
      "id": "pyzxCvxSgi9P",
      "execution_count": 27,
      "outputs": []
    },
    {
      "cell_type": "markdown",
      "id": "4f90c4d0",
      "metadata": {
        "id": "4f90c4d0"
      },
      "source": []
    }
  ],
  "metadata": {
    "kernelspec": {
      "display_name": ".venv",
      "language": "python",
      "name": "python3"
    },
    "language_info": {
      "name": "python",
      "version": "3.13.3"
    },
    "colab": {
      "provenance": []
    }
  },
  "nbformat": 4,
  "nbformat_minor": 5
}