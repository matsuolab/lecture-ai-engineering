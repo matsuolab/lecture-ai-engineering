{
  "cells": [
    {
      "cell_type": "markdown",
      "metadata": {
        "id": "view-in-github",
        "colab_type": "text"
      },
      "source": [
        "<a href=\"https://colab.research.google.com/github/shirleytingyen/lecture-ai-engineering/blob/master/day1/day1_practice.ipynb\" target=\"_parent\"><img src=\"https://colab.research.google.com/assets/colab-badge.svg\" alt=\"Open In Colab\"/></a>"
      ]
    },
    {
      "cell_type": "markdown",
      "metadata": {
        "id": "gSpnWBP5ELSI"
      },
      "source": [
        "# 実践演習 Day 1：streamlitとFastAPIのデモ\n",
        "このノートブックでは以下の内容を学習します。\n",
        "\n",
        "- 必要なライブラリのインストールと環境設定\n",
        "- Hugging Faceからモデルを用いたStreamlitのデモアプリ\n",
        "- FastAPIとngrokを使用したAPIの公開方法\n",
        "\n",
        "演習を始める前に、HuggingFaceとngrokのアカウントを作成し、\n",
        "それぞれのAPIトークンを取得する必要があります。\n",
        "\n",
        "\n",
        "演習の時間では、以下の3つのディレクトリを順に説明します。\n",
        "\n",
        "1. 01_streamlit_UI\n",
        "2. 02_streamlit_app\n",
        "3. 03_FastAPI\n",
        "\n",
        "2つ目や3つ目からでも始められる様にノートブックを作成しています。\n",
        "\n",
        "復習の際にもこのノートブックを役立てていただければと思います。\n",
        "\n",
        "### 注意事項\n",
        "「02_streamlit_app」と「03_FastAPI」では、GPUを使用します。\n",
        "\n",
        "これらを実行する際は、Google Colab画面上のメニューから「編集」→ 「ノートブックの設定」\n",
        "\n",
        "「ハードウェアアクセラレーター」の項目の中から、「T4 GPU」を選択してください。\n",
        "\n",
        "このノートブックのデフォルトは「CPU」になっています。\n",
        "\n",
        "---"
      ]
    },
    {
      "cell_type": "code",
      "source": [
        "from google.colab import drive\n",
        "drive.mount('/content/drive')"
      ],
      "metadata": {
        "id": "MvBc62_aqAb6",
        "colab": {
          "base_uri": "https://localhost:8080/"
        },
        "outputId": "fcc644b7-57a8-4d55-f233-144f2a963083"
      },
      "execution_count": 1,
      "outputs": [
        {
          "output_type": "stream",
          "name": "stdout",
          "text": [
            "Drive already mounted at /content/drive; to attempt to forcibly remount, call drive.mount(\"/content/drive\", force_remount=True).\n"
          ]
        }
      ]
    },
    {
      "cell_type": "markdown",
      "metadata": {
        "id": "OhtHkJOgELSL"
      },
      "source": [
        "# 環境変数の設定（1~3共有）\n"
      ]
    },
    {
      "cell_type": "markdown",
      "metadata": {
        "id": "Y-FjBp4MMQHM"
      },
      "source": [
        "GitHubから演習用のコードをCloneします。"
      ]
    },
    {
      "cell_type": "code",
      "execution_count": 2,
      "metadata": {
        "id": "AIXMavdDEP8U",
        "colab": {
          "base_uri": "https://localhost:8080/"
        },
        "outputId": "2f8b6e57-448a-4d08-a8e2-31e28d3ac4ca"
      },
      "outputs": [
        {
          "output_type": "stream",
          "name": "stdout",
          "text": [
            "fatal: destination path 'lecture-ai-engineering' already exists and is not an empty directory.\n"
          ]
        }
      ],
      "source": [
        "!git clone https://github.com/matsuolab/lecture-ai-engineering.git"
      ]
    },
    {
      "cell_type": "markdown",
      "metadata": {
        "id": "XC8n7yZ_vs1K"
      },
      "source": [
        "必要なAPIトークンを.envに設定します。\n",
        "\n",
        "「lecture-ai-engineering/day1」の配下に、「.env_template」ファイルが存在しています。\n",
        "\n",
        "隠しファイルのため表示されていない場合は、画面左側のある、目のアイコンの「隠しファイルの表示」ボタンを押してください。\n",
        "\n",
        "「.env_template」のファイル名を「.env」に変更します。「.env」ファイルを開くと、以下のような中身になっています。\n",
        "\n",
        "\n",
        "```\n",
        "HUGGINGFACE_TOKEN=\"hf-********\"\n",
        "NGROK_TOKEN=\"********\"\n",
        "```\n",
        "ダブルクオーテーションで囲まれた文字列をHuggingfaceのアクセストークンと、ngrokの認証トークンで書き変えてください。\n",
        "\n",
        "それぞれのアカウントが作成済みであれば、以下のURLからそれぞれのトークンを取得できます。\n",
        "\n",
        "- Huggingfaceのアクセストークン\n",
        "https://huggingface.co/docs/hub/security-tokens\n",
        "\n",
        "- ngrokの認証トークン\n",
        "https://dashboard.ngrok.com/get-started/your-authtoken\n",
        "\n",
        "書き換えたら、「.env」ファイルをローカルのPCにダウンロードしてください。\n",
        "\n",
        "「01_streamlit_UI」から「02_streamlit_app」へ進む際に、CPUからGPUの利用に切り替えるため、セッションが一度切れてしまいます。\n",
        "\n",
        "その際に、トークンを設定した「.env」ファイルは再作成することになるので、その手間を減らすために「.env」ファイルをダウンロードしておくと良いです。"
      ]
    },
    {
      "cell_type": "markdown",
      "metadata": {
        "id": "Py1BFS5RqcSS"
      },
      "source": [
        "「.env」ファイルを読み込み、環境変数として設定します。次のセルを実行し、最終的に「True」が表示されていればうまく読み込めています。"
      ]
    },
    {
      "cell_type": "code",
      "execution_count": 3,
      "metadata": {
        "id": "bvEowFfg5lrq",
        "colab": {
          "base_uri": "https://localhost:8080/"
        },
        "outputId": "e5a8deac-af2b-4da0-8dd2-fcde4525cda6"
      },
      "outputs": [
        {
          "output_type": "stream",
          "name": "stdout",
          "text": [
            "Requirement already satisfied: python-dotenv in /usr/local/lib/python3.11/dist-packages (1.1.0)\n",
            "/content/lecture-ai-engineering/day1\n"
          ]
        },
        {
          "output_type": "execute_result",
          "data": {
            "text/plain": [
              "True"
            ]
          },
          "metadata": {},
          "execution_count": 3
        }
      ],
      "source": [
        "!pip install python-dotenv\n",
        "from dotenv import load_dotenv, find_dotenv\n",
        "\n",
        "%cd /content/lecture-ai-engineering/day1\n",
        "load_dotenv(find_dotenv())"
      ]
    },
    {
      "cell_type": "markdown",
      "metadata": {
        "id": "os0Yk6gaELSM"
      },
      "source": [
        "# 01_streamlit_UI\n",
        "\n",
        "ディレクトリ「01_streamlit_UI」に移動します。"
      ]
    },
    {
      "cell_type": "code",
      "execution_count": 4,
      "metadata": {
        "id": "S28XgOm0ELSM",
        "colab": {
          "base_uri": "https://localhost:8080/"
        },
        "outputId": "e51280a1-b2a2-4295-a30b-23ef70b3e15f"
      },
      "outputs": [
        {
          "output_type": "stream",
          "name": "stdout",
          "text": [
            "/content/lecture-ai-engineering/day1/01_streamlit_UI\n"
          ]
        }
      ],
      "source": [
        "%cd /content/lecture-ai-engineering/day1/01_streamlit_UI"
      ]
    },
    {
      "cell_type": "markdown",
      "metadata": {
        "id": "eVp-aEIkELSM"
      },
      "source": [
        "必要なライブラリをインストールします。"
      ]
    },
    {
      "cell_type": "code",
      "execution_count": 5,
      "metadata": {
        "id": "nBe41LFiELSN"
      },
      "outputs": [],
      "source": [
        "%%capture\n",
        "!pip install -r requirements.txt"
      ]
    },
    {
      "cell_type": "markdown",
      "metadata": {
        "id": "Yyw6VHaTELSN"
      },
      "source": [
        "ngrokのトークンを使用して、認証を行います。"
      ]
    },
    {
      "cell_type": "code",
      "execution_count": 6,
      "metadata": {
        "id": "aYw1q0iXELSN",
        "colab": {
          "base_uri": "https://localhost:8080/"
        },
        "outputId": "2b2e988a-a478-4479-ab7d-43c04effd38d"
      },
      "outputs": [
        {
          "output_type": "stream",
          "name": "stdout",
          "text": [
            "Authtoken saved to configuration file: /root/.config/ngrok/ngrok.yml\n"
          ]
        }
      ],
      "source": [
        "!ngrok authtoken $$NGROK_TOKEN"
      ]
    },
    {
      "cell_type": "markdown",
      "metadata": {
        "id": "RssTcD_IELSN"
      },
      "source": [
        "アプリを起動します。"
      ]
    },
    {
      "cell_type": "code",
      "execution_count": 7,
      "metadata": {
        "id": "f-E7ucR6ELSN",
        "colab": {
          "base_uri": "https://localhost:8080/"
        },
        "outputId": "4b4d15a0-47cb-4e8d-ecd9-28481f61ca12"
      },
      "outputs": [
        {
          "output_type": "stream",
          "name": "stdout",
          "text": [
            "公開URL: https://a594-34-91-59-112.ngrok-free.app\n",
            "\n",
            "Collecting usage statistics. To deactivate, set browser.gatherUsageStats to false.\n",
            "\u001b[0m\n",
            "\u001b[0m\n",
            "\u001b[34m\u001b[1m  You can now view your Streamlit app in your browser.\u001b[0m\n",
            "\u001b[0m\n",
            "\u001b[34m  Local URL: \u001b[0m\u001b[1mhttp://localhost:8501\u001b[0m\n",
            "\u001b[34m  Network URL: \u001b[0m\u001b[1mhttp://172.28.0.12:8501\u001b[0m\n",
            "\u001b[34m  External URL: \u001b[0m\u001b[1mhttp://34.91.59.112:8501\u001b[0m\n",
            "\u001b[0m\n",
            "\u001b[34m  Stopping...\u001b[0m\n",
            "\u001b[34m  Stopping...\u001b[0m\n"
          ]
        }
      ],
      "source": [
        "from pyngrok import ngrok\n",
        "\n",
        "public_url = ngrok.connect(8501).public_url\n",
        "print(f\"公開URL: {public_url}\")\n",
        "!streamlit run app.py"
      ]
    },
    {
      "cell_type": "markdown",
      "metadata": {
        "id": "kbYyXVFjELSN"
      },
      "source": [
        "公開URLの後に記載されているURLにブラウザでアクセスすると、streamlitのUIが表示されます。\n",
        "\n",
        "app.pyのコメントアウトされている箇所を編集することで、UIがどの様に変化するか確認してみましょう。\n",
        "\n",
        "streamlitの公式ページには、ギャラリーページがあります。\n",
        "\n",
        "streamlitを使うとpythonという一つの言語であっても、様々なUIを実現できることがわかると思います。\n",
        "\n",
        "https://streamlit.io/gallery"
      ]
    },
    {
      "cell_type": "markdown",
      "metadata": {
        "id": "MmtP5GLOELSN"
      },
      "source": [
        "後片付けとして、使う必要のないngrokのトンネルを削除します。"
      ]
    },
    {
      "cell_type": "code",
      "execution_count": 8,
      "metadata": {
        "id": "8Ek9QgahELSO"
      },
      "outputs": [],
      "source": [
        "from pyngrok import ngrok\n",
        "ngrok.kill()"
      ]
    },
    {
      "cell_type": "markdown",
      "metadata": {
        "id": "o-T8tFpyELSO"
      },
      "source": [
        "# 02_streamlit_app"
      ]
    },
    {
      "cell_type": "markdown",
      "metadata": {
        "id": "QqogFQKnELSO"
      },
      "source": [
        "\n",
        "ディレクトリ「02_streamlit_app」に移動します。"
      ]
    },
    {
      "cell_type": "code",
      "execution_count": 9,
      "metadata": {
        "id": "UeEjlJ7uELSO",
        "colab": {
          "base_uri": "https://localhost:8080/"
        },
        "outputId": "7ceb0fea-a485-4d40-8e83-9ed5601aa77a"
      },
      "outputs": [
        {
          "output_type": "stream",
          "name": "stdout",
          "text": [
            "/content/lecture-ai-engineering/day1/02_streamlit_app\n"
          ]
        }
      ],
      "source": [
        "%cd /content/lecture-ai-engineering/day1/02_streamlit_app"
      ]
    },
    {
      "cell_type": "markdown",
      "metadata": {
        "id": "-XUH2AstELSO"
      },
      "source": [
        "必要なライブラリをインストールします。"
      ]
    },
    {
      "cell_type": "code",
      "execution_count": 10,
      "metadata": {
        "id": "mDqvI4V3ELSO"
      },
      "outputs": [],
      "source": [
        "%%capture\n",
        "!pip install -r requirements.txt"
      ]
    },
    {
      "cell_type": "code",
      "source": [
        "# !pip install bitsandbytes==0.41.1\n",
        "# !pip install torch==2.0.1 torchvision torchaudio --index-url https://download.pytorch.org/whl/cu118\n",
        "# # !pip install transformers==4.31.0\n",
        "# !pip install transformers==4.34.0 sentence-transformers==2.2.2 streamlit==1.24.0\n",
        "# !pip install huggingface_hub==0.17.3"
      ],
      "metadata": {
        "id": "Y1YyFu2zONyv"
      },
      "execution_count": 11,
      "outputs": []
    },
    {
      "cell_type": "markdown",
      "metadata": {
        "id": "ZO31umGZELSO"
      },
      "source": [
        "ngrokとhuggigfaceのトークンを使用して、認証を行います。"
      ]
    },
    {
      "cell_type": "code",
      "execution_count": 12,
      "metadata": {
        "id": "jPxTiEWQELSO",
        "colab": {
          "base_uri": "https://localhost:8080/"
        },
        "outputId": "255e1ce8-abcc-45ec-9c37-335b25eb851f"
      },
      "outputs": [
        {
          "output_type": "stream",
          "name": "stdout",
          "text": [
            "Authtoken saved to configuration file: /root/.config/ngrok/ngrok.yml\n",
            "The token has not been saved to the git credentials helper. Pass `add_to_git_credential=True` in this function directly or `--add-to-git-credential` if using via `huggingface-cli` if you want to set the git credential as well.\n",
            "Token is valid (permission: write).\n",
            "Your token has been saved to /root/.cache/huggingface/token\n",
            "Login successful\n"
          ]
        }
      ],
      "source": [
        "!ngrok authtoken $$NGROK_TOKEN\n",
        "!huggingface-cli login --token $$HUGGINGFACE_TOKEN"
      ]
    },
    {
      "cell_type": "markdown",
      "metadata": {
        "id": "dz4WrELLELSP"
      },
      "source": [
        "stramlitでHuggingfaceのトークン情報を扱うために、streamlit用の設定ファイル（.streamlit）を作成し、トークンの情報を格納します。"
      ]
    },
    {
      "cell_type": "code",
      "execution_count": 13,
      "metadata": {
        "id": "W184-a7qFP0W"
      },
      "outputs": [],
      "source": [
        "# .streamlit/secrets.toml ファイルを作成\n",
        "import os\n",
        "import toml\n",
        "\n",
        "# 設定ファイルのディレクトリ確保\n",
        "os.makedirs('.streamlit', exist_ok=True)\n",
        "\n",
        "# 環境変数から取得したトークンを設定ファイルに書き込む\n",
        "secrets = {\n",
        "    \"huggingface\": {\n",
        "        \"token\": os.environ.get(\"HUGGINGFACE_TOKEN\", \"\")\n",
        "    }\n",
        "}\n",
        "\n",
        "# 設定ファイルを書き込む\n",
        "with open('.streamlit/secrets.toml', 'w') as f:\n",
        "    toml.dump(secrets, f)"
      ]
    },
    {
      "cell_type": "markdown",
      "metadata": {
        "id": "fK0vI_xKELSP"
      },
      "source": [
        "アプリを起動します。\n",
        "\n",
        "02_streamlit_appでは、Huggingfaceからモデルをダウンロードするため、初回起動には2分程度時間がかかります。\n",
        "\n",
        "この待ち時間を利用して、app.pyのコードを確認してみましょう。"
      ]
    },
    {
      "cell_type": "code",
      "execution_count": 14,
      "metadata": {
        "id": "TBQyTTWTELSP",
        "colab": {
          "base_uri": "https://localhost:8080/"
        },
        "outputId": "910a0dee-ba1f-420d-a3d5-d025bb900b4c"
      },
      "outputs": [
        {
          "output_type": "stream",
          "name": "stdout",
          "text": [
            "公開URL: https://f60f-34-91-59-112.ngrok-free.app\n",
            "\n",
            "Collecting usage statistics. To deactivate, set browser.gatherUsageStats to false.\n",
            "\u001b[0m\n",
            "\u001b[0m\n",
            "\u001b[34m\u001b[1m  You can now view your Streamlit app in your browser.\u001b[0m\n",
            "\u001b[0m\n",
            "\u001b[34m  Local URL: \u001b[0m\u001b[1mhttp://localhost:8501\u001b[0m\n",
            "\u001b[34m  Network URL: \u001b[0m\u001b[1mhttp://172.28.0.12:8501\u001b[0m\n",
            "\u001b[34m  External URL: \u001b[0m\u001b[1mhttp://34.91.59.112:8501\u001b[0m\n",
            "\u001b[0m\n",
            "/usr/local/lib/python3.11/dist-packages/torchvision/io/image.py:13: UserWarning: Failed to load image Python extension: '/usr/local/lib/python3.11/dist-packages/torchvision/image.so: undefined symbol: _ZN3c1017RegisterOperatorsD1Ev'If you don't plan on using image functionality from `torchvision.io`, you can ignore this warning. Otherwise, there might be something wrong with your environment. Did you have `libjpeg` or `libpng` installed before building `torchvision` from source?\n",
            "  warn(\n",
            "2025-04-22 09:25:51.802955: E external/local_xla/xla/stream_executor/cuda/cuda_fft.cc:477] Unable to register cuFFT factory: Attempting to register factory for plugin cuFFT when one has already been registered\n",
            "WARNING: All log messages before absl::InitializeLog() is called are written to STDERR\n",
            "E0000 00:00:1745313951.863683   32671 cuda_dnn.cc:8310] Unable to register cuDNN factory: Attempting to register factory for plugin cuDNN when one has already been registered\n",
            "E0000 00:00:1745313951.874577   32671 cuda_blas.cc:1418] Unable to register cuBLAS factory: Attempting to register factory for plugin cuBLAS when one has already been registered\n",
            "2025-04-22 09:25:51.919478: I tensorflow/core/platform/cpu_feature_guard.cc:210] This TensorFlow binary is optimized to use available CPU instructions in performance-critical operations.\n",
            "To enable the following instructions: AVX2 AVX512F FMA, in other operations, rebuild TensorFlow with the appropriate compiler flags.\n",
            "The token has not been saved to the git credentials helper. Pass `add_to_git_credential=True` in this function directly or `--add-to-git-credential` if using via `huggingface-cli` if you want to set the git credential as well.\n",
            "Token is valid (permission: write).\n",
            "Your token has been saved to /root/.cache/huggingface/token\n",
            "Login successful\n",
            "`config.hidden_act` is ignored, you should use `config.hidden_activation` instead.\n",
            "Gemma's activation function will be set to `gelu_pytorch_tanh`. Please, use\n",
            "`config.hidden_activation` if you want to override this behaviour.\n",
            "See https://github.com/huggingface/transformers/pull/29402 for more details.\n",
            "Loading checkpoint shards: 100% 4/4 [00:58<00:00, 14.54s/it]\n",
            "Some parameters are on the meta device device because they were offloaded to the cpu.\n",
            "The token has not been saved to the git credentials helper. Pass `add_to_git_credential=True` in this function directly or `--add-to-git-credential` if using via `huggingface-cli` if you want to set the git credential as well.\n",
            "Token is valid (permission: write).\n",
            "Your token has been saved to /root/.cache/huggingface/token\n",
            "Login successful\n",
            "Loading checkpoint shards: 100% 4/4 [00:01<00:00,  2.26it/s]\n",
            "Some parameters are on the meta device device because they were offloaded to the cpu and disk.\n",
            "The token has not been saved to the git credentials helper. Pass `add_to_git_credential=True` in this function directly or `--add-to-git-credential` if using via `huggingface-cli` if you want to set the git credential as well.\n",
            "Token is valid (permission: write).\n",
            "Your token has been saved to /root/.cache/huggingface/token\n",
            "Login successful\n",
            "tokenizer_config.json: 100% 1.29k/1.29k [00:00<00:00, 8.62MB/s]\n",
            "vocab.json: 100% 2.78M/2.78M [00:00<00:00, 6.73MB/s]\n",
            "merges.txt: 100% 1.67M/1.67M [00:00<00:00, 5.11MB/s]\n",
            "tokenizer.json: 100% 7.03M/7.03M [00:00<00:00, 14.0MB/s]\n",
            "config.json: 100% 663/663 [00:00<00:00, 5.18MB/s]\n",
            "The token has not been saved to the git credentials helper. Pass `add_to_git_credential=True` in this function directly or `--add-to-git-credential` if using via `huggingface-cli` if you want to set the git credential as well.\n",
            "Token is valid (permission: write).\n",
            "Your token has been saved to /root/.cache/huggingface/token\n",
            "Login successful\n",
            "model.safetensors.index.json: 100% 27.8k/27.8k [00:00<00:00, 109MB/s]\n",
            "Downloading shards:   0% 0/4 [00:00<?, ?it/s]\n",
            "model-00001-of-00004.safetensors:   0% 0.00/3.95G [00:00<?, ?B/s]\u001b[A\n",
            "\n",
            "Downloading shards:   0% 0/4 [00:00<?, ?it/s]\u001b[A\u001b[A\n",
            "model-00001-of-00004.safetensors:   0% 10.5M/3.95G [00:00<00:42, 91.9MB/s]\u001b[A\n",
            "model-00001-of-00004.safetensors:   1% 41.9M/3.95G [00:00<00:20, 188MB/s] \u001b[A\n",
            "model-00001-of-00004.safetensors:   2% 83.9M/3.95G [00:00<00:14, 269MB/s]\u001b[A\n",
            "model-00001-of-00004.safetensors:   3% 126M/3.95G [00:00<00:13, 293MB/s] \u001b[A\n",
            "model-00001-of-00004.safetensors:   4% 157M/3.95G [00:00<00:13, 284MB/s]\u001b[A\n",
            "model-00001-of-00004.safetensors:   5% 189M/3.95G [00:00<00:13, 288MB/s]\u001b[A\n",
            "model-00001-of-00004.safetensors:   6% 231M/3.95G [00:00<00:12, 299MB/s]\u001b[A\n",
            "model-00001-of-00004.safetensors:   7% 273M/3.95G [00:00<00:12, 300MB/s]\u001b[A\n",
            "model-00001-of-00004.safetensors:   8% 304M/3.95G [00:01<00:12, 289MB/s]\u001b[A\n",
            "model-00001-of-00004.safetensors:   9% 336M/3.95G [00:01<00:12, 293MB/s]\u001b[A\n",
            "model-00001-of-00004.safetensors:   9% 367M/3.95G [00:01<00:12, 283MB/s]\u001b[A\n",
            "model-00001-of-00004.safetensors:  10% 398M/3.95G [00:01<00:12, 274MB/s]\u001b[A\n",
            "model-00001-of-00004.safetensors:  11% 430M/3.95G [00:01<00:12, 272MB/s]\u001b[A\n",
            "model-00001-of-00004.safetensors:  12% 461M/3.95G [00:01<00:12, 273MB/s]\u001b[A\n",
            "model-00001-of-00004.safetensors:  12% 493M/3.95G [00:01<00:12, 271MB/s]\u001b[A\n",
            "model-00001-of-00004.safetensors:  13% 524M/3.95G [00:01<00:13, 259MB/s]\u001b[A\n",
            "model-00001-of-00004.safetensors:  14% 556M/3.95G [00:02<00:13, 259MB/s]\u001b[A\n",
            "model-00001-of-00004.safetensors:  15% 587M/3.95G [00:02<00:12, 261MB/s]\u001b[A\n",
            "model-00001-of-00004.safetensors:  16% 619M/3.95G [00:02<00:12, 270MB/s]\u001b[A\n",
            "model-00001-of-00004.safetensors:  16% 650M/3.95G [00:02<00:11, 280MB/s]\u001b[A\n",
            "model-00001-of-00004.safetensors:  17% 682M/3.95G [00:02<00:13, 242MB/s]\u001b[A\n",
            "model-00001-of-00004.safetensors:  18% 713M/3.95G [00:02<00:13, 239MB/s]\u001b[A\n",
            "model-00001-of-00004.safetensors:  19% 744M/3.95G [00:02<00:12, 248MB/s]\u001b[A\n",
            "model-00001-of-00004.safetensors:  20% 776M/3.95G [00:02<00:12, 244MB/s]\u001b[A\n",
            "model-00001-of-00004.safetensors:  20% 807M/3.95G [00:03<00:12, 261MB/s]\u001b[A\n",
            "model-00001-of-00004.safetensors:  21% 839M/3.95G [00:03<00:12, 258MB/s]\u001b[A\n",
            "model-00001-of-00004.safetensors:  22% 870M/3.95G [00:03<00:11, 272MB/s]\u001b[A\n",
            "model-00001-of-00004.safetensors:  23% 902M/3.95G [00:03<00:13, 218MB/s]\u001b[A\n",
            "model-00001-of-00004.safetensors:  24% 933M/3.95G [00:03<00:15, 192MB/s]\u001b[A\n",
            "model-00001-of-00004.safetensors:  24% 965M/3.95G [00:03<00:14, 212MB/s]\u001b[A\n",
            "model-00001-of-00004.safetensors:  25% 996M/3.95G [00:03<00:14, 207MB/s]\u001b[A\n",
            "model-00001-of-00004.safetensors:  26% 1.03G/3.95G [00:04<00:13, 210MB/s]\u001b[A\n",
            "model-00001-of-00004.safetensors:  27% 1.07G/3.95G [00:04<00:11, 247MB/s]\u001b[A\n",
            "model-00001-of-00004.safetensors:  28% 1.11G/3.95G [00:04<00:10, 271MB/s]\u001b[A\n",
            "model-00001-of-00004.safetensors:  29% 1.14G/3.95G [00:04<00:10, 274MB/s]\u001b[A\n",
            "model-00001-of-00004.safetensors:  30% 1.17G/3.95G [00:04<00:12, 224MB/s]\u001b[A\n",
            "model-00001-of-00004.safetensors:  31% 1.21G/3.95G [00:04<00:12, 217MB/s]\u001b[A\n",
            "model-00001-of-00004.safetensors:  31% 1.24G/3.95G [00:05<00:20, 133MB/s]\u001b[A\n",
            "model-00001-of-00004.safetensors:  32% 1.28G/3.95G [00:05<00:15, 168MB/s]\u001b[A\n",
            "model-00001-of-00004.safetensors:  33% 1.31G/3.95G [00:05<00:16, 162MB/s]\u001b[A\n",
            "model-00001-of-00004.safetensors:  34% 1.33G/3.95G [00:05<00:17, 148MB/s]\u001b[A\n",
            "model-00001-of-00004.safetensors:  34% 1.35G/3.95G [00:06<00:18, 137MB/s]\u001b[A\n",
            "model-00001-of-00004.safetensors:  35% 1.37G/3.95G [00:06<00:17, 146MB/s]\u001b[A\n",
            "model-00001-of-00004.safetensors:  36% 1.42G/3.95G [00:06<00:13, 193MB/s]\u001b[A\n",
            "model-00001-of-00004.safetensors:  37% 1.45G/3.95G [00:06<00:12, 196MB/s]\u001b[A\n",
            "model-00001-of-00004.safetensors:  38% 1.49G/3.95G [00:06<00:10, 232MB/s]\u001b[A\n",
            "model-00001-of-00004.safetensors:  39% 1.53G/3.95G [00:06<00:09, 266MB/s]\u001b[A\n",
            "model-00001-of-00004.safetensors:  40% 1.56G/3.95G [00:06<00:09, 248MB/s]\u001b[A\n",
            "model-00001-of-00004.safetensors:  40% 1.59G/3.95G [00:07<00:19, 121MB/s]\u001b[A\n",
            "model-00001-of-00004.safetensors:  41% 1.64G/3.95G [00:07<00:14, 157MB/s]\u001b[A\n",
            "model-00001-of-00004.safetensors:  43% 1.68G/3.95G [00:07<00:11, 191MB/s]\u001b[A\n",
            "model-00001-of-00004.safetensors:  44% 1.72G/3.95G [00:07<00:10, 221MB/s]\u001b[A\n",
            "model-00001-of-00004.safetensors:  45% 1.76G/3.95G [00:08<00:18, 121MB/s]\u001b[A\n",
            "model-00001-of-00004.safetensors:  46% 1.80G/3.95G [00:08<00:13, 154MB/s]\u001b[A\n",
            "model-00001-of-00004.safetensors:  47% 1.85G/3.95G [00:08<00:11, 190MB/s]\u001b[A\n",
            "model-00001-of-00004.safetensors:  48% 1.89G/3.95G [00:08<00:09, 219MB/s]\u001b[A\n",
            "model-00001-of-00004.safetensors:  49% 1.93G/3.95G [00:08<00:08, 224MB/s]\u001b[A\n",
            "model-00001-of-00004.safetensors:  50% 1.96G/3.95G [00:09<00:12, 165MB/s]\u001b[AThe token has not been saved to the git credentials helper. Pass `add_to_git_credential=True` in this function directly or `--add-to-git-credential` if using via `huggingface-cli` if you want to set the git credential as well.\n",
            "Token is valid (permission: write).\n",
            "Your token has been saved to /root/.cache/huggingface/token\n",
            "Login successful\n",
            "\n",
            "\n",
            "\n",
            "Downloading shards:   0% 0/4 [00:00<?, ?it/s]\u001b[A\u001b[A\u001b[A\n",
            "model-00001-of-00004.safetensors:  50% 1.99G/3.95G [00:12<00:53, 36.2MB/s]\u001b[A\n",
            "model-00001-of-00004.safetensors:  51% 2.01G/3.95G [00:12<00:44, 43.2MB/s]\u001b[A\n",
            "model-00001-of-00004.safetensors:  52% 2.04G/3.95G [00:12<00:32, 57.9MB/s]\u001b[A\n",
            "model-00001-of-00004.safetensors:  53% 2.08G/3.95G [00:12<00:24, 76.0MB/s]\u001b[A\n",
            "model-00001-of-00004.safetensors:  53% 2.11G/3.95G [00:12<00:18, 97.2MB/s]\u001b[A\n",
            "model-00001-of-00004.safetensors:  54% 2.15G/3.95G [00:12<00:13, 131MB/s] \u001b[A\n",
            "model-00001-of-00004.safetensors:  56% 2.19G/3.95G [00:12<00:10, 165MB/s]\u001b[A\n",
            "model-00001-of-00004.safetensors:  57% 2.23G/3.95G [00:12<00:08, 196MB/s]\u001b[A\n",
            "model-00001-of-00004.safetensors:  57% 2.26G/3.95G [00:13<00:08, 207MB/s]\u001b[A\n",
            "model-00001-of-00004.safetensors:  58% 2.30G/3.95G [00:13<00:07, 207MB/s]\u001b[A\n",
            "model-00001-of-00004.safetensors:  59% 2.33G/3.95G [00:13<00:07, 210MB/s]\u001b[A\n",
            "model-00001-of-00004.safetensors:  60% 2.36G/3.95G [00:13<00:07, 226MB/s]\u001b[A\n",
            "model-00001-of-00004.safetensors:  61% 2.39G/3.95G [00:13<00:06, 246MB/s]\u001b[A\n",
            "model-00001-of-00004.safetensors:  61% 2.42G/3.95G [00:13<00:07, 204MB/s]\u001b[A\n",
            "model-00001-of-00004.safetensors:  62% 2.46G/3.95G [00:13<00:06, 236MB/s]\u001b[A\n",
            "model-00001-of-00004.safetensors:  64% 2.51G/3.95G [00:14<00:05, 262MB/s]\u001b[A\n",
            "model-00001-of-00004.safetensors:  64% 2.54G/3.95G [00:14<00:05, 273MB/s]\u001b[A\n",
            "model-00001-of-00004.safetensors:  65% 2.57G/3.95G [00:14<00:05, 246MB/s]\u001b[A\n",
            "model-00001-of-00004.safetensors:  66% 2.60G/3.95G [00:14<00:05, 240MB/s]\u001b[A\n",
            "model-00001-of-00004.safetensors:  67% 2.63G/3.95G [00:14<00:05, 256MB/s]\u001b[A\n",
            "model-00001-of-00004.safetensors:  68% 2.66G/3.95G [00:14<00:05, 248MB/s]\u001b[A\n",
            "model-00001-of-00004.safetensors:  68% 2.69G/3.95G [00:14<00:04, 254MB/s]\u001b[A\n",
            "model-00001-of-00004.safetensors:  69% 2.73G/3.95G [00:14<00:05, 217MB/s]\u001b[A\n",
            "model-00001-of-00004.safetensors:  70% 2.76G/3.95G [00:15<00:07, 155MB/s]\u001b[A\n",
            "model-00001-of-00004.safetensors:  70% 2.78G/3.95G [00:18<00:38, 30.0MB/s]\u001b[A\n",
            "model-00001-of-00004.safetensors:  71% 2.82G/3.95G [00:18<00:24, 46.2MB/s]\u001b[A\n",
            "model-00001-of-00004.safetensors:  73% 2.86G/3.95G [00:18<00:16, 66.6MB/s]\u001b[A\n",
            "model-00001-of-00004.safetensors:  74% 2.90G/3.95G [00:18<00:11, 91.7MB/s]\u001b[A\n",
            "model-00001-of-00004.safetensors:  74% 2.94G/3.95G [00:18<00:09, 106MB/s] \u001b[A\n",
            "model-00001-of-00004.safetensors:  75% 2.97G/3.95G [00:18<00:08, 122MB/s]\u001b[A\n",
            "model-00001-of-00004.safetensors:  76% 3.00G/3.95G [00:18<00:06, 142MB/s]\u001b[A\n",
            "model-00001-of-00004.safetensors:  77% 3.03G/3.95G [00:18<00:05, 162MB/s]\u001b[A\n",
            "model-00001-of-00004.safetensors:  78% 3.06G/3.95G [00:19<00:04, 184MB/s]\u001b[A\n",
            "model-00001-of-00004.safetensors:  78% 3.09G/3.95G [00:19<00:04, 204MB/s]\u001b[A\n",
            "model-00001-of-00004.safetensors:  79% 3.12G/3.95G [00:19<00:03, 216MB/s]\u001b[A\n",
            "model-00001-of-00004.safetensors:  80% 3.16G/3.95G [00:19<00:03, 220MB/s]\u001b[A\n",
            "model-00001-of-00004.safetensors:  81% 3.20G/3.95G [00:19<00:02, 255MB/s]\u001b[A\n",
            "model-00001-of-00004.safetensors:  82% 3.23G/3.95G [00:19<00:02, 260MB/s]\u001b[A\n",
            "model-00001-of-00004.safetensors:  83% 3.27G/3.95G [00:19<00:02, 282MB/s]\u001b[A\n",
            "model-00001-of-00004.safetensors:  84% 3.31G/3.95G [00:19<00:02, 306MB/s]\u001b[A\n",
            "model-00001-of-00004.safetensors:  85% 3.36G/3.95G [00:20<00:02, 231MB/s]\u001b[A\n",
            "model-00001-of-00004.safetensors:  86% 3.39G/3.95G [00:20<00:03, 182MB/s]\u001b[A\n",
            "model-00001-of-00004.safetensors:  87% 3.42G/3.95G [00:20<00:02, 204MB/s]\u001b[A\n",
            "model-00001-of-00004.safetensors:  88% 3.46G/3.95G [00:20<00:02, 233MB/s]\u001b[A\n",
            "model-00001-of-00004.safetensors:  89% 3.49G/3.95G [00:20<00:01, 231MB/s]\u001b[A\n",
            "model-00001-of-00004.safetensors:  90% 3.53G/3.95G [00:20<00:01, 262MB/s]\u001b[A\n",
            "model-00001-of-00004.safetensors:  90% 3.57G/3.95G [00:21<00:01, 232MB/s]\u001b[A\n",
            "model-00001-of-00004.safetensors:  91% 3.60G/3.95G [00:21<00:01, 248MB/s]\u001b[A\n",
            "model-00001-of-00004.safetensors:  92% 3.64G/3.95G [00:21<00:01, 275MB/s]\u001b[A\n",
            "model-00001-of-00004.safetensors:  93% 3.67G/3.95G [00:22<00:02, 114MB/s]\u001b[A\n",
            "model-00001-of-00004.safetensors:  94% 3.71G/3.95G [00:22<00:01, 150MB/s]\u001b[A\n",
            "model-00001-of-00004.safetensors:  95% 3.75G/3.95G [00:22<00:01, 186MB/s]\u001b[A\n",
            "model-00001-of-00004.safetensors:  96% 3.79G/3.95G [00:22<00:01, 148MB/s]\u001b[A\n",
            "model-00001-of-00004.safetensors:  97% 3.83G/3.95G [00:22<00:00, 176MB/s]\u001b[A\n",
            "model-00001-of-00004.safetensors:  98% 3.87G/3.95G [00:22<00:00, 207MB/s]\u001b[A\n",
            "model-00001-of-00004.safetensors:  99% 3.91G/3.95G [00:23<00:00, 232MB/s]\u001b[A\n",
            "model-00001-of-00004.safetensors: 100% 3.95G/3.95G [00:23<00:00, 170MB/s]\n",
            "Downloading shards:  25% 1/4 [00:23<01:10, 23.50s/it]\n",
            "\n",
            "Downloading shards:  25% 1/4 [00:23<01:09, 23.12s/it]\u001b[A\u001b[A\n",
            "\n",
            "\n",
            "Downloading shards:  25% 1/4 [00:11<00:35, 11.98s/it]\u001b[A\u001b[A\u001b[A\n",
            "model-00002-of-00004.safetensors:   0% 0.00/3.86G [00:00<?, ?B/s]\u001b[A\n",
            "model-00002-of-00004.safetensors:   1% 21.0M/3.86G [00:00<00:24, 157MB/s]\u001b[A\n",
            "model-00002-of-00004.safetensors:   1% 52.4M/3.86G [00:00<00:17, 222MB/s]\u001b[A\n",
            "model-00002-of-00004.safetensors:   2% 83.9M/3.86G [00:00<00:19, 196MB/s]\u001b[A\n",
            "model-00002-of-00004.safetensors:   3% 115M/3.86G [00:00<00:17, 218MB/s] \u001b[A\n",
            "model-00002-of-00004.safetensors:   4% 157M/3.86G [00:00<00:14, 265MB/s]\u001b[A\n",
            "model-00002-of-00004.safetensors:   5% 189M/3.86G [00:00<00:13, 263MB/s]\u001b[A\n",
            "model-00002-of-00004.safetensors:   6% 220M/3.86G [00:04<02:42, 22.5MB/s]\u001b[A\n",
            "model-00002-of-00004.safetensors:   7% 262M/3.86G [00:05<01:44, 34.6MB/s]\u001b[A\n",
            "model-00002-of-00004.safetensors:   8% 304M/3.86G [00:05<01:11, 49.7MB/s]\u001b[A\n",
            "model-00002-of-00004.safetensors:   9% 336M/3.86G [00:05<00:56, 62.9MB/s]\u001b[A\n",
            "model-00002-of-00004.safetensors:   9% 367M/3.86G [00:05<00:43, 80.1MB/s]\u001b[A\n",
            "model-00002-of-00004.safetensors:  11% 409M/3.86G [00:05<00:31, 108MB/s] \u001b[A\n",
            "model-00002-of-00004.safetensors:  11% 440M/3.86G [00:05<00:26, 127MB/s]\u001b[A\n",
            "model-00002-of-00004.safetensors:  12% 472M/3.86G [00:05<00:23, 147MB/s]\u001b[A\n",
            "model-00002-of-00004.safetensors:  13% 503M/3.86G [00:06<00:19, 171MB/s]\u001b[A\n",
            "model-00002-of-00004.safetensors:  14% 535M/3.86G [00:06<00:18, 184MB/s]\u001b[A\n",
            "model-00002-of-00004.safetensors:  15% 566M/3.86G [00:06<00:16, 199MB/s]\u001b[A\n",
            "model-00002-of-00004.safetensors:  15% 598M/3.86G [00:06<00:15, 216MB/s]\u001b[A\n",
            "model-00002-of-00004.safetensors:  16% 629M/3.86G [00:06<00:14, 227MB/s]\u001b[A\n",
            "model-00002-of-00004.safetensors:  17% 661M/3.86G [00:06<00:13, 237MB/s]\u001b[A\n",
            "model-00002-of-00004.safetensors:  18% 692M/3.86G [00:06<00:12, 246MB/s]\u001b[A\n",
            "model-00002-of-00004.safetensors:  19% 724M/3.86G [00:06<00:12, 245MB/s]\u001b[A\n",
            "model-00002-of-00004.safetensors:  20% 755M/3.86G [00:06<00:11, 259MB/s]\u001b[A\n",
            "model-00002-of-00004.safetensors:  20% 786M/3.86G [00:07<00:13, 227MB/s]\u001b[A\n",
            "model-00002-of-00004.safetensors:  21% 818M/3.86G [00:07<00:12, 235MB/s]\u001b[A\n",
            "model-00002-of-00004.safetensors:  22% 849M/3.86G [00:07<00:12, 234MB/s]\u001b[A\n",
            "model-00002-of-00004.safetensors:  23% 881M/3.86G [00:07<00:12, 235MB/s]\u001b[A\n",
            "model-00002-of-00004.safetensors:  24% 912M/3.86G [00:07<00:12, 245MB/s]\u001b[A\n",
            "model-00002-of-00004.safetensors:  24% 944M/3.86G [00:07<00:11, 249MB/s]\u001b[A\n",
            "model-00002-of-00004.safetensors:  25% 975M/3.86G [00:07<00:13, 217MB/s]\u001b[A\n",
            "model-00002-of-00004.safetensors:  26% 1.01G/3.86G [00:08<00:12, 228MB/s]\u001b[A\n",
            "model-00002-of-00004.safetensors:  27% 1.04G/3.86G [00:08<00:11, 248MB/s]\u001b[A\n",
            "model-00002-of-00004.safetensors:  28% 1.07G/3.86G [00:08<00:10, 262MB/s]\u001b[A\n",
            "model-00002-of-00004.safetensors:  28% 1.10G/3.86G [00:08<00:21, 130MB/s]\u001b[A\n",
            "model-00002-of-00004.safetensors:  30% 1.14G/3.86G [00:08<00:16, 166MB/s]\u001b[A\n",
            "model-00002-of-00004.safetensors:  30% 1.17G/3.86G [00:09<00:14, 182MB/s]\u001b[A\n",
            "model-00002-of-00004.safetensors:  31% 1.21G/3.86G [00:09<00:12, 206MB/s]\u001b[A\n",
            "model-00002-of-00004.safetensors:  32% 1.24G/3.86G [00:09<00:11, 227MB/s]\u001b[A\n",
            "model-00002-of-00004.safetensors:  33% 1.28G/3.86G [00:09<00:10, 256MB/s]\u001b[A\n",
            "model-00002-of-00004.safetensors:  34% 1.31G/3.86G [00:09<00:14, 182MB/s]\u001b[A\n",
            "model-00002-of-00004.safetensors:  35% 1.35G/3.86G [00:09<00:11, 218MB/s]\u001b[A\n",
            "model-00002-of-00004.safetensors:  36% 1.38G/3.86G [00:09<00:10, 235MB/s]\u001b[A\n",
            "model-00002-of-00004.safetensors:  37% 1.42G/3.86G [00:10<00:10, 242MB/s]\u001b[A\n",
            "model-00002-of-00004.safetensors:  38% 1.46G/3.86G [00:10<00:08, 268MB/s]\u001b[A\n",
            "model-00002-of-00004.safetensors:  39% 1.49G/3.86G [00:10<00:09, 262MB/s]\u001b[A\n",
            "model-00002-of-00004.safetensors:  39% 1.52G/3.86G [00:10<00:09, 243MB/s]\u001b[A\n",
            "model-00002-of-00004.safetensors:  40% 1.55G/3.86G [00:10<00:09, 256MB/s]\u001b[A\n",
            "model-00002-of-00004.safetensors:  41% 1.58G/3.86G [00:10<00:08, 271MB/s]\u001b[A\n",
            "model-00002-of-00004.safetensors:  42% 1.61G/3.86G [00:10<00:08, 276MB/s]\u001b[A\n",
            "model-00002-of-00004.safetensors:  43% 1.66G/3.86G [00:10<00:07, 297MB/s]\u001b[A\n",
            "model-00002-of-00004.safetensors:  44% 1.70G/3.86G [00:11<00:06, 313MB/s]\u001b[A\n",
            "model-00002-of-00004.safetensors:  45% 1.74G/3.86G [00:11<00:09, 230MB/s]\u001b[A\n",
            "model-00002-of-00004.safetensors:  46% 1.77G/3.86G [00:11<00:09, 227MB/s]\u001b[A\n",
            "model-00002-of-00004.safetensors:  47% 1.81G/3.86G [00:11<00:08, 255MB/s]\u001b[A\n",
            "model-00002-of-00004.safetensors:  48% 1.86G/3.86G [00:11<00:07, 272MB/s]\u001b[A\n",
            "model-00002-of-00004.safetensors:  49% 1.90G/3.86G [00:11<00:06, 295MB/s]\u001b[A\n",
            "model-00002-of-00004.safetensors:  50% 1.94G/3.86G [00:11<00:06, 315MB/s]\u001b[A\n",
            "model-00002-of-00004.safetensors:  51% 1.98G/3.86G [00:12<00:07, 267MB/s]\u001b[A\n",
            "model-00002-of-00004.safetensors:  52% 2.01G/3.86G [00:12<00:08, 210MB/s]\u001b[A\n",
            "model-00002-of-00004.safetensors:  53% 2.04G/3.86G [00:12<00:09, 193MB/s]\u001b[A\n",
            "model-00002-of-00004.safetensors:  54% 2.08G/3.86G [00:13<00:13, 135MB/s]\u001b[A\n",
            "model-00002-of-00004.safetensors:  55% 2.11G/3.86G [00:13<00:11, 151MB/s]\u001b[A\n",
            "model-00002-of-00004.safetensors:  55% 2.13G/3.86G [00:13<00:13, 131MB/s]\u001b[A\n",
            "model-00002-of-00004.safetensors:  56% 2.16G/3.86G [00:13<00:10, 159MB/s]\u001b[A\n",
            "model-00002-of-00004.safetensors:  57% 2.19G/3.86G [00:13<00:09, 182MB/s]\u001b[A\n",
            "model-00002-of-00004.safetensors:  58% 2.23G/3.86G [00:13<00:07, 219MB/s]\u001b[A\n",
            "model-00002-of-00004.safetensors:  59% 2.28G/3.86G [00:13<00:06, 251MB/s]\u001b[A\n",
            "model-00002-of-00004.safetensors:  60% 2.32G/3.86G [00:13<00:05, 284MB/s]\u001b[A\n",
            "model-00002-of-00004.safetensors:  61% 2.36G/3.86G [00:14<00:04, 303MB/s]\u001b[A\n",
            "model-00002-of-00004.safetensors:  62% 2.40G/3.86G [00:14<00:06, 233MB/s]\u001b[A\n",
            "model-00002-of-00004.safetensors:  63% 2.43G/3.86G [00:14<00:06, 213MB/s]\u001b[A\n",
            "model-00002-of-00004.safetensors:  64% 2.46G/3.86G [00:14<00:08, 173MB/s]\u001b[A\n",
            "model-00002-of-00004.safetensors:  64% 2.49G/3.86G [00:17<00:38, 36.0MB/s]\u001b[A\n",
            "model-00002-of-00004.safetensors:  65% 2.52G/3.86G [00:17<00:27, 49.0MB/s]\u001b[A\n",
            "model-00002-of-00004.safetensors:  66% 2.54G/3.86G [00:17<00:29, 45.0MB/s]\u001b[A\n",
            "model-00002-of-00004.safetensors:  67% 2.58G/3.86G [00:18<00:27, 46.0MB/s]\u001b[A\n",
            "model-00002-of-00004.safetensors:  68% 2.62G/3.86G [00:18<00:18, 66.2MB/s]\u001b[A\n",
            "model-00002-of-00004.safetensors:  69% 2.65G/3.86G [00:19<00:14, 84.5MB/s]\u001b[A\n",
            "model-00002-of-00004.safetensors:  69% 2.68G/3.86G [00:19<00:11, 106MB/s] \u001b[A\n",
            "model-00002-of-00004.safetensors:  70% 2.72G/3.86G [00:19<00:08, 130MB/s]\u001b[A\n",
            "model-00002-of-00004.safetensors:  71% 2.75G/3.86G [00:19<00:07, 155MB/s]\u001b[A\n",
            "model-00002-of-00004.safetensors:  72% 2.78G/3.86G [00:19<00:06, 172MB/s]\u001b[A\n",
            "model-00002-of-00004.safetensors:  73% 2.81G/3.86G [00:19<00:05, 196MB/s]\u001b[A\n",
            "model-00002-of-00004.safetensors:  74% 2.84G/3.86G [00:19<00:05, 201MB/s]\u001b[A\n",
            "model-00002-of-00004.safetensors:  75% 2.88G/3.86G [00:20<00:05, 164MB/s]\u001b[A\n",
            "model-00002-of-00004.safetensors:  75% 2.92G/3.86G [00:20<00:05, 188MB/s]\u001b[A\n",
            "model-00002-of-00004.safetensors:  77% 2.96G/3.86G [00:20<00:04, 220MB/s]\u001b[A\n",
            "model-00002-of-00004.safetensors:  77% 2.99G/3.86G [00:20<00:03, 233MB/s]\u001b[A\n",
            "model-00002-of-00004.safetensors:  78% 3.02G/3.86G [00:20<00:04, 204MB/s]\u001b[A\n",
            "model-00002-of-00004.safetensors:  79% 3.06G/3.86G [00:20<00:03, 230MB/s]\u001b[A\n",
            "model-00002-of-00004.safetensors:  80% 3.09G/3.86G [00:20<00:03, 225MB/s]\u001b[A\n",
            "model-00002-of-00004.safetensors:  81% 3.12G/3.86G [00:21<00:03, 243MB/s]\u001b[A\n",
            "model-00002-of-00004.safetensors:  82% 3.16G/3.86G [00:21<00:02, 237MB/s]\u001b[A\n",
            "model-00002-of-00004.safetensors:  82% 3.19G/3.86G [00:21<00:02, 255MB/s]\u001b[A\n",
            "model-00002-of-00004.safetensors:  83% 3.22G/3.86G [00:21<00:02, 249MB/s]\u001b[A\n",
            "model-00002-of-00004.safetensors:  84% 3.25G/3.86G [00:21<00:02, 254MB/s]\u001b[A\n",
            "model-00002-of-00004.safetensors:  85% 3.29G/3.86G [00:21<00:02, 271MB/s]\u001b[A\n",
            "model-00002-of-00004.safetensors:  86% 3.32G/3.86G [00:21<00:02, 261MB/s]\u001b[A\n",
            "model-00002-of-00004.safetensors:  87% 3.36G/3.86G [00:21<00:01, 255MB/s]\u001b[A\n",
            "model-00002-of-00004.safetensors:  88% 3.39G/3.86G [00:22<00:02, 231MB/s]\u001b[A\n",
            "model-00002-of-00004.safetensors:  88% 3.42G/3.86G [00:22<00:01, 242MB/s]\u001b[A\n",
            "model-00002-of-00004.safetensors:  89% 3.45G/3.86G [00:22<00:03, 120MB/s]\u001b[A\n",
            "model-00002-of-00004.safetensors:  90% 3.48G/3.86G [00:22<00:02, 147MB/s]\u001b[A\n",
            "model-00002-of-00004.safetensors:  91% 3.52G/3.86G [00:23<00:01, 187MB/s]\u001b[A\n",
            "model-00002-of-00004.safetensors:  92% 3.55G/3.86G [00:23<00:01, 210MB/s]\u001b[A\n",
            "model-00002-of-00004.safetensors:  93% 3.59G/3.86G [00:23<00:01, 227MB/s]\u001b[A\n",
            "model-00002-of-00004.safetensors:  94% 3.62G/3.86G [00:23<00:01, 241MB/s]\u001b[A\n",
            "model-00002-of-00004.safetensors:  95% 3.66G/3.86G [00:23<00:00, 263MB/s]\u001b[A\n",
            "model-00002-of-00004.safetensors:  96% 3.70G/3.86G [00:23<00:00, 276MB/s]\u001b[A\n",
            "model-00002-of-00004.safetensors:  97% 3.73G/3.86G [00:23<00:00, 281MB/s]\u001b[A\n",
            "model-00002-of-00004.safetensors:  97% 3.76G/3.86G [00:23<00:00, 267MB/s]\u001b[A\n",
            "model-00002-of-00004.safetensors:  98% 3.80G/3.86G [00:24<00:00, 253MB/s]\u001b[A\n",
            "model-00002-of-00004.safetensors:  99% 3.83G/3.86G [00:24<00:00, 258MB/s]\u001b[A\n",
            "model-00002-of-00004.safetensors: 100% 3.86G/3.86G [00:24<00:00, 159MB/s]\n",
            "Downloading shards:  50% 2/4 [00:47<00:48, 24.07s/it]\n",
            "\n",
            "Downloading shards:  50% 2/4 [00:47<00:47, 23.91s/it]\u001b[A\u001b[A\n",
            "\n",
            "\n",
            "Downloading shards:  50% 2/4 [00:36<00:38, 19.30s/it]\u001b[A\u001b[A\u001b[A\n",
            "model-00003-of-00004.safetensors:   0% 0.00/3.86G [00:00<?, ?B/s]\u001b[A\n",
            "model-00003-of-00004.safetensors:   1% 21.0M/3.86G [00:00<00:27, 137MB/s]\u001b[A\n",
            "model-00003-of-00004.safetensors:   1% 52.4M/3.86G [00:00<00:18, 212MB/s]\u001b[A\n",
            "model-00003-of-00004.safetensors:   2% 94.4M/3.86G [00:00<00:13, 279MB/s]\u001b[A\n",
            "model-00003-of-00004.safetensors:   3% 126M/3.86G [00:00<00:13, 285MB/s] \u001b[A\n",
            "model-00003-of-00004.safetensors:   4% 157M/3.86G [00:00<00:13, 269MB/s]\u001b[A\n",
            "model-00003-of-00004.safetensors:   5% 189M/3.86G [00:00<00:14, 256MB/s]\u001b[A\n",
            "model-00003-of-00004.safetensors:   6% 220M/3.86G [00:04<02:25, 25.1MB/s]\u001b[A\n",
            "model-00003-of-00004.safetensors:   6% 241M/3.86G [00:05<02:17, 26.3MB/s]\u001b[A\n",
            "model-00003-of-00004.safetensors:   7% 283M/3.86G [00:05<01:25, 42.1MB/s]\u001b[A\n",
            "model-00003-of-00004.safetensors:   8% 325M/3.86G [00:05<00:56, 62.4MB/s]\u001b[A\n",
            "model-00003-of-00004.safetensors:   9% 357M/3.86G [00:05<00:44, 79.0MB/s]\u001b[A\n",
            "model-00003-of-00004.safetensors:  10% 388M/3.86G [00:05<00:34, 100MB/s] \u001b[A\n",
            "model-00003-of-00004.safetensors:  11% 430M/3.86G [00:05<00:25, 133MB/s]\u001b[A\n",
            "model-00003-of-00004.safetensors:  12% 461M/3.86G [00:05<00:21, 157MB/s]\u001b[A\n",
            "model-00003-of-00004.safetensors:  13% 503M/3.86G [00:05<00:17, 194MB/s]\u001b[A\n",
            "model-00003-of-00004.safetensors:  14% 545M/3.86G [00:05<00:14, 230MB/s]\u001b[A\n",
            "model-00003-of-00004.safetensors:  15% 587M/3.86G [00:06<00:13, 241MB/s]\u001b[A\n",
            "model-00003-of-00004.safetensors:  16% 629M/3.86G [00:06<00:13, 244MB/s]\u001b[A\n",
            "model-00003-of-00004.safetensors:  17% 661M/3.86G [00:06<00:16, 198MB/s]\u001b[A\n",
            "model-00003-of-00004.safetensors:  18% 692M/3.86G [00:06<00:15, 205MB/s]\u001b[A\n",
            "model-00003-of-00004.safetensors:  19% 724M/3.86G [00:06<00:18, 170MB/s]\u001b[A\n",
            "model-00003-of-00004.safetensors:  19% 744M/3.86G [00:07<00:24, 127MB/s]\u001b[A\n",
            "model-00003-of-00004.safetensors:  20% 765M/3.86G [00:09<01:23, 37.2MB/s]\u001b[A\n",
            "model-00003-of-00004.safetensors:  21% 797M/3.86G [00:09<00:59, 51.8MB/s]\u001b[A\n",
            "model-00003-of-00004.safetensors:  22% 839M/3.86G [00:09<00:39, 76.6MB/s]\u001b[A\n",
            "model-00003-of-00004.safetensors:  23% 870M/3.86G [00:09<00:31, 95.9MB/s]\u001b[A\n",
            "model-00003-of-00004.safetensors:  23% 902M/3.86G [00:09<00:25, 117MB/s] \u001b[A\n",
            "model-00003-of-00004.safetensors:  24% 933M/3.86G [00:09<00:21, 139MB/s]\u001b[A\n",
            "model-00003-of-00004.safetensors:  25% 965M/3.86G [00:09<00:17, 163MB/s]\u001b[A\n",
            "model-00003-of-00004.safetensors:  26% 996M/3.86G [00:10<00:16, 178MB/s]\u001b[A\n",
            "model-00003-of-00004.safetensors:  27% 1.03G/3.86G [00:10<00:14, 198MB/s]\u001b[A\n",
            "model-00003-of-00004.safetensors:  27% 1.06G/3.86G [00:10<00:18, 148MB/s]\u001b[A\n",
            "model-00003-of-00004.safetensors:  28% 1.10G/3.86G [00:10<00:14, 184MB/s]\u001b[A\n",
            "model-00003-of-00004.safetensors:  29% 1.13G/3.86G [00:10<00:13, 206MB/s]\u001b[A\n",
            "model-00003-of-00004.safetensors:  30% 1.16G/3.86G [00:10<00:13, 203MB/s]\u001b[A\n",
            "model-00003-of-00004.safetensors:  31% 1.20G/3.86G [00:11<00:12, 207MB/s]\u001b[A\n",
            "model-00003-of-00004.safetensors:  32% 1.23G/3.86G [00:11<00:12, 214MB/s]\u001b[A\n",
            "model-00003-of-00004.safetensors:  33% 1.26G/3.86G [00:15<01:48, 23.9MB/s]\u001b[A\n",
            "model-00003-of-00004.safetensors:  34% 1.30G/3.86G [00:15<01:10, 36.1MB/s]\u001b[A\n",
            "model-00003-of-00004.safetensors:  35% 1.34G/3.86G [00:15<00:48, 52.1MB/s]\u001b[A\n",
            "model-00003-of-00004.safetensors:  36% 1.37G/3.86G [00:15<00:37, 66.6MB/s]\u001b[A\n",
            "model-00003-of-00004.safetensors:  36% 1.41G/3.86G [00:15<00:29, 84.6MB/s]\u001b[A\n",
            "model-00003-of-00004.safetensors:  37% 1.45G/3.86G [00:15<00:21, 114MB/s] \u001b[A\n",
            "model-00003-of-00004.safetensors:  38% 1.48G/3.86G [00:15<00:17, 135MB/s]\u001b[A\n",
            "model-00003-of-00004.safetensors:  39% 1.51G/3.86G [00:16<00:17, 136MB/s]\u001b[A\n",
            "model-00003-of-00004.safetensors:  40% 1.54G/3.86G [00:16<00:14, 157MB/s]\u001b[A\n",
            "model-00003-of-00004.safetensors:  41% 1.57G/3.86G [00:16<00:13, 175MB/s]\u001b[A\n",
            "model-00003-of-00004.safetensors:  42% 1.60G/3.86G [00:16<00:12, 182MB/s]\u001b[A\n",
            "model-00003-of-00004.safetensors:  42% 1.64G/3.86G [00:16<00:10, 207MB/s]\u001b[A\n",
            "model-00003-of-00004.safetensors:  43% 1.68G/3.86G [00:16<00:09, 237MB/s]\u001b[A\n",
            "model-00003-of-00004.safetensors:  44% 1.71G/3.86G [00:16<00:08, 253MB/s]\u001b[A\n",
            "model-00003-of-00004.safetensors:  45% 1.75G/3.86G [00:17<00:07, 276MB/s]\u001b[A\n",
            "model-00003-of-00004.safetensors:  46% 1.78G/3.86G [00:17<00:07, 276MB/s]\u001b[A\n",
            "model-00003-of-00004.safetensors:  47% 1.82G/3.86G [00:17<00:07, 290MB/s]\u001b[A\n",
            "model-00003-of-00004.safetensors:  48% 1.86G/3.86G [00:17<00:06, 294MB/s]\u001b[A\n",
            "model-00003-of-00004.safetensors:  49% 1.90G/3.86G [00:17<00:06, 308MB/s]\u001b[A\n",
            "model-00003-of-00004.safetensors:  50% 1.93G/3.86G [00:17<00:07, 247MB/s]\u001b[A\n",
            "model-00003-of-00004.safetensors:  51% 1.96G/3.86G [00:17<00:08, 230MB/s]\u001b[A\n",
            "model-00003-of-00004.safetensors:  52% 2.00G/3.86G [00:18<00:07, 258MB/s]\u001b[A\n",
            "model-00003-of-00004.safetensors:  53% 2.03G/3.86G [00:18<00:06, 266MB/s]\u001b[A\n",
            "model-00003-of-00004.safetensors:  53% 2.07G/3.86G [00:18<00:07, 231MB/s]\u001b[A\n",
            "model-00003-of-00004.safetensors:  54% 2.10G/3.86G [00:18<00:09, 195MB/s]\u001b[A\n",
            "model-00003-of-00004.safetensors:  55% 2.14G/3.86G [00:18<00:07, 229MB/s]\u001b[A\n",
            "model-00003-of-00004.safetensors:  56% 2.17G/3.86G [00:19<00:14, 117MB/s]\u001b[A\n",
            "model-00003-of-00004.safetensors:  57% 2.21G/3.86G [00:19<00:10, 154MB/s]\u001b[A\n",
            "model-00003-of-00004.safetensors:  58% 2.25G/3.86G [00:19<00:08, 187MB/s]\u001b[A\n",
            "model-00003-of-00004.safetensors:  59% 2.30G/3.86G [00:19<00:07, 216MB/s]\u001b[A\n",
            "model-00003-of-00004.safetensors:  60% 2.33G/3.86G [00:19<00:06, 234MB/s]\u001b[A\n",
            "model-00003-of-00004.safetensors:  61% 2.36G/3.86G [00:19<00:06, 250MB/s]\u001b[A\n",
            "model-00003-of-00004.safetensors:  62% 2.40G/3.86G [00:19<00:05, 270MB/s]\u001b[A\n",
            "model-00003-of-00004.safetensors:  63% 2.43G/3.86G [00:20<00:13, 107MB/s]\u001b[A\n",
            "model-00003-of-00004.safetensors:  64% 2.47G/3.86G [00:20<00:09, 141MB/s]\u001b[A\n",
            "model-00003-of-00004.safetensors:  65% 2.51G/3.86G [00:20<00:08, 164MB/s]\u001b[A\n",
            "model-00003-of-00004.safetensors:  66% 2.54G/3.86G [00:21<00:07, 188MB/s]\u001b[A\n",
            "model-00003-of-00004.safetensors:  66% 2.57G/3.86G [00:21<00:06, 210MB/s]\u001b[A\n",
            "model-00003-of-00004.safetensors:  67% 2.60G/3.86G [00:23<00:30, 41.2MB/s]\u001b[A\n",
            "model-00003-of-00004.safetensors:  68% 2.64G/3.86G [00:23<00:20, 60.0MB/s]\u001b[A\n",
            "model-00003-of-00004.safetensors:  69% 2.68G/3.86G [00:23<00:14, 82.5MB/s]\u001b[A\n",
            "model-00003-of-00004.safetensors:  70% 2.72G/3.86G [00:23<00:11, 96.2MB/s]\u001b[A\n",
            "model-00003-of-00004.safetensors:  71% 2.75G/3.86G [00:24<00:09, 117MB/s] \u001b[A\n",
            "model-00003-of-00004.safetensors:  72% 2.78G/3.86G [00:24<00:07, 137MB/s]\u001b[A\n",
            "model-00003-of-00004.safetensors:  73% 2.81G/3.86G [00:24<00:06, 162MB/s]\u001b[A\n",
            "model-00003-of-00004.safetensors:  74% 2.84G/3.86G [00:24<00:06, 168MB/s]\u001b[A\n",
            "model-00003-of-00004.safetensors:  74% 2.87G/3.86G [00:24<00:05, 182MB/s]\u001b[A\n",
            "model-00003-of-00004.safetensors:  75% 2.90G/3.86G [00:24<00:04, 197MB/s]\u001b[A\n",
            "model-00003-of-00004.safetensors:  76% 2.94G/3.86G [00:24<00:04, 210MB/s]\u001b[A\n",
            "model-00003-of-00004.safetensors:  77% 2.97G/3.86G [00:24<00:03, 228MB/s]\u001b[A\n",
            "model-00003-of-00004.safetensors:  78% 3.00G/3.86G [00:25<00:03, 233MB/s]\u001b[A\n",
            "model-00003-of-00004.safetensors:  79% 3.04G/3.86G [00:25<00:03, 265MB/s]\u001b[A\n",
            "model-00003-of-00004.safetensors:  79% 3.07G/3.86G [00:25<00:02, 273MB/s]\u001b[A\n",
            "model-00003-of-00004.safetensors:  81% 3.11G/3.86G [00:25<00:02, 292MB/s]\u001b[A\n",
            "model-00003-of-00004.safetensors:  81% 3.15G/3.86G [00:25<00:02, 287MB/s]\u001b[A\n",
            "model-00003-of-00004.safetensors:  82% 3.19G/3.86G [00:25<00:02, 303MB/s]\u001b[A\n",
            "model-00003-of-00004.safetensors:  84% 3.23G/3.86G [00:25<00:02, 309MB/s]\u001b[A\n",
            "model-00003-of-00004.safetensors:  85% 3.27G/3.86G [00:25<00:01, 320MB/s]\u001b[A\n",
            "model-00003-of-00004.safetensors:  86% 3.31G/3.86G [00:26<00:02, 250MB/s]\u001b[A\n",
            "model-00003-of-00004.safetensors:  87% 3.34G/3.86G [00:26<00:02, 218MB/s]\u001b[A\n",
            "model-00003-of-00004.safetensors:  87% 3.38G/3.86G [00:26<00:02, 206MB/s]\u001b[A\n",
            "model-00003-of-00004.safetensors:  88% 3.41G/3.86G [00:26<00:02, 213MB/s]\u001b[A\n",
            "model-00003-of-00004.safetensors:  89% 3.44G/3.86G [00:26<00:02, 183MB/s]\u001b[A\n",
            "model-00003-of-00004.safetensors:  90% 3.46G/3.86G [00:29<00:12, 31.6MB/s]\u001b[A\n",
            "model-00003-of-00004.safetensors:  91% 3.50G/3.86G [00:29<00:07, 47.7MB/s]\u001b[A\n",
            "model-00003-of-00004.safetensors:  91% 3.53G/3.86G [00:29<00:05, 62.8MB/s]\u001b[A\n",
            "model-00003-of-00004.safetensors:  93% 3.58G/3.86G [00:29<00:03, 87.1MB/s]\u001b[A\n",
            "model-00003-of-00004.safetensors:  93% 3.61G/3.86G [00:30<00:02, 106MB/s] \u001b[A\n",
            "model-00003-of-00004.safetensors:  94% 3.65G/3.86G [00:30<00:01, 138MB/s]\u001b[A\n",
            "model-00003-of-00004.safetensors:  96% 3.69G/3.86G [00:30<00:01, 169MB/s]\u001b[A\n",
            "model-00003-of-00004.safetensors:  97% 3.73G/3.86G [00:30<00:00, 199MB/s]\u001b[A\n",
            "model-00003-of-00004.safetensors:  97% 3.76G/3.86G [00:30<00:00, 201MB/s]\u001b[A\n",
            "model-00003-of-00004.safetensors:  98% 3.80G/3.86G [00:30<00:00, 158MB/s]\u001b[A\n",
            "model-00003-of-00004.safetensors: 100% 3.86G/3.86G [00:31<00:00, 124MB/s]\n",
            "\n",
            "\n",
            "\n",
            "Downloading shards:  75% 3/4 [01:07<00:24, 24.79s/it]\u001b[A\u001b[A\u001b[A\n",
            "\n",
            "Downloading shards:  75% 3/4 [01:19<00:27, 27.41s/it]\n",
            "model-00004-of-00004.safetensors:   0% 0.00/3.56G [00:00<?, ?B/s]\u001b[A\n",
            "model-00004-of-00004.safetensors:   1% 31.5M/3.56G [00:00<00:12, 292MB/s]\u001b[A\n",
            "model-00004-of-00004.safetensors:   2% 73.4M/3.56G [00:00<00:11, 315MB/s]\u001b[A\n",
            "model-00004-of-00004.safetensors:   3% 105M/3.56G [00:00<00:11, 295MB/s] \u001b[A\n",
            "model-00004-of-00004.safetensors:   4% 136M/3.56G [00:00<00:12, 266MB/s]\u001b[A\n",
            "model-00004-of-00004.safetensors:   5% 168M/3.56G [00:00<00:12, 276MB/s]\u001b[A\n",
            "model-00004-of-00004.safetensors:   6% 210M/3.56G [00:00<00:11, 293MB/s]\u001b[A\n",
            "model-00004-of-00004.safetensors:   7% 241M/3.56G [00:00<00:11, 299MB/s]\u001b[A\n",
            "model-00004-of-00004.safetensors:   8% 283M/3.56G [00:00<00:10, 302MB/s]\u001b[A\n",
            "model-00004-of-00004.safetensors:   9% 315M/3.56G [00:01<00:12, 262MB/s]\u001b[A\n",
            "model-00004-of-00004.safetensors:  10% 346M/3.56G [00:01<00:12, 247MB/s]\u001b[A\n",
            "model-00004-of-00004.safetensors:  11% 377M/3.56G [00:01<00:12, 254MB/s]\u001b[A\n",
            "model-00004-of-00004.safetensors:  11% 409M/3.56G [00:01<00:11, 267MB/s]\u001b[A\n",
            "model-00004-of-00004.safetensors:  12% 440M/3.56G [00:01<00:12, 253MB/s]\u001b[A\n",
            "model-00004-of-00004.safetensors:  13% 472M/3.56G [00:01<00:12, 252MB/s]\u001b[A\n",
            "model-00004-of-00004.safetensors:  14% 503M/3.56G [00:01<00:13, 232MB/s]\u001b[A\n",
            "model-00004-of-00004.safetensors:  15% 535M/3.56G [00:02<00:12, 244MB/s]\u001b[A\n",
            "model-00004-of-00004.safetensors:  16% 577M/3.56G [00:02<00:11, 269MB/s]\u001b[A\n",
            "model-00004-of-00004.safetensors:  17% 608M/3.56G [00:02<00:11, 262MB/s]\u001b[A\n",
            "model-00004-of-00004.safetensors:  18% 640M/3.56G [00:02<00:11, 256MB/s]\u001b[A\n",
            "model-00004-of-00004.safetensors:  19% 671M/3.56G [00:02<00:11, 252MB/s]\u001b[A\n",
            "model-00004-of-00004.safetensors:  20% 703M/3.56G [00:02<00:12, 237MB/s]\u001b[A\n",
            "model-00004-of-00004.safetensors:  21% 734M/3.56G [00:02<00:11, 249MB/s]\u001b[A\n",
            "model-00004-of-00004.safetensors:  22% 765M/3.56G [00:02<00:10, 262MB/s]\u001b[A\n",
            "model-00004-of-00004.safetensors:  23% 807M/3.56G [00:03<00:09, 293MB/s]\u001b[A\n",
            "model-00004-of-00004.safetensors:  24% 839M/3.56G [00:03<00:11, 240MB/s]\u001b[A\n",
            "model-00004-of-00004.safetensors:  24% 870M/3.56G [00:03<00:10, 249MB/s]\u001b[A\n",
            "model-00004-of-00004.safetensors:  25% 902M/3.56G [00:03<00:11, 237MB/s]\u001b[A\n",
            "model-00004-of-00004.safetensors:  26% 933M/3.56G [00:03<00:11, 236MB/s]\u001b[A\n",
            "model-00004-of-00004.safetensors:  27% 975M/3.56G [00:03<00:09, 260MB/s]\u001b[A\n",
            "model-00004-of-00004.safetensors:  28% 1.01G/3.56G [00:03<00:09, 270MB/s]\u001b[A\n",
            "model-00004-of-00004.safetensors:  29% 1.04G/3.56G [00:04<00:10, 241MB/s]\u001b[A\n",
            "model-00004-of-00004.safetensors:  30% 1.07G/3.56G [00:04<00:10, 240MB/s]\u001b[A\n",
            "model-00004-of-00004.safetensors:  31% 1.11G/3.56G [00:04<00:09, 260MB/s]\u001b[A\n",
            "model-00004-of-00004.safetensors:  32% 1.14G/3.56G [00:04<00:09, 256MB/s]\u001b[A\n",
            "model-00004-of-00004.safetensors:  33% 1.17G/3.56G [00:04<00:10, 235MB/s]\u001b[A\n",
            "model-00004-of-00004.safetensors:  34% 1.21G/3.56G [00:04<00:10, 222MB/s]\u001b[A\n",
            "model-00004-of-00004.safetensors:  35% 1.24G/3.56G [00:04<00:10, 227MB/s]\u001b[A\n",
            "model-00004-of-00004.safetensors:  36% 1.27G/3.56G [00:05<00:10, 211MB/s]\u001b[A\n",
            "model-00004-of-00004.safetensors:  37% 1.30G/3.56G [00:05<00:10, 219MB/s]\u001b[A\n",
            "model-00004-of-00004.safetensors:  38% 1.34G/3.56G [00:05<00:08, 247MB/s]\u001b[A\n",
            "model-00004-of-00004.safetensors:  39% 1.37G/3.56G [00:05<00:09, 229MB/s]\u001b[A\n",
            "model-00004-of-00004.safetensors:  40% 1.41G/3.56G [00:05<00:08, 246MB/s]\u001b[A\n",
            "model-00004-of-00004.safetensors:  40% 1.44G/3.56G [00:05<00:08, 253MB/s]\u001b[A\n",
            "model-00004-of-00004.safetensors:  41% 1.47G/3.56G [00:05<00:09, 231MB/s]\u001b[A\n",
            "model-00004-of-00004.safetensors:  42% 1.50G/3.56G [00:05<00:09, 228MB/s]\u001b[A\n",
            "model-00004-of-00004.safetensors:  43% 1.53G/3.56G [00:06<00:09, 224MB/s]\u001b[A\n",
            "model-00004-of-00004.safetensors:  44% 1.56G/3.56G [00:06<00:08, 241MB/s]\u001b[A\n",
            "model-00004-of-00004.safetensors:  45% 1.59G/3.56G [00:06<00:07, 247MB/s]\u001b[A\n",
            "model-00004-of-00004.safetensors:  46% 1.63G/3.56G [00:06<00:07, 250MB/s]\u001b[A\n",
            "model-00004-of-00004.safetensors:  47% 1.66G/3.56G [00:06<00:07, 259MB/s]\u001b[A\n",
            "model-00004-of-00004.safetensors:  47% 1.69G/3.56G [00:06<00:07, 237MB/s]\u001b[A\n",
            "model-00004-of-00004.safetensors:  48% 1.72G/3.56G [00:06<00:07, 237MB/s]\u001b[A\n",
            "model-00004-of-00004.safetensors:  49% 1.75G/3.56G [00:07<00:07, 227MB/s]\u001b[A\n",
            "model-00004-of-00004.safetensors:  50% 1.78G/3.56G [00:07<00:07, 228MB/s]\u001b[A\n",
            "model-00004-of-00004.safetensors:  51% 1.82G/3.56G [00:07<00:06, 257MB/s]\u001b[A\n",
            "model-00004-of-00004.safetensors:  52% 1.86G/3.56G [00:07<00:06, 263MB/s]\u001b[A\n",
            "model-00004-of-00004.safetensors:  53% 1.89G/3.56G [00:07<00:07, 235MB/s]\u001b[A\n",
            "model-00004-of-00004.safetensors:  54% 1.92G/3.56G [00:07<00:07, 234MB/s]\u001b[A\n",
            "model-00004-of-00004.safetensors:  55% 1.95G/3.56G [00:07<00:06, 237MB/s]\u001b[A\n",
            "model-00004-of-00004.safetensors:  56% 1.98G/3.56G [00:07<00:06, 239MB/s]\u001b[A\n",
            "model-00004-of-00004.safetensors:  57% 2.01G/3.56G [00:08<00:06, 252MB/s]\u001b[A\n",
            "model-00004-of-00004.safetensors:  57% 2.04G/3.56G [00:08<00:05, 261MB/s]\u001b[A\n",
            "model-00004-of-00004.safetensors:  58% 2.08G/3.56G [00:08<00:05, 248MB/s]\u001b[A\n",
            "model-00004-of-00004.safetensors:  59% 2.11G/3.56G [00:08<00:05, 250MB/s]\u001b[A\n",
            "model-00004-of-00004.safetensors:  60% 2.14G/3.56G [00:08<00:05, 257MB/s]\u001b[A\n",
            "model-00004-of-00004.safetensors:  61% 2.17G/3.56G [00:08<00:05, 265MB/s]\u001b[A\n",
            "model-00004-of-00004.safetensors:  62% 2.20G/3.56G [00:08<00:05, 262MB/s]\u001b[A\n",
            "model-00004-of-00004.safetensors:  63% 2.24G/3.56G [00:08<00:04, 281MB/s]\u001b[A\n",
            "model-00004-of-00004.safetensors:  64% 2.28G/3.56G [00:09<00:04, 279MB/s]\u001b[A\n",
            "model-00004-of-00004.safetensors:  65% 2.31G/3.56G [00:09<00:04, 284MB/s]\u001b[A\n",
            "model-00004-of-00004.safetensors:  66% 2.34G/3.56G [00:09<00:04, 266MB/s]\u001b[A\n",
            "model-00004-of-00004.safetensors:  67% 2.37G/3.56G [00:09<00:05, 218MB/s]\u001b[A\n",
            "model-00004-of-00004.safetensors:  68% 2.40G/3.56G [00:12<00:39, 29.6MB/s]\u001b[A\n",
            "model-00004-of-00004.safetensors:  68% 2.42G/3.56G [00:12<00:31, 35.8MB/s]\u001b[A\n",
            "model-00004-of-00004.safetensors:  69% 2.45G/3.56G [00:13<00:22, 49.9MB/s]\u001b[A\n",
            "model-00004-of-00004.safetensors:  70% 2.50G/3.56G [00:13<00:14, 73.0MB/s]\u001b[A\n",
            "model-00004-of-00004.safetensors:  71% 2.53G/3.56G [00:13<00:11, 93.1MB/s]\u001b[A\n",
            "model-00004-of-00004.safetensors:  72% 2.57G/3.56G [00:13<00:07, 126MB/s] \u001b[A\n",
            "model-00004-of-00004.safetensors:  73% 2.61G/3.56G [00:13<00:05, 163MB/s]\u001b[A\n",
            "model-00004-of-00004.safetensors:  75% 2.65G/3.56G [00:13<00:04, 189MB/s]\u001b[A\n",
            "model-00004-of-00004.safetensors:  75% 2.68G/3.56G [00:13<00:05, 173MB/s]\u001b[A\n",
            "model-00004-of-00004.safetensors:  76% 2.72G/3.56G [00:14<00:05, 148MB/s]\u001b[A\n",
            "model-00004-of-00004.safetensors:  77% 2.75G/3.56G [00:18<00:37, 21.7MB/s]\u001b[A\n",
            "model-00004-of-00004.safetensors:  78% 2.79G/3.56G [00:18<00:23, 32.1MB/s]\u001b[A\n",
            "model-00004-of-00004.safetensors:  80% 2.83G/3.56G [00:19<00:15, 45.6MB/s]\u001b[A\n",
            "model-00004-of-00004.safetensors:  80% 2.86G/3.56G [00:19<00:12, 57.3MB/s]\u001b[A\n",
            "model-00004-of-00004.safetensors:  81% 2.89G/3.56G [00:19<00:09, 72.2MB/s]\u001b[A\n",
            "model-00004-of-00004.safetensors:  83% 2.94G/3.56G [00:19<00:06, 98.9MB/s]\u001b[A\n",
            "model-00004-of-00004.safetensors:  84% 2.98G/3.56G [00:19<00:04, 127MB/s] \u001b[A\n",
            "model-00004-of-00004.safetensors:  85% 3.01G/3.56G [00:19<00:03, 142MB/s]\u001b[A\n",
            "model-00004-of-00004.safetensors:  86% 3.04G/3.56G [00:19<00:03, 151MB/s]\u001b[A\n",
            "model-00004-of-00004.safetensors:  86% 3.07G/3.56G [00:20<00:02, 171MB/s]\u001b[A\n",
            "model-00004-of-00004.safetensors:  87% 3.10G/3.56G [00:20<00:02, 191MB/s]\u001b[A\n",
            "model-00004-of-00004.safetensors:  88% 3.14G/3.56G [00:20<00:02, 205MB/s]\u001b[A\n",
            "model-00004-of-00004.safetensors:  89% 3.17G/3.56G [00:20<00:01, 209MB/s]\u001b[A\n",
            "model-00004-of-00004.safetensors:  90% 3.20G/3.56G [00:20<00:01, 231MB/s]\u001b[A\n",
            "model-00004-of-00004.safetensors:  91% 3.23G/3.56G [00:20<00:01, 241MB/s]\u001b[A\n",
            "model-00004-of-00004.safetensors:  92% 3.26G/3.56G [00:20<00:01, 257MB/s]\u001b[A\n",
            "model-00004-of-00004.safetensors:  93% 3.29G/3.56G [00:20<00:01, 258MB/s]\u001b[A\n",
            "model-00004-of-00004.safetensors:  93% 3.32G/3.56G [00:21<00:00, 257MB/s]\u001b[A\n",
            "model-00004-of-00004.safetensors:  94% 3.36G/3.56G [00:21<00:01, 185MB/s]\u001b[A\n",
            "model-00004-of-00004.safetensors:  95% 3.39G/3.56G [00:21<00:00, 200MB/s]\u001b[A\n",
            "model-00004-of-00004.safetensors:  96% 3.42G/3.56G [00:22<00:02, 64.6MB/s]\u001b[A\n",
            "model-00004-of-00004.safetensors:  97% 3.44G/3.56G [00:22<00:01, 65.9MB/s]\u001b[A\n",
            "model-00004-of-00004.safetensors:  97% 3.46G/3.56G [00:23<00:01, 78.4MB/s]\u001b[A\n",
            "model-00004-of-00004.safetensors:  98% 3.49G/3.56G [00:23<00:00, 103MB/s] \u001b[A\n",
            "model-00004-of-00004.safetensors:  99% 3.52G/3.56G [00:23<00:00, 128MB/s]\u001b[A\n",
            "model-00004-of-00004.safetensors: 100% 3.56G/3.56G [00:23<00:00, 152MB/s]\n",
            "\n",
            "\n",
            "\n",
            "Downloading shards: 100% 4/4 [01:31<00:00, 22.82s/it]\n",
            "\n",
            "\n",
            "Downloading shards: 100% 4/4 [01:42<00:00, 25.62s/it]\n",
            "Downloading shards: 100% 4/4 [01:42<00:00, 25.72s/it]\n",
            "/usr/local/lib/python3.11/dist-packages/accelerate/utils/modeling.py:1381: UserWarning: Current model requires 469765632 bytes of buffer for offloaded layers, which seems does not fit any GPU's remaining memory. If you are experiencing a OOM later, please consider using offload_buffers=True.\n",
            "  warnings.warn(\n",
            "Loading checkpoint shards:  25% 1/4 [00:00<00:02,  1.30it/s]\n",
            "Loading checkpoint shards: 100% 4/4 [00:01<00:00,  2.80it/s]\n",
            "\n",
            "Loading checkpoint shards:   0% 0/4 [00:00<?, ?it/s]\n",
            "\n",
            "generation_config.json:   0% 0.00/243 [00:00<?, ?B/s]\u001b[A\u001b[A\n",
            "generation_config.json: 100% 243/243 [00:00<00:00, 248kB/s]\n",
            "Loading checkpoint shards: 100% 4/4 [00:01<00:00,  3.74it/s]\n",
            "Loading checkpoint shards:  25% 1/4 [00:00<00:01,  1.56it/s]Some parameters are on the meta device device because they were offloaded to the cpu and disk.\n",
            "Loading checkpoint shards: 100% 4/4 [00:01<00:00,  3.83it/s]\n",
            "Some parameters are on the meta device device because they were offloaded to the cpu and disk.\n",
            "Some parameters are on the meta device device because they were offloaded to the cpu and disk.\n",
            "\u001b[34m  Stopping...\u001b[0m\n",
            "\u001b[34m  Stopping...\u001b[0m\n",
            "Exception ignored in: <module 'threading' from '/usr/lib/python3.11/threading.py'>\n",
            "Traceback (most recent call last):\n",
            "  File \"/usr/lib/python3.11/threading.py\", line 1560, in _shutdown\n",
            "    atexit_call()\n",
            "  File \"/usr/lib/python3.11/concurrent/futures/thread.py\", line 31, in _python_exit\n",
            "    t.join()\n",
            "  File \"/usr/lib/python3.11/threading.py\", line 1119, in join\n",
            "    self._wait_for_tstate_lock()\n",
            "  File \"/usr/lib/python3.11/threading.py\", line 1139, in _wait_for_tstate_lock\n",
            "    if lock.acquire(block, timeout):\n",
            "       ^^^^^^^^^^^^^^^^^^^^^^^^^^^^\n",
            "  File \"/usr/local/lib/python3.11/dist-packages/streamlit/web/bootstrap.py\", line 44, in signal_handler\n",
            "    server.stop()\n",
            "  File \"/usr/local/lib/python3.11/dist-packages/streamlit/web/server/server.py\", line 405, in stop\n",
            "    self._runtime.stop()\n",
            "  File \"/usr/local/lib/python3.11/dist-packages/streamlit/runtime/runtime.py\", line 324, in stop\n",
            "    async_objs.eventloop.call_soon_threadsafe(stop_on_eventloop)\n",
            "  File \"/usr/lib/python3.11/asyncio/base_events.py\", line 807, in call_soon_threadsafe\n",
            "    self._check_closed()\n",
            "  File \"/usr/lib/python3.11/asyncio/base_events.py\", line 520, in _check_closed\n",
            "    raise RuntimeError('Event loop is closed')\n",
            "RuntimeError: Event loop is closed\n"
          ]
        }
      ],
      "source": [
        "from pyngrok import ngrok\n",
        "\n",
        "public_url = ngrok.connect(8501).public_url\n",
        "print(f\"公開URL: {public_url}\")\n",
        "!streamlit run app.py"
      ]
    },
    {
      "cell_type": "markdown",
      "metadata": {
        "id": "SkvkQwUpoi_W"
      },
      "source": [
        "アプリケーションの機能としては、チャット機能や履歴閲覧があります。\n",
        "\n",
        "これらの機能を実現するためには、StreamlitによるUI部分だけではなく、SQLiteを使用したチャット履歴の保存やLLMのモデルを呼び出した推論などの処理を組み合わせることで実現しています。\n",
        "\n",
        "- **`app.py`**: アプリケーションのエントリーポイント。チャット機能、履歴閲覧、サンプルデータ管理のUIを提供します。\n",
        "- **`ui.py`**: チャットページや履歴閲覧ページなど、アプリケーションのUIロジックを管理します。\n",
        "- **`llm.py`**: LLMモデルのロードとテキスト生成を行うモジュール。\n",
        "- **`database.py`**: SQLiteデータベースを使用してチャット履歴やフィードバックを保存・管理します。\n",
        "- **`metrics.py`**: BLEUスコアやコサイン類似度など、回答の評価指標を計算するモジュール。\n",
        "- **`data.py`**: サンプルデータの作成やデータベースの初期化を行うモジュール。\n",
        "- **`config.py`**: アプリケーションの設定（モデル名やデータベースファイル名）を管理します。\n",
        "- **`requirements.txt`**: このアプリケーションを実行するために必要なPythonパッケージ。"
      ]
    },
    {
      "cell_type": "markdown",
      "metadata": {
        "id": "Xvm8sWFPELSP"
      },
      "source": [
        "後片付けとして、使う必要のないngrokのトンネルを削除します。"
      ]
    },
    {
      "cell_type": "code",
      "execution_count": 15,
      "metadata": {
        "id": "WFJC2TmZELSP"
      },
      "outputs": [],
      "source": [
        "from pyngrok import ngrok\n",
        "ngrok.kill()"
      ]
    },
    {
      "cell_type": "markdown",
      "metadata": {
        "id": "rUXhIzV7ELSP"
      },
      "source": [
        "# 03_FastAPI\n",
        "\n",
        "ディレクトリ「03_FastAPI」に移動します。"
      ]
    },
    {
      "cell_type": "code",
      "execution_count": 16,
      "metadata": {
        "id": "4ejjDLxr3kfC",
        "outputId": "0ba87a31-2b5e-44b7-c417-d39598deaa23",
        "colab": {
          "base_uri": "https://localhost:8080/"
        }
      },
      "outputs": [
        {
          "output_type": "stream",
          "name": "stdout",
          "text": [
            "/content/lecture-ai-engineering/day1/03_FastAPI\n"
          ]
        }
      ],
      "source": [
        "%cd /content/lecture-ai-engineering/day1/03_FastAPI"
      ]
    },
    {
      "cell_type": "markdown",
      "metadata": {
        "id": "f45TDsNzELSQ"
      },
      "source": [
        "必要なライブラリをインストールします。"
      ]
    },
    {
      "cell_type": "code",
      "execution_count": 17,
      "metadata": {
        "id": "9uv6glCz5a7Z"
      },
      "outputs": [],
      "source": [
        "%%capture\n",
        "!pip install -r requirements.txt"
      ]
    },
    {
      "cell_type": "markdown",
      "metadata": {
        "id": "JfrmE2VmELSQ"
      },
      "source": [
        "ngrokとhuggigfaceのトークンを使用して、認証を行います。"
      ]
    },
    {
      "cell_type": "code",
      "execution_count": 18,
      "metadata": {
        "id": "ELzWhMFORRIO",
        "outputId": "8b7c0fb9-f7cd-4578-c414-c41971a467bf",
        "colab": {
          "base_uri": "https://localhost:8080/"
        }
      },
      "outputs": [
        {
          "output_type": "stream",
          "name": "stdout",
          "text": [
            "Authtoken saved to configuration file: /root/.config/ngrok/ngrok.yml\n",
            "The token has not been saved to the git credentials helper. Pass `add_to_git_credential=True` in this function directly or `--add-to-git-credential` if using via `huggingface-cli` if you want to set the git credential as well.\n",
            "Token is valid (permission: write).\n",
            "Your token has been saved to /root/.cache/huggingface/token\n",
            "Login successful\n"
          ]
        }
      ],
      "source": [
        "!ngrok authtoken $$NGROK_TOKEN\n",
        "!huggingface-cli login --token $$HUGGINGFACE_TOKEN"
      ]
    },
    {
      "cell_type": "markdown",
      "metadata": {
        "id": "t-wztc2CELSQ"
      },
      "source": [
        "アプリを起動します。\n",
        "\n",
        "「02_streamlit_app」から続けて「03_FastAPI」を実行している場合は、モデルのダウンロードが済んでいるため、すぐにサービスが立ち上がります。\n",
        "\n",
        "「03_FastAPI」のみを実行している場合は、初回の起動時にモデルのダウンロードが始まるので、モデルのダウンロードが終わるまで数分間待ちましょう。"
      ]
    },
    {
      "cell_type": "code",
      "execution_count": null,
      "metadata": {
        "id": "meQ4SwISn3IQ",
        "outputId": "616df38a-6d3d-4c45-bcb0-5fc77bee46d8",
        "colab": {
          "base_uri": "https://localhost:8080/"
        }
      },
      "outputs": [
        {
          "output_type": "stream",
          "name": "stdout",
          "text": [
            "/usr/local/lib/python3.11/dist-packages/torchvision/io/image.py:13: UserWarning: Failed to load image Python extension: '/usr/local/lib/python3.11/dist-packages/torchvision/image.so: undefined symbol: _ZN3c1017RegisterOperatorsD1Ev'If you don't plan on using image functionality from `torchvision.io`, you can ignore this warning. Otherwise, there might be something wrong with your environment. Did you have `libjpeg` or `libpng` installed before building `torchvision` from source?\n",
            "  warn(\n"
          ]
        }
      ],
      "source": [
        "!python app.py"
      ]
    },
    {
      "cell_type": "markdown",
      "metadata": {
        "id": "RLubjIhbELSR"
      },
      "source": [
        "FastAPIが起動すると、APIとクライアントが通信するためのURL（エンドポイント）が作られます。\n",
        "\n",
        "URLが作られるのと合わせて、Swagger UIというWebインターフェースが作られます。\n",
        "\n",
        "Swagger UIにアクセスすることで、APIの仕様を確認できたり、APIをテストすることができます。\n",
        "\n",
        "Swagger UIを利用することで、APIを通してLLMを動かしてみましょう。"
      ]
    },
    {
      "cell_type": "markdown",
      "metadata": {
        "id": "XgumW3mGELSR"
      },
      "source": [
        "後片付けとして、使う必要のないngrokのトンネルを削除します。"
      ]
    },
    {
      "cell_type": "code",
      "execution_count": null,
      "metadata": {
        "id": "RJymTZio-WPJ"
      },
      "outputs": [],
      "source": [
        "from pyngrok import ngrok\n",
        "ngrok.kill()"
      ]
    }
  ],
  "metadata": {
    "colab": {
      "provenance": [],
      "gpuType": "T4",
      "include_colab_link": true
    },
    "kernelspec": {
      "display_name": "Python 3",
      "name": "python3"
    },
    "language_info": {
      "name": "python"
    },
    "accelerator": "GPU"
  },
  "nbformat": 4,
  "nbformat_minor": 0
}