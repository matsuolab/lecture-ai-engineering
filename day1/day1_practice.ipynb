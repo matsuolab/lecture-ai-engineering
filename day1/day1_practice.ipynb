{
  "cells": [
    {
      "cell_type": "markdown",
      "metadata": {
        "id": "gSpnWBP5ELSI"
      },
      "source": [
        "# 実践演習 Day 1：streamlitとFastAPIのデモ\n",
        "このノートブックでは以下の内容を学習します。\n",
        "\n",
        "- 必要なライブラリのインストールと環境設定\n",
        "- Hugging Faceからモデルを用いたStreamlitのデモアプリ\n",
        "- FastAPIとngrokを使用したAPIの公開方法\n",
        "\n",
        "演習を始める前に、HuggingFaceとngrokのアカウントを作成し、\n",
        "それぞれのAPIトークンを取得する必要があります。\n",
        "\n",
        "\n",
        "演習の時間では、以下の3つのディレクトリを順に説明します。\n",
        "\n",
        "1. 01_streamlit_UI\n",
        "2. 02_streamlit_app\n",
        "3. 03_FastAPI\n",
        "\n",
        "2つ目や3つ目からでも始められる様にノートブックを作成しています。\n",
        "\n",
        "復習の際にもこのノートブックを役立てていただければと思います。\n",
        "\n",
        "### 注意事項\n",
        "「02_streamlit_app」と「03_FastAPI」では、GPUを使用します。\n",
        "\n",
        "これらを実行する際は、Google Colab画面上のメニューから「編集」→ 「ノートブックの設定」\n",
        "\n",
        "「ハードウェアアクセラレーター」の項目の中から、「T4 GPU」を選択してください。\n",
        "\n",
        "このノートブックのデフォルトは「CPU」になっています。\n",
        "\n",
        "---"
      ]
    },
    {
      "cell_type": "markdown",
      "metadata": {
        "id": "OhtHkJOgELSL"
      },
      "source": [
        "# 環境変数の設定（1~3共有）\n"
      ]
    },
    {
      "cell_type": "markdown",
      "metadata": {
        "id": "Y-FjBp4MMQHM"
      },
      "source": [
        "GitHubから演習用のコードをCloneします。"
      ]
    },
    {
      "cell_type": "code",
      "execution_count": null,
      "metadata": {
        "id": "AIXMavdDEP8U"
      },
      "outputs": [],
      "source": [
        "!git clone https://github.com/matsuolab/lecture-ai-engineering.git"
      ]
    },
    {
      "cell_type": "markdown",
      "metadata": {
        "id": "XC8n7yZ_vs1K"
      },
      "source": [
        "必要なAPIトークンを.envに設定します。\n",
        "\n",
        "「lecture-ai-engineering/day1」の配下に、「.env_template」ファイルが存在しています。\n",
        "\n",
        "隠しファイルのため表示されていない場合は、画面左側のある、目のアイコンの「隠しファイルの表示」ボタンを押してください。\n",
        "\n",
        "「.env_template」のファイル名を「.env」に変更します。「.env」ファイルを開くと、以下のような中身になっています。\n",
        "\n",
        "\n",
        "```\n",
        "HUGGINGFACE_TOKEN=\"hf-********\"\n",
        "NGROK_TOKEN=\"********\"\n",
        "```\n",
        "ダブルクオーテーションで囲まれた文字列をHuggingfaceのアクセストークンと、ngrokの認証トークンで書き変えてください。\n",
        "\n",
        "それぞれのアカウントが作成済みであれば、以下のURLからそれぞれのトークンを取得できます。\n",
        "\n",
        "- Huggingfaceのアクセストークン\n",
        "https://huggingface.co/docs/hub/security-tokens\n",
        "\n",
        "- ngrokの認証トークン\n",
        "https://dashboard.ngrok.com/get-started/your-authtoken\n",
        "\n",
        "書き換えたら、「.env」ファイルをローカルのPCにダウンロードしてください。\n",
        "\n",
        "「01_streamlit_UI」から「02_streamlit_app」へ進む際に、CPUからGPUの利用に切り替えるため、セッションが一度切れてしまいます。\n",
        "\n",
        "その際に、トークンを設定した「.env」ファイルは再作成することになるので、その手間を減らすために「.env」ファイルをダウンロードしておくと良いです。"
      ]
    },
    {
      "cell_type": "markdown",
      "metadata": {
        "id": "Py1BFS5RqcSS"
      },
      "source": [
        "「.env」ファイルを読み込み、環境変数として設定します。次のセルを実行し、最終的に「True」が表示されていればうまく読み込めています。"
      ]
    },
    {
      "cell_type": "code",
      "execution_count": null,
      "metadata": {
        "id": "bvEowFfg5lrq"
      },
      "outputs": [],
      "source": [
        "!pip install python-dotenv\n",
        "from dotenv import load_dotenv, find_dotenv\n",
        "\n",
        "%cd /content/lecture-ai-engineering/day1\n",
        "load_dotenv(find_dotenv())"
      ]
    },
    {
      "cell_type": "markdown",
      "metadata": {
        "id": "os0Yk6gaELSM"
      },
      "source": [
        "# 01_streamlit_UI\n",
        "\n",
        "ディレクトリ「01_streamlit_UI」に移動します。"
      ]
    },
    {
      "cell_type": "code",
      "execution_count": null,
      "metadata": {
        "id": "S28XgOm0ELSM"
      },
      "outputs": [],
      "source": [
        "%cd /content/lecture-ai-engineering/day1/01_streamlit_UI"
      ]
    },
    {
      "cell_type": "markdown",
      "metadata": {
        "id": "eVp-aEIkELSM"
      },
      "source": [
        "必要なライブラリをインストールします。"
      ]
    },
    {
      "cell_type": "code",
      "execution_count": null,
      "metadata": {
        "id": "nBe41LFiELSN"
      },
      "outputs": [],
      "source": [
        "%%capture\n",
        "!pip install -r requirements.txt"
      ]
    },
    {
      "cell_type": "markdown",
      "metadata": {
        "id": "Yyw6VHaTELSN"
      },
      "source": [
        "ngrokのトークンを使用して、認証を行います。"
      ]
    },
    {
      "cell_type": "code",
      "execution_count": null,
      "metadata": {
        "id": "aYw1q0iXELSN"
      },
      "outputs": [],
      "source": [
        "!ngrok authtoken $$NGROK_TOKEN"
      ]
    },
    {
      "cell_type": "markdown",
      "metadata": {
        "id": "RssTcD_IELSN"
      },
      "source": [
        "アプリを起動します。"
      ]
    },
    {
      "cell_type": "code",
      "execution_count": null,
      "metadata": {
        "id": "f-E7ucR6ELSN"
      },
      "outputs": [],
      "source": [
        "from pyngrok import ngrok\n",
        "\n",
        "public_url = ngrok.connect(8501).public_url\n",
        "print(f\"公開URL: {public_url}\")\n",
        "!streamlit run app.py"
      ]
    },
    {
      "cell_type": "markdown",
      "metadata": {
        "id": "kbYyXVFjELSN"
      },
      "source": [
        "公開URLの後に記載されているURLにブラウザでアクセスすると、streamlitのUIが表示されます。\n",
        "\n",
        "app.pyのコメントアウトされている箇所を編集することで、UIがどの様に変化するか確認してみましょう。\n",
        "\n",
        "streamlitの公式ページには、ギャラリーページがあります。\n",
        "\n",
        "streamlitを使うとpythonという一つの言語であっても、様々なUIを実現できることがわかると思います。\n",
        "\n",
        "https://streamlit.io/gallery"
      ]
    },
    {
      "cell_type": "markdown",
      "metadata": {
        "id": "MmtP5GLOELSN"
      },
      "source": [
        "後片付けとして、使う必要のないngrokのトンネルを削除します。"
      ]
    },
    {
      "cell_type": "code",
      "execution_count": null,
      "metadata": {
        "id": "8Ek9QgahELSO"
      },
      "outputs": [],
      "source": [
        "from pyngrok import ngrok\n",
        "ngrok.kill()"
      ]
    },
    {
      "cell_type": "markdown",
      "metadata": {
        "id": "o-T8tFpyELSO"
      },
      "source": [
        "# 02_streamlit_app"
      ]
    },
    {
      "cell_type": "markdown",
      "metadata": {
        "id": "QqogFQKnELSO"
      },
      "source": [
        "\n",
        "ディレクトリ「02_streamlit_app」に移動します。"
      ]
    },
    {
      "cell_type": "code",
      "execution_count": null,
      "metadata": {
        "id": "UeEjlJ7uELSO"
      },
      "outputs": [],
      "source": [
        "%cd /content/lecture-ai-engineering/day1/02_streamlit_app"
      ]
    },
    {
      "cell_type": "markdown",
      "metadata": {
        "id": "-XUH2AstELSO"
      },
      "source": [
        "必要なライブラリをインストールします。"
      ]
    },
    {
      "cell_type": "code",
      "execution_count": null,
      "metadata": {
        "id": "mDqvI4V3ELSO"
      },
      "outputs": [],
      "source": [
        "%%capture\n",
        "!pip install -r requirements.txt"
      ]
    },
    {
      "cell_type": "markdown",
      "metadata": {
        "id": "ZO31umGZELSO"
      },
      "source": [
        "ngrokとhuggigfaceのトークンを使用して、認証を行います。"
      ]
    },
    {
      "cell_type": "code",
      "execution_count": null,
      "metadata": {
        "id": "jPxTiEWQELSO"
      },
      "outputs": [],
      "source": [
        "!ngrok authtoken $$NGROK_TOKEN\n",
        "!huggingface-cli login --token $$HUGGINGFACE_TOKEN"
      ]
    },
    {
      "cell_type": "markdown",
      "metadata": {
        "id": "dz4WrELLELSP"
      },
      "source": [
        "stramlitでHuggingfaceのトークン情報を扱うために、streamlit用の設定ファイル（.streamlit）を作成し、トークンの情報を格納します。"
      ]
    },
    {
      "cell_type": "code",
      "execution_count": null,
      "metadata": {
        "id": "W184-a7qFP0W"
      },
      "outputs": [],
      "source": [
        "# .streamlit/secrets.toml ファイルを作成\n",
        "import os\n",
        "import toml\n",
        "\n",
        "# 設定ファイルのディレクトリ確保\n",
        "os.makedirs('.streamlit', exist_ok=True)\n",
        "\n",
        "# 環境変数から取得したトークンを設定ファイルに書き込む\n",
        "secrets = {\n",
        "    \"huggingface\": {\n",
        "        \"token\": os.environ.get(\"HUGGINGFACE_TOKEN\", \"\")\n",
        "    }\n",
        "}\n",
        "\n",
        "# 設定ファイルを書き込む\n",
        "with open('.streamlit/secrets.toml', 'w') as f:\n",
        "    toml.dump(secrets, f)"
      ]
    },
    {
      "cell_type": "markdown",
      "metadata": {
        "id": "fK0vI_xKELSP"
      },
      "source": [
        "アプリを起動します。\n",
        "\n",
        "02_streamlit_appでは、Huggingfaceからモデルをダウンロードするため、初回起動には2分程度時間がかかります。\n",
        "\n",
        "この待ち時間を利用して、app.pyのコードを確認してみましょう。"
      ]
    },
    {
      "cell_type": "markdown",
      "source": [
        "# モデルを変更\n",
        "\n",
        "\n",
        "```\n",
        "google/gemma-3-27b-it\n",
        "```\n",
        "\n",
        "でconfig.pyでMODEL_NAMEを指定\n",
        "\n",
        "\n",
        "\n",
        "## Gemma 3 モデルの概要\n",
        "\n",
        "\n",
        "### 128,000 トークンのコンテキスト ウィンドウ\n",
        "\n",
        "Gemma 3 モデルは、最大 128, 000 トークンのプロンプト入力を処理できます。これは、以前の Gemma モデルのコンテキスト ウィンドウの 16 倍です。トークンが大量にあるため、複数の複数ページの記事、大規模な単一の記事、数百枚の画像を 1 つのプロンプトで処理できます。\n",
        "\n",
        "\n",
        "\n",
        "\n",
        "### パラメータのサイズと量子化\n",
        "\n",
        "Gemma 3 モデルは、32 ビットのフル精度から 4 ビットの最小精度まで、5 つの精度レベルで 4 つのパラメータ サイズで使用できます。さまざまなサイズと精度は、AI アプリケーションのトレードオフを表します。パラメータとビット数が多いモデル（精度が高いモデル）は一般に機能が優れていますが、処理サイクル、メモリコスト、消費電力という点で実行コストが高くなります。パラメータとビット数が少ないモデル（精度が低いモデル）は機能が制限されますが、AI タスクに十分な場合があります。次の表に、Gemma 3 モデル バージョンの各サイズで推論を実行するために必要な GPU または TPU のメモリの概要を示します。\n",
        "\n",
        "\n",
        "### 参照リンク先\n",
        "\n",
        "https://ai.google.dev/gemma/docs/core?hl=ja\n",
        "\n",
        "\n"
      ],
      "metadata": {
        "id": "0ugR_TfkJCww"
      }
    },
    {
      "cell_type": "code",
      "execution_count": null,
      "metadata": {
        "id": "TBQyTTWTELSP"
      },
      "outputs": [],
      "source": [
        "from pyngrok import ngrok\n",
        "\n",
        "public_url = ngrok.connect(8501).public_url\n",
        "print(f\"公開URL: {public_url}\")\n",
        "!streamlit run app.py"
      ]
    },
    {
      "cell_type": "markdown",
      "source": [
        "![image.png](data:image/png;base64,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)"
      ],
      "metadata": {
        "id": "_Ce0j81saR4m"
      }
    },
    {
      "cell_type": "markdown",
      "source": [
        "## 回答:\n",
        "Gemmaは、Googleが開発した大規模言語モデル（LLM）です。2022年、Gemmaはオープンソースで公開され、研究や開発コミュニティに広く提供されました。以下に、Gemmaの主要な特徴と解説をまとめます。\n",
        "\n",
        "## 1. Gemmaの概要\n",
        "\n",
        "- 開発元: Google DeepMind\n",
        "- モデルサイズ: 2B、7B、13Bパラメータ\n",
        "- 学習データ: 大量のテキストとコードデータセット\n",
        "- オープンアクセス: 研究目的や開発用途に利用可能\n",
        "- 目的: 自然言語処理タスク（質問応答、テキスト生成、翻訳など）の性能向上\n",
        "\n",
        "## 2. Gemmaの特徴\n",
        "\n",
        "- 高品質なテキスト生成: 様々なトピックに関する創造的で正確なテキストを生成できます。\n",
        "\n",
        "- 幅広いタスクに対応: 質問応答、要約、翻訳、コード生成など、多様なタスクに対応できます。\n",
        "\n",
        "- オープンソース: 誰でも自由に利用、研究、開発に利用できます。\n",
        "\n",
        "- 低コスト: モデルの利用には、計算資源やデータなど、ある程度のコストがかかりますが、比較的に低コストで利用できます。\n",
        "\n",
        "- 多様なモデルサイズ: 2B、7B、13Bの3つのモデルサイズを提供しており、用途に合わせて選択できます。\n",
        "\n",
        "## 3. Gemmaの仕組み\n",
        "\n",
        "Gemmaは、Transformerアーキテクチャに基づいた大規模言語モデルです。具体的には、以下の点が特徴です。\n",
        "\n",
        "- Mixture of Experts (MoE): モデルの性能を向上させるために、複数の「専門家」を組み合わせる技術です。\n",
        "\n",
        "- Sparse Attention: TransformerのAttentionメカニズムの効率化を図り、計算コストを削減しています。\n",
        "\n",
        "## 4. Gemmaの活用例\n",
        "\n",
        "- チャットボット: ユーザーの質問に答えるチャットボットを構築できます。\n",
        "\n",
        "- コンテンツ作成: ブログ記事、メール、レポートなどのコンテンツを生成できます。\n",
        "\n",
        "- プログラミング: コードの生成、デバッグ、コードの説明など、プログラミングに役立てられます。\n",
        "\n",
        "- 教育: 質問応答システム、教材作成、学習支援など、教育分野での活用が期待されています。\n",
        "\n",
        "5. Gemmaのダウンロードと利用\n",
        "\n",
        "- Google AI Studio: Gemmaを直接利用できるウェブベースのインターフェースです。\n",
        "Hugging Face:\n"
      ],
      "metadata": {
        "id": "IeZtpxUiaW90"
      }
    },
    {
      "cell_type": "markdown",
      "metadata": {
        "id": "RXlwN3jPCma1"
      },
      "source": [
        "アプリケーションの機能としては、チャット機能や履歴閲覧があります。\n",
        "\n",
        "これらの機能を実現するためには、StreamlitによるUI部分だけではなく、SQLiteを使用したチャット履歴の保存やLLMのモデルを呼び出した推論などの処理を組み合わせることで実現しています。\n",
        "\n",
        "- **`app.py`**: アプリケーションのエントリーポイント。チャット機能、履歴閲覧、サンプルデータ管理のUIを提供します。\n",
        "- **`ui.py`**: チャットページや履歴閲覧ページなど、アプリケーションのUIロジックを管理します。\n",
        "- **`llm.py`**: LLMモデルのロードとテキスト生成を行うモジュール。\n",
        "- **`database.py`**: SQLiteデータベースを使用してチャット履歴やフィードバックを保存・管理します。\n",
        "- **`metrics.py`**: BLEUスコアやコサイン類似度など、回答の評価指標を計算するモジュール。\n",
        "- **`data.py`**: サンプルデータの作成やデータベースの初期化を行うモジュール。\n",
        "- **`config.py`**: アプリケーションの設定（モデル名やデータベースファイル名）を管理します。\n",
        "- **`requirements.txt`**: このアプリケーションを実行するために必要なPythonパッケージ。"
      ]
    },
    {
      "cell_type": "markdown",
      "metadata": {
        "id": "Xvm8sWFPELSP"
      },
      "source": [
        "後片付けとして、使う必要のないngrokのトンネルを削除します。"
      ]
    },
    {
      "cell_type": "code",
      "execution_count": null,
      "metadata": {
        "id": "WFJC2TmZELSP"
      },
      "outputs": [],
      "source": [
        "from pyngrok import ngrok\n",
        "ngrok.kill()"
      ]
    },
    {
      "cell_type": "markdown",
      "metadata": {
        "id": "rUXhIzV7ELSP"
      },
      "source": [
        "# 03_FastAPI\n",
        "\n",
        "ディレクトリ「03_FastAPI」に移動します。"
      ]
    },
    {
      "cell_type": "code",
      "execution_count": null,
      "metadata": {
        "id": "4ejjDLxr3kfC"
      },
      "outputs": [],
      "source": [
        "%cd /content/lecture-ai-engineering/day1/03_FastAPI"
      ]
    },
    {
      "cell_type": "markdown",
      "metadata": {
        "id": "f45TDsNzELSQ"
      },
      "source": [
        "必要なライブラリをインストールします。"
      ]
    },
    {
      "cell_type": "code",
      "execution_count": null,
      "metadata": {
        "id": "9uv6glCz5a7Z"
      },
      "outputs": [],
      "source": [
        "%%capture\n",
        "!pip install -r requirements.txt"
      ]
    },
    {
      "cell_type": "markdown",
      "metadata": {
        "id": "JfrmE2VmELSQ"
      },
      "source": [
        "ngrokとhuggigfaceのトークンを使用して、認証を行います。"
      ]
    },
    {
      "cell_type": "code",
      "execution_count": null,
      "metadata": {
        "id": "ELzWhMFORRIO"
      },
      "outputs": [],
      "source": [
        "!ngrok authtoken $$NGROK_TOKEN\n",
        "!huggingface-cli login --token $$HUGGINGFACE_TOKEN"
      ]
    },
    {
      "cell_type": "markdown",
      "metadata": {
        "id": "t-wztc2CELSQ"
      },
      "source": [
        "アプリを起動します。\n",
        "\n",
        "「02_streamlit_app」から続けて「03_FastAPI」を実行している場合は、モデルのダウンロードが済んでいるため、すぐにサービスが立ち上がります。\n",
        "\n",
        "「03_FastAPI」のみを実行している場合は、初回の起動時にモデルのダウンロードが始まるので、モデルのダウンロードが終わるまで数分間待ちましょう。"
      ]
    },
    {
      "cell_type": "code",
      "execution_count": null,
      "metadata": {
        "id": "meQ4SwISn3IQ"
      },
      "outputs": [],
      "source": [
        "!python app.py"
      ]
    },
    {
      "cell_type": "markdown",
      "metadata": {
        "id": "RLubjIhbELSR"
      },
      "source": [
        "FastAPIが起動すると、APIとクライアントが通信するためのURL（エンドポイント）が作られます。\n",
        "\n",
        "URLが作られるのと合わせて、Swagger UIというWebインターフェースが作られます。\n",
        "\n",
        "Swagger UIにアクセスすることで、APIの仕様を確認できたり、APIをテストすることができます。\n",
        "\n",
        "Swagger UIを利用することで、APIを通してLLMを動かしてみましょう。"
      ]
    },
    {
      "cell_type": "markdown",
      "metadata": {
        "id": "XgumW3mGELSR"
      },
      "source": [
        "後片付けとして、使う必要のないngrokのトンネルを削除します。"
      ]
    },
    {
      "cell_type": "code",
      "execution_count": null,
      "metadata": {
        "id": "RJymTZio-WPJ"
      },
      "outputs": [],
      "source": [
        "from pyngrok import ngrok\n",
        "ngrok.kill()"
      ]
    }
  ],
  "metadata": {
    "colab": {
      "provenance": [],
      "gpuType": "T4"
    },
    "kernelspec": {
      "display_name": "Python 3",
      "name": "python3"
    },
    "language_info": {
      "name": "python"
    },
    "accelerator": "GPU"
  },
  "nbformat": 4,
  "nbformat_minor": 0
}