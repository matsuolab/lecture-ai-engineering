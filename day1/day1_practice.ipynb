{
  "cells": [
    {
      "cell_type": "markdown",
      "metadata": {
        "id": "gSpnWBP5ELSI"
      },
      "source": [
        "# 実践演習 Day 1：streamlitとFastAPIのデモ\n",
        "このノートブックでは以下の内容を学習します。\n",
        "\n",
        "- 必要なライブラリのインストールと環境設定\n",
        "- Hugging Faceからモデルを用いたStreamlitのデモアプリ\n",
        "- FastAPIとngrokを使用したAPIの公開方法\n",
        "\n",
        "演習を始める前に、HuggingFaceとngrokのアカウントを作成し、\n",
        "それぞれのAPIトークンを取得する必要があります。\n",
        "\n",
        "\n",
        "演習の時間では、以下の3つのディレクトリを順に説明します。\n",
        "\n",
        "1. 01_streamlit_UI\n",
        "2. 02_streamlit_app\n",
        "3. 03_FastAPI\n",
        "\n",
        "2つ目や3つ目からでも始められる様にノートブックを作成しています。\n",
        "\n",
        "復習の際にもこのノートブックを役立てていただければと思います。\n",
        "\n",
        "### 注意事項\n",
        "「02_streamlit_app」と「03_FastAPI」では、GPUを使用します。\n",
        "\n",
        "これらを実行する際は、Google Colab画面上のメニューから「編集」→ 「ノートブックの設定」\n",
        "\n",
        "「ハードウェアアクセラレーター」の項目の中から、「T4 GPU」を選択してください。\n",
        "\n",
        "このノートブックのデフォルトは「CPU」になっています。\n",
        "\n",
        "---"
      ]
    },
    {
      "cell_type": "markdown",
      "metadata": {
        "id": "OhtHkJOgELSL"
      },
      "source": [
        "# 環境変数の設定（1~3共有）\n"
      ]
    },
    {
      "cell_type": "markdown",
      "metadata": {
        "id": "Y-FjBp4MMQHM"
      },
      "source": [
        "GitHubから演習用のコードをCloneします。"
      ]
    },
    {
      "cell_type": "code",
      "execution_count": null,
      "metadata": {
        "id": "AIXMavdDEP8U"
      },
      "outputs": [],
      "source": [
        "!git clone https://github.com/matsuolab/lecture-ai-engineering.git"
      ]
    },
    {
      "cell_type": "markdown",
      "metadata": {
        "id": "XC8n7yZ_vs1K"
      },
      "source": [
        "必要なAPIトークンを.envに設定します。\n",
        "\n",
        "「lecture-ai-engineering/day1」の配下に、「.env_template」ファイルが存在しています。\n",
        "\n",
        "隠しファイルのため表示されていない場合は、画面左側のある、目のアイコンの「隠しファイルの表示」ボタンを押してください。\n",
        "\n",
        "「.env_template」のファイル名を「.env」に変更します。「.env」ファイルを開くと、以下のような中身になっています。\n",
        "\n",
        "\n",
        "```\n",
        "HUGGINGFACE_TOKEN=\"hf-********\"\n",
        "NGROK_TOKEN=\"********\"\n",
        "```\n",
        "ダブルクオーテーションで囲まれた文字列をHuggingfaceのアクセストークンと、ngrokの認証トークンで書き変えてください。\n",
        "\n",
        "それぞれのアカウントが作成済みであれば、以下のURLからそれぞれのトークンを取得できます。\n",
        "\n",
        "- Huggingfaceのアクセストークン\n",
        "https://huggingface.co/docs/hub/security-tokens\n",
        "\n",
        "- ngrokの認証トークン\n",
        "https://dashboard.ngrok.com/get-started/your-authtoken\n",
        "\n",
        "書き換えたら、「.env」ファイルをローカルのPCにダウンロードしてください。\n",
        "\n",
        "「01_streamlit_UI」から「02_streamlit_app」へ進む際に、CPUからGPUの利用に切り替えるため、セッションが一度切れてしまいます。\n",
        "\n",
        "その際に、トークンを設定した「.env」ファイルは再作成することになるので、その手間を減らすために「.env」ファイルをダウンロードしておくと良いです。"
      ]
    },
    {
      "cell_type": "markdown",
      "metadata": {
        "id": "Py1BFS5RqcSS"
      },
      "source": [
        "「.env」ファイルを読み込み、環境変数として設定します。次のセルを実行し、最終的に「True」が表示されていればうまく読み込めています。"
      ]
    },
    {
      "cell_type": "code",
      "execution_count": null,
      "metadata": {
        "id": "bvEowFfg5lrq"
      },
      "outputs": [],
      "source": [
        "!pip install python-dotenv\n",
        "from dotenv import load_dotenv, find_dotenv\n",
        "\n",
        "%cd /content/lecture-ai-engineering/day1\n",
        "load_dotenv(find_dotenv())"
      ]
    },
    {
      "cell_type": "markdown",
      "metadata": {
        "id": "os0Yk6gaELSM"
      },
      "source": [
        "# 01_streamlit_UI\n",
        "\n",
        "ディレクトリ「01_streamlit_UI」に移動します。"
      ]
    },
    {
      "cell_type": "code",
      "execution_count": null,
      "metadata": {
        "id": "S28XgOm0ELSM"
      },
      "outputs": [],
      "source": [
        "%cd /content/lecture-ai-engineering/day1/01_streamlit_UI"
      ]
    },
    {
      "cell_type": "markdown",
      "metadata": {
        "id": "eVp-aEIkELSM"
      },
      "source": [
        "必要なライブラリをインストールします。"
      ]
    },
    {
      "cell_type": "code",
      "execution_count": null,
      "metadata": {
        "id": "nBe41LFiELSN"
      },
      "outputs": [],
      "source": [
        "%%capture\n",
        "!pip install -r requirements.txt"
      ]
    },
    {
      "cell_type": "markdown",
      "metadata": {
        "id": "Yyw6VHaTELSN"
      },
      "source": [
        "ngrokのトークンを使用して、認証を行います。"
      ]
    },
    {
      "cell_type": "code",
      "execution_count": null,
      "metadata": {
        "id": "aYw1q0iXELSN"
      },
      "outputs": [],
      "source": [
        "!ngrok authtoken $$NGROK_TOKEN"
      ]
    },
    {
      "cell_type": "markdown",
      "metadata": {
        "id": "RssTcD_IELSN"
      },
      "source": [
        "アプリを起動します。"
      ]
    },
    {
      "cell_type": "code",
      "execution_count": null,
      "metadata": {
        "id": "f-E7ucR6ELSN"
      },
      "outputs": [],
      "source": [
        "from pyngrok import ngrok\n",
        "\n",
        "public_url = ngrok.connect(8501).public_url\n",
        "print(f\"公開URL: {public_url}\")\n",
        "!streamlit run app.py"
      ]
    },
    {
      "cell_type": "markdown",
      "metadata": {
        "id": "kbYyXVFjELSN"
      },
      "source": [
        "公開URLの後に記載されているURLにブラウザでアクセスすると、streamlitのUIが表示されます。\n",
        "\n",
        "app.pyのコメントアウトされている箇所を編集することで、UIがどの様に変化するか確認してみましょう。\n",
        "\n",
        "streamlitの公式ページには、ギャラリーページがあります。\n",
        "\n",
        "streamlitを使うとpythonという一つの言語であっても、様々なUIを実現できることがわかると思います。\n",
        "\n",
        "https://streamlit.io/gallery"
      ]
    },
    {
      "cell_type": "markdown",
      "metadata": {
        "id": "MmtP5GLOELSN"
      },
      "source": [
        "後片付けとして、使う必要のないngrokのトンネルを削除します。"
      ]
    },
    {
      "cell_type": "code",
      "execution_count": null,
      "metadata": {
        "id": "8Ek9QgahELSO"
      },
      "outputs": [],
      "source": [
        "from pyngrok import ngrok\n",
        "ngrok.kill()"
      ]
    },
    {
      "cell_type": "markdown",
      "metadata": {
        "id": "o-T8tFpyELSO"
      },
      "source": [
        "# 02_streamlit_app"
      ]
    },
    {
      "cell_type": "markdown",
      "metadata": {
        "id": "QqogFQKnELSO"
      },
      "source": [
        "\n",
        "ディレクトリ「02_streamlit_app」に移動します。"
      ]
    },
    {
      "cell_type": "code",
      "execution_count": null,
      "metadata": {
        "id": "UeEjlJ7uELSO"
      },
      "outputs": [],
      "source": [
        "%cd /content/lecture-ai-engineering/day1/02_streamlit_app"
      ]
    },
    {
      "cell_type": "markdown",
      "metadata": {
        "id": "-XUH2AstELSO"
      },
      "source": [
        "必要なライブラリをインストールします。"
      ]
    },
    {
      "cell_type": "code",
      "execution_count": null,
      "metadata": {
        "id": "mDqvI4V3ELSO"
      },
      "outputs": [],
      "source": [
        "%%capture\n",
        "!pip install -r requirements.txt"
      ]
    },
    {
      "cell_type": "markdown",
      "metadata": {
        "id": "ZO31umGZELSO"
      },
      "source": [
        "ngrokとhuggigfaceのトークンを使用して、認証を行います。"
      ]
    },
    {
      "cell_type": "code",
      "execution_count": null,
      "metadata": {
        "id": "jPxTiEWQELSO"
      },
      "outputs": [],
      "source": [
        "!ngrok authtoken $$NGROK_TOKEN\n",
        "!huggingface-cli login --token $$HUGGINGFACE_TOKEN"
      ]
    },
    {
      "cell_type": "markdown",
      "metadata": {
        "id": "dz4WrELLELSP"
      },
      "source": [
        "stramlitでHuggingfaceのトークン情報を扱うために、streamlit用の設定ファイル（.streamlit）を作成し、トークンの情報を格納します。"
      ]
    },
    {
      "cell_type": "code",
      "execution_count": null,
      "metadata": {
        "id": "W184-a7qFP0W"
      },
      "outputs": [],
      "source": [
        "# .streamlit/secrets.toml ファイルを作成\n",
        "import os\n",
        "import toml\n",
        "\n",
        "# 設定ファイルのディレクトリ確保\n",
        "os.makedirs('.streamlit', exist_ok=True)\n",
        "\n",
        "# 環境変数から取得したトークンを設定ファイルに書き込む\n",
        "secrets = {\n",
        "    \"huggingface\": {\n",
        "        \"token\": os.environ.get(\"HUGGINGFACE_TOKEN\", \"\")\n",
        "    }\n",
        "}\n",
        "\n",
        "# 設定ファイルを書き込む\n",
        "with open('.streamlit/secrets.toml', 'w') as f:\n",
        "    toml.dump(secrets, f)"
      ]
    },
    {
      "cell_type": "markdown",
      "metadata": {
        "id": "fK0vI_xKELSP"
      },
      "source": [
        "アプリを起動します。\n",
        "\n",
        "02_streamlit_appでは、Huggingfaceからモデルをダウンロードするため、初回起動には2分程度時間がかかります。\n",
        "\n",
        "この待ち時間を利用して、app.pyのコードを確認してみましょう。"
      ]
    },
    {
      "cell_type": "markdown",
      "source": [
        "# モデルを変更\n",
        "\n",
        "\n",
        "```\n",
        "google/gemma-3-27b-it\n",
        "```\n",
        "\n",
        "でconfig.pyでMODEL_NAMEを指定\n",
        "\n",
        "\n",
        "\n",
        "## Gemma 3 モデルの概要\n",
        "\n",
        "\n",
        "### 128,000 トークンのコンテキスト ウィンドウ\n",
        "\n",
        "Gemma 3 モデルは、最大 128, 000 トークンのプロンプト入力を処理できます。これは、以前の Gemma モデルのコンテキスト ウィンドウの 16 倍です。トークンが大量にあるため、複数の複数ページの記事、大規模な単一の記事、数百枚の画像を 1 つのプロンプトで処理できます。\n",
        "\n",
        "\n",
        "\n",
        "\n",
        "### パラメータのサイズと量子化\n",
        "\n",
        "Gemma 3 モデルは、32 ビットのフル精度から 4 ビットの最小精度まで、5 つの精度レベルで 4 つのパラメータ サイズで使用できます。さまざまなサイズと精度は、AI アプリケーションのトレードオフを表します。パラメータとビット数が多いモデル（精度が高いモデル）は一般に機能が優れていますが、処理サイクル、メモリコスト、消費電力という点で実行コストが高くなります。パラメータとビット数が少ないモデル（精度が低いモデル）は機能が制限されますが、AI タスクに十分な場合があります。次の表に、Gemma 3 モデル バージョンの各サイズで推論を実行するために必要な GPU または TPU のメモリの概要を示します。\n",
        "\n",
        "\n",
        "### 参照リンク先\n",
        "\n",
        "https://ai.google.dev/gemma/docs/core?hl=ja\n",
        "\n",
        "\n"
      ],
      "metadata": {
        "id": "0ugR_TfkJCww"
      }
    },
    {
      "cell_type": "code",
      "execution_count": null,
      "metadata": {
        "id": "TBQyTTWTELSP"
      },
      "outputs": [],
      "source": [
        "from pyngrok import ngrok\n",
        "\n",
        "public_url = ngrok.connect(8501).public_url\n",
        "print(f\"公開URL: {public_url}\")\n",
        "!streamlit run app.py"
      ]
    },
    {
      "cell_type": "markdown",
      "source": [
        "![image.png](data:image/png;base64,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)"
      ],
      "metadata": {
        "id": "_Ce0j81saR4m"
      }
    },
    {
      "cell_type": "markdown",
      "source": [
        "## 回答:\n",
        "Gemmaは、Googleが開発した大規模言語モデル（LLM）です。2022年、Gemmaはオープンソースで公開され、研究や開発コミュニティに広く提供されました。以下に、Gemmaの主要な特徴と解説をまとめます。\n",
        "\n",
        "## 1. Gemmaの概要\n",
        "\n",
        "- 開発元: Google DeepMind\n",
        "- モデルサイズ: 2B、7B、13Bパラメータ\n",
        "- 学習データ: 大量のテキストとコードデータセット\n",
        "- オープンアクセス: 研究目的や開発用途に利用可能\n",
        "- 目的: 自然言語処理タスク（質問応答、テキスト生成、翻訳など）の性能向上\n",
        "\n",
        "## 2. Gemmaの特徴\n",
        "\n",
        "- 高品質なテキスト生成: 様々なトピックに関する創造的で正確なテキストを生成できます。\n",
        "\n",
        "- 幅広いタスクに対応: 質問応答、要約、翻訳、コード生成など、多様なタスクに対応できます。\n",
        "\n",
        "- オープンソース: 誰でも自由に利用、研究、開発に利用できます。\n",
        "\n",
        "- 低コスト: モデルの利用には、計算資源やデータなど、ある程度のコストがかかりますが、比較的に低コストで利用できます。\n",
        "\n",
        "- 多様なモデルサイズ: 2B、7B、13Bの3つのモデルサイズを提供しており、用途に合わせて選択できます。\n",
        "\n",
        "## 3. Gemmaの仕組み\n",
        "\n",
        "Gemmaは、Transformerアーキテクチャに基づいた大規模言語モデルです。具体的には、以下の点が特徴です。\n",
        "\n",
        "- Mixture of Experts (MoE): モデルの性能を向上させるために、複数の「専門家」を組み合わせる技術です。\n",
        "\n",
        "- Sparse Attention: TransformerのAttentionメカニズムの効率化を図り、計算コストを削減しています。\n",
        "\n",
        "## 4. Gemmaの活用例\n",
        "\n",
        "- チャットボット: ユーザーの質問に答えるチャットボットを構築できます。\n",
        "\n",
        "- コンテンツ作成: ブログ記事、メール、レポートなどのコンテンツを生成できます。\n",
        "\n",
        "- プログラミング: コードの生成、デバッグ、コードの説明など、プログラミングに役立てられます。\n",
        "\n",
        "- 教育: 質問応答システム、教材作成、学習支援など、教育分野での活用が期待されています。\n",
        "\n",
        "5. Gemmaのダウンロードと利用\n",
        "\n",
        "- Google AI Studio: Gemmaを直接利用できるウェブベースのインターフェースです。\n",
        "Hugging Face:\n"
      ],
      "metadata": {
        "id": "IeZtpxUiaW90"
      }
    },
    {
      "cell_type": "markdown",
      "source": [
        "# 評価指標の追加\n",
        "\n",
        "目標：BLUEなどの与えられた評価指標とは別に、ROUGEを計算することにする\n",
        "\n",
        "\n",
        "### ROUGEとは\n",
        "\n",
        "\n",
        "式\n",
        "\n",
        "$${ROUGE\\mbox{-}N = \\frac{\\rm{Count_{ExactMatch}}}{\\rm{Count_{reference}}}\n",
        "}$$\n",
        "\n"
      ],
      "metadata": {
        "id": "gv8TovhYYHRc"
      }
    },
    {
      "cell_type": "markdown",
      "source": [
        "![image.png](data:image/png;base64,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)"
      ],
      "metadata": {
        "id": "p18QqoWGaDbM"
      }
    },
    {
      "cell_type": "markdown",
      "metadata": {
        "id": "RXlwN3jPCma1"
      },
      "source": [
        "アプリケーションの機能としては、チャット機能や履歴閲覧があります。\n",
        "\n",
        "これらの機能を実現するためには、StreamlitによるUI部分だけではなく、SQLiteを使用したチャット履歴の保存やLLMのモデルを呼び出した推論などの処理を組み合わせることで実現しています。\n",
        "\n",
        "- **`app.py`**: アプリケーションのエントリーポイント。チャット機能、履歴閲覧、サンプルデータ管理のUIを提供します。\n",
        "- **`ui.py`**: チャットページや履歴閲覧ページなど、アプリケーションのUIロジックを管理します。\n",
        "- **`llm.py`**: LLMモデルのロードとテキスト生成を行うモジュール。\n",
        "- **`database.py`**: SQLiteデータベースを使用してチャット履歴やフィードバックを保存・管理します。\n",
        "- **`metrics.py`**: BLEUスコアやコサイン類似度など、回答の評価指標を計算するモジュール。\n",
        "- **`data.py`**: サンプルデータの作成やデータベースの初期化を行うモジュール。\n",
        "- **`config.py`**: アプリケーションの設定（モデル名やデータベースファイル名）を管理します。\n",
        "- **`requirements.txt`**: このアプリケーションを実行するために必要なPythonパッケージ。"
      ]
    },
    {
      "cell_type": "markdown",
      "metadata": {
        "id": "Xvm8sWFPELSP"
      },
      "source": [
        "後片付けとして、使う必要のないngrokのトンネルを削除します。"
      ]
    },
    {
      "cell_type": "code",
      "execution_count": null,
      "metadata": {
        "id": "WFJC2TmZELSP"
      },
      "outputs": [],
      "source": [
        "from pyngrok import ngrok\n",
        "ngrok.kill()"
      ]
    },
    {
      "cell_type": "markdown",
      "metadata": {
        "id": "rUXhIzV7ELSP"
      },
      "source": [
        "# 03_FastAPI\n",
        "\n",
        "ディレクトリ「03_FastAPI」に移動します。"
      ]
    },
    {
      "cell_type": "code",
      "execution_count": null,
      "metadata": {
        "id": "4ejjDLxr3kfC"
      },
      "outputs": [],
      "source": [
        "%cd /content/lecture-ai-engineering/day1/03_FastAPI"
      ]
    },
    {
      "cell_type": "markdown",
      "metadata": {
        "id": "f45TDsNzELSQ"
      },
      "source": [
        "必要なライブラリをインストールします。"
      ]
    },
    {
      "cell_type": "code",
      "execution_count": null,
      "metadata": {
        "id": "9uv6glCz5a7Z"
      },
      "outputs": [],
      "source": [
        "%%capture\n",
        "!pip install -r requirements.txt"
      ]
    },
    {
      "cell_type": "markdown",
      "metadata": {
        "id": "JfrmE2VmELSQ"
      },
      "source": [
        "ngrokとhuggigfaceのトークンを使用して、認証を行います。"
      ]
    },
    {
      "cell_type": "code",
      "execution_count": null,
      "metadata": {
        "id": "ELzWhMFORRIO"
      },
      "outputs": [],
      "source": [
        "!ngrok authtoken $$NGROK_TOKEN\n",
        "!huggingface-cli login --token $$HUGGINGFACE_TOKEN"
      ]
    },
    {
      "cell_type": "markdown",
      "metadata": {
        "id": "t-wztc2CELSQ"
      },
      "source": [
        "アプリを起動します。\n",
        "\n",
        "「02_streamlit_app」から続けて「03_FastAPI」を実行している場合は、モデルのダウンロードが済んでいるため、すぐにサービスが立ち上がります。\n",
        "\n",
        "「03_FastAPI」のみを実行している場合は、初回の起動時にモデルのダウンロードが始まるので、モデルのダウンロードが終わるまで数分間待ちましょう。"
      ]
    },
    {
      "cell_type": "code",
      "execution_count": null,
      "metadata": {
        "id": "meQ4SwISn3IQ"
      },
      "outputs": [],
      "source": [
        "!python app.py"
      ]
    },
    {
      "cell_type": "markdown",
      "metadata": {
        "id": "RLubjIhbELSR"
      },
      "source": [
        "FastAPIが起動すると、APIとクライアントが通信するためのURL（エンドポイント）が作られます。\n",
        "\n",
        "URLが作られるのと合わせて、Swagger UIというWebインターフェースが作られます。\n",
        "\n",
        "Swagger UIにアクセスすることで、APIの仕様を確認できたり、APIをテストすることができます。\n",
        "\n",
        "Swagger UIを利用することで、APIを通してLLMを動かしてみましょう。"
      ]
    },
    {
      "cell_type": "markdown",
      "metadata": {
        "id": "XgumW3mGELSR"
      },
      "source": [
        "後片付けとして、使う必要のないngrokのトンネルを削除します。"
      ]
    },
    {
      "cell_type": "code",
      "execution_count": null,
      "metadata": {
        "id": "RJymTZio-WPJ"
      },
      "outputs": [],
      "source": [
        "from pyngrok import ngrok\n",
        "ngrok.kill()"
      ]
    }
  ],
  "metadata": {
    "colab": {
      "provenance": [],
      "gpuType": "T4"
    },
    "kernelspec": {
      "display_name": "Python 3",
      "name": "python3"
    },
    "language_info": {
      "name": "python"
    },
    "accelerator": "GPU"
  },
  "nbformat": 4,
  "nbformat_minor": 0
}